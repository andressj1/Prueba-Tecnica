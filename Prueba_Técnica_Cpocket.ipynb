{
  "nbformat": 4,
  "nbformat_minor": 0,
  "metadata": {
    "colab": {
      "provenance": []
    },
    "kernelspec": {
      "name": "python3",
      "display_name": "Python 3"
    },
    "language_info": {
      "name": "python"
    }
  },
  "cells": [
    {
      "cell_type": "markdown",
      "source": [
        "#**Caso: Predicción de abandono de clientes en una empresa de telecomunicaciones**\n",
        "**Contexto:**\n",
        "\n",
        "Una empresa de telecomunicaciones quiere reducir la pérdida de clientes (churn). Para ello, te han proporcionado un conjunto de datos históricos sobre sus clientes actuales y pasados. Tu tarea es analizar estos datos y construir un modelo que prediga la probabilidad de que un cliente abandone la empresa."
      ],
      "metadata": {
        "id": "rR0HldsH8UXs"
      }
    },
    {
      "cell_type": "markdown",
      "source": [
        "🧭 Tareas a realizar\n",
        "\n",
        "1. Análisis Exploratorio de Datos (EDA)\n",
        "\n",
        "  * Describir el conjunto de datos: tipos de variables, valores nulos, estadísticas básicas.\n",
        "\n",
        "  * Visualizaciones clave (distribuciones, correlaciones, etc.).\n",
        "\n",
        "  * Identificar patrones relacionados con el abandono (Churn).\n",
        "\n",
        "2. Limpieza y Preparación de Datos\n",
        "\n",
        "  * Tratamiento de valores nulos.\n",
        "\n",
        "  * Codificación de variables categóricas.\n",
        "\n",
        "  * Normalización o estandarización si es necesario.\n",
        "\n",
        "3. Modelado Predictivo\n",
        "\n",
        "  * Separar conjunto de entrenamiento y prueba.\n",
        "\n",
        "  * Probar al menos dos modelos de clasificación (ej: Regresión Logística, Árboles de Decisión, Random Forest, etc.).\n",
        "\n",
        "  * Evaluar los modelos (precisión, recall, F1-score, curva ROC).\n",
        "\n",
        "5. Interpretación y Recomendaciones\n",
        "\n",
        "  * ¿Qué variables son más importantes para predecir el churn?\n",
        "\n",
        "  * ¿Qué acciones propondrías a la empresa para reducir la pérdida de clientes?\n",
        "\n",
        "6. Entrega\n",
        "\n",
        "  * Un notebook Jupyter o Google Colab con el análisis completo.\n",
        "\n",
        "  * Un resumen ejecutivo (máximo 1 página) explicando los hallazgos clave y recomendaciones, escrito para alguien no técnico."
      ],
      "metadata": {
        "id": "wrj1UHei7c7p"
      }
    },
    {
      "cell_type": "code",
      "source": [
        "# pip install kagglehub[pandas-datasets]\n",
        "import kagglehub\n",
        "from kagglehub import KaggleDatasetAdapter\n",
        "\n",
        "file_path = \"WA_Fn-UseC_-Telco-Customer-Churn.csv\"\n",
        "\n",
        "\n",
        "# Load the latest version\n",
        "df = kagglehub.load_dataset(\n",
        "  KaggleDatasetAdapter.PANDAS,\n",
        "  \"blastchar/telco-customer-churn\",\n",
        "  file_path,\n",
        ")\n",
        "\n",
        "print(\"First 5 records:\", df.head())"
      ],
      "metadata": {
        "colab": {
          "base_uri": "https://localhost:8080/"
        },
        "id": "j5szzS8T6jG6",
        "outputId": "27677756-d1e2-4e37-c2e0-6f7e67b362dc"
      },
      "execution_count": null,
      "outputs": [
        {
          "output_type": "stream",
          "name": "stderr",
          "text": [
            "<ipython-input-1-84601d1c41bb>:9: DeprecationWarning: load_dataset is deprecated and will be removed in a future version.\n",
            "  df = kagglehub.load_dataset(\n"
          ]
        },
        {
          "output_type": "stream",
          "name": "stdout",
          "text": [
            "First 5 records:    customerID  gender  SeniorCitizen Partner Dependents  tenure PhoneService  \\\n",
            "0  7590-VHVEG  Female              0     Yes         No       1           No   \n",
            "1  5575-GNVDE    Male              0      No         No      34          Yes   \n",
            "2  3668-QPYBK    Male              0      No         No       2          Yes   \n",
            "3  7795-CFOCW    Male              0      No         No      45           No   \n",
            "4  9237-HQITU  Female              0      No         No       2          Yes   \n",
            "\n",
            "      MultipleLines InternetService OnlineSecurity  ... DeviceProtection  \\\n",
            "0  No phone service             DSL             No  ...               No   \n",
            "1                No             DSL            Yes  ...              Yes   \n",
            "2                No             DSL            Yes  ...               No   \n",
            "3  No phone service             DSL            Yes  ...              Yes   \n",
            "4                No     Fiber optic             No  ...               No   \n",
            "\n",
            "  TechSupport StreamingTV StreamingMovies        Contract PaperlessBilling  \\\n",
            "0          No          No              No  Month-to-month              Yes   \n",
            "1          No          No              No        One year               No   \n",
            "2          No          No              No  Month-to-month              Yes   \n",
            "3         Yes          No              No        One year               No   \n",
            "4          No          No              No  Month-to-month              Yes   \n",
            "\n",
            "               PaymentMethod MonthlyCharges  TotalCharges Churn  \n",
            "0           Electronic check          29.85         29.85    No  \n",
            "1               Mailed check          56.95        1889.5    No  \n",
            "2               Mailed check          53.85        108.15   Yes  \n",
            "3  Bank transfer (automatic)          42.30       1840.75    No  \n",
            "4           Electronic check          70.70        151.65   Yes  \n",
            "\n",
            "[5 rows x 21 columns]\n"
          ]
        }
      ]
    }
  ]
}