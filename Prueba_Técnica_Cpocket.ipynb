{
  "cells": [
    {
      "cell_type": "markdown",
      "metadata": {
        "id": "rR0HldsH8UXs"
      },
      "source": [
        "#**Caso: Predicción de abandono de clientes en una empresa de telecomunicaciones**\n",
        "**Contexto:**\n",
        "\n",
        "Una empresa de telecomunicaciones quiere reducir la pérdida de clientes (churn). Para ello, te han proporcionado un conjunto de datos históricos sobre sus clientes actuales y pasados. Tu tarea es analizar estos datos y construir un modelo que prediga la probabilidad de que un cliente abandone la empresa."
      ]
    },
    {
      "cell_type": "markdown",
      "metadata": {
        "id": "wrj1UHei7c7p"
      },
      "source": [
        "🧭 Tareas a realizar\n",
        "\n",
        "1. Análisis Exploratorio de Datos (EDA)\n",
        "\n",
        "  * Describir el conjunto de datos: tipos de variables, valores nulos, estadísticas básicas.\n",
        "\n",
        "  * Visualizaciones clave (distribuciones, correlaciones, etc.).\n",
        "\n",
        "  * Identificar patrones relacionados con el abandono (Churn).\n",
        "\n",
        "2. Limpieza y Preparación de Datos\n",
        "\n",
        "  * Tratamiento de valores nulos.\n",
        "\n",
        "  * Codificación de variables categóricas.\n",
        "\n",
        "  * Normalización o estandarización si es necesario.\n",
        "\n",
        "3. Modelado Predictivo\n",
        "\n",
        "  * Separar conjunto de entrenamiento y prueba.\n",
        "\n",
        "  * Probar al menos dos modelos de clasificación (ej: Regresión Logística, Árboles de Decisión, Random Forest, etc.).\n",
        "\n",
        "  * Evaluar los modelos (precisión, recall, F1-score, curva ROC).\n",
        "\n",
        "5. Interpretación y Recomendaciones\n",
        "\n",
        "  * ¿Qué variables son más importantes para predecir el churn?\n",
        "\n",
        "  * ¿Qué acciones propondrías a la empresa para reducir la pérdida de clientes?\n",
        "\n",
        "6. Entrega\n",
        "\n",
        "  * Un notebook Jupyter o Google Colab con el análisis completo.\n",
        "\n",
        "  * Un resumen ejecutivo (máximo 1 página) explicando los hallazgos clave y recomendaciones, escrito para alguien no técnico."
      ]
    },
    {
      "cell_type": "code",
      "execution_count": 59,
      "metadata": {},
      "outputs": [],
      "source": [
        "# ------------------------- Librerias requeridas --------------------------------------------\n",
        "\n",
        "# Tratamiento de datos\n",
        "import pandas as pd\n",
        "import numpy as np\n",
        "from sklearn.preprocessing import StandardScaler \n",
        "from sklearn.metrics import accuracy_score\n",
        "\n",
        "# Visualización de datos\n",
        "from plotly.subplots import make_subplots\n",
        "import plotly.graph_objects as go\n",
        "from matplotlib.pyplot import figure\n",
        "import seaborn as sns\n",
        "import matplotlib.pyplot as plt\n",
        "from sklearn.metrics import confusion_matrix\n",
        "import plotly.express as px\n",
        "\n",
        "# Selección de variables y medición del desempeño\n",
        "from sklearn.feature_selection import RFE\n",
        "from sklearn.model_selection import cross_val_predict, cross_val_score, cross_validate\n",
        "from sklearn.model_selection import RandomizedSearchCV \n",
        "from sklearn.model_selection import train_test_split\n",
        "\n",
        "# Modelos Candidatos \n",
        "from sklearn.linear_model import LogisticRegression      # Regresión logística\n",
        "from sklearn.ensemble import RandomForestClassifier      # Clasificador bosques aleatorios\n",
        "from xgboost import XGBClassifier                        # XGBoost \n",
        "\n",
        "# Datos\n",
        "#!pip install \"kagglehub[pandas-datasets]\"\n",
        "import kagglehub as kg\n",
        "from kagglehub import KaggleDatasetAdapter\n",
        "\n",
        "# Funciones propias\n",
        "import funciones as fnc\n"
      ]
    },
    {
      "cell_type": "markdown",
      "metadata": {},
      "source": [
        "#  Exploración inicial de los datos "
      ]
    },
    {
      "cell_type": "code",
      "execution_count": 2,
      "metadata": {
        "colab": {
          "base_uri": "https://localhost:8080/"
        },
        "id": "j5szzS8T6jG6",
        "outputId": "27677756-d1e2-4e37-c2e0-6f7e67b362dc"
      },
      "outputs": [
        {
          "name": "stderr",
          "output_type": "stream",
          "text": [
            "C:\\Users\\gvand\\AppData\\Local\\Temp\\ipykernel_3616\\393107368.py:5: DeprecationWarning: load_dataset is deprecated and will be removed in a future version.\n",
            "  df = kg.load_dataset(\n"
          ]
        },
        {
          "data": {
            "text/html": [
              "<div>\n",
              "<style scoped>\n",
              "    .dataframe tbody tr th:only-of-type {\n",
              "        vertical-align: middle;\n",
              "    }\n",
              "\n",
              "    .dataframe tbody tr th {\n",
              "        vertical-align: top;\n",
              "    }\n",
              "\n",
              "    .dataframe thead th {\n",
              "        text-align: right;\n",
              "    }\n",
              "</style>\n",
              "<table border=\"1\" class=\"dataframe\">\n",
              "  <thead>\n",
              "    <tr style=\"text-align: right;\">\n",
              "      <th></th>\n",
              "      <th>customerID</th>\n",
              "      <th>gender</th>\n",
              "      <th>SeniorCitizen</th>\n",
              "      <th>Partner</th>\n",
              "      <th>Dependents</th>\n",
              "      <th>tenure</th>\n",
              "      <th>PhoneService</th>\n",
              "      <th>MultipleLines</th>\n",
              "      <th>InternetService</th>\n",
              "      <th>OnlineSecurity</th>\n",
              "      <th>...</th>\n",
              "      <th>DeviceProtection</th>\n",
              "      <th>TechSupport</th>\n",
              "      <th>StreamingTV</th>\n",
              "      <th>StreamingMovies</th>\n",
              "      <th>Contract</th>\n",
              "      <th>PaperlessBilling</th>\n",
              "      <th>PaymentMethod</th>\n",
              "      <th>MonthlyCharges</th>\n",
              "      <th>TotalCharges</th>\n",
              "      <th>Churn</th>\n",
              "    </tr>\n",
              "  </thead>\n",
              "  <tbody>\n",
              "    <tr>\n",
              "      <th>0</th>\n",
              "      <td>7590-VHVEG</td>\n",
              "      <td>Female</td>\n",
              "      <td>0</td>\n",
              "      <td>Yes</td>\n",
              "      <td>No</td>\n",
              "      <td>1</td>\n",
              "      <td>No</td>\n",
              "      <td>No phone service</td>\n",
              "      <td>DSL</td>\n",
              "      <td>No</td>\n",
              "      <td>...</td>\n",
              "      <td>No</td>\n",
              "      <td>No</td>\n",
              "      <td>No</td>\n",
              "      <td>No</td>\n",
              "      <td>Month-to-month</td>\n",
              "      <td>Yes</td>\n",
              "      <td>Electronic check</td>\n",
              "      <td>29.85</td>\n",
              "      <td>29.85</td>\n",
              "      <td>No</td>\n",
              "    </tr>\n",
              "    <tr>\n",
              "      <th>1</th>\n",
              "      <td>5575-GNVDE</td>\n",
              "      <td>Male</td>\n",
              "      <td>0</td>\n",
              "      <td>No</td>\n",
              "      <td>No</td>\n",
              "      <td>34</td>\n",
              "      <td>Yes</td>\n",
              "      <td>No</td>\n",
              "      <td>DSL</td>\n",
              "      <td>Yes</td>\n",
              "      <td>...</td>\n",
              "      <td>Yes</td>\n",
              "      <td>No</td>\n",
              "      <td>No</td>\n",
              "      <td>No</td>\n",
              "      <td>One year</td>\n",
              "      <td>No</td>\n",
              "      <td>Mailed check</td>\n",
              "      <td>56.95</td>\n",
              "      <td>1889.5</td>\n",
              "      <td>No</td>\n",
              "    </tr>\n",
              "    <tr>\n",
              "      <th>2</th>\n",
              "      <td>3668-QPYBK</td>\n",
              "      <td>Male</td>\n",
              "      <td>0</td>\n",
              "      <td>No</td>\n",
              "      <td>No</td>\n",
              "      <td>2</td>\n",
              "      <td>Yes</td>\n",
              "      <td>No</td>\n",
              "      <td>DSL</td>\n",
              "      <td>Yes</td>\n",
              "      <td>...</td>\n",
              "      <td>No</td>\n",
              "      <td>No</td>\n",
              "      <td>No</td>\n",
              "      <td>No</td>\n",
              "      <td>Month-to-month</td>\n",
              "      <td>Yes</td>\n",
              "      <td>Mailed check</td>\n",
              "      <td>53.85</td>\n",
              "      <td>108.15</td>\n",
              "      <td>Yes</td>\n",
              "    </tr>\n",
              "    <tr>\n",
              "      <th>3</th>\n",
              "      <td>7795-CFOCW</td>\n",
              "      <td>Male</td>\n",
              "      <td>0</td>\n",
              "      <td>No</td>\n",
              "      <td>No</td>\n",
              "      <td>45</td>\n",
              "      <td>No</td>\n",
              "      <td>No phone service</td>\n",
              "      <td>DSL</td>\n",
              "      <td>Yes</td>\n",
              "      <td>...</td>\n",
              "      <td>Yes</td>\n",
              "      <td>Yes</td>\n",
              "      <td>No</td>\n",
              "      <td>No</td>\n",
              "      <td>One year</td>\n",
              "      <td>No</td>\n",
              "      <td>Bank transfer (automatic)</td>\n",
              "      <td>42.30</td>\n",
              "      <td>1840.75</td>\n",
              "      <td>No</td>\n",
              "    </tr>\n",
              "    <tr>\n",
              "      <th>4</th>\n",
              "      <td>9237-HQITU</td>\n",
              "      <td>Female</td>\n",
              "      <td>0</td>\n",
              "      <td>No</td>\n",
              "      <td>No</td>\n",
              "      <td>2</td>\n",
              "      <td>Yes</td>\n",
              "      <td>No</td>\n",
              "      <td>Fiber optic</td>\n",
              "      <td>No</td>\n",
              "      <td>...</td>\n",
              "      <td>No</td>\n",
              "      <td>No</td>\n",
              "      <td>No</td>\n",
              "      <td>No</td>\n",
              "      <td>Month-to-month</td>\n",
              "      <td>Yes</td>\n",
              "      <td>Electronic check</td>\n",
              "      <td>70.70</td>\n",
              "      <td>151.65</td>\n",
              "      <td>Yes</td>\n",
              "    </tr>\n",
              "  </tbody>\n",
              "</table>\n",
              "<p>5 rows × 21 columns</p>\n",
              "</div>"
            ],
            "text/plain": [
              "   customerID  gender  SeniorCitizen Partner Dependents  tenure PhoneService  \\\n",
              "0  7590-VHVEG  Female              0     Yes         No       1           No   \n",
              "1  5575-GNVDE    Male              0      No         No      34          Yes   \n",
              "2  3668-QPYBK    Male              0      No         No       2          Yes   \n",
              "3  7795-CFOCW    Male              0      No         No      45           No   \n",
              "4  9237-HQITU  Female              0      No         No       2          Yes   \n",
              "\n",
              "      MultipleLines InternetService OnlineSecurity  ... DeviceProtection  \\\n",
              "0  No phone service             DSL             No  ...               No   \n",
              "1                No             DSL            Yes  ...              Yes   \n",
              "2                No             DSL            Yes  ...               No   \n",
              "3  No phone service             DSL            Yes  ...              Yes   \n",
              "4                No     Fiber optic             No  ...               No   \n",
              "\n",
              "  TechSupport StreamingTV StreamingMovies        Contract PaperlessBilling  \\\n",
              "0          No          No              No  Month-to-month              Yes   \n",
              "1          No          No              No        One year               No   \n",
              "2          No          No              No  Month-to-month              Yes   \n",
              "3         Yes          No              No        One year               No   \n",
              "4          No          No              No  Month-to-month              Yes   \n",
              "\n",
              "               PaymentMethod MonthlyCharges  TotalCharges Churn  \n",
              "0           Electronic check          29.85         29.85    No  \n",
              "1               Mailed check          56.95        1889.5    No  \n",
              "2               Mailed check          53.85        108.15   Yes  \n",
              "3  Bank transfer (automatic)          42.30       1840.75    No  \n",
              "4           Electronic check          70.70        151.65   Yes  \n",
              "\n",
              "[5 rows x 21 columns]"
            ]
          },
          "execution_count": 2,
          "metadata": {},
          "output_type": "execute_result"
        }
      ],
      "source": [
        "# Importación de los datos\n",
        "\n",
        "file_path = \"WA_Fn-UseC_-Telco-Customer-Churn.csv\"\n",
        "\n",
        "df = kg.load_dataset(\n",
        "  KaggleDatasetAdapter.PANDAS,\n",
        "  \"blastchar/telco-customer-churn\",\n",
        "  file_path,\n",
        ")\n",
        "\n",
        "df.head(5)\n"
      ]
    },
    {
      "cell_type": "code",
      "execution_count": 3,
      "metadata": {},
      "outputs": [
        {
          "name": "stdout",
          "output_type": "stream",
          "text": [
            "<class 'pandas.core.frame.DataFrame'>\n",
            "RangeIndex: 7043 entries, 0 to 7042\n",
            "Data columns (total 21 columns):\n",
            " #   Column            Non-Null Count  Dtype  \n",
            "---  ------            --------------  -----  \n",
            " 0   customerID        7043 non-null   object \n",
            " 1   gender            7043 non-null   object \n",
            " 2   SeniorCitizen     7043 non-null   int64  \n",
            " 3   Partner           7043 non-null   object \n",
            " 4   Dependents        7043 non-null   object \n",
            " 5   tenure            7043 non-null   int64  \n",
            " 6   PhoneService      7043 non-null   object \n",
            " 7   MultipleLines     7043 non-null   object \n",
            " 8   InternetService   7043 non-null   object \n",
            " 9   OnlineSecurity    7043 non-null   object \n",
            " 10  OnlineBackup      7043 non-null   object \n",
            " 11  DeviceProtection  7043 non-null   object \n",
            " 12  TechSupport       7043 non-null   object \n",
            " 13  StreamingTV       7043 non-null   object \n",
            " 14  StreamingMovies   7043 non-null   object \n",
            " 15  Contract          7043 non-null   object \n",
            " 16  PaperlessBilling  7043 non-null   object \n",
            " 17  PaymentMethod     7043 non-null   object \n",
            " 18  MonthlyCharges    7043 non-null   float64\n",
            " 19  TotalCharges      7043 non-null   object \n",
            " 20  Churn             7043 non-null   object \n",
            "dtypes: float64(1), int64(2), object(18)\n",
            "memory usage: 1.1+ MB\n"
          ]
        },
        {
          "data": {
            "text/plain": [
              "Index(['customerID', 'gender', 'SeniorCitizen', 'Partner', 'Dependents',\n",
              "       'tenure', 'PhoneService', 'MultipleLines', 'InternetService',\n",
              "       'OnlineSecurity', 'OnlineBackup', 'DeviceProtection', 'TechSupport',\n",
              "       'StreamingTV', 'StreamingMovies', 'Contract', 'PaperlessBilling',\n",
              "       'PaymentMethod', 'MonthlyCharges', 'TotalCharges', 'Churn'],\n",
              "      dtype='object')"
            ]
          },
          "execution_count": 3,
          "metadata": {},
          "output_type": "execute_result"
        }
      ],
      "source": [
        "# Información general de los datos \n",
        "df.info()\n",
        "df.columns"
      ]
    },
    {
      "cell_type": "code",
      "execution_count": 4,
      "metadata": {},
      "outputs": [
        {
          "data": {
            "text/plain": [
              "0"
            ]
          },
          "execution_count": 4,
          "metadata": {},
          "output_type": "execute_result"
        }
      ],
      "source": [
        "# Verificación de Nulos y duplicados\n",
        "df.isna().sum()          \n",
        "df.duplicated().sum()     "
      ]
    },
    {
      "cell_type": "code",
      "execution_count": 5,
      "metadata": {},
      "outputs": [
        {
          "data": {
            "text/html": [
              "<div>\n",
              "<style scoped>\n",
              "    .dataframe tbody tr th:only-of-type {\n",
              "        vertical-align: middle;\n",
              "    }\n",
              "\n",
              "    .dataframe tbody tr th {\n",
              "        vertical-align: top;\n",
              "    }\n",
              "\n",
              "    .dataframe thead th {\n",
              "        text-align: right;\n",
              "    }\n",
              "</style>\n",
              "<table border=\"1\" class=\"dataframe\">\n",
              "  <thead>\n",
              "    <tr style=\"text-align: right;\">\n",
              "      <th></th>\n",
              "      <th>SeniorCitizen</th>\n",
              "      <th>tenure</th>\n",
              "      <th>MonthlyCharges</th>\n",
              "    </tr>\n",
              "  </thead>\n",
              "  <tbody>\n",
              "    <tr>\n",
              "      <th>count</th>\n",
              "      <td>7043.000000</td>\n",
              "      <td>7043.000000</td>\n",
              "      <td>7043.000000</td>\n",
              "    </tr>\n",
              "    <tr>\n",
              "      <th>mean</th>\n",
              "      <td>0.162147</td>\n",
              "      <td>32.371149</td>\n",
              "      <td>64.761692</td>\n",
              "    </tr>\n",
              "    <tr>\n",
              "      <th>std</th>\n",
              "      <td>0.368612</td>\n",
              "      <td>24.559481</td>\n",
              "      <td>30.090047</td>\n",
              "    </tr>\n",
              "    <tr>\n",
              "      <th>min</th>\n",
              "      <td>0.000000</td>\n",
              "      <td>0.000000</td>\n",
              "      <td>18.250000</td>\n",
              "    </tr>\n",
              "    <tr>\n",
              "      <th>25%</th>\n",
              "      <td>0.000000</td>\n",
              "      <td>9.000000</td>\n",
              "      <td>35.500000</td>\n",
              "    </tr>\n",
              "    <tr>\n",
              "      <th>50%</th>\n",
              "      <td>0.000000</td>\n",
              "      <td>29.000000</td>\n",
              "      <td>70.350000</td>\n",
              "    </tr>\n",
              "    <tr>\n",
              "      <th>75%</th>\n",
              "      <td>0.000000</td>\n",
              "      <td>55.000000</td>\n",
              "      <td>89.850000</td>\n",
              "    </tr>\n",
              "    <tr>\n",
              "      <th>max</th>\n",
              "      <td>1.000000</td>\n",
              "      <td>72.000000</td>\n",
              "      <td>118.750000</td>\n",
              "    </tr>\n",
              "  </tbody>\n",
              "</table>\n",
              "</div>"
            ],
            "text/plain": [
              "       SeniorCitizen       tenure  MonthlyCharges\n",
              "count    7043.000000  7043.000000     7043.000000\n",
              "mean        0.162147    32.371149       64.761692\n",
              "std         0.368612    24.559481       30.090047\n",
              "min         0.000000     0.000000       18.250000\n",
              "25%         0.000000     9.000000       35.500000\n",
              "50%         0.000000    29.000000       70.350000\n",
              "75%         0.000000    55.000000       89.850000\n",
              "max         1.000000    72.000000      118.750000"
            ]
          },
          "execution_count": 5,
          "metadata": {},
          "output_type": "execute_result"
        }
      ],
      "source": [
        "# Descripción estadística\n",
        "df.describe()"
      ]
    },
    {
      "cell_type": "code",
      "execution_count": 6,
      "metadata": {},
      "outputs": [],
      "source": [
        "# Transformacion de la Variable \"TotalCharges\"\n",
        "df['TotalCharges'] = df['TotalCharges'].replace(' ', np.nan) # Este código fue necesario debido a que presentaba datos NaN\n",
        "df['TotalCharges'] = df['TotalCharges'].astype(float) "
      ]
    },
    {
      "cell_type": "code",
      "execution_count": 7,
      "metadata": {},
      "outputs": [
        {
          "data": {
            "text/plain": [
              "customerID           0\n",
              "gender               0\n",
              "SeniorCitizen        0\n",
              "Partner              0\n",
              "Dependents           0\n",
              "tenure               0\n",
              "PhoneService         0\n",
              "MultipleLines        0\n",
              "InternetService      0\n",
              "OnlineSecurity       0\n",
              "OnlineBackup         0\n",
              "DeviceProtection     0\n",
              "TechSupport          0\n",
              "StreamingTV          0\n",
              "StreamingMovies      0\n",
              "Contract             0\n",
              "PaperlessBilling     0\n",
              "PaymentMethod        0\n",
              "MonthlyCharges       0\n",
              "TotalCharges        11\n",
              "Churn                0\n",
              "dtype: int64"
            ]
          },
          "execution_count": 7,
          "metadata": {},
          "output_type": "execute_result"
        }
      ],
      "source": [
        "# Datos faltantes\n",
        "df.isna().sum()"
      ]
    },
    {
      "cell_type": "code",
      "execution_count": 8,
      "metadata": {},
      "outputs": [],
      "source": [
        "# Eliminar datos \"NaN\"\n",
        "df = df.dropna(subset=['TotalCharges']).reset_index(drop=True)"
      ]
    },
    {
      "cell_type": "code",
      "execution_count": 9,
      "metadata": {},
      "outputs": [
        {
          "name": "stdout",
          "output_type": "stream",
          "text": [
            "<class 'pandas.core.frame.DataFrame'>\n",
            "RangeIndex: 7032 entries, 0 to 7031\n",
            "Data columns (total 21 columns):\n",
            " #   Column            Non-Null Count  Dtype  \n",
            "---  ------            --------------  -----  \n",
            " 0   customerID        7032 non-null   object \n",
            " 1   gender            7032 non-null   object \n",
            " 2   SeniorCitizen     7032 non-null   int64  \n",
            " 3   Partner           7032 non-null   object \n",
            " 4   Dependents        7032 non-null   object \n",
            " 5   tenure            7032 non-null   int64  \n",
            " 6   PhoneService      7032 non-null   object \n",
            " 7   MultipleLines     7032 non-null   object \n",
            " 8   InternetService   7032 non-null   object \n",
            " 9   OnlineSecurity    7032 non-null   object \n",
            " 10  OnlineBackup      7032 non-null   object \n",
            " 11  DeviceProtection  7032 non-null   object \n",
            " 12  TechSupport       7032 non-null   object \n",
            " 13  StreamingTV       7032 non-null   object \n",
            " 14  StreamingMovies   7032 non-null   object \n",
            " 15  Contract          7032 non-null   object \n",
            " 16  PaperlessBilling  7032 non-null   object \n",
            " 17  PaymentMethod     7032 non-null   object \n",
            " 18  MonthlyCharges    7032 non-null   float64\n",
            " 19  TotalCharges      7032 non-null   float64\n",
            " 20  Churn             7032 non-null   object \n",
            "dtypes: float64(2), int64(2), object(17)\n",
            "memory usage: 1.1+ MB\n"
          ]
        }
      ],
      "source": [
        "df.info()"
      ]
    },
    {
      "cell_type": "markdown",
      "metadata": {},
      "source": [
        "Conclusiones: \n",
        "- La base de datos no presenta valores nulos ni registros duplicados.\n",
        "- El conjunto de datos está compuesto por 21 variables, las cuales se distribuyen entre variables numéricas, categóricas y binarias.\n",
        "- El análisis estadístico muestra que solo el 16 % de los clientes son adultos mayores, con una antigüedad promedio de 32 meses y gastos mensuales medios de 64,76.\n",
        "- Fue necesario realizar una primera transformación en la variable \"TotalCharges\", ya que aunque representa valores numéricos, originalmente estaba clasificada como texto (object). Esta conversión fue esencial para el análisis exploratorio.\n",
        "- Dado que los valores NaN en la variable \"TotalCharges\" representan solo una fracción muy pequeña del total (11 de 7,043 registros), se optó por eliminar estas filas.\n",
        "- Tras la eliminación de los 11 registros que presentaban valores \"NaN\" en la variable \"TotalCharges\", el conjunto de datos quedó conformado por 7,038 registros"
      ]
    },
    {
      "cell_type": "markdown",
      "metadata": {},
      "source": [
        "# Análisis Exploratorio de Datos (EDA)"
      ]
    },
    {
      "cell_type": "markdown",
      "metadata": {},
      "source": [
        "## Análisis Variable Objetivo"
      ]
    },
    {
      "cell_type": "code",
      "execution_count": 10,
      "metadata": {},
      "outputs": [
        {
          "name": "stdout",
          "output_type": "stream",
          "text": [
            "Churn\n",
            "No     5163\n",
            "Yes    1869\n",
            "Name: count, dtype: int64\n"
          ]
        },
        {
          "data": {
            "application/vnd.plotly.v1+json": {
              "config": {
                "plotlyServerURL": "https://plot.ly"
              },
              "data": [
                {
                  "domain": {
                    "x": [
                      0,
                      1
                    ],
                    "y": [
                      0,
                      1
                    ]
                  },
                  "hovertemplate": "label=%{label}<br>value=%{value}<extra></extra>",
                  "labels": [
                    "No",
                    "Yes"
                  ],
                  "legendgroup": "",
                  "name": "",
                  "showlegend": true,
                  "type": "pie",
                  "values": {
                    "bdata": "KxRNBw==",
                    "dtype": "i2"
                  }
                }
              ],
              "layout": {
                "legend": {
                  "tracegroupgap": 0
                },
                "margin": {
                  "t": 60
                },
                "template": {
                  "data": {
                    "bar": [
                      {
                        "error_x": {
                          "color": "#2a3f5f"
                        },
                        "error_y": {
                          "color": "#2a3f5f"
                        },
                        "marker": {
                          "line": {
                            "color": "#E5ECF6",
                            "width": 0.5
                          },
                          "pattern": {
                            "fillmode": "overlay",
                            "size": 10,
                            "solidity": 0.2
                          }
                        },
                        "type": "bar"
                      }
                    ],
                    "barpolar": [
                      {
                        "marker": {
                          "line": {
                            "color": "#E5ECF6",
                            "width": 0.5
                          },
                          "pattern": {
                            "fillmode": "overlay",
                            "size": 10,
                            "solidity": 0.2
                          }
                        },
                        "type": "barpolar"
                      }
                    ],
                    "carpet": [
                      {
                        "aaxis": {
                          "endlinecolor": "#2a3f5f",
                          "gridcolor": "white",
                          "linecolor": "white",
                          "minorgridcolor": "white",
                          "startlinecolor": "#2a3f5f"
                        },
                        "baxis": {
                          "endlinecolor": "#2a3f5f",
                          "gridcolor": "white",
                          "linecolor": "white",
                          "minorgridcolor": "white",
                          "startlinecolor": "#2a3f5f"
                        },
                        "type": "carpet"
                      }
                    ],
                    "choropleth": [
                      {
                        "colorbar": {
                          "outlinewidth": 0,
                          "ticks": ""
                        },
                        "type": "choropleth"
                      }
                    ],
                    "contour": [
                      {
                        "colorbar": {
                          "outlinewidth": 0,
                          "ticks": ""
                        },
                        "colorscale": [
                          [
                            0,
                            "#0d0887"
                          ],
                          [
                            0.1111111111111111,
                            "#46039f"
                          ],
                          [
                            0.2222222222222222,
                            "#7201a8"
                          ],
                          [
                            0.3333333333333333,
                            "#9c179e"
                          ],
                          [
                            0.4444444444444444,
                            "#bd3786"
                          ],
                          [
                            0.5555555555555556,
                            "#d8576b"
                          ],
                          [
                            0.6666666666666666,
                            "#ed7953"
                          ],
                          [
                            0.7777777777777778,
                            "#fb9f3a"
                          ],
                          [
                            0.8888888888888888,
                            "#fdca26"
                          ],
                          [
                            1,
                            "#f0f921"
                          ]
                        ],
                        "type": "contour"
                      }
                    ],
                    "contourcarpet": [
                      {
                        "colorbar": {
                          "outlinewidth": 0,
                          "ticks": ""
                        },
                        "type": "contourcarpet"
                      }
                    ],
                    "heatmap": [
                      {
                        "colorbar": {
                          "outlinewidth": 0,
                          "ticks": ""
                        },
                        "colorscale": [
                          [
                            0,
                            "#0d0887"
                          ],
                          [
                            0.1111111111111111,
                            "#46039f"
                          ],
                          [
                            0.2222222222222222,
                            "#7201a8"
                          ],
                          [
                            0.3333333333333333,
                            "#9c179e"
                          ],
                          [
                            0.4444444444444444,
                            "#bd3786"
                          ],
                          [
                            0.5555555555555556,
                            "#d8576b"
                          ],
                          [
                            0.6666666666666666,
                            "#ed7953"
                          ],
                          [
                            0.7777777777777778,
                            "#fb9f3a"
                          ],
                          [
                            0.8888888888888888,
                            "#fdca26"
                          ],
                          [
                            1,
                            "#f0f921"
                          ]
                        ],
                        "type": "heatmap"
                      }
                    ],
                    "histogram": [
                      {
                        "marker": {
                          "pattern": {
                            "fillmode": "overlay",
                            "size": 10,
                            "solidity": 0.2
                          }
                        },
                        "type": "histogram"
                      }
                    ],
                    "histogram2d": [
                      {
                        "colorbar": {
                          "outlinewidth": 0,
                          "ticks": ""
                        },
                        "colorscale": [
                          [
                            0,
                            "#0d0887"
                          ],
                          [
                            0.1111111111111111,
                            "#46039f"
                          ],
                          [
                            0.2222222222222222,
                            "#7201a8"
                          ],
                          [
                            0.3333333333333333,
                            "#9c179e"
                          ],
                          [
                            0.4444444444444444,
                            "#bd3786"
                          ],
                          [
                            0.5555555555555556,
                            "#d8576b"
                          ],
                          [
                            0.6666666666666666,
                            "#ed7953"
                          ],
                          [
                            0.7777777777777778,
                            "#fb9f3a"
                          ],
                          [
                            0.8888888888888888,
                            "#fdca26"
                          ],
                          [
                            1,
                            "#f0f921"
                          ]
                        ],
                        "type": "histogram2d"
                      }
                    ],
                    "histogram2dcontour": [
                      {
                        "colorbar": {
                          "outlinewidth": 0,
                          "ticks": ""
                        },
                        "colorscale": [
                          [
                            0,
                            "#0d0887"
                          ],
                          [
                            0.1111111111111111,
                            "#46039f"
                          ],
                          [
                            0.2222222222222222,
                            "#7201a8"
                          ],
                          [
                            0.3333333333333333,
                            "#9c179e"
                          ],
                          [
                            0.4444444444444444,
                            "#bd3786"
                          ],
                          [
                            0.5555555555555556,
                            "#d8576b"
                          ],
                          [
                            0.6666666666666666,
                            "#ed7953"
                          ],
                          [
                            0.7777777777777778,
                            "#fb9f3a"
                          ],
                          [
                            0.8888888888888888,
                            "#fdca26"
                          ],
                          [
                            1,
                            "#f0f921"
                          ]
                        ],
                        "type": "histogram2dcontour"
                      }
                    ],
                    "mesh3d": [
                      {
                        "colorbar": {
                          "outlinewidth": 0,
                          "ticks": ""
                        },
                        "type": "mesh3d"
                      }
                    ],
                    "parcoords": [
                      {
                        "line": {
                          "colorbar": {
                            "outlinewidth": 0,
                            "ticks": ""
                          }
                        },
                        "type": "parcoords"
                      }
                    ],
                    "pie": [
                      {
                        "automargin": true,
                        "type": "pie"
                      }
                    ],
                    "scatter": [
                      {
                        "fillpattern": {
                          "fillmode": "overlay",
                          "size": 10,
                          "solidity": 0.2
                        },
                        "type": "scatter"
                      }
                    ],
                    "scatter3d": [
                      {
                        "line": {
                          "colorbar": {
                            "outlinewidth": 0,
                            "ticks": ""
                          }
                        },
                        "marker": {
                          "colorbar": {
                            "outlinewidth": 0,
                            "ticks": ""
                          }
                        },
                        "type": "scatter3d"
                      }
                    ],
                    "scattercarpet": [
                      {
                        "marker": {
                          "colorbar": {
                            "outlinewidth": 0,
                            "ticks": ""
                          }
                        },
                        "type": "scattercarpet"
                      }
                    ],
                    "scattergeo": [
                      {
                        "marker": {
                          "colorbar": {
                            "outlinewidth": 0,
                            "ticks": ""
                          }
                        },
                        "type": "scattergeo"
                      }
                    ],
                    "scattergl": [
                      {
                        "marker": {
                          "colorbar": {
                            "outlinewidth": 0,
                            "ticks": ""
                          }
                        },
                        "type": "scattergl"
                      }
                    ],
                    "scattermap": [
                      {
                        "marker": {
                          "colorbar": {
                            "outlinewidth": 0,
                            "ticks": ""
                          }
                        },
                        "type": "scattermap"
                      }
                    ],
                    "scattermapbox": [
                      {
                        "marker": {
                          "colorbar": {
                            "outlinewidth": 0,
                            "ticks": ""
                          }
                        },
                        "type": "scattermapbox"
                      }
                    ],
                    "scatterpolar": [
                      {
                        "marker": {
                          "colorbar": {
                            "outlinewidth": 0,
                            "ticks": ""
                          }
                        },
                        "type": "scatterpolar"
                      }
                    ],
                    "scatterpolargl": [
                      {
                        "marker": {
                          "colorbar": {
                            "outlinewidth": 0,
                            "ticks": ""
                          }
                        },
                        "type": "scatterpolargl"
                      }
                    ],
                    "scatterternary": [
                      {
                        "marker": {
                          "colorbar": {
                            "outlinewidth": 0,
                            "ticks": ""
                          }
                        },
                        "type": "scatterternary"
                      }
                    ],
                    "surface": [
                      {
                        "colorbar": {
                          "outlinewidth": 0,
                          "ticks": ""
                        },
                        "colorscale": [
                          [
                            0,
                            "#0d0887"
                          ],
                          [
                            0.1111111111111111,
                            "#46039f"
                          ],
                          [
                            0.2222222222222222,
                            "#7201a8"
                          ],
                          [
                            0.3333333333333333,
                            "#9c179e"
                          ],
                          [
                            0.4444444444444444,
                            "#bd3786"
                          ],
                          [
                            0.5555555555555556,
                            "#d8576b"
                          ],
                          [
                            0.6666666666666666,
                            "#ed7953"
                          ],
                          [
                            0.7777777777777778,
                            "#fb9f3a"
                          ],
                          [
                            0.8888888888888888,
                            "#fdca26"
                          ],
                          [
                            1,
                            "#f0f921"
                          ]
                        ],
                        "type": "surface"
                      }
                    ],
                    "table": [
                      {
                        "cells": {
                          "fill": {
                            "color": "#EBF0F8"
                          },
                          "line": {
                            "color": "white"
                          }
                        },
                        "header": {
                          "fill": {
                            "color": "#C8D4E3"
                          },
                          "line": {
                            "color": "white"
                          }
                        },
                        "type": "table"
                      }
                    ]
                  },
                  "layout": {
                    "annotationdefaults": {
                      "arrowcolor": "#2a3f5f",
                      "arrowhead": 0,
                      "arrowwidth": 1
                    },
                    "autotypenumbers": "strict",
                    "coloraxis": {
                      "colorbar": {
                        "outlinewidth": 0,
                        "ticks": ""
                      }
                    },
                    "colorscale": {
                      "diverging": [
                        [
                          0,
                          "#8e0152"
                        ],
                        [
                          0.1,
                          "#c51b7d"
                        ],
                        [
                          0.2,
                          "#de77ae"
                        ],
                        [
                          0.3,
                          "#f1b6da"
                        ],
                        [
                          0.4,
                          "#fde0ef"
                        ],
                        [
                          0.5,
                          "#f7f7f7"
                        ],
                        [
                          0.6,
                          "#e6f5d0"
                        ],
                        [
                          0.7,
                          "#b8e186"
                        ],
                        [
                          0.8,
                          "#7fbc41"
                        ],
                        [
                          0.9,
                          "#4d9221"
                        ],
                        [
                          1,
                          "#276419"
                        ]
                      ],
                      "sequential": [
                        [
                          0,
                          "#0d0887"
                        ],
                        [
                          0.1111111111111111,
                          "#46039f"
                        ],
                        [
                          0.2222222222222222,
                          "#7201a8"
                        ],
                        [
                          0.3333333333333333,
                          "#9c179e"
                        ],
                        [
                          0.4444444444444444,
                          "#bd3786"
                        ],
                        [
                          0.5555555555555556,
                          "#d8576b"
                        ],
                        [
                          0.6666666666666666,
                          "#ed7953"
                        ],
                        [
                          0.7777777777777778,
                          "#fb9f3a"
                        ],
                        [
                          0.8888888888888888,
                          "#fdca26"
                        ],
                        [
                          1,
                          "#f0f921"
                        ]
                      ],
                      "sequentialminus": [
                        [
                          0,
                          "#0d0887"
                        ],
                        [
                          0.1111111111111111,
                          "#46039f"
                        ],
                        [
                          0.2222222222222222,
                          "#7201a8"
                        ],
                        [
                          0.3333333333333333,
                          "#9c179e"
                        ],
                        [
                          0.4444444444444444,
                          "#bd3786"
                        ],
                        [
                          0.5555555555555556,
                          "#d8576b"
                        ],
                        [
                          0.6666666666666666,
                          "#ed7953"
                        ],
                        [
                          0.7777777777777778,
                          "#fb9f3a"
                        ],
                        [
                          0.8888888888888888,
                          "#fdca26"
                        ],
                        [
                          1,
                          "#f0f921"
                        ]
                      ]
                    },
                    "colorway": [
                      "#636efa",
                      "#EF553B",
                      "#00cc96",
                      "#ab63fa",
                      "#FFA15A",
                      "#19d3f3",
                      "#FF6692",
                      "#B6E880",
                      "#FF97FF",
                      "#FECB52"
                    ],
                    "font": {
                      "color": "#2a3f5f"
                    },
                    "geo": {
                      "bgcolor": "white",
                      "lakecolor": "white",
                      "landcolor": "#E5ECF6",
                      "showlakes": true,
                      "showland": true,
                      "subunitcolor": "white"
                    },
                    "hoverlabel": {
                      "align": "left"
                    },
                    "hovermode": "closest",
                    "mapbox": {
                      "style": "light"
                    },
                    "paper_bgcolor": "white",
                    "plot_bgcolor": "#E5ECF6",
                    "polar": {
                      "angularaxis": {
                        "gridcolor": "white",
                        "linecolor": "white",
                        "ticks": ""
                      },
                      "bgcolor": "#E5ECF6",
                      "radialaxis": {
                        "gridcolor": "white",
                        "linecolor": "white",
                        "ticks": ""
                      }
                    },
                    "scene": {
                      "xaxis": {
                        "backgroundcolor": "#E5ECF6",
                        "gridcolor": "white",
                        "gridwidth": 2,
                        "linecolor": "white",
                        "showbackground": true,
                        "ticks": "",
                        "zerolinecolor": "white"
                      },
                      "yaxis": {
                        "backgroundcolor": "#E5ECF6",
                        "gridcolor": "white",
                        "gridwidth": 2,
                        "linecolor": "white",
                        "showbackground": true,
                        "ticks": "",
                        "zerolinecolor": "white"
                      },
                      "zaxis": {
                        "backgroundcolor": "#E5ECF6",
                        "gridcolor": "white",
                        "gridwidth": 2,
                        "linecolor": "white",
                        "showbackground": true,
                        "ticks": "",
                        "zerolinecolor": "white"
                      }
                    },
                    "shapedefaults": {
                      "line": {
                        "color": "#2a3f5f"
                      }
                    },
                    "ternary": {
                      "aaxis": {
                        "gridcolor": "white",
                        "linecolor": "white",
                        "ticks": ""
                      },
                      "baxis": {
                        "gridcolor": "white",
                        "linecolor": "white",
                        "ticks": ""
                      },
                      "bgcolor": "#E5ECF6",
                      "caxis": {
                        "gridcolor": "white",
                        "linecolor": "white",
                        "ticks": ""
                      }
                    },
                    "title": {
                      "x": 0.05
                    },
                    "xaxis": {
                      "automargin": true,
                      "gridcolor": "white",
                      "linecolor": "white",
                      "ticks": "",
                      "title": {
                        "standoff": 15
                      },
                      "zerolinecolor": "white",
                      "zerolinewidth": 2
                    },
                    "yaxis": {
                      "automargin": true,
                      "gridcolor": "white",
                      "linecolor": "white",
                      "ticks": "",
                      "title": {
                        "standoff": 15
                      },
                      "zerolinecolor": "white",
                      "zerolinewidth": 2
                    }
                  }
                }
              }
            }
          },
          "metadata": {},
          "output_type": "display_data"
        }
      ],
      "source": [
        "# Variable Respuesta (target)\n",
        "print(df['Churn'].value_counts())\n",
        "_ = df['Churn'].value_counts()\n",
        "\n",
        "# Crear el gráfico de torta\n",
        "fig = px.pie(values = _, names = _.index)\n",
        "fig.show()"
      ]
    },
    {
      "cell_type": "markdown",
      "metadata": {},
      "source": [
        "Conclusiones: \n",
        "- El 26.5% han renunciado al servicio, equivalente a un total de 1,869 clientes. \n",
        "- La distribución de clases binarias presenta un desequilibrio moderado. "
      ]
    },
    {
      "cell_type": "markdown",
      "metadata": {},
      "source": [
        "## Análisis de Variables Categóricas"
      ]
    },
    {
      "cell_type": "code",
      "execution_count": 11,
      "metadata": {},
      "outputs": [
        {
          "name": "stdout",
          "output_type": "stream",
          "text": [
            "--- gender ---\n",
            "gender\n",
            "Male      3549\n",
            "Female    3483\n",
            "Name: count, dtype: int64\n",
            "\n",
            "\n",
            "--- Partner ---\n",
            "Partner\n",
            "No     3639\n",
            "Yes    3393\n",
            "Name: count, dtype: int64\n",
            "\n",
            "\n",
            "--- Dependents ---\n",
            "Dependents\n",
            "No     4933\n",
            "Yes    2099\n",
            "Name: count, dtype: int64\n",
            "\n",
            "\n",
            "--- PhoneService ---\n",
            "PhoneService\n",
            "Yes    6352\n",
            "No      680\n",
            "Name: count, dtype: int64\n",
            "\n",
            "\n",
            "--- MultipleLines ---\n",
            "MultipleLines\n",
            "No                  3385\n",
            "Yes                 2967\n",
            "No phone service     680\n",
            "Name: count, dtype: int64\n",
            "\n",
            "\n",
            "--- InternetService ---\n",
            "InternetService\n",
            "Fiber optic    3096\n",
            "DSL            2416\n",
            "No             1520\n",
            "Name: count, dtype: int64\n",
            "\n",
            "\n",
            "--- OnlineSecurity ---\n",
            "OnlineSecurity\n",
            "No                     3497\n",
            "Yes                    2015\n",
            "No internet service    1520\n",
            "Name: count, dtype: int64\n",
            "\n",
            "\n",
            "--- OnlineBackup ---\n",
            "OnlineBackup\n",
            "No                     3087\n",
            "Yes                    2425\n",
            "No internet service    1520\n",
            "Name: count, dtype: int64\n",
            "\n",
            "\n",
            "--- DeviceProtection ---\n",
            "DeviceProtection\n",
            "No                     3094\n",
            "Yes                    2418\n",
            "No internet service    1520\n",
            "Name: count, dtype: int64\n",
            "\n",
            "\n",
            "--- TechSupport ---\n",
            "TechSupport\n",
            "No                     3472\n",
            "Yes                    2040\n",
            "No internet service    1520\n",
            "Name: count, dtype: int64\n",
            "\n",
            "\n",
            "--- StreamingTV ---\n",
            "StreamingTV\n",
            "No                     2809\n",
            "Yes                    2703\n",
            "No internet service    1520\n",
            "Name: count, dtype: int64\n",
            "\n",
            "\n",
            "--- StreamingMovies ---\n",
            "StreamingMovies\n",
            "No                     2781\n",
            "Yes                    2731\n",
            "No internet service    1520\n",
            "Name: count, dtype: int64\n",
            "\n",
            "\n",
            "--- Contract ---\n",
            "Contract\n",
            "Month-to-month    3875\n",
            "Two year          1685\n",
            "One year          1472\n",
            "Name: count, dtype: int64\n",
            "\n",
            "\n",
            "--- PaperlessBilling ---\n",
            "PaperlessBilling\n",
            "Yes    4168\n",
            "No     2864\n",
            "Name: count, dtype: int64\n",
            "\n",
            "\n",
            "--- PaymentMethod ---\n",
            "PaymentMethod\n",
            "Electronic check             2365\n",
            "Mailed check                 1604\n",
            "Bank transfer (automatic)    1542\n",
            "Credit card (automatic)      1521\n",
            "Name: count, dtype: int64\n",
            "\n",
            "\n"
          ]
        }
      ],
      "source": [
        "# Información de las variables categóricas\n",
        "cat_cols = df.select_dtypes(include=['object', 'category']).columns\n",
        "cat_cols = [col for col in cat_cols if col not in ['customerID', 'Churn']]\n",
        "\n",
        "for col in cat_cols:\n",
        "    print(f\"--- {col} ---\")\n",
        "    print(df[col].value_counts(dropna=False))\n",
        "    print(\"\\n\")"
      ]
    },
    {
      "cell_type": "code",
      "execution_count": 12,
      "metadata": {},
      "outputs": [
        {
          "data": {
            "application/vnd.plotly.v1+json": {
              "config": {
                "plotlyServerURL": "https://plot.ly"
              },
              "data": [
                {
                  "hovertemplate": "Churn=No<br>gender=%{x}<br>Cantidad de Empleados=%{y}<extra></extra>",
                  "legendgroup": "No",
                  "marker": {
                    "color": "#636efa",
                    "pattern": {
                      "shape": ""
                    }
                  },
                  "name": "No",
                  "orientation": "v",
                  "showlegend": true,
                  "textposition": "auto",
                  "type": "bar",
                  "x": [
                    "Female",
                    "Male"
                  ],
                  "xaxis": "x",
                  "y": {
                    "bdata": "8Ak7Cg==",
                    "dtype": "i2"
                  },
                  "yaxis": "y"
                },
                {
                  "hovertemplate": "Churn=Yes<br>gender=%{x}<br>Cantidad de Empleados=%{y}<extra></extra>",
                  "legendgroup": "Yes",
                  "marker": {
                    "color": "#EF553B",
                    "pattern": {
                      "shape": ""
                    }
                  },
                  "name": "Yes",
                  "orientation": "v",
                  "showlegend": true,
                  "textposition": "auto",
                  "type": "bar",
                  "x": [
                    "Female",
                    "Male"
                  ],
                  "xaxis": "x",
                  "y": {
                    "bdata": "qwOiAw==",
                    "dtype": "i2"
                  },
                  "yaxis": "y"
                }
              ],
              "layout": {
                "barmode": "relative",
                "legend": {
                  "title": {
                    "text": "Churn"
                  },
                  "tracegroupgap": 0
                },
                "template": {
                  "data": {
                    "bar": [
                      {
                        "error_x": {
                          "color": "#2a3f5f"
                        },
                        "error_y": {
                          "color": "#2a3f5f"
                        },
                        "marker": {
                          "line": {
                            "color": "#E5ECF6",
                            "width": 0.5
                          },
                          "pattern": {
                            "fillmode": "overlay",
                            "size": 10,
                            "solidity": 0.2
                          }
                        },
                        "type": "bar"
                      }
                    ],
                    "barpolar": [
                      {
                        "marker": {
                          "line": {
                            "color": "#E5ECF6",
                            "width": 0.5
                          },
                          "pattern": {
                            "fillmode": "overlay",
                            "size": 10,
                            "solidity": 0.2
                          }
                        },
                        "type": "barpolar"
                      }
                    ],
                    "carpet": [
                      {
                        "aaxis": {
                          "endlinecolor": "#2a3f5f",
                          "gridcolor": "white",
                          "linecolor": "white",
                          "minorgridcolor": "white",
                          "startlinecolor": "#2a3f5f"
                        },
                        "baxis": {
                          "endlinecolor": "#2a3f5f",
                          "gridcolor": "white",
                          "linecolor": "white",
                          "minorgridcolor": "white",
                          "startlinecolor": "#2a3f5f"
                        },
                        "type": "carpet"
                      }
                    ],
                    "choropleth": [
                      {
                        "colorbar": {
                          "outlinewidth": 0,
                          "ticks": ""
                        },
                        "type": "choropleth"
                      }
                    ],
                    "contour": [
                      {
                        "colorbar": {
                          "outlinewidth": 0,
                          "ticks": ""
                        },
                        "colorscale": [
                          [
                            0,
                            "#0d0887"
                          ],
                          [
                            0.1111111111111111,
                            "#46039f"
                          ],
                          [
                            0.2222222222222222,
                            "#7201a8"
                          ],
                          [
                            0.3333333333333333,
                            "#9c179e"
                          ],
                          [
                            0.4444444444444444,
                            "#bd3786"
                          ],
                          [
                            0.5555555555555556,
                            "#d8576b"
                          ],
                          [
                            0.6666666666666666,
                            "#ed7953"
                          ],
                          [
                            0.7777777777777778,
                            "#fb9f3a"
                          ],
                          [
                            0.8888888888888888,
                            "#fdca26"
                          ],
                          [
                            1,
                            "#f0f921"
                          ]
                        ],
                        "type": "contour"
                      }
                    ],
                    "contourcarpet": [
                      {
                        "colorbar": {
                          "outlinewidth": 0,
                          "ticks": ""
                        },
                        "type": "contourcarpet"
                      }
                    ],
                    "heatmap": [
                      {
                        "colorbar": {
                          "outlinewidth": 0,
                          "ticks": ""
                        },
                        "colorscale": [
                          [
                            0,
                            "#0d0887"
                          ],
                          [
                            0.1111111111111111,
                            "#46039f"
                          ],
                          [
                            0.2222222222222222,
                            "#7201a8"
                          ],
                          [
                            0.3333333333333333,
                            "#9c179e"
                          ],
                          [
                            0.4444444444444444,
                            "#bd3786"
                          ],
                          [
                            0.5555555555555556,
                            "#d8576b"
                          ],
                          [
                            0.6666666666666666,
                            "#ed7953"
                          ],
                          [
                            0.7777777777777778,
                            "#fb9f3a"
                          ],
                          [
                            0.8888888888888888,
                            "#fdca26"
                          ],
                          [
                            1,
                            "#f0f921"
                          ]
                        ],
                        "type": "heatmap"
                      }
                    ],
                    "histogram": [
                      {
                        "marker": {
                          "pattern": {
                            "fillmode": "overlay",
                            "size": 10,
                            "solidity": 0.2
                          }
                        },
                        "type": "histogram"
                      }
                    ],
                    "histogram2d": [
                      {
                        "colorbar": {
                          "outlinewidth": 0,
                          "ticks": ""
                        },
                        "colorscale": [
                          [
                            0,
                            "#0d0887"
                          ],
                          [
                            0.1111111111111111,
                            "#46039f"
                          ],
                          [
                            0.2222222222222222,
                            "#7201a8"
                          ],
                          [
                            0.3333333333333333,
                            "#9c179e"
                          ],
                          [
                            0.4444444444444444,
                            "#bd3786"
                          ],
                          [
                            0.5555555555555556,
                            "#d8576b"
                          ],
                          [
                            0.6666666666666666,
                            "#ed7953"
                          ],
                          [
                            0.7777777777777778,
                            "#fb9f3a"
                          ],
                          [
                            0.8888888888888888,
                            "#fdca26"
                          ],
                          [
                            1,
                            "#f0f921"
                          ]
                        ],
                        "type": "histogram2d"
                      }
                    ],
                    "histogram2dcontour": [
                      {
                        "colorbar": {
                          "outlinewidth": 0,
                          "ticks": ""
                        },
                        "colorscale": [
                          [
                            0,
                            "#0d0887"
                          ],
                          [
                            0.1111111111111111,
                            "#46039f"
                          ],
                          [
                            0.2222222222222222,
                            "#7201a8"
                          ],
                          [
                            0.3333333333333333,
                            "#9c179e"
                          ],
                          [
                            0.4444444444444444,
                            "#bd3786"
                          ],
                          [
                            0.5555555555555556,
                            "#d8576b"
                          ],
                          [
                            0.6666666666666666,
                            "#ed7953"
                          ],
                          [
                            0.7777777777777778,
                            "#fb9f3a"
                          ],
                          [
                            0.8888888888888888,
                            "#fdca26"
                          ],
                          [
                            1,
                            "#f0f921"
                          ]
                        ],
                        "type": "histogram2dcontour"
                      }
                    ],
                    "mesh3d": [
                      {
                        "colorbar": {
                          "outlinewidth": 0,
                          "ticks": ""
                        },
                        "type": "mesh3d"
                      }
                    ],
                    "parcoords": [
                      {
                        "line": {
                          "colorbar": {
                            "outlinewidth": 0,
                            "ticks": ""
                          }
                        },
                        "type": "parcoords"
                      }
                    ],
                    "pie": [
                      {
                        "automargin": true,
                        "type": "pie"
                      }
                    ],
                    "scatter": [
                      {
                        "fillpattern": {
                          "fillmode": "overlay",
                          "size": 10,
                          "solidity": 0.2
                        },
                        "type": "scatter"
                      }
                    ],
                    "scatter3d": [
                      {
                        "line": {
                          "colorbar": {
                            "outlinewidth": 0,
                            "ticks": ""
                          }
                        },
                        "marker": {
                          "colorbar": {
                            "outlinewidth": 0,
                            "ticks": ""
                          }
                        },
                        "type": "scatter3d"
                      }
                    ],
                    "scattercarpet": [
                      {
                        "marker": {
                          "colorbar": {
                            "outlinewidth": 0,
                            "ticks": ""
                          }
                        },
                        "type": "scattercarpet"
                      }
                    ],
                    "scattergeo": [
                      {
                        "marker": {
                          "colorbar": {
                            "outlinewidth": 0,
                            "ticks": ""
                          }
                        },
                        "type": "scattergeo"
                      }
                    ],
                    "scattergl": [
                      {
                        "marker": {
                          "colorbar": {
                            "outlinewidth": 0,
                            "ticks": ""
                          }
                        },
                        "type": "scattergl"
                      }
                    ],
                    "scattermap": [
                      {
                        "marker": {
                          "colorbar": {
                            "outlinewidth": 0,
                            "ticks": ""
                          }
                        },
                        "type": "scattermap"
                      }
                    ],
                    "scattermapbox": [
                      {
                        "marker": {
                          "colorbar": {
                            "outlinewidth": 0,
                            "ticks": ""
                          }
                        },
                        "type": "scattermapbox"
                      }
                    ],
                    "scatterpolar": [
                      {
                        "marker": {
                          "colorbar": {
                            "outlinewidth": 0,
                            "ticks": ""
                          }
                        },
                        "type": "scatterpolar"
                      }
                    ],
                    "scatterpolargl": [
                      {
                        "marker": {
                          "colorbar": {
                            "outlinewidth": 0,
                            "ticks": ""
                          }
                        },
                        "type": "scatterpolargl"
                      }
                    ],
                    "scatterternary": [
                      {
                        "marker": {
                          "colorbar": {
                            "outlinewidth": 0,
                            "ticks": ""
                          }
                        },
                        "type": "scatterternary"
                      }
                    ],
                    "surface": [
                      {
                        "colorbar": {
                          "outlinewidth": 0,
                          "ticks": ""
                        },
                        "colorscale": [
                          [
                            0,
                            "#0d0887"
                          ],
                          [
                            0.1111111111111111,
                            "#46039f"
                          ],
                          [
                            0.2222222222222222,
                            "#7201a8"
                          ],
                          [
                            0.3333333333333333,
                            "#9c179e"
                          ],
                          [
                            0.4444444444444444,
                            "#bd3786"
                          ],
                          [
                            0.5555555555555556,
                            "#d8576b"
                          ],
                          [
                            0.6666666666666666,
                            "#ed7953"
                          ],
                          [
                            0.7777777777777778,
                            "#fb9f3a"
                          ],
                          [
                            0.8888888888888888,
                            "#fdca26"
                          ],
                          [
                            1,
                            "#f0f921"
                          ]
                        ],
                        "type": "surface"
                      }
                    ],
                    "table": [
                      {
                        "cells": {
                          "fill": {
                            "color": "#EBF0F8"
                          },
                          "line": {
                            "color": "white"
                          }
                        },
                        "header": {
                          "fill": {
                            "color": "#C8D4E3"
                          },
                          "line": {
                            "color": "white"
                          }
                        },
                        "type": "table"
                      }
                    ]
                  },
                  "layout": {
                    "annotationdefaults": {
                      "arrowcolor": "#2a3f5f",
                      "arrowhead": 0,
                      "arrowwidth": 1
                    },
                    "autotypenumbers": "strict",
                    "coloraxis": {
                      "colorbar": {
                        "outlinewidth": 0,
                        "ticks": ""
                      }
                    },
                    "colorscale": {
                      "diverging": [
                        [
                          0,
                          "#8e0152"
                        ],
                        [
                          0.1,
                          "#c51b7d"
                        ],
                        [
                          0.2,
                          "#de77ae"
                        ],
                        [
                          0.3,
                          "#f1b6da"
                        ],
                        [
                          0.4,
                          "#fde0ef"
                        ],
                        [
                          0.5,
                          "#f7f7f7"
                        ],
                        [
                          0.6,
                          "#e6f5d0"
                        ],
                        [
                          0.7,
                          "#b8e186"
                        ],
                        [
                          0.8,
                          "#7fbc41"
                        ],
                        [
                          0.9,
                          "#4d9221"
                        ],
                        [
                          1,
                          "#276419"
                        ]
                      ],
                      "sequential": [
                        [
                          0,
                          "#0d0887"
                        ],
                        [
                          0.1111111111111111,
                          "#46039f"
                        ],
                        [
                          0.2222222222222222,
                          "#7201a8"
                        ],
                        [
                          0.3333333333333333,
                          "#9c179e"
                        ],
                        [
                          0.4444444444444444,
                          "#bd3786"
                        ],
                        [
                          0.5555555555555556,
                          "#d8576b"
                        ],
                        [
                          0.6666666666666666,
                          "#ed7953"
                        ],
                        [
                          0.7777777777777778,
                          "#fb9f3a"
                        ],
                        [
                          0.8888888888888888,
                          "#fdca26"
                        ],
                        [
                          1,
                          "#f0f921"
                        ]
                      ],
                      "sequentialminus": [
                        [
                          0,
                          "#0d0887"
                        ],
                        [
                          0.1111111111111111,
                          "#46039f"
                        ],
                        [
                          0.2222222222222222,
                          "#7201a8"
                        ],
                        [
                          0.3333333333333333,
                          "#9c179e"
                        ],
                        [
                          0.4444444444444444,
                          "#bd3786"
                        ],
                        [
                          0.5555555555555556,
                          "#d8576b"
                        ],
                        [
                          0.6666666666666666,
                          "#ed7953"
                        ],
                        [
                          0.7777777777777778,
                          "#fb9f3a"
                        ],
                        [
                          0.8888888888888888,
                          "#fdca26"
                        ],
                        [
                          1,
                          "#f0f921"
                        ]
                      ]
                    },
                    "colorway": [
                      "#636efa",
                      "#EF553B",
                      "#00cc96",
                      "#ab63fa",
                      "#FFA15A",
                      "#19d3f3",
                      "#FF6692",
                      "#B6E880",
                      "#FF97FF",
                      "#FECB52"
                    ],
                    "font": {
                      "color": "#2a3f5f"
                    },
                    "geo": {
                      "bgcolor": "white",
                      "lakecolor": "white",
                      "landcolor": "#E5ECF6",
                      "showlakes": true,
                      "showland": true,
                      "subunitcolor": "white"
                    },
                    "hoverlabel": {
                      "align": "left"
                    },
                    "hovermode": "closest",
                    "mapbox": {
                      "style": "light"
                    },
                    "paper_bgcolor": "white",
                    "plot_bgcolor": "#E5ECF6",
                    "polar": {
                      "angularaxis": {
                        "gridcolor": "white",
                        "linecolor": "white",
                        "ticks": ""
                      },
                      "bgcolor": "#E5ECF6",
                      "radialaxis": {
                        "gridcolor": "white",
                        "linecolor": "white",
                        "ticks": ""
                      }
                    },
                    "scene": {
                      "xaxis": {
                        "backgroundcolor": "#E5ECF6",
                        "gridcolor": "white",
                        "gridwidth": 2,
                        "linecolor": "white",
                        "showbackground": true,
                        "ticks": "",
                        "zerolinecolor": "white"
                      },
                      "yaxis": {
                        "backgroundcolor": "#E5ECF6",
                        "gridcolor": "white",
                        "gridwidth": 2,
                        "linecolor": "white",
                        "showbackground": true,
                        "ticks": "",
                        "zerolinecolor": "white"
                      },
                      "zaxis": {
                        "backgroundcolor": "#E5ECF6",
                        "gridcolor": "white",
                        "gridwidth": 2,
                        "linecolor": "white",
                        "showbackground": true,
                        "ticks": "",
                        "zerolinecolor": "white"
                      }
                    },
                    "shapedefaults": {
                      "line": {
                        "color": "#2a3f5f"
                      }
                    },
                    "ternary": {
                      "aaxis": {
                        "gridcolor": "white",
                        "linecolor": "white",
                        "ticks": ""
                      },
                      "baxis": {
                        "gridcolor": "white",
                        "linecolor": "white",
                        "ticks": ""
                      },
                      "bgcolor": "#E5ECF6",
                      "caxis": {
                        "gridcolor": "white",
                        "linecolor": "white",
                        "ticks": ""
                      }
                    },
                    "title": {
                      "x": 0.05
                    },
                    "xaxis": {
                      "automargin": true,
                      "gridcolor": "white",
                      "linecolor": "white",
                      "ticks": "",
                      "title": {
                        "standoff": 15
                      },
                      "zerolinecolor": "white",
                      "zerolinewidth": 2
                    },
                    "yaxis": {
                      "automargin": true,
                      "gridcolor": "white",
                      "linecolor": "white",
                      "ticks": "",
                      "title": {
                        "standoff": 15
                      },
                      "zerolinecolor": "white",
                      "zerolinewidth": 2
                    }
                  }
                },
                "title": {
                  "text": "Distribución de Churn por gender"
                },
                "xaxis": {
                  "anchor": "y",
                  "domain": [
                    0,
                    1
                  ],
                  "tickvals": [
                    1,
                    2,
                    3,
                    4,
                    5,
                    6
                  ],
                  "title": {
                    "text": "gender"
                  }
                },
                "yaxis": {
                  "anchor": "x",
                  "domain": [
                    0,
                    1
                  ],
                  "title": {
                    "text": "Cantidad de Empleados"
                  }
                }
              }
            }
          },
          "metadata": {},
          "output_type": "display_data"
        }
      ],
      "source": [
        "# Genero\n",
        "fnc.vovsenc(df, 'gender', 'Count', 'Churn')"
      ]
    },
    {
      "cell_type": "markdown",
      "metadata": {},
      "source": [
        "- No se observa una dominancia de género en el abandono; las mujeres superan a los hombres solo por 9 casos"
      ]
    },
    {
      "cell_type": "code",
      "execution_count": 13,
      "metadata": {},
      "outputs": [
        {
          "data": {
            "application/vnd.plotly.v1+json": {
              "config": {
                "plotlyServerURL": "https://plot.ly"
              },
              "data": [
                {
                  "hovertemplate": "Churn=No<br>SeniorCitizen=%{x}<br>Cantidad de Empleados=%{y}<extra></extra>",
                  "legendgroup": "No",
                  "marker": {
                    "color": "#636efa",
                    "pattern": {
                      "shape": ""
                    }
                  },
                  "name": "No",
                  "orientation": "v",
                  "showlegend": true,
                  "textposition": "auto",
                  "type": "bar",
                  "x": {
                    "bdata": "AAE=",
                    "dtype": "i1"
                  },
                  "xaxis": "x",
                  "y": {
                    "bdata": "kRGaAg==",
                    "dtype": "i2"
                  },
                  "yaxis": "y"
                },
                {
                  "hovertemplate": "Churn=Yes<br>SeniorCitizen=%{x}<br>Cantidad de Empleados=%{y}<extra></extra>",
                  "legendgroup": "Yes",
                  "marker": {
                    "color": "#EF553B",
                    "pattern": {
                      "shape": ""
                    }
                  },
                  "name": "Yes",
                  "orientation": "v",
                  "showlegend": true,
                  "textposition": "auto",
                  "type": "bar",
                  "x": {
                    "bdata": "AAE=",
                    "dtype": "i1"
                  },
                  "xaxis": "x",
                  "y": {
                    "bdata": "cQXcAQ==",
                    "dtype": "i2"
                  },
                  "yaxis": "y"
                }
              ],
              "layout": {
                "barmode": "relative",
                "legend": {
                  "title": {
                    "text": "Churn"
                  },
                  "tracegroupgap": 0
                },
                "template": {
                  "data": {
                    "bar": [
                      {
                        "error_x": {
                          "color": "#2a3f5f"
                        },
                        "error_y": {
                          "color": "#2a3f5f"
                        },
                        "marker": {
                          "line": {
                            "color": "#E5ECF6",
                            "width": 0.5
                          },
                          "pattern": {
                            "fillmode": "overlay",
                            "size": 10,
                            "solidity": 0.2
                          }
                        },
                        "type": "bar"
                      }
                    ],
                    "barpolar": [
                      {
                        "marker": {
                          "line": {
                            "color": "#E5ECF6",
                            "width": 0.5
                          },
                          "pattern": {
                            "fillmode": "overlay",
                            "size": 10,
                            "solidity": 0.2
                          }
                        },
                        "type": "barpolar"
                      }
                    ],
                    "carpet": [
                      {
                        "aaxis": {
                          "endlinecolor": "#2a3f5f",
                          "gridcolor": "white",
                          "linecolor": "white",
                          "minorgridcolor": "white",
                          "startlinecolor": "#2a3f5f"
                        },
                        "baxis": {
                          "endlinecolor": "#2a3f5f",
                          "gridcolor": "white",
                          "linecolor": "white",
                          "minorgridcolor": "white",
                          "startlinecolor": "#2a3f5f"
                        },
                        "type": "carpet"
                      }
                    ],
                    "choropleth": [
                      {
                        "colorbar": {
                          "outlinewidth": 0,
                          "ticks": ""
                        },
                        "type": "choropleth"
                      }
                    ],
                    "contour": [
                      {
                        "colorbar": {
                          "outlinewidth": 0,
                          "ticks": ""
                        },
                        "colorscale": [
                          [
                            0,
                            "#0d0887"
                          ],
                          [
                            0.1111111111111111,
                            "#46039f"
                          ],
                          [
                            0.2222222222222222,
                            "#7201a8"
                          ],
                          [
                            0.3333333333333333,
                            "#9c179e"
                          ],
                          [
                            0.4444444444444444,
                            "#bd3786"
                          ],
                          [
                            0.5555555555555556,
                            "#d8576b"
                          ],
                          [
                            0.6666666666666666,
                            "#ed7953"
                          ],
                          [
                            0.7777777777777778,
                            "#fb9f3a"
                          ],
                          [
                            0.8888888888888888,
                            "#fdca26"
                          ],
                          [
                            1,
                            "#f0f921"
                          ]
                        ],
                        "type": "contour"
                      }
                    ],
                    "contourcarpet": [
                      {
                        "colorbar": {
                          "outlinewidth": 0,
                          "ticks": ""
                        },
                        "type": "contourcarpet"
                      }
                    ],
                    "heatmap": [
                      {
                        "colorbar": {
                          "outlinewidth": 0,
                          "ticks": ""
                        },
                        "colorscale": [
                          [
                            0,
                            "#0d0887"
                          ],
                          [
                            0.1111111111111111,
                            "#46039f"
                          ],
                          [
                            0.2222222222222222,
                            "#7201a8"
                          ],
                          [
                            0.3333333333333333,
                            "#9c179e"
                          ],
                          [
                            0.4444444444444444,
                            "#bd3786"
                          ],
                          [
                            0.5555555555555556,
                            "#d8576b"
                          ],
                          [
                            0.6666666666666666,
                            "#ed7953"
                          ],
                          [
                            0.7777777777777778,
                            "#fb9f3a"
                          ],
                          [
                            0.8888888888888888,
                            "#fdca26"
                          ],
                          [
                            1,
                            "#f0f921"
                          ]
                        ],
                        "type": "heatmap"
                      }
                    ],
                    "histogram": [
                      {
                        "marker": {
                          "pattern": {
                            "fillmode": "overlay",
                            "size": 10,
                            "solidity": 0.2
                          }
                        },
                        "type": "histogram"
                      }
                    ],
                    "histogram2d": [
                      {
                        "colorbar": {
                          "outlinewidth": 0,
                          "ticks": ""
                        },
                        "colorscale": [
                          [
                            0,
                            "#0d0887"
                          ],
                          [
                            0.1111111111111111,
                            "#46039f"
                          ],
                          [
                            0.2222222222222222,
                            "#7201a8"
                          ],
                          [
                            0.3333333333333333,
                            "#9c179e"
                          ],
                          [
                            0.4444444444444444,
                            "#bd3786"
                          ],
                          [
                            0.5555555555555556,
                            "#d8576b"
                          ],
                          [
                            0.6666666666666666,
                            "#ed7953"
                          ],
                          [
                            0.7777777777777778,
                            "#fb9f3a"
                          ],
                          [
                            0.8888888888888888,
                            "#fdca26"
                          ],
                          [
                            1,
                            "#f0f921"
                          ]
                        ],
                        "type": "histogram2d"
                      }
                    ],
                    "histogram2dcontour": [
                      {
                        "colorbar": {
                          "outlinewidth": 0,
                          "ticks": ""
                        },
                        "colorscale": [
                          [
                            0,
                            "#0d0887"
                          ],
                          [
                            0.1111111111111111,
                            "#46039f"
                          ],
                          [
                            0.2222222222222222,
                            "#7201a8"
                          ],
                          [
                            0.3333333333333333,
                            "#9c179e"
                          ],
                          [
                            0.4444444444444444,
                            "#bd3786"
                          ],
                          [
                            0.5555555555555556,
                            "#d8576b"
                          ],
                          [
                            0.6666666666666666,
                            "#ed7953"
                          ],
                          [
                            0.7777777777777778,
                            "#fb9f3a"
                          ],
                          [
                            0.8888888888888888,
                            "#fdca26"
                          ],
                          [
                            1,
                            "#f0f921"
                          ]
                        ],
                        "type": "histogram2dcontour"
                      }
                    ],
                    "mesh3d": [
                      {
                        "colorbar": {
                          "outlinewidth": 0,
                          "ticks": ""
                        },
                        "type": "mesh3d"
                      }
                    ],
                    "parcoords": [
                      {
                        "line": {
                          "colorbar": {
                            "outlinewidth": 0,
                            "ticks": ""
                          }
                        },
                        "type": "parcoords"
                      }
                    ],
                    "pie": [
                      {
                        "automargin": true,
                        "type": "pie"
                      }
                    ],
                    "scatter": [
                      {
                        "fillpattern": {
                          "fillmode": "overlay",
                          "size": 10,
                          "solidity": 0.2
                        },
                        "type": "scatter"
                      }
                    ],
                    "scatter3d": [
                      {
                        "line": {
                          "colorbar": {
                            "outlinewidth": 0,
                            "ticks": ""
                          }
                        },
                        "marker": {
                          "colorbar": {
                            "outlinewidth": 0,
                            "ticks": ""
                          }
                        },
                        "type": "scatter3d"
                      }
                    ],
                    "scattercarpet": [
                      {
                        "marker": {
                          "colorbar": {
                            "outlinewidth": 0,
                            "ticks": ""
                          }
                        },
                        "type": "scattercarpet"
                      }
                    ],
                    "scattergeo": [
                      {
                        "marker": {
                          "colorbar": {
                            "outlinewidth": 0,
                            "ticks": ""
                          }
                        },
                        "type": "scattergeo"
                      }
                    ],
                    "scattergl": [
                      {
                        "marker": {
                          "colorbar": {
                            "outlinewidth": 0,
                            "ticks": ""
                          }
                        },
                        "type": "scattergl"
                      }
                    ],
                    "scattermap": [
                      {
                        "marker": {
                          "colorbar": {
                            "outlinewidth": 0,
                            "ticks": ""
                          }
                        },
                        "type": "scattermap"
                      }
                    ],
                    "scattermapbox": [
                      {
                        "marker": {
                          "colorbar": {
                            "outlinewidth": 0,
                            "ticks": ""
                          }
                        },
                        "type": "scattermapbox"
                      }
                    ],
                    "scatterpolar": [
                      {
                        "marker": {
                          "colorbar": {
                            "outlinewidth": 0,
                            "ticks": ""
                          }
                        },
                        "type": "scatterpolar"
                      }
                    ],
                    "scatterpolargl": [
                      {
                        "marker": {
                          "colorbar": {
                            "outlinewidth": 0,
                            "ticks": ""
                          }
                        },
                        "type": "scatterpolargl"
                      }
                    ],
                    "scatterternary": [
                      {
                        "marker": {
                          "colorbar": {
                            "outlinewidth": 0,
                            "ticks": ""
                          }
                        },
                        "type": "scatterternary"
                      }
                    ],
                    "surface": [
                      {
                        "colorbar": {
                          "outlinewidth": 0,
                          "ticks": ""
                        },
                        "colorscale": [
                          [
                            0,
                            "#0d0887"
                          ],
                          [
                            0.1111111111111111,
                            "#46039f"
                          ],
                          [
                            0.2222222222222222,
                            "#7201a8"
                          ],
                          [
                            0.3333333333333333,
                            "#9c179e"
                          ],
                          [
                            0.4444444444444444,
                            "#bd3786"
                          ],
                          [
                            0.5555555555555556,
                            "#d8576b"
                          ],
                          [
                            0.6666666666666666,
                            "#ed7953"
                          ],
                          [
                            0.7777777777777778,
                            "#fb9f3a"
                          ],
                          [
                            0.8888888888888888,
                            "#fdca26"
                          ],
                          [
                            1,
                            "#f0f921"
                          ]
                        ],
                        "type": "surface"
                      }
                    ],
                    "table": [
                      {
                        "cells": {
                          "fill": {
                            "color": "#EBF0F8"
                          },
                          "line": {
                            "color": "white"
                          }
                        },
                        "header": {
                          "fill": {
                            "color": "#C8D4E3"
                          },
                          "line": {
                            "color": "white"
                          }
                        },
                        "type": "table"
                      }
                    ]
                  },
                  "layout": {
                    "annotationdefaults": {
                      "arrowcolor": "#2a3f5f",
                      "arrowhead": 0,
                      "arrowwidth": 1
                    },
                    "autotypenumbers": "strict",
                    "coloraxis": {
                      "colorbar": {
                        "outlinewidth": 0,
                        "ticks": ""
                      }
                    },
                    "colorscale": {
                      "diverging": [
                        [
                          0,
                          "#8e0152"
                        ],
                        [
                          0.1,
                          "#c51b7d"
                        ],
                        [
                          0.2,
                          "#de77ae"
                        ],
                        [
                          0.3,
                          "#f1b6da"
                        ],
                        [
                          0.4,
                          "#fde0ef"
                        ],
                        [
                          0.5,
                          "#f7f7f7"
                        ],
                        [
                          0.6,
                          "#e6f5d0"
                        ],
                        [
                          0.7,
                          "#b8e186"
                        ],
                        [
                          0.8,
                          "#7fbc41"
                        ],
                        [
                          0.9,
                          "#4d9221"
                        ],
                        [
                          1,
                          "#276419"
                        ]
                      ],
                      "sequential": [
                        [
                          0,
                          "#0d0887"
                        ],
                        [
                          0.1111111111111111,
                          "#46039f"
                        ],
                        [
                          0.2222222222222222,
                          "#7201a8"
                        ],
                        [
                          0.3333333333333333,
                          "#9c179e"
                        ],
                        [
                          0.4444444444444444,
                          "#bd3786"
                        ],
                        [
                          0.5555555555555556,
                          "#d8576b"
                        ],
                        [
                          0.6666666666666666,
                          "#ed7953"
                        ],
                        [
                          0.7777777777777778,
                          "#fb9f3a"
                        ],
                        [
                          0.8888888888888888,
                          "#fdca26"
                        ],
                        [
                          1,
                          "#f0f921"
                        ]
                      ],
                      "sequentialminus": [
                        [
                          0,
                          "#0d0887"
                        ],
                        [
                          0.1111111111111111,
                          "#46039f"
                        ],
                        [
                          0.2222222222222222,
                          "#7201a8"
                        ],
                        [
                          0.3333333333333333,
                          "#9c179e"
                        ],
                        [
                          0.4444444444444444,
                          "#bd3786"
                        ],
                        [
                          0.5555555555555556,
                          "#d8576b"
                        ],
                        [
                          0.6666666666666666,
                          "#ed7953"
                        ],
                        [
                          0.7777777777777778,
                          "#fb9f3a"
                        ],
                        [
                          0.8888888888888888,
                          "#fdca26"
                        ],
                        [
                          1,
                          "#f0f921"
                        ]
                      ]
                    },
                    "colorway": [
                      "#636efa",
                      "#EF553B",
                      "#00cc96",
                      "#ab63fa",
                      "#FFA15A",
                      "#19d3f3",
                      "#FF6692",
                      "#B6E880",
                      "#FF97FF",
                      "#FECB52"
                    ],
                    "font": {
                      "color": "#2a3f5f"
                    },
                    "geo": {
                      "bgcolor": "white",
                      "lakecolor": "white",
                      "landcolor": "#E5ECF6",
                      "showlakes": true,
                      "showland": true,
                      "subunitcolor": "white"
                    },
                    "hoverlabel": {
                      "align": "left"
                    },
                    "hovermode": "closest",
                    "mapbox": {
                      "style": "light"
                    },
                    "paper_bgcolor": "white",
                    "plot_bgcolor": "#E5ECF6",
                    "polar": {
                      "angularaxis": {
                        "gridcolor": "white",
                        "linecolor": "white",
                        "ticks": ""
                      },
                      "bgcolor": "#E5ECF6",
                      "radialaxis": {
                        "gridcolor": "white",
                        "linecolor": "white",
                        "ticks": ""
                      }
                    },
                    "scene": {
                      "xaxis": {
                        "backgroundcolor": "#E5ECF6",
                        "gridcolor": "white",
                        "gridwidth": 2,
                        "linecolor": "white",
                        "showbackground": true,
                        "ticks": "",
                        "zerolinecolor": "white"
                      },
                      "yaxis": {
                        "backgroundcolor": "#E5ECF6",
                        "gridcolor": "white",
                        "gridwidth": 2,
                        "linecolor": "white",
                        "showbackground": true,
                        "ticks": "",
                        "zerolinecolor": "white"
                      },
                      "zaxis": {
                        "backgroundcolor": "#E5ECF6",
                        "gridcolor": "white",
                        "gridwidth": 2,
                        "linecolor": "white",
                        "showbackground": true,
                        "ticks": "",
                        "zerolinecolor": "white"
                      }
                    },
                    "shapedefaults": {
                      "line": {
                        "color": "#2a3f5f"
                      }
                    },
                    "ternary": {
                      "aaxis": {
                        "gridcolor": "white",
                        "linecolor": "white",
                        "ticks": ""
                      },
                      "baxis": {
                        "gridcolor": "white",
                        "linecolor": "white",
                        "ticks": ""
                      },
                      "bgcolor": "#E5ECF6",
                      "caxis": {
                        "gridcolor": "white",
                        "linecolor": "white",
                        "ticks": ""
                      }
                    },
                    "title": {
                      "x": 0.05
                    },
                    "xaxis": {
                      "automargin": true,
                      "gridcolor": "white",
                      "linecolor": "white",
                      "ticks": "",
                      "title": {
                        "standoff": 15
                      },
                      "zerolinecolor": "white",
                      "zerolinewidth": 2
                    },
                    "yaxis": {
                      "automargin": true,
                      "gridcolor": "white",
                      "linecolor": "white",
                      "ticks": "",
                      "title": {
                        "standoff": 15
                      },
                      "zerolinecolor": "white",
                      "zerolinewidth": 2
                    }
                  }
                },
                "title": {
                  "text": "Distribución de Churn por SeniorCitizen"
                },
                "xaxis": {
                  "anchor": "y",
                  "domain": [
                    0,
                    1
                  ],
                  "tickvals": [
                    1,
                    2,
                    3,
                    4,
                    5,
                    6
                  ],
                  "title": {
                    "text": "SeniorCitizen"
                  }
                },
                "yaxis": {
                  "anchor": "x",
                  "domain": [
                    0,
                    1
                  ],
                  "title": {
                    "text": "Cantidad de Empleados"
                  }
                }
              }
            }
          },
          "metadata": {},
          "output_type": "display_data"
        }
      ],
      "source": [
        "# Personas mayores\n",
        "fnc.vovsenc(df, 'SeniorCitizen', 'Count', 'Churn')"
      ]
    },
    {
      "cell_type": "markdown",
      "metadata": {},
      "source": [
        "- La mayoría de los clientes no son ciudadanos senior.\n",
        "- Entre los clientes que sí son ciudadanos senior, aunque son muchos menos, la proporción de clientes que se van  es visiblemente mayor en comparación con los no seniors."
      ]
    },
    {
      "cell_type": "code",
      "execution_count": 14,
      "metadata": {},
      "outputs": [
        {
          "data": {
            "application/vnd.plotly.v1+json": {
              "config": {
                "plotlyServerURL": "https://plot.ly"
              },
              "data": [
                {
                  "hovertemplate": "Churn=No<br>Partner=%{x}<br>Cantidad de Empleados=%{y}<extra></extra>",
                  "legendgroup": "No",
                  "marker": {
                    "color": "#636efa",
                    "pattern": {
                      "shape": ""
                    }
                  },
                  "name": "No",
                  "orientation": "v",
                  "showlegend": true,
                  "textposition": "auto",
                  "type": "bar",
                  "x": [
                    "No",
                    "Yes"
                  ],
                  "xaxis": "x",
                  "y": {
                    "bdata": "hwmkCg==",
                    "dtype": "i2"
                  },
                  "yaxis": "y"
                },
                {
                  "hovertemplate": "Churn=Yes<br>Partner=%{x}<br>Cantidad de Empleados=%{y}<extra></extra>",
                  "legendgroup": "Yes",
                  "marker": {
                    "color": "#EF553B",
                    "pattern": {
                      "shape": ""
                    }
                  },
                  "name": "Yes",
                  "orientation": "v",
                  "showlegend": true,
                  "textposition": "auto",
                  "type": "bar",
                  "x": [
                    "No",
                    "Yes"
                  ],
                  "xaxis": "x",
                  "y": {
                    "bdata": "sASdAg==",
                    "dtype": "i2"
                  },
                  "yaxis": "y"
                }
              ],
              "layout": {
                "barmode": "relative",
                "legend": {
                  "title": {
                    "text": "Churn"
                  },
                  "tracegroupgap": 0
                },
                "template": {
                  "data": {
                    "bar": [
                      {
                        "error_x": {
                          "color": "#2a3f5f"
                        },
                        "error_y": {
                          "color": "#2a3f5f"
                        },
                        "marker": {
                          "line": {
                            "color": "#E5ECF6",
                            "width": 0.5
                          },
                          "pattern": {
                            "fillmode": "overlay",
                            "size": 10,
                            "solidity": 0.2
                          }
                        },
                        "type": "bar"
                      }
                    ],
                    "barpolar": [
                      {
                        "marker": {
                          "line": {
                            "color": "#E5ECF6",
                            "width": 0.5
                          },
                          "pattern": {
                            "fillmode": "overlay",
                            "size": 10,
                            "solidity": 0.2
                          }
                        },
                        "type": "barpolar"
                      }
                    ],
                    "carpet": [
                      {
                        "aaxis": {
                          "endlinecolor": "#2a3f5f",
                          "gridcolor": "white",
                          "linecolor": "white",
                          "minorgridcolor": "white",
                          "startlinecolor": "#2a3f5f"
                        },
                        "baxis": {
                          "endlinecolor": "#2a3f5f",
                          "gridcolor": "white",
                          "linecolor": "white",
                          "minorgridcolor": "white",
                          "startlinecolor": "#2a3f5f"
                        },
                        "type": "carpet"
                      }
                    ],
                    "choropleth": [
                      {
                        "colorbar": {
                          "outlinewidth": 0,
                          "ticks": ""
                        },
                        "type": "choropleth"
                      }
                    ],
                    "contour": [
                      {
                        "colorbar": {
                          "outlinewidth": 0,
                          "ticks": ""
                        },
                        "colorscale": [
                          [
                            0,
                            "#0d0887"
                          ],
                          [
                            0.1111111111111111,
                            "#46039f"
                          ],
                          [
                            0.2222222222222222,
                            "#7201a8"
                          ],
                          [
                            0.3333333333333333,
                            "#9c179e"
                          ],
                          [
                            0.4444444444444444,
                            "#bd3786"
                          ],
                          [
                            0.5555555555555556,
                            "#d8576b"
                          ],
                          [
                            0.6666666666666666,
                            "#ed7953"
                          ],
                          [
                            0.7777777777777778,
                            "#fb9f3a"
                          ],
                          [
                            0.8888888888888888,
                            "#fdca26"
                          ],
                          [
                            1,
                            "#f0f921"
                          ]
                        ],
                        "type": "contour"
                      }
                    ],
                    "contourcarpet": [
                      {
                        "colorbar": {
                          "outlinewidth": 0,
                          "ticks": ""
                        },
                        "type": "contourcarpet"
                      }
                    ],
                    "heatmap": [
                      {
                        "colorbar": {
                          "outlinewidth": 0,
                          "ticks": ""
                        },
                        "colorscale": [
                          [
                            0,
                            "#0d0887"
                          ],
                          [
                            0.1111111111111111,
                            "#46039f"
                          ],
                          [
                            0.2222222222222222,
                            "#7201a8"
                          ],
                          [
                            0.3333333333333333,
                            "#9c179e"
                          ],
                          [
                            0.4444444444444444,
                            "#bd3786"
                          ],
                          [
                            0.5555555555555556,
                            "#d8576b"
                          ],
                          [
                            0.6666666666666666,
                            "#ed7953"
                          ],
                          [
                            0.7777777777777778,
                            "#fb9f3a"
                          ],
                          [
                            0.8888888888888888,
                            "#fdca26"
                          ],
                          [
                            1,
                            "#f0f921"
                          ]
                        ],
                        "type": "heatmap"
                      }
                    ],
                    "histogram": [
                      {
                        "marker": {
                          "pattern": {
                            "fillmode": "overlay",
                            "size": 10,
                            "solidity": 0.2
                          }
                        },
                        "type": "histogram"
                      }
                    ],
                    "histogram2d": [
                      {
                        "colorbar": {
                          "outlinewidth": 0,
                          "ticks": ""
                        },
                        "colorscale": [
                          [
                            0,
                            "#0d0887"
                          ],
                          [
                            0.1111111111111111,
                            "#46039f"
                          ],
                          [
                            0.2222222222222222,
                            "#7201a8"
                          ],
                          [
                            0.3333333333333333,
                            "#9c179e"
                          ],
                          [
                            0.4444444444444444,
                            "#bd3786"
                          ],
                          [
                            0.5555555555555556,
                            "#d8576b"
                          ],
                          [
                            0.6666666666666666,
                            "#ed7953"
                          ],
                          [
                            0.7777777777777778,
                            "#fb9f3a"
                          ],
                          [
                            0.8888888888888888,
                            "#fdca26"
                          ],
                          [
                            1,
                            "#f0f921"
                          ]
                        ],
                        "type": "histogram2d"
                      }
                    ],
                    "histogram2dcontour": [
                      {
                        "colorbar": {
                          "outlinewidth": 0,
                          "ticks": ""
                        },
                        "colorscale": [
                          [
                            0,
                            "#0d0887"
                          ],
                          [
                            0.1111111111111111,
                            "#46039f"
                          ],
                          [
                            0.2222222222222222,
                            "#7201a8"
                          ],
                          [
                            0.3333333333333333,
                            "#9c179e"
                          ],
                          [
                            0.4444444444444444,
                            "#bd3786"
                          ],
                          [
                            0.5555555555555556,
                            "#d8576b"
                          ],
                          [
                            0.6666666666666666,
                            "#ed7953"
                          ],
                          [
                            0.7777777777777778,
                            "#fb9f3a"
                          ],
                          [
                            0.8888888888888888,
                            "#fdca26"
                          ],
                          [
                            1,
                            "#f0f921"
                          ]
                        ],
                        "type": "histogram2dcontour"
                      }
                    ],
                    "mesh3d": [
                      {
                        "colorbar": {
                          "outlinewidth": 0,
                          "ticks": ""
                        },
                        "type": "mesh3d"
                      }
                    ],
                    "parcoords": [
                      {
                        "line": {
                          "colorbar": {
                            "outlinewidth": 0,
                            "ticks": ""
                          }
                        },
                        "type": "parcoords"
                      }
                    ],
                    "pie": [
                      {
                        "automargin": true,
                        "type": "pie"
                      }
                    ],
                    "scatter": [
                      {
                        "fillpattern": {
                          "fillmode": "overlay",
                          "size": 10,
                          "solidity": 0.2
                        },
                        "type": "scatter"
                      }
                    ],
                    "scatter3d": [
                      {
                        "line": {
                          "colorbar": {
                            "outlinewidth": 0,
                            "ticks": ""
                          }
                        },
                        "marker": {
                          "colorbar": {
                            "outlinewidth": 0,
                            "ticks": ""
                          }
                        },
                        "type": "scatter3d"
                      }
                    ],
                    "scattercarpet": [
                      {
                        "marker": {
                          "colorbar": {
                            "outlinewidth": 0,
                            "ticks": ""
                          }
                        },
                        "type": "scattercarpet"
                      }
                    ],
                    "scattergeo": [
                      {
                        "marker": {
                          "colorbar": {
                            "outlinewidth": 0,
                            "ticks": ""
                          }
                        },
                        "type": "scattergeo"
                      }
                    ],
                    "scattergl": [
                      {
                        "marker": {
                          "colorbar": {
                            "outlinewidth": 0,
                            "ticks": ""
                          }
                        },
                        "type": "scattergl"
                      }
                    ],
                    "scattermap": [
                      {
                        "marker": {
                          "colorbar": {
                            "outlinewidth": 0,
                            "ticks": ""
                          }
                        },
                        "type": "scattermap"
                      }
                    ],
                    "scattermapbox": [
                      {
                        "marker": {
                          "colorbar": {
                            "outlinewidth": 0,
                            "ticks": ""
                          }
                        },
                        "type": "scattermapbox"
                      }
                    ],
                    "scatterpolar": [
                      {
                        "marker": {
                          "colorbar": {
                            "outlinewidth": 0,
                            "ticks": ""
                          }
                        },
                        "type": "scatterpolar"
                      }
                    ],
                    "scatterpolargl": [
                      {
                        "marker": {
                          "colorbar": {
                            "outlinewidth": 0,
                            "ticks": ""
                          }
                        },
                        "type": "scatterpolargl"
                      }
                    ],
                    "scatterternary": [
                      {
                        "marker": {
                          "colorbar": {
                            "outlinewidth": 0,
                            "ticks": ""
                          }
                        },
                        "type": "scatterternary"
                      }
                    ],
                    "surface": [
                      {
                        "colorbar": {
                          "outlinewidth": 0,
                          "ticks": ""
                        },
                        "colorscale": [
                          [
                            0,
                            "#0d0887"
                          ],
                          [
                            0.1111111111111111,
                            "#46039f"
                          ],
                          [
                            0.2222222222222222,
                            "#7201a8"
                          ],
                          [
                            0.3333333333333333,
                            "#9c179e"
                          ],
                          [
                            0.4444444444444444,
                            "#bd3786"
                          ],
                          [
                            0.5555555555555556,
                            "#d8576b"
                          ],
                          [
                            0.6666666666666666,
                            "#ed7953"
                          ],
                          [
                            0.7777777777777778,
                            "#fb9f3a"
                          ],
                          [
                            0.8888888888888888,
                            "#fdca26"
                          ],
                          [
                            1,
                            "#f0f921"
                          ]
                        ],
                        "type": "surface"
                      }
                    ],
                    "table": [
                      {
                        "cells": {
                          "fill": {
                            "color": "#EBF0F8"
                          },
                          "line": {
                            "color": "white"
                          }
                        },
                        "header": {
                          "fill": {
                            "color": "#C8D4E3"
                          },
                          "line": {
                            "color": "white"
                          }
                        },
                        "type": "table"
                      }
                    ]
                  },
                  "layout": {
                    "annotationdefaults": {
                      "arrowcolor": "#2a3f5f",
                      "arrowhead": 0,
                      "arrowwidth": 1
                    },
                    "autotypenumbers": "strict",
                    "coloraxis": {
                      "colorbar": {
                        "outlinewidth": 0,
                        "ticks": ""
                      }
                    },
                    "colorscale": {
                      "diverging": [
                        [
                          0,
                          "#8e0152"
                        ],
                        [
                          0.1,
                          "#c51b7d"
                        ],
                        [
                          0.2,
                          "#de77ae"
                        ],
                        [
                          0.3,
                          "#f1b6da"
                        ],
                        [
                          0.4,
                          "#fde0ef"
                        ],
                        [
                          0.5,
                          "#f7f7f7"
                        ],
                        [
                          0.6,
                          "#e6f5d0"
                        ],
                        [
                          0.7,
                          "#b8e186"
                        ],
                        [
                          0.8,
                          "#7fbc41"
                        ],
                        [
                          0.9,
                          "#4d9221"
                        ],
                        [
                          1,
                          "#276419"
                        ]
                      ],
                      "sequential": [
                        [
                          0,
                          "#0d0887"
                        ],
                        [
                          0.1111111111111111,
                          "#46039f"
                        ],
                        [
                          0.2222222222222222,
                          "#7201a8"
                        ],
                        [
                          0.3333333333333333,
                          "#9c179e"
                        ],
                        [
                          0.4444444444444444,
                          "#bd3786"
                        ],
                        [
                          0.5555555555555556,
                          "#d8576b"
                        ],
                        [
                          0.6666666666666666,
                          "#ed7953"
                        ],
                        [
                          0.7777777777777778,
                          "#fb9f3a"
                        ],
                        [
                          0.8888888888888888,
                          "#fdca26"
                        ],
                        [
                          1,
                          "#f0f921"
                        ]
                      ],
                      "sequentialminus": [
                        [
                          0,
                          "#0d0887"
                        ],
                        [
                          0.1111111111111111,
                          "#46039f"
                        ],
                        [
                          0.2222222222222222,
                          "#7201a8"
                        ],
                        [
                          0.3333333333333333,
                          "#9c179e"
                        ],
                        [
                          0.4444444444444444,
                          "#bd3786"
                        ],
                        [
                          0.5555555555555556,
                          "#d8576b"
                        ],
                        [
                          0.6666666666666666,
                          "#ed7953"
                        ],
                        [
                          0.7777777777777778,
                          "#fb9f3a"
                        ],
                        [
                          0.8888888888888888,
                          "#fdca26"
                        ],
                        [
                          1,
                          "#f0f921"
                        ]
                      ]
                    },
                    "colorway": [
                      "#636efa",
                      "#EF553B",
                      "#00cc96",
                      "#ab63fa",
                      "#FFA15A",
                      "#19d3f3",
                      "#FF6692",
                      "#B6E880",
                      "#FF97FF",
                      "#FECB52"
                    ],
                    "font": {
                      "color": "#2a3f5f"
                    },
                    "geo": {
                      "bgcolor": "white",
                      "lakecolor": "white",
                      "landcolor": "#E5ECF6",
                      "showlakes": true,
                      "showland": true,
                      "subunitcolor": "white"
                    },
                    "hoverlabel": {
                      "align": "left"
                    },
                    "hovermode": "closest",
                    "mapbox": {
                      "style": "light"
                    },
                    "paper_bgcolor": "white",
                    "plot_bgcolor": "#E5ECF6",
                    "polar": {
                      "angularaxis": {
                        "gridcolor": "white",
                        "linecolor": "white",
                        "ticks": ""
                      },
                      "bgcolor": "#E5ECF6",
                      "radialaxis": {
                        "gridcolor": "white",
                        "linecolor": "white",
                        "ticks": ""
                      }
                    },
                    "scene": {
                      "xaxis": {
                        "backgroundcolor": "#E5ECF6",
                        "gridcolor": "white",
                        "gridwidth": 2,
                        "linecolor": "white",
                        "showbackground": true,
                        "ticks": "",
                        "zerolinecolor": "white"
                      },
                      "yaxis": {
                        "backgroundcolor": "#E5ECF6",
                        "gridcolor": "white",
                        "gridwidth": 2,
                        "linecolor": "white",
                        "showbackground": true,
                        "ticks": "",
                        "zerolinecolor": "white"
                      },
                      "zaxis": {
                        "backgroundcolor": "#E5ECF6",
                        "gridcolor": "white",
                        "gridwidth": 2,
                        "linecolor": "white",
                        "showbackground": true,
                        "ticks": "",
                        "zerolinecolor": "white"
                      }
                    },
                    "shapedefaults": {
                      "line": {
                        "color": "#2a3f5f"
                      }
                    },
                    "ternary": {
                      "aaxis": {
                        "gridcolor": "white",
                        "linecolor": "white",
                        "ticks": ""
                      },
                      "baxis": {
                        "gridcolor": "white",
                        "linecolor": "white",
                        "ticks": ""
                      },
                      "bgcolor": "#E5ECF6",
                      "caxis": {
                        "gridcolor": "white",
                        "linecolor": "white",
                        "ticks": ""
                      }
                    },
                    "title": {
                      "x": 0.05
                    },
                    "xaxis": {
                      "automargin": true,
                      "gridcolor": "white",
                      "linecolor": "white",
                      "ticks": "",
                      "title": {
                        "standoff": 15
                      },
                      "zerolinecolor": "white",
                      "zerolinewidth": 2
                    },
                    "yaxis": {
                      "automargin": true,
                      "gridcolor": "white",
                      "linecolor": "white",
                      "ticks": "",
                      "title": {
                        "standoff": 15
                      },
                      "zerolinecolor": "white",
                      "zerolinewidth": 2
                    }
                  }
                },
                "title": {
                  "text": "Distribución de Churn por Partner"
                },
                "xaxis": {
                  "anchor": "y",
                  "domain": [
                    0,
                    1
                  ],
                  "tickvals": [
                    1,
                    2,
                    3,
                    4,
                    5,
                    6
                  ],
                  "title": {
                    "text": "Partner"
                  }
                },
                "yaxis": {
                  "anchor": "x",
                  "domain": [
                    0,
                    1
                  ],
                  "title": {
                    "text": "Cantidad de Empleados"
                  }
                }
              }
            }
          },
          "metadata": {},
          "output_type": "display_data"
        }
      ],
      "source": [
        "# Pareja\n",
        "fnc.vovsenc(df, 'Partner', 'Count', 'Churn')"
      ]
    },
    {
      "cell_type": "markdown",
      "metadata": {},
      "source": [
        "- Los clientes que no tienen pareja muestran una mayor proporción de deserción."
      ]
    },
    {
      "cell_type": "code",
      "execution_count": 15,
      "metadata": {},
      "outputs": [
        {
          "data": {
            "application/vnd.plotly.v1+json": {
              "config": {
                "plotlyServerURL": "https://plot.ly"
              },
              "data": [
                {
                  "hovertemplate": "Churn=No<br>Dependents=%{x}<br>Cantidad de Empleados=%{y}<extra></extra>",
                  "legendgroup": "No",
                  "marker": {
                    "color": "#636efa",
                    "pattern": {
                      "shape": ""
                    }
                  },
                  "name": "No",
                  "orientation": "v",
                  "showlegend": true,
                  "textposition": "auto",
                  "type": "bar",
                  "x": [
                    "No",
                    "Yes"
                  ],
                  "xaxis": "x",
                  "y": {
                    "bdata": "Pg3tBg==",
                    "dtype": "i2"
                  },
                  "yaxis": "y"
                },
                {
                  "hovertemplate": "Churn=Yes<br>Dependents=%{x}<br>Cantidad de Empleados=%{y}<extra></extra>",
                  "legendgroup": "Yes",
                  "marker": {
                    "color": "#EF553B",
                    "pattern": {
                      "shape": ""
                    }
                  },
                  "name": "Yes",
                  "orientation": "v",
                  "showlegend": true,
                  "textposition": "auto",
                  "type": "bar",
                  "x": [
                    "No",
                    "Yes"
                  ],
                  "xaxis": "x",
                  "y": {
                    "bdata": "BwZGAQ==",
                    "dtype": "i2"
                  },
                  "yaxis": "y"
                }
              ],
              "layout": {
                "barmode": "relative",
                "legend": {
                  "title": {
                    "text": "Churn"
                  },
                  "tracegroupgap": 0
                },
                "template": {
                  "data": {
                    "bar": [
                      {
                        "error_x": {
                          "color": "#2a3f5f"
                        },
                        "error_y": {
                          "color": "#2a3f5f"
                        },
                        "marker": {
                          "line": {
                            "color": "#E5ECF6",
                            "width": 0.5
                          },
                          "pattern": {
                            "fillmode": "overlay",
                            "size": 10,
                            "solidity": 0.2
                          }
                        },
                        "type": "bar"
                      }
                    ],
                    "barpolar": [
                      {
                        "marker": {
                          "line": {
                            "color": "#E5ECF6",
                            "width": 0.5
                          },
                          "pattern": {
                            "fillmode": "overlay",
                            "size": 10,
                            "solidity": 0.2
                          }
                        },
                        "type": "barpolar"
                      }
                    ],
                    "carpet": [
                      {
                        "aaxis": {
                          "endlinecolor": "#2a3f5f",
                          "gridcolor": "white",
                          "linecolor": "white",
                          "minorgridcolor": "white",
                          "startlinecolor": "#2a3f5f"
                        },
                        "baxis": {
                          "endlinecolor": "#2a3f5f",
                          "gridcolor": "white",
                          "linecolor": "white",
                          "minorgridcolor": "white",
                          "startlinecolor": "#2a3f5f"
                        },
                        "type": "carpet"
                      }
                    ],
                    "choropleth": [
                      {
                        "colorbar": {
                          "outlinewidth": 0,
                          "ticks": ""
                        },
                        "type": "choropleth"
                      }
                    ],
                    "contour": [
                      {
                        "colorbar": {
                          "outlinewidth": 0,
                          "ticks": ""
                        },
                        "colorscale": [
                          [
                            0,
                            "#0d0887"
                          ],
                          [
                            0.1111111111111111,
                            "#46039f"
                          ],
                          [
                            0.2222222222222222,
                            "#7201a8"
                          ],
                          [
                            0.3333333333333333,
                            "#9c179e"
                          ],
                          [
                            0.4444444444444444,
                            "#bd3786"
                          ],
                          [
                            0.5555555555555556,
                            "#d8576b"
                          ],
                          [
                            0.6666666666666666,
                            "#ed7953"
                          ],
                          [
                            0.7777777777777778,
                            "#fb9f3a"
                          ],
                          [
                            0.8888888888888888,
                            "#fdca26"
                          ],
                          [
                            1,
                            "#f0f921"
                          ]
                        ],
                        "type": "contour"
                      }
                    ],
                    "contourcarpet": [
                      {
                        "colorbar": {
                          "outlinewidth": 0,
                          "ticks": ""
                        },
                        "type": "contourcarpet"
                      }
                    ],
                    "heatmap": [
                      {
                        "colorbar": {
                          "outlinewidth": 0,
                          "ticks": ""
                        },
                        "colorscale": [
                          [
                            0,
                            "#0d0887"
                          ],
                          [
                            0.1111111111111111,
                            "#46039f"
                          ],
                          [
                            0.2222222222222222,
                            "#7201a8"
                          ],
                          [
                            0.3333333333333333,
                            "#9c179e"
                          ],
                          [
                            0.4444444444444444,
                            "#bd3786"
                          ],
                          [
                            0.5555555555555556,
                            "#d8576b"
                          ],
                          [
                            0.6666666666666666,
                            "#ed7953"
                          ],
                          [
                            0.7777777777777778,
                            "#fb9f3a"
                          ],
                          [
                            0.8888888888888888,
                            "#fdca26"
                          ],
                          [
                            1,
                            "#f0f921"
                          ]
                        ],
                        "type": "heatmap"
                      }
                    ],
                    "histogram": [
                      {
                        "marker": {
                          "pattern": {
                            "fillmode": "overlay",
                            "size": 10,
                            "solidity": 0.2
                          }
                        },
                        "type": "histogram"
                      }
                    ],
                    "histogram2d": [
                      {
                        "colorbar": {
                          "outlinewidth": 0,
                          "ticks": ""
                        },
                        "colorscale": [
                          [
                            0,
                            "#0d0887"
                          ],
                          [
                            0.1111111111111111,
                            "#46039f"
                          ],
                          [
                            0.2222222222222222,
                            "#7201a8"
                          ],
                          [
                            0.3333333333333333,
                            "#9c179e"
                          ],
                          [
                            0.4444444444444444,
                            "#bd3786"
                          ],
                          [
                            0.5555555555555556,
                            "#d8576b"
                          ],
                          [
                            0.6666666666666666,
                            "#ed7953"
                          ],
                          [
                            0.7777777777777778,
                            "#fb9f3a"
                          ],
                          [
                            0.8888888888888888,
                            "#fdca26"
                          ],
                          [
                            1,
                            "#f0f921"
                          ]
                        ],
                        "type": "histogram2d"
                      }
                    ],
                    "histogram2dcontour": [
                      {
                        "colorbar": {
                          "outlinewidth": 0,
                          "ticks": ""
                        },
                        "colorscale": [
                          [
                            0,
                            "#0d0887"
                          ],
                          [
                            0.1111111111111111,
                            "#46039f"
                          ],
                          [
                            0.2222222222222222,
                            "#7201a8"
                          ],
                          [
                            0.3333333333333333,
                            "#9c179e"
                          ],
                          [
                            0.4444444444444444,
                            "#bd3786"
                          ],
                          [
                            0.5555555555555556,
                            "#d8576b"
                          ],
                          [
                            0.6666666666666666,
                            "#ed7953"
                          ],
                          [
                            0.7777777777777778,
                            "#fb9f3a"
                          ],
                          [
                            0.8888888888888888,
                            "#fdca26"
                          ],
                          [
                            1,
                            "#f0f921"
                          ]
                        ],
                        "type": "histogram2dcontour"
                      }
                    ],
                    "mesh3d": [
                      {
                        "colorbar": {
                          "outlinewidth": 0,
                          "ticks": ""
                        },
                        "type": "mesh3d"
                      }
                    ],
                    "parcoords": [
                      {
                        "line": {
                          "colorbar": {
                            "outlinewidth": 0,
                            "ticks": ""
                          }
                        },
                        "type": "parcoords"
                      }
                    ],
                    "pie": [
                      {
                        "automargin": true,
                        "type": "pie"
                      }
                    ],
                    "scatter": [
                      {
                        "fillpattern": {
                          "fillmode": "overlay",
                          "size": 10,
                          "solidity": 0.2
                        },
                        "type": "scatter"
                      }
                    ],
                    "scatter3d": [
                      {
                        "line": {
                          "colorbar": {
                            "outlinewidth": 0,
                            "ticks": ""
                          }
                        },
                        "marker": {
                          "colorbar": {
                            "outlinewidth": 0,
                            "ticks": ""
                          }
                        },
                        "type": "scatter3d"
                      }
                    ],
                    "scattercarpet": [
                      {
                        "marker": {
                          "colorbar": {
                            "outlinewidth": 0,
                            "ticks": ""
                          }
                        },
                        "type": "scattercarpet"
                      }
                    ],
                    "scattergeo": [
                      {
                        "marker": {
                          "colorbar": {
                            "outlinewidth": 0,
                            "ticks": ""
                          }
                        },
                        "type": "scattergeo"
                      }
                    ],
                    "scattergl": [
                      {
                        "marker": {
                          "colorbar": {
                            "outlinewidth": 0,
                            "ticks": ""
                          }
                        },
                        "type": "scattergl"
                      }
                    ],
                    "scattermap": [
                      {
                        "marker": {
                          "colorbar": {
                            "outlinewidth": 0,
                            "ticks": ""
                          }
                        },
                        "type": "scattermap"
                      }
                    ],
                    "scattermapbox": [
                      {
                        "marker": {
                          "colorbar": {
                            "outlinewidth": 0,
                            "ticks": ""
                          }
                        },
                        "type": "scattermapbox"
                      }
                    ],
                    "scatterpolar": [
                      {
                        "marker": {
                          "colorbar": {
                            "outlinewidth": 0,
                            "ticks": ""
                          }
                        },
                        "type": "scatterpolar"
                      }
                    ],
                    "scatterpolargl": [
                      {
                        "marker": {
                          "colorbar": {
                            "outlinewidth": 0,
                            "ticks": ""
                          }
                        },
                        "type": "scatterpolargl"
                      }
                    ],
                    "scatterternary": [
                      {
                        "marker": {
                          "colorbar": {
                            "outlinewidth": 0,
                            "ticks": ""
                          }
                        },
                        "type": "scatterternary"
                      }
                    ],
                    "surface": [
                      {
                        "colorbar": {
                          "outlinewidth": 0,
                          "ticks": ""
                        },
                        "colorscale": [
                          [
                            0,
                            "#0d0887"
                          ],
                          [
                            0.1111111111111111,
                            "#46039f"
                          ],
                          [
                            0.2222222222222222,
                            "#7201a8"
                          ],
                          [
                            0.3333333333333333,
                            "#9c179e"
                          ],
                          [
                            0.4444444444444444,
                            "#bd3786"
                          ],
                          [
                            0.5555555555555556,
                            "#d8576b"
                          ],
                          [
                            0.6666666666666666,
                            "#ed7953"
                          ],
                          [
                            0.7777777777777778,
                            "#fb9f3a"
                          ],
                          [
                            0.8888888888888888,
                            "#fdca26"
                          ],
                          [
                            1,
                            "#f0f921"
                          ]
                        ],
                        "type": "surface"
                      }
                    ],
                    "table": [
                      {
                        "cells": {
                          "fill": {
                            "color": "#EBF0F8"
                          },
                          "line": {
                            "color": "white"
                          }
                        },
                        "header": {
                          "fill": {
                            "color": "#C8D4E3"
                          },
                          "line": {
                            "color": "white"
                          }
                        },
                        "type": "table"
                      }
                    ]
                  },
                  "layout": {
                    "annotationdefaults": {
                      "arrowcolor": "#2a3f5f",
                      "arrowhead": 0,
                      "arrowwidth": 1
                    },
                    "autotypenumbers": "strict",
                    "coloraxis": {
                      "colorbar": {
                        "outlinewidth": 0,
                        "ticks": ""
                      }
                    },
                    "colorscale": {
                      "diverging": [
                        [
                          0,
                          "#8e0152"
                        ],
                        [
                          0.1,
                          "#c51b7d"
                        ],
                        [
                          0.2,
                          "#de77ae"
                        ],
                        [
                          0.3,
                          "#f1b6da"
                        ],
                        [
                          0.4,
                          "#fde0ef"
                        ],
                        [
                          0.5,
                          "#f7f7f7"
                        ],
                        [
                          0.6,
                          "#e6f5d0"
                        ],
                        [
                          0.7,
                          "#b8e186"
                        ],
                        [
                          0.8,
                          "#7fbc41"
                        ],
                        [
                          0.9,
                          "#4d9221"
                        ],
                        [
                          1,
                          "#276419"
                        ]
                      ],
                      "sequential": [
                        [
                          0,
                          "#0d0887"
                        ],
                        [
                          0.1111111111111111,
                          "#46039f"
                        ],
                        [
                          0.2222222222222222,
                          "#7201a8"
                        ],
                        [
                          0.3333333333333333,
                          "#9c179e"
                        ],
                        [
                          0.4444444444444444,
                          "#bd3786"
                        ],
                        [
                          0.5555555555555556,
                          "#d8576b"
                        ],
                        [
                          0.6666666666666666,
                          "#ed7953"
                        ],
                        [
                          0.7777777777777778,
                          "#fb9f3a"
                        ],
                        [
                          0.8888888888888888,
                          "#fdca26"
                        ],
                        [
                          1,
                          "#f0f921"
                        ]
                      ],
                      "sequentialminus": [
                        [
                          0,
                          "#0d0887"
                        ],
                        [
                          0.1111111111111111,
                          "#46039f"
                        ],
                        [
                          0.2222222222222222,
                          "#7201a8"
                        ],
                        [
                          0.3333333333333333,
                          "#9c179e"
                        ],
                        [
                          0.4444444444444444,
                          "#bd3786"
                        ],
                        [
                          0.5555555555555556,
                          "#d8576b"
                        ],
                        [
                          0.6666666666666666,
                          "#ed7953"
                        ],
                        [
                          0.7777777777777778,
                          "#fb9f3a"
                        ],
                        [
                          0.8888888888888888,
                          "#fdca26"
                        ],
                        [
                          1,
                          "#f0f921"
                        ]
                      ]
                    },
                    "colorway": [
                      "#636efa",
                      "#EF553B",
                      "#00cc96",
                      "#ab63fa",
                      "#FFA15A",
                      "#19d3f3",
                      "#FF6692",
                      "#B6E880",
                      "#FF97FF",
                      "#FECB52"
                    ],
                    "font": {
                      "color": "#2a3f5f"
                    },
                    "geo": {
                      "bgcolor": "white",
                      "lakecolor": "white",
                      "landcolor": "#E5ECF6",
                      "showlakes": true,
                      "showland": true,
                      "subunitcolor": "white"
                    },
                    "hoverlabel": {
                      "align": "left"
                    },
                    "hovermode": "closest",
                    "mapbox": {
                      "style": "light"
                    },
                    "paper_bgcolor": "white",
                    "plot_bgcolor": "#E5ECF6",
                    "polar": {
                      "angularaxis": {
                        "gridcolor": "white",
                        "linecolor": "white",
                        "ticks": ""
                      },
                      "bgcolor": "#E5ECF6",
                      "radialaxis": {
                        "gridcolor": "white",
                        "linecolor": "white",
                        "ticks": ""
                      }
                    },
                    "scene": {
                      "xaxis": {
                        "backgroundcolor": "#E5ECF6",
                        "gridcolor": "white",
                        "gridwidth": 2,
                        "linecolor": "white",
                        "showbackground": true,
                        "ticks": "",
                        "zerolinecolor": "white"
                      },
                      "yaxis": {
                        "backgroundcolor": "#E5ECF6",
                        "gridcolor": "white",
                        "gridwidth": 2,
                        "linecolor": "white",
                        "showbackground": true,
                        "ticks": "",
                        "zerolinecolor": "white"
                      },
                      "zaxis": {
                        "backgroundcolor": "#E5ECF6",
                        "gridcolor": "white",
                        "gridwidth": 2,
                        "linecolor": "white",
                        "showbackground": true,
                        "ticks": "",
                        "zerolinecolor": "white"
                      }
                    },
                    "shapedefaults": {
                      "line": {
                        "color": "#2a3f5f"
                      }
                    },
                    "ternary": {
                      "aaxis": {
                        "gridcolor": "white",
                        "linecolor": "white",
                        "ticks": ""
                      },
                      "baxis": {
                        "gridcolor": "white",
                        "linecolor": "white",
                        "ticks": ""
                      },
                      "bgcolor": "#E5ECF6",
                      "caxis": {
                        "gridcolor": "white",
                        "linecolor": "white",
                        "ticks": ""
                      }
                    },
                    "title": {
                      "x": 0.05
                    },
                    "xaxis": {
                      "automargin": true,
                      "gridcolor": "white",
                      "linecolor": "white",
                      "ticks": "",
                      "title": {
                        "standoff": 15
                      },
                      "zerolinecolor": "white",
                      "zerolinewidth": 2
                    },
                    "yaxis": {
                      "automargin": true,
                      "gridcolor": "white",
                      "linecolor": "white",
                      "ticks": "",
                      "title": {
                        "standoff": 15
                      },
                      "zerolinecolor": "white",
                      "zerolinewidth": 2
                    }
                  }
                },
                "title": {
                  "text": "Distribución de Churn por Dependents"
                },
                "xaxis": {
                  "anchor": "y",
                  "domain": [
                    0,
                    1
                  ],
                  "tickvals": [
                    1,
                    2,
                    3,
                    4,
                    5,
                    6
                  ],
                  "title": {
                    "text": "Dependents"
                  }
                },
                "yaxis": {
                  "anchor": "x",
                  "domain": [
                    0,
                    1
                  ],
                  "title": {
                    "text": "Cantidad de Empleados"
                  }
                }
              }
            }
          },
          "metadata": {},
          "output_type": "display_data"
        }
      ],
      "source": [
        "# Personas dependientes\n",
        "fnc.vovsenc(df, 'Dependents', 'Count', 'Churn')"
      ]
    },
    {
      "cell_type": "markdown",
      "metadata": {},
      "source": [
        "- Los clientes que no son dependientes son más propensos a cancelar el servicio."
      ]
    },
    {
      "cell_type": "code",
      "execution_count": 16,
      "metadata": {},
      "outputs": [
        {
          "data": {
            "application/vnd.plotly.v1+json": {
              "config": {
                "plotlyServerURL": "https://plot.ly"
              },
              "data": [
                {
                  "hovertemplate": "Churn=Yes<br>Cantidad de Empleados=%{x}<br>Contract=%{y}<extra></extra>",
                  "legendgroup": "Yes",
                  "marker": {
                    "color": "#ab63fa",
                    "pattern": {
                      "shape": ""
                    }
                  },
                  "name": "Yes",
                  "orientation": "h",
                  "showlegend": true,
                  "textposition": "auto",
                  "type": "bar",
                  "x": {
                    "bdata": "MACmAHcG",
                    "dtype": "i2"
                  },
                  "xaxis": "x",
                  "y": [
                    "Two year",
                    "One year",
                    "Month-to-month"
                  ],
                  "yaxis": "y"
                },
                {
                  "hovertemplate": "Churn=No<br>Cantidad de Empleados=%{x}<br>Contract=%{y}<extra></extra>",
                  "legendgroup": "No",
                  "marker": {
                    "color": "#FFA15A",
                    "pattern": {
                      "shape": ""
                    }
                  },
                  "name": "No",
                  "orientation": "h",
                  "showlegend": true,
                  "textposition": "auto",
                  "type": "bar",
                  "x": {
                    "bdata": "GgVlBqwI",
                    "dtype": "i2"
                  },
                  "xaxis": "x",
                  "y": [
                    "One year",
                    "Two year",
                    "Month-to-month"
                  ],
                  "yaxis": "y"
                }
              ],
              "layout": {
                "barmode": "relative",
                "legend": {
                  "title": {
                    "text": "Churn"
                  },
                  "tracegroupgap": 0
                },
                "template": {
                  "data": {
                    "bar": [
                      {
                        "error_x": {
                          "color": "#2a3f5f"
                        },
                        "error_y": {
                          "color": "#2a3f5f"
                        },
                        "marker": {
                          "line": {
                            "color": "#E5ECF6",
                            "width": 0.5
                          },
                          "pattern": {
                            "fillmode": "overlay",
                            "size": 10,
                            "solidity": 0.2
                          }
                        },
                        "type": "bar"
                      }
                    ],
                    "barpolar": [
                      {
                        "marker": {
                          "line": {
                            "color": "#E5ECF6",
                            "width": 0.5
                          },
                          "pattern": {
                            "fillmode": "overlay",
                            "size": 10,
                            "solidity": 0.2
                          }
                        },
                        "type": "barpolar"
                      }
                    ],
                    "carpet": [
                      {
                        "aaxis": {
                          "endlinecolor": "#2a3f5f",
                          "gridcolor": "white",
                          "linecolor": "white",
                          "minorgridcolor": "white",
                          "startlinecolor": "#2a3f5f"
                        },
                        "baxis": {
                          "endlinecolor": "#2a3f5f",
                          "gridcolor": "white",
                          "linecolor": "white",
                          "minorgridcolor": "white",
                          "startlinecolor": "#2a3f5f"
                        },
                        "type": "carpet"
                      }
                    ],
                    "choropleth": [
                      {
                        "colorbar": {
                          "outlinewidth": 0,
                          "ticks": ""
                        },
                        "type": "choropleth"
                      }
                    ],
                    "contour": [
                      {
                        "colorbar": {
                          "outlinewidth": 0,
                          "ticks": ""
                        },
                        "colorscale": [
                          [
                            0,
                            "#0d0887"
                          ],
                          [
                            0.1111111111111111,
                            "#46039f"
                          ],
                          [
                            0.2222222222222222,
                            "#7201a8"
                          ],
                          [
                            0.3333333333333333,
                            "#9c179e"
                          ],
                          [
                            0.4444444444444444,
                            "#bd3786"
                          ],
                          [
                            0.5555555555555556,
                            "#d8576b"
                          ],
                          [
                            0.6666666666666666,
                            "#ed7953"
                          ],
                          [
                            0.7777777777777778,
                            "#fb9f3a"
                          ],
                          [
                            0.8888888888888888,
                            "#fdca26"
                          ],
                          [
                            1,
                            "#f0f921"
                          ]
                        ],
                        "type": "contour"
                      }
                    ],
                    "contourcarpet": [
                      {
                        "colorbar": {
                          "outlinewidth": 0,
                          "ticks": ""
                        },
                        "type": "contourcarpet"
                      }
                    ],
                    "heatmap": [
                      {
                        "colorbar": {
                          "outlinewidth": 0,
                          "ticks": ""
                        },
                        "colorscale": [
                          [
                            0,
                            "#0d0887"
                          ],
                          [
                            0.1111111111111111,
                            "#46039f"
                          ],
                          [
                            0.2222222222222222,
                            "#7201a8"
                          ],
                          [
                            0.3333333333333333,
                            "#9c179e"
                          ],
                          [
                            0.4444444444444444,
                            "#bd3786"
                          ],
                          [
                            0.5555555555555556,
                            "#d8576b"
                          ],
                          [
                            0.6666666666666666,
                            "#ed7953"
                          ],
                          [
                            0.7777777777777778,
                            "#fb9f3a"
                          ],
                          [
                            0.8888888888888888,
                            "#fdca26"
                          ],
                          [
                            1,
                            "#f0f921"
                          ]
                        ],
                        "type": "heatmap"
                      }
                    ],
                    "histogram": [
                      {
                        "marker": {
                          "pattern": {
                            "fillmode": "overlay",
                            "size": 10,
                            "solidity": 0.2
                          }
                        },
                        "type": "histogram"
                      }
                    ],
                    "histogram2d": [
                      {
                        "colorbar": {
                          "outlinewidth": 0,
                          "ticks": ""
                        },
                        "colorscale": [
                          [
                            0,
                            "#0d0887"
                          ],
                          [
                            0.1111111111111111,
                            "#46039f"
                          ],
                          [
                            0.2222222222222222,
                            "#7201a8"
                          ],
                          [
                            0.3333333333333333,
                            "#9c179e"
                          ],
                          [
                            0.4444444444444444,
                            "#bd3786"
                          ],
                          [
                            0.5555555555555556,
                            "#d8576b"
                          ],
                          [
                            0.6666666666666666,
                            "#ed7953"
                          ],
                          [
                            0.7777777777777778,
                            "#fb9f3a"
                          ],
                          [
                            0.8888888888888888,
                            "#fdca26"
                          ],
                          [
                            1,
                            "#f0f921"
                          ]
                        ],
                        "type": "histogram2d"
                      }
                    ],
                    "histogram2dcontour": [
                      {
                        "colorbar": {
                          "outlinewidth": 0,
                          "ticks": ""
                        },
                        "colorscale": [
                          [
                            0,
                            "#0d0887"
                          ],
                          [
                            0.1111111111111111,
                            "#46039f"
                          ],
                          [
                            0.2222222222222222,
                            "#7201a8"
                          ],
                          [
                            0.3333333333333333,
                            "#9c179e"
                          ],
                          [
                            0.4444444444444444,
                            "#bd3786"
                          ],
                          [
                            0.5555555555555556,
                            "#d8576b"
                          ],
                          [
                            0.6666666666666666,
                            "#ed7953"
                          ],
                          [
                            0.7777777777777778,
                            "#fb9f3a"
                          ],
                          [
                            0.8888888888888888,
                            "#fdca26"
                          ],
                          [
                            1,
                            "#f0f921"
                          ]
                        ],
                        "type": "histogram2dcontour"
                      }
                    ],
                    "mesh3d": [
                      {
                        "colorbar": {
                          "outlinewidth": 0,
                          "ticks": ""
                        },
                        "type": "mesh3d"
                      }
                    ],
                    "parcoords": [
                      {
                        "line": {
                          "colorbar": {
                            "outlinewidth": 0,
                            "ticks": ""
                          }
                        },
                        "type": "parcoords"
                      }
                    ],
                    "pie": [
                      {
                        "automargin": true,
                        "type": "pie"
                      }
                    ],
                    "scatter": [
                      {
                        "fillpattern": {
                          "fillmode": "overlay",
                          "size": 10,
                          "solidity": 0.2
                        },
                        "type": "scatter"
                      }
                    ],
                    "scatter3d": [
                      {
                        "line": {
                          "colorbar": {
                            "outlinewidth": 0,
                            "ticks": ""
                          }
                        },
                        "marker": {
                          "colorbar": {
                            "outlinewidth": 0,
                            "ticks": ""
                          }
                        },
                        "type": "scatter3d"
                      }
                    ],
                    "scattercarpet": [
                      {
                        "marker": {
                          "colorbar": {
                            "outlinewidth": 0,
                            "ticks": ""
                          }
                        },
                        "type": "scattercarpet"
                      }
                    ],
                    "scattergeo": [
                      {
                        "marker": {
                          "colorbar": {
                            "outlinewidth": 0,
                            "ticks": ""
                          }
                        },
                        "type": "scattergeo"
                      }
                    ],
                    "scattergl": [
                      {
                        "marker": {
                          "colorbar": {
                            "outlinewidth": 0,
                            "ticks": ""
                          }
                        },
                        "type": "scattergl"
                      }
                    ],
                    "scattermap": [
                      {
                        "marker": {
                          "colorbar": {
                            "outlinewidth": 0,
                            "ticks": ""
                          }
                        },
                        "type": "scattermap"
                      }
                    ],
                    "scattermapbox": [
                      {
                        "marker": {
                          "colorbar": {
                            "outlinewidth": 0,
                            "ticks": ""
                          }
                        },
                        "type": "scattermapbox"
                      }
                    ],
                    "scatterpolar": [
                      {
                        "marker": {
                          "colorbar": {
                            "outlinewidth": 0,
                            "ticks": ""
                          }
                        },
                        "type": "scatterpolar"
                      }
                    ],
                    "scatterpolargl": [
                      {
                        "marker": {
                          "colorbar": {
                            "outlinewidth": 0,
                            "ticks": ""
                          }
                        },
                        "type": "scatterpolargl"
                      }
                    ],
                    "scatterternary": [
                      {
                        "marker": {
                          "colorbar": {
                            "outlinewidth": 0,
                            "ticks": ""
                          }
                        },
                        "type": "scatterternary"
                      }
                    ],
                    "surface": [
                      {
                        "colorbar": {
                          "outlinewidth": 0,
                          "ticks": ""
                        },
                        "colorscale": [
                          [
                            0,
                            "#0d0887"
                          ],
                          [
                            0.1111111111111111,
                            "#46039f"
                          ],
                          [
                            0.2222222222222222,
                            "#7201a8"
                          ],
                          [
                            0.3333333333333333,
                            "#9c179e"
                          ],
                          [
                            0.4444444444444444,
                            "#bd3786"
                          ],
                          [
                            0.5555555555555556,
                            "#d8576b"
                          ],
                          [
                            0.6666666666666666,
                            "#ed7953"
                          ],
                          [
                            0.7777777777777778,
                            "#fb9f3a"
                          ],
                          [
                            0.8888888888888888,
                            "#fdca26"
                          ],
                          [
                            1,
                            "#f0f921"
                          ]
                        ],
                        "type": "surface"
                      }
                    ],
                    "table": [
                      {
                        "cells": {
                          "fill": {
                            "color": "#EBF0F8"
                          },
                          "line": {
                            "color": "white"
                          }
                        },
                        "header": {
                          "fill": {
                            "color": "#C8D4E3"
                          },
                          "line": {
                            "color": "white"
                          }
                        },
                        "type": "table"
                      }
                    ]
                  },
                  "layout": {
                    "annotationdefaults": {
                      "arrowcolor": "#2a3f5f",
                      "arrowhead": 0,
                      "arrowwidth": 1
                    },
                    "autotypenumbers": "strict",
                    "coloraxis": {
                      "colorbar": {
                        "outlinewidth": 0,
                        "ticks": ""
                      }
                    },
                    "colorscale": {
                      "diverging": [
                        [
                          0,
                          "#8e0152"
                        ],
                        [
                          0.1,
                          "#c51b7d"
                        ],
                        [
                          0.2,
                          "#de77ae"
                        ],
                        [
                          0.3,
                          "#f1b6da"
                        ],
                        [
                          0.4,
                          "#fde0ef"
                        ],
                        [
                          0.5,
                          "#f7f7f7"
                        ],
                        [
                          0.6,
                          "#e6f5d0"
                        ],
                        [
                          0.7,
                          "#b8e186"
                        ],
                        [
                          0.8,
                          "#7fbc41"
                        ],
                        [
                          0.9,
                          "#4d9221"
                        ],
                        [
                          1,
                          "#276419"
                        ]
                      ],
                      "sequential": [
                        [
                          0,
                          "#0d0887"
                        ],
                        [
                          0.1111111111111111,
                          "#46039f"
                        ],
                        [
                          0.2222222222222222,
                          "#7201a8"
                        ],
                        [
                          0.3333333333333333,
                          "#9c179e"
                        ],
                        [
                          0.4444444444444444,
                          "#bd3786"
                        ],
                        [
                          0.5555555555555556,
                          "#d8576b"
                        ],
                        [
                          0.6666666666666666,
                          "#ed7953"
                        ],
                        [
                          0.7777777777777778,
                          "#fb9f3a"
                        ],
                        [
                          0.8888888888888888,
                          "#fdca26"
                        ],
                        [
                          1,
                          "#f0f921"
                        ]
                      ],
                      "sequentialminus": [
                        [
                          0,
                          "#0d0887"
                        ],
                        [
                          0.1111111111111111,
                          "#46039f"
                        ],
                        [
                          0.2222222222222222,
                          "#7201a8"
                        ],
                        [
                          0.3333333333333333,
                          "#9c179e"
                        ],
                        [
                          0.4444444444444444,
                          "#bd3786"
                        ],
                        [
                          0.5555555555555556,
                          "#d8576b"
                        ],
                        [
                          0.6666666666666666,
                          "#ed7953"
                        ],
                        [
                          0.7777777777777778,
                          "#fb9f3a"
                        ],
                        [
                          0.8888888888888888,
                          "#fdca26"
                        ],
                        [
                          1,
                          "#f0f921"
                        ]
                      ]
                    },
                    "colorway": [
                      "#636efa",
                      "#EF553B",
                      "#00cc96",
                      "#ab63fa",
                      "#FFA15A",
                      "#19d3f3",
                      "#FF6692",
                      "#B6E880",
                      "#FF97FF",
                      "#FECB52"
                    ],
                    "font": {
                      "color": "#2a3f5f"
                    },
                    "geo": {
                      "bgcolor": "white",
                      "lakecolor": "white",
                      "landcolor": "#E5ECF6",
                      "showlakes": true,
                      "showland": true,
                      "subunitcolor": "white"
                    },
                    "hoverlabel": {
                      "align": "left"
                    },
                    "hovermode": "closest",
                    "mapbox": {
                      "style": "light"
                    },
                    "paper_bgcolor": "white",
                    "plot_bgcolor": "#E5ECF6",
                    "polar": {
                      "angularaxis": {
                        "gridcolor": "white",
                        "linecolor": "white",
                        "ticks": ""
                      },
                      "bgcolor": "#E5ECF6",
                      "radialaxis": {
                        "gridcolor": "white",
                        "linecolor": "white",
                        "ticks": ""
                      }
                    },
                    "scene": {
                      "xaxis": {
                        "backgroundcolor": "#E5ECF6",
                        "gridcolor": "white",
                        "gridwidth": 2,
                        "linecolor": "white",
                        "showbackground": true,
                        "ticks": "",
                        "zerolinecolor": "white"
                      },
                      "yaxis": {
                        "backgroundcolor": "#E5ECF6",
                        "gridcolor": "white",
                        "gridwidth": 2,
                        "linecolor": "white",
                        "showbackground": true,
                        "ticks": "",
                        "zerolinecolor": "white"
                      },
                      "zaxis": {
                        "backgroundcolor": "#E5ECF6",
                        "gridcolor": "white",
                        "gridwidth": 2,
                        "linecolor": "white",
                        "showbackground": true,
                        "ticks": "",
                        "zerolinecolor": "white"
                      }
                    },
                    "shapedefaults": {
                      "line": {
                        "color": "#2a3f5f"
                      }
                    },
                    "ternary": {
                      "aaxis": {
                        "gridcolor": "white",
                        "linecolor": "white",
                        "ticks": ""
                      },
                      "baxis": {
                        "gridcolor": "white",
                        "linecolor": "white",
                        "ticks": ""
                      },
                      "bgcolor": "#E5ECF6",
                      "caxis": {
                        "gridcolor": "white",
                        "linecolor": "white",
                        "ticks": ""
                      }
                    },
                    "title": {
                      "x": 0.05
                    },
                    "xaxis": {
                      "automargin": true,
                      "gridcolor": "white",
                      "linecolor": "white",
                      "ticks": "",
                      "title": {
                        "standoff": 15
                      },
                      "zerolinecolor": "white",
                      "zerolinewidth": 2
                    },
                    "yaxis": {
                      "automargin": true,
                      "gridcolor": "white",
                      "linecolor": "white",
                      "ticks": "",
                      "title": {
                        "standoff": 15
                      },
                      "zerolinecolor": "white",
                      "zerolinewidth": 2
                    }
                  }
                },
                "title": {
                  "text": "Distribución de Churn por Contract"
                },
                "xaxis": {
                  "anchor": "y",
                  "domain": [
                    0,
                    1
                  ],
                  "title": {
                    "text": "Cantidad de Empleados"
                  }
                },
                "yaxis": {
                  "anchor": "x",
                  "domain": [
                    0,
                    1
                  ],
                  "title": {
                    "text": "Contract"
                  }
                }
              }
            }
          },
          "metadata": {},
          "output_type": "display_data"
        }
      ],
      "source": [
        "# Contrato\n",
        "fnc.vovsstr(df, 'Contract', 'Count', 'Churn')"
      ]
    },
    {
      "cell_type": "markdown",
      "metadata": {},
      "source": [
        "- Los clientes con contrato mensual tienen una probabilidad de desertar significativamente mayor que aquellos con contratos anuales o bienales."
      ]
    },
    {
      "cell_type": "code",
      "execution_count": 17,
      "metadata": {},
      "outputs": [
        {
          "data": {
            "application/vnd.plotly.v1+json": {
              "config": {
                "plotlyServerURL": "https://plot.ly"
              },
              "data": [
                {
                  "hovertemplate": "Churn=Yes<br>Cantidad de Empleados=%{x}<br>InternetService=%{y}<extra></extra>",
                  "legendgroup": "Yes",
                  "marker": {
                    "color": "#ab63fa",
                    "pattern": {
                      "shape": ""
                    }
                  },
                  "name": "Yes",
                  "orientation": "h",
                  "showlegend": true,
                  "textposition": "auto",
                  "type": "bar",
                  "x": {
                    "bdata": "cQDLAREF",
                    "dtype": "i2"
                  },
                  "xaxis": "x",
                  "y": [
                    "No",
                    "DSL",
                    "Fiber optic"
                  ],
                  "yaxis": "y"
                },
                {
                  "hovertemplate": "Churn=No<br>Cantidad de Empleados=%{x}<br>InternetService=%{y}<extra></extra>",
                  "legendgroup": "No",
                  "marker": {
                    "color": "#FFA15A",
                    "pattern": {
                      "shape": ""
                    }
                  },
                  "name": "No",
                  "orientation": "h",
                  "showlegend": true,
                  "textposition": "auto",
                  "type": "bar",
                  "x": {
                    "bdata": "fwUHB6UH",
                    "dtype": "i2"
                  },
                  "xaxis": "x",
                  "y": [
                    "No",
                    "Fiber optic",
                    "DSL"
                  ],
                  "yaxis": "y"
                }
              ],
              "layout": {
                "barmode": "relative",
                "legend": {
                  "title": {
                    "text": "Churn"
                  },
                  "tracegroupgap": 0
                },
                "template": {
                  "data": {
                    "bar": [
                      {
                        "error_x": {
                          "color": "#2a3f5f"
                        },
                        "error_y": {
                          "color": "#2a3f5f"
                        },
                        "marker": {
                          "line": {
                            "color": "#E5ECF6",
                            "width": 0.5
                          },
                          "pattern": {
                            "fillmode": "overlay",
                            "size": 10,
                            "solidity": 0.2
                          }
                        },
                        "type": "bar"
                      }
                    ],
                    "barpolar": [
                      {
                        "marker": {
                          "line": {
                            "color": "#E5ECF6",
                            "width": 0.5
                          },
                          "pattern": {
                            "fillmode": "overlay",
                            "size": 10,
                            "solidity": 0.2
                          }
                        },
                        "type": "barpolar"
                      }
                    ],
                    "carpet": [
                      {
                        "aaxis": {
                          "endlinecolor": "#2a3f5f",
                          "gridcolor": "white",
                          "linecolor": "white",
                          "minorgridcolor": "white",
                          "startlinecolor": "#2a3f5f"
                        },
                        "baxis": {
                          "endlinecolor": "#2a3f5f",
                          "gridcolor": "white",
                          "linecolor": "white",
                          "minorgridcolor": "white",
                          "startlinecolor": "#2a3f5f"
                        },
                        "type": "carpet"
                      }
                    ],
                    "choropleth": [
                      {
                        "colorbar": {
                          "outlinewidth": 0,
                          "ticks": ""
                        },
                        "type": "choropleth"
                      }
                    ],
                    "contour": [
                      {
                        "colorbar": {
                          "outlinewidth": 0,
                          "ticks": ""
                        },
                        "colorscale": [
                          [
                            0,
                            "#0d0887"
                          ],
                          [
                            0.1111111111111111,
                            "#46039f"
                          ],
                          [
                            0.2222222222222222,
                            "#7201a8"
                          ],
                          [
                            0.3333333333333333,
                            "#9c179e"
                          ],
                          [
                            0.4444444444444444,
                            "#bd3786"
                          ],
                          [
                            0.5555555555555556,
                            "#d8576b"
                          ],
                          [
                            0.6666666666666666,
                            "#ed7953"
                          ],
                          [
                            0.7777777777777778,
                            "#fb9f3a"
                          ],
                          [
                            0.8888888888888888,
                            "#fdca26"
                          ],
                          [
                            1,
                            "#f0f921"
                          ]
                        ],
                        "type": "contour"
                      }
                    ],
                    "contourcarpet": [
                      {
                        "colorbar": {
                          "outlinewidth": 0,
                          "ticks": ""
                        },
                        "type": "contourcarpet"
                      }
                    ],
                    "heatmap": [
                      {
                        "colorbar": {
                          "outlinewidth": 0,
                          "ticks": ""
                        },
                        "colorscale": [
                          [
                            0,
                            "#0d0887"
                          ],
                          [
                            0.1111111111111111,
                            "#46039f"
                          ],
                          [
                            0.2222222222222222,
                            "#7201a8"
                          ],
                          [
                            0.3333333333333333,
                            "#9c179e"
                          ],
                          [
                            0.4444444444444444,
                            "#bd3786"
                          ],
                          [
                            0.5555555555555556,
                            "#d8576b"
                          ],
                          [
                            0.6666666666666666,
                            "#ed7953"
                          ],
                          [
                            0.7777777777777778,
                            "#fb9f3a"
                          ],
                          [
                            0.8888888888888888,
                            "#fdca26"
                          ],
                          [
                            1,
                            "#f0f921"
                          ]
                        ],
                        "type": "heatmap"
                      }
                    ],
                    "histogram": [
                      {
                        "marker": {
                          "pattern": {
                            "fillmode": "overlay",
                            "size": 10,
                            "solidity": 0.2
                          }
                        },
                        "type": "histogram"
                      }
                    ],
                    "histogram2d": [
                      {
                        "colorbar": {
                          "outlinewidth": 0,
                          "ticks": ""
                        },
                        "colorscale": [
                          [
                            0,
                            "#0d0887"
                          ],
                          [
                            0.1111111111111111,
                            "#46039f"
                          ],
                          [
                            0.2222222222222222,
                            "#7201a8"
                          ],
                          [
                            0.3333333333333333,
                            "#9c179e"
                          ],
                          [
                            0.4444444444444444,
                            "#bd3786"
                          ],
                          [
                            0.5555555555555556,
                            "#d8576b"
                          ],
                          [
                            0.6666666666666666,
                            "#ed7953"
                          ],
                          [
                            0.7777777777777778,
                            "#fb9f3a"
                          ],
                          [
                            0.8888888888888888,
                            "#fdca26"
                          ],
                          [
                            1,
                            "#f0f921"
                          ]
                        ],
                        "type": "histogram2d"
                      }
                    ],
                    "histogram2dcontour": [
                      {
                        "colorbar": {
                          "outlinewidth": 0,
                          "ticks": ""
                        },
                        "colorscale": [
                          [
                            0,
                            "#0d0887"
                          ],
                          [
                            0.1111111111111111,
                            "#46039f"
                          ],
                          [
                            0.2222222222222222,
                            "#7201a8"
                          ],
                          [
                            0.3333333333333333,
                            "#9c179e"
                          ],
                          [
                            0.4444444444444444,
                            "#bd3786"
                          ],
                          [
                            0.5555555555555556,
                            "#d8576b"
                          ],
                          [
                            0.6666666666666666,
                            "#ed7953"
                          ],
                          [
                            0.7777777777777778,
                            "#fb9f3a"
                          ],
                          [
                            0.8888888888888888,
                            "#fdca26"
                          ],
                          [
                            1,
                            "#f0f921"
                          ]
                        ],
                        "type": "histogram2dcontour"
                      }
                    ],
                    "mesh3d": [
                      {
                        "colorbar": {
                          "outlinewidth": 0,
                          "ticks": ""
                        },
                        "type": "mesh3d"
                      }
                    ],
                    "parcoords": [
                      {
                        "line": {
                          "colorbar": {
                            "outlinewidth": 0,
                            "ticks": ""
                          }
                        },
                        "type": "parcoords"
                      }
                    ],
                    "pie": [
                      {
                        "automargin": true,
                        "type": "pie"
                      }
                    ],
                    "scatter": [
                      {
                        "fillpattern": {
                          "fillmode": "overlay",
                          "size": 10,
                          "solidity": 0.2
                        },
                        "type": "scatter"
                      }
                    ],
                    "scatter3d": [
                      {
                        "line": {
                          "colorbar": {
                            "outlinewidth": 0,
                            "ticks": ""
                          }
                        },
                        "marker": {
                          "colorbar": {
                            "outlinewidth": 0,
                            "ticks": ""
                          }
                        },
                        "type": "scatter3d"
                      }
                    ],
                    "scattercarpet": [
                      {
                        "marker": {
                          "colorbar": {
                            "outlinewidth": 0,
                            "ticks": ""
                          }
                        },
                        "type": "scattercarpet"
                      }
                    ],
                    "scattergeo": [
                      {
                        "marker": {
                          "colorbar": {
                            "outlinewidth": 0,
                            "ticks": ""
                          }
                        },
                        "type": "scattergeo"
                      }
                    ],
                    "scattergl": [
                      {
                        "marker": {
                          "colorbar": {
                            "outlinewidth": 0,
                            "ticks": ""
                          }
                        },
                        "type": "scattergl"
                      }
                    ],
                    "scattermap": [
                      {
                        "marker": {
                          "colorbar": {
                            "outlinewidth": 0,
                            "ticks": ""
                          }
                        },
                        "type": "scattermap"
                      }
                    ],
                    "scattermapbox": [
                      {
                        "marker": {
                          "colorbar": {
                            "outlinewidth": 0,
                            "ticks": ""
                          }
                        },
                        "type": "scattermapbox"
                      }
                    ],
                    "scatterpolar": [
                      {
                        "marker": {
                          "colorbar": {
                            "outlinewidth": 0,
                            "ticks": ""
                          }
                        },
                        "type": "scatterpolar"
                      }
                    ],
                    "scatterpolargl": [
                      {
                        "marker": {
                          "colorbar": {
                            "outlinewidth": 0,
                            "ticks": ""
                          }
                        },
                        "type": "scatterpolargl"
                      }
                    ],
                    "scatterternary": [
                      {
                        "marker": {
                          "colorbar": {
                            "outlinewidth": 0,
                            "ticks": ""
                          }
                        },
                        "type": "scatterternary"
                      }
                    ],
                    "surface": [
                      {
                        "colorbar": {
                          "outlinewidth": 0,
                          "ticks": ""
                        },
                        "colorscale": [
                          [
                            0,
                            "#0d0887"
                          ],
                          [
                            0.1111111111111111,
                            "#46039f"
                          ],
                          [
                            0.2222222222222222,
                            "#7201a8"
                          ],
                          [
                            0.3333333333333333,
                            "#9c179e"
                          ],
                          [
                            0.4444444444444444,
                            "#bd3786"
                          ],
                          [
                            0.5555555555555556,
                            "#d8576b"
                          ],
                          [
                            0.6666666666666666,
                            "#ed7953"
                          ],
                          [
                            0.7777777777777778,
                            "#fb9f3a"
                          ],
                          [
                            0.8888888888888888,
                            "#fdca26"
                          ],
                          [
                            1,
                            "#f0f921"
                          ]
                        ],
                        "type": "surface"
                      }
                    ],
                    "table": [
                      {
                        "cells": {
                          "fill": {
                            "color": "#EBF0F8"
                          },
                          "line": {
                            "color": "white"
                          }
                        },
                        "header": {
                          "fill": {
                            "color": "#C8D4E3"
                          },
                          "line": {
                            "color": "white"
                          }
                        },
                        "type": "table"
                      }
                    ]
                  },
                  "layout": {
                    "annotationdefaults": {
                      "arrowcolor": "#2a3f5f",
                      "arrowhead": 0,
                      "arrowwidth": 1
                    },
                    "autotypenumbers": "strict",
                    "coloraxis": {
                      "colorbar": {
                        "outlinewidth": 0,
                        "ticks": ""
                      }
                    },
                    "colorscale": {
                      "diverging": [
                        [
                          0,
                          "#8e0152"
                        ],
                        [
                          0.1,
                          "#c51b7d"
                        ],
                        [
                          0.2,
                          "#de77ae"
                        ],
                        [
                          0.3,
                          "#f1b6da"
                        ],
                        [
                          0.4,
                          "#fde0ef"
                        ],
                        [
                          0.5,
                          "#f7f7f7"
                        ],
                        [
                          0.6,
                          "#e6f5d0"
                        ],
                        [
                          0.7,
                          "#b8e186"
                        ],
                        [
                          0.8,
                          "#7fbc41"
                        ],
                        [
                          0.9,
                          "#4d9221"
                        ],
                        [
                          1,
                          "#276419"
                        ]
                      ],
                      "sequential": [
                        [
                          0,
                          "#0d0887"
                        ],
                        [
                          0.1111111111111111,
                          "#46039f"
                        ],
                        [
                          0.2222222222222222,
                          "#7201a8"
                        ],
                        [
                          0.3333333333333333,
                          "#9c179e"
                        ],
                        [
                          0.4444444444444444,
                          "#bd3786"
                        ],
                        [
                          0.5555555555555556,
                          "#d8576b"
                        ],
                        [
                          0.6666666666666666,
                          "#ed7953"
                        ],
                        [
                          0.7777777777777778,
                          "#fb9f3a"
                        ],
                        [
                          0.8888888888888888,
                          "#fdca26"
                        ],
                        [
                          1,
                          "#f0f921"
                        ]
                      ],
                      "sequentialminus": [
                        [
                          0,
                          "#0d0887"
                        ],
                        [
                          0.1111111111111111,
                          "#46039f"
                        ],
                        [
                          0.2222222222222222,
                          "#7201a8"
                        ],
                        [
                          0.3333333333333333,
                          "#9c179e"
                        ],
                        [
                          0.4444444444444444,
                          "#bd3786"
                        ],
                        [
                          0.5555555555555556,
                          "#d8576b"
                        ],
                        [
                          0.6666666666666666,
                          "#ed7953"
                        ],
                        [
                          0.7777777777777778,
                          "#fb9f3a"
                        ],
                        [
                          0.8888888888888888,
                          "#fdca26"
                        ],
                        [
                          1,
                          "#f0f921"
                        ]
                      ]
                    },
                    "colorway": [
                      "#636efa",
                      "#EF553B",
                      "#00cc96",
                      "#ab63fa",
                      "#FFA15A",
                      "#19d3f3",
                      "#FF6692",
                      "#B6E880",
                      "#FF97FF",
                      "#FECB52"
                    ],
                    "font": {
                      "color": "#2a3f5f"
                    },
                    "geo": {
                      "bgcolor": "white",
                      "lakecolor": "white",
                      "landcolor": "#E5ECF6",
                      "showlakes": true,
                      "showland": true,
                      "subunitcolor": "white"
                    },
                    "hoverlabel": {
                      "align": "left"
                    },
                    "hovermode": "closest",
                    "mapbox": {
                      "style": "light"
                    },
                    "paper_bgcolor": "white",
                    "plot_bgcolor": "#E5ECF6",
                    "polar": {
                      "angularaxis": {
                        "gridcolor": "white",
                        "linecolor": "white",
                        "ticks": ""
                      },
                      "bgcolor": "#E5ECF6",
                      "radialaxis": {
                        "gridcolor": "white",
                        "linecolor": "white",
                        "ticks": ""
                      }
                    },
                    "scene": {
                      "xaxis": {
                        "backgroundcolor": "#E5ECF6",
                        "gridcolor": "white",
                        "gridwidth": 2,
                        "linecolor": "white",
                        "showbackground": true,
                        "ticks": "",
                        "zerolinecolor": "white"
                      },
                      "yaxis": {
                        "backgroundcolor": "#E5ECF6",
                        "gridcolor": "white",
                        "gridwidth": 2,
                        "linecolor": "white",
                        "showbackground": true,
                        "ticks": "",
                        "zerolinecolor": "white"
                      },
                      "zaxis": {
                        "backgroundcolor": "#E5ECF6",
                        "gridcolor": "white",
                        "gridwidth": 2,
                        "linecolor": "white",
                        "showbackground": true,
                        "ticks": "",
                        "zerolinecolor": "white"
                      }
                    },
                    "shapedefaults": {
                      "line": {
                        "color": "#2a3f5f"
                      }
                    },
                    "ternary": {
                      "aaxis": {
                        "gridcolor": "white",
                        "linecolor": "white",
                        "ticks": ""
                      },
                      "baxis": {
                        "gridcolor": "white",
                        "linecolor": "white",
                        "ticks": ""
                      },
                      "bgcolor": "#E5ECF6",
                      "caxis": {
                        "gridcolor": "white",
                        "linecolor": "white",
                        "ticks": ""
                      }
                    },
                    "title": {
                      "x": 0.05
                    },
                    "xaxis": {
                      "automargin": true,
                      "gridcolor": "white",
                      "linecolor": "white",
                      "ticks": "",
                      "title": {
                        "standoff": 15
                      },
                      "zerolinecolor": "white",
                      "zerolinewidth": 2
                    },
                    "yaxis": {
                      "automargin": true,
                      "gridcolor": "white",
                      "linecolor": "white",
                      "ticks": "",
                      "title": {
                        "standoff": 15
                      },
                      "zerolinecolor": "white",
                      "zerolinewidth": 2
                    }
                  }
                },
                "title": {
                  "text": "Distribución de Churn por InternetService"
                },
                "xaxis": {
                  "anchor": "y",
                  "domain": [
                    0,
                    1
                  ],
                  "title": {
                    "text": "Cantidad de Empleados"
                  }
                },
                "yaxis": {
                  "anchor": "x",
                  "domain": [
                    0,
                    1
                  ],
                  "title": {
                    "text": "InternetService"
                  }
                }
              }
            }
          },
          "metadata": {},
          "output_type": "display_data"
        }
      ],
      "source": [
        "# Servicio de internet\n",
        "fnc.vovsstr(df, 'InternetService', 'Count', 'Churn')"
      ]
    },
    {
      "cell_type": "markdown",
      "metadata": {},
      "source": [
        "- Los clientes con Internet de fibra óptica son más propensos a desertar que los que tienen DSL o no tienen servicio."
      ]
    },
    {
      "cell_type": "code",
      "execution_count": 18,
      "metadata": {},
      "outputs": [
        {
          "data": {
            "application/vnd.plotly.v1+json": {
              "config": {
                "plotlyServerURL": "https://plot.ly"
              },
              "data": [
                {
                  "hovertemplate": "Churn=Yes<br>Cantidad de Empleados=%{x}<br>TechSupport=%{y}<extra></extra>",
                  "legendgroup": "Yes",
                  "marker": {
                    "color": "#ab63fa",
                    "pattern": {
                      "shape": ""
                    }
                  },
                  "name": "Yes",
                  "orientation": "h",
                  "showlegend": true,
                  "textposition": "auto",
                  "type": "bar",
                  "x": {
                    "bdata": "cQA2AaYF",
                    "dtype": "i2"
                  },
                  "xaxis": "x",
                  "y": [
                    "No internet service",
                    "Yes",
                    "No"
                  ],
                  "yaxis": "y"
                },
                {
                  "hovertemplate": "Churn=No<br>Cantidad de Empleados=%{x}<br>TechSupport=%{y}<extra></extra>",
                  "legendgroup": "No",
                  "marker": {
                    "color": "#FFA15A",
                    "pattern": {
                      "shape": ""
                    }
                  },
                  "name": "No",
                  "orientation": "h",
                  "showlegend": true,
                  "textposition": "auto",
                  "type": "bar",
                  "x": {
                    "bdata": "fwXCBuoH",
                    "dtype": "i2"
                  },
                  "xaxis": "x",
                  "y": [
                    "No internet service",
                    "Yes",
                    "No"
                  ],
                  "yaxis": "y"
                }
              ],
              "layout": {
                "barmode": "relative",
                "legend": {
                  "title": {
                    "text": "Churn"
                  },
                  "tracegroupgap": 0
                },
                "template": {
                  "data": {
                    "bar": [
                      {
                        "error_x": {
                          "color": "#2a3f5f"
                        },
                        "error_y": {
                          "color": "#2a3f5f"
                        },
                        "marker": {
                          "line": {
                            "color": "#E5ECF6",
                            "width": 0.5
                          },
                          "pattern": {
                            "fillmode": "overlay",
                            "size": 10,
                            "solidity": 0.2
                          }
                        },
                        "type": "bar"
                      }
                    ],
                    "barpolar": [
                      {
                        "marker": {
                          "line": {
                            "color": "#E5ECF6",
                            "width": 0.5
                          },
                          "pattern": {
                            "fillmode": "overlay",
                            "size": 10,
                            "solidity": 0.2
                          }
                        },
                        "type": "barpolar"
                      }
                    ],
                    "carpet": [
                      {
                        "aaxis": {
                          "endlinecolor": "#2a3f5f",
                          "gridcolor": "white",
                          "linecolor": "white",
                          "minorgridcolor": "white",
                          "startlinecolor": "#2a3f5f"
                        },
                        "baxis": {
                          "endlinecolor": "#2a3f5f",
                          "gridcolor": "white",
                          "linecolor": "white",
                          "minorgridcolor": "white",
                          "startlinecolor": "#2a3f5f"
                        },
                        "type": "carpet"
                      }
                    ],
                    "choropleth": [
                      {
                        "colorbar": {
                          "outlinewidth": 0,
                          "ticks": ""
                        },
                        "type": "choropleth"
                      }
                    ],
                    "contour": [
                      {
                        "colorbar": {
                          "outlinewidth": 0,
                          "ticks": ""
                        },
                        "colorscale": [
                          [
                            0,
                            "#0d0887"
                          ],
                          [
                            0.1111111111111111,
                            "#46039f"
                          ],
                          [
                            0.2222222222222222,
                            "#7201a8"
                          ],
                          [
                            0.3333333333333333,
                            "#9c179e"
                          ],
                          [
                            0.4444444444444444,
                            "#bd3786"
                          ],
                          [
                            0.5555555555555556,
                            "#d8576b"
                          ],
                          [
                            0.6666666666666666,
                            "#ed7953"
                          ],
                          [
                            0.7777777777777778,
                            "#fb9f3a"
                          ],
                          [
                            0.8888888888888888,
                            "#fdca26"
                          ],
                          [
                            1,
                            "#f0f921"
                          ]
                        ],
                        "type": "contour"
                      }
                    ],
                    "contourcarpet": [
                      {
                        "colorbar": {
                          "outlinewidth": 0,
                          "ticks": ""
                        },
                        "type": "contourcarpet"
                      }
                    ],
                    "heatmap": [
                      {
                        "colorbar": {
                          "outlinewidth": 0,
                          "ticks": ""
                        },
                        "colorscale": [
                          [
                            0,
                            "#0d0887"
                          ],
                          [
                            0.1111111111111111,
                            "#46039f"
                          ],
                          [
                            0.2222222222222222,
                            "#7201a8"
                          ],
                          [
                            0.3333333333333333,
                            "#9c179e"
                          ],
                          [
                            0.4444444444444444,
                            "#bd3786"
                          ],
                          [
                            0.5555555555555556,
                            "#d8576b"
                          ],
                          [
                            0.6666666666666666,
                            "#ed7953"
                          ],
                          [
                            0.7777777777777778,
                            "#fb9f3a"
                          ],
                          [
                            0.8888888888888888,
                            "#fdca26"
                          ],
                          [
                            1,
                            "#f0f921"
                          ]
                        ],
                        "type": "heatmap"
                      }
                    ],
                    "histogram": [
                      {
                        "marker": {
                          "pattern": {
                            "fillmode": "overlay",
                            "size": 10,
                            "solidity": 0.2
                          }
                        },
                        "type": "histogram"
                      }
                    ],
                    "histogram2d": [
                      {
                        "colorbar": {
                          "outlinewidth": 0,
                          "ticks": ""
                        },
                        "colorscale": [
                          [
                            0,
                            "#0d0887"
                          ],
                          [
                            0.1111111111111111,
                            "#46039f"
                          ],
                          [
                            0.2222222222222222,
                            "#7201a8"
                          ],
                          [
                            0.3333333333333333,
                            "#9c179e"
                          ],
                          [
                            0.4444444444444444,
                            "#bd3786"
                          ],
                          [
                            0.5555555555555556,
                            "#d8576b"
                          ],
                          [
                            0.6666666666666666,
                            "#ed7953"
                          ],
                          [
                            0.7777777777777778,
                            "#fb9f3a"
                          ],
                          [
                            0.8888888888888888,
                            "#fdca26"
                          ],
                          [
                            1,
                            "#f0f921"
                          ]
                        ],
                        "type": "histogram2d"
                      }
                    ],
                    "histogram2dcontour": [
                      {
                        "colorbar": {
                          "outlinewidth": 0,
                          "ticks": ""
                        },
                        "colorscale": [
                          [
                            0,
                            "#0d0887"
                          ],
                          [
                            0.1111111111111111,
                            "#46039f"
                          ],
                          [
                            0.2222222222222222,
                            "#7201a8"
                          ],
                          [
                            0.3333333333333333,
                            "#9c179e"
                          ],
                          [
                            0.4444444444444444,
                            "#bd3786"
                          ],
                          [
                            0.5555555555555556,
                            "#d8576b"
                          ],
                          [
                            0.6666666666666666,
                            "#ed7953"
                          ],
                          [
                            0.7777777777777778,
                            "#fb9f3a"
                          ],
                          [
                            0.8888888888888888,
                            "#fdca26"
                          ],
                          [
                            1,
                            "#f0f921"
                          ]
                        ],
                        "type": "histogram2dcontour"
                      }
                    ],
                    "mesh3d": [
                      {
                        "colorbar": {
                          "outlinewidth": 0,
                          "ticks": ""
                        },
                        "type": "mesh3d"
                      }
                    ],
                    "parcoords": [
                      {
                        "line": {
                          "colorbar": {
                            "outlinewidth": 0,
                            "ticks": ""
                          }
                        },
                        "type": "parcoords"
                      }
                    ],
                    "pie": [
                      {
                        "automargin": true,
                        "type": "pie"
                      }
                    ],
                    "scatter": [
                      {
                        "fillpattern": {
                          "fillmode": "overlay",
                          "size": 10,
                          "solidity": 0.2
                        },
                        "type": "scatter"
                      }
                    ],
                    "scatter3d": [
                      {
                        "line": {
                          "colorbar": {
                            "outlinewidth": 0,
                            "ticks": ""
                          }
                        },
                        "marker": {
                          "colorbar": {
                            "outlinewidth": 0,
                            "ticks": ""
                          }
                        },
                        "type": "scatter3d"
                      }
                    ],
                    "scattercarpet": [
                      {
                        "marker": {
                          "colorbar": {
                            "outlinewidth": 0,
                            "ticks": ""
                          }
                        },
                        "type": "scattercarpet"
                      }
                    ],
                    "scattergeo": [
                      {
                        "marker": {
                          "colorbar": {
                            "outlinewidth": 0,
                            "ticks": ""
                          }
                        },
                        "type": "scattergeo"
                      }
                    ],
                    "scattergl": [
                      {
                        "marker": {
                          "colorbar": {
                            "outlinewidth": 0,
                            "ticks": ""
                          }
                        },
                        "type": "scattergl"
                      }
                    ],
                    "scattermap": [
                      {
                        "marker": {
                          "colorbar": {
                            "outlinewidth": 0,
                            "ticks": ""
                          }
                        },
                        "type": "scattermap"
                      }
                    ],
                    "scattermapbox": [
                      {
                        "marker": {
                          "colorbar": {
                            "outlinewidth": 0,
                            "ticks": ""
                          }
                        },
                        "type": "scattermapbox"
                      }
                    ],
                    "scatterpolar": [
                      {
                        "marker": {
                          "colorbar": {
                            "outlinewidth": 0,
                            "ticks": ""
                          }
                        },
                        "type": "scatterpolar"
                      }
                    ],
                    "scatterpolargl": [
                      {
                        "marker": {
                          "colorbar": {
                            "outlinewidth": 0,
                            "ticks": ""
                          }
                        },
                        "type": "scatterpolargl"
                      }
                    ],
                    "scatterternary": [
                      {
                        "marker": {
                          "colorbar": {
                            "outlinewidth": 0,
                            "ticks": ""
                          }
                        },
                        "type": "scatterternary"
                      }
                    ],
                    "surface": [
                      {
                        "colorbar": {
                          "outlinewidth": 0,
                          "ticks": ""
                        },
                        "colorscale": [
                          [
                            0,
                            "#0d0887"
                          ],
                          [
                            0.1111111111111111,
                            "#46039f"
                          ],
                          [
                            0.2222222222222222,
                            "#7201a8"
                          ],
                          [
                            0.3333333333333333,
                            "#9c179e"
                          ],
                          [
                            0.4444444444444444,
                            "#bd3786"
                          ],
                          [
                            0.5555555555555556,
                            "#d8576b"
                          ],
                          [
                            0.6666666666666666,
                            "#ed7953"
                          ],
                          [
                            0.7777777777777778,
                            "#fb9f3a"
                          ],
                          [
                            0.8888888888888888,
                            "#fdca26"
                          ],
                          [
                            1,
                            "#f0f921"
                          ]
                        ],
                        "type": "surface"
                      }
                    ],
                    "table": [
                      {
                        "cells": {
                          "fill": {
                            "color": "#EBF0F8"
                          },
                          "line": {
                            "color": "white"
                          }
                        },
                        "header": {
                          "fill": {
                            "color": "#C8D4E3"
                          },
                          "line": {
                            "color": "white"
                          }
                        },
                        "type": "table"
                      }
                    ]
                  },
                  "layout": {
                    "annotationdefaults": {
                      "arrowcolor": "#2a3f5f",
                      "arrowhead": 0,
                      "arrowwidth": 1
                    },
                    "autotypenumbers": "strict",
                    "coloraxis": {
                      "colorbar": {
                        "outlinewidth": 0,
                        "ticks": ""
                      }
                    },
                    "colorscale": {
                      "diverging": [
                        [
                          0,
                          "#8e0152"
                        ],
                        [
                          0.1,
                          "#c51b7d"
                        ],
                        [
                          0.2,
                          "#de77ae"
                        ],
                        [
                          0.3,
                          "#f1b6da"
                        ],
                        [
                          0.4,
                          "#fde0ef"
                        ],
                        [
                          0.5,
                          "#f7f7f7"
                        ],
                        [
                          0.6,
                          "#e6f5d0"
                        ],
                        [
                          0.7,
                          "#b8e186"
                        ],
                        [
                          0.8,
                          "#7fbc41"
                        ],
                        [
                          0.9,
                          "#4d9221"
                        ],
                        [
                          1,
                          "#276419"
                        ]
                      ],
                      "sequential": [
                        [
                          0,
                          "#0d0887"
                        ],
                        [
                          0.1111111111111111,
                          "#46039f"
                        ],
                        [
                          0.2222222222222222,
                          "#7201a8"
                        ],
                        [
                          0.3333333333333333,
                          "#9c179e"
                        ],
                        [
                          0.4444444444444444,
                          "#bd3786"
                        ],
                        [
                          0.5555555555555556,
                          "#d8576b"
                        ],
                        [
                          0.6666666666666666,
                          "#ed7953"
                        ],
                        [
                          0.7777777777777778,
                          "#fb9f3a"
                        ],
                        [
                          0.8888888888888888,
                          "#fdca26"
                        ],
                        [
                          1,
                          "#f0f921"
                        ]
                      ],
                      "sequentialminus": [
                        [
                          0,
                          "#0d0887"
                        ],
                        [
                          0.1111111111111111,
                          "#46039f"
                        ],
                        [
                          0.2222222222222222,
                          "#7201a8"
                        ],
                        [
                          0.3333333333333333,
                          "#9c179e"
                        ],
                        [
                          0.4444444444444444,
                          "#bd3786"
                        ],
                        [
                          0.5555555555555556,
                          "#d8576b"
                        ],
                        [
                          0.6666666666666666,
                          "#ed7953"
                        ],
                        [
                          0.7777777777777778,
                          "#fb9f3a"
                        ],
                        [
                          0.8888888888888888,
                          "#fdca26"
                        ],
                        [
                          1,
                          "#f0f921"
                        ]
                      ]
                    },
                    "colorway": [
                      "#636efa",
                      "#EF553B",
                      "#00cc96",
                      "#ab63fa",
                      "#FFA15A",
                      "#19d3f3",
                      "#FF6692",
                      "#B6E880",
                      "#FF97FF",
                      "#FECB52"
                    ],
                    "font": {
                      "color": "#2a3f5f"
                    },
                    "geo": {
                      "bgcolor": "white",
                      "lakecolor": "white",
                      "landcolor": "#E5ECF6",
                      "showlakes": true,
                      "showland": true,
                      "subunitcolor": "white"
                    },
                    "hoverlabel": {
                      "align": "left"
                    },
                    "hovermode": "closest",
                    "mapbox": {
                      "style": "light"
                    },
                    "paper_bgcolor": "white",
                    "plot_bgcolor": "#E5ECF6",
                    "polar": {
                      "angularaxis": {
                        "gridcolor": "white",
                        "linecolor": "white",
                        "ticks": ""
                      },
                      "bgcolor": "#E5ECF6",
                      "radialaxis": {
                        "gridcolor": "white",
                        "linecolor": "white",
                        "ticks": ""
                      }
                    },
                    "scene": {
                      "xaxis": {
                        "backgroundcolor": "#E5ECF6",
                        "gridcolor": "white",
                        "gridwidth": 2,
                        "linecolor": "white",
                        "showbackground": true,
                        "ticks": "",
                        "zerolinecolor": "white"
                      },
                      "yaxis": {
                        "backgroundcolor": "#E5ECF6",
                        "gridcolor": "white",
                        "gridwidth": 2,
                        "linecolor": "white",
                        "showbackground": true,
                        "ticks": "",
                        "zerolinecolor": "white"
                      },
                      "zaxis": {
                        "backgroundcolor": "#E5ECF6",
                        "gridcolor": "white",
                        "gridwidth": 2,
                        "linecolor": "white",
                        "showbackground": true,
                        "ticks": "",
                        "zerolinecolor": "white"
                      }
                    },
                    "shapedefaults": {
                      "line": {
                        "color": "#2a3f5f"
                      }
                    },
                    "ternary": {
                      "aaxis": {
                        "gridcolor": "white",
                        "linecolor": "white",
                        "ticks": ""
                      },
                      "baxis": {
                        "gridcolor": "white",
                        "linecolor": "white",
                        "ticks": ""
                      },
                      "bgcolor": "#E5ECF6",
                      "caxis": {
                        "gridcolor": "white",
                        "linecolor": "white",
                        "ticks": ""
                      }
                    },
                    "title": {
                      "x": 0.05
                    },
                    "xaxis": {
                      "automargin": true,
                      "gridcolor": "white",
                      "linecolor": "white",
                      "ticks": "",
                      "title": {
                        "standoff": 15
                      },
                      "zerolinecolor": "white",
                      "zerolinewidth": 2
                    },
                    "yaxis": {
                      "automargin": true,
                      "gridcolor": "white",
                      "linecolor": "white",
                      "ticks": "",
                      "title": {
                        "standoff": 15
                      },
                      "zerolinecolor": "white",
                      "zerolinewidth": 2
                    }
                  }
                },
                "title": {
                  "text": "Distribución de Churn por TechSupport"
                },
                "xaxis": {
                  "anchor": "y",
                  "domain": [
                    0,
                    1
                  ],
                  "title": {
                    "text": "Cantidad de Empleados"
                  }
                },
                "yaxis": {
                  "anchor": "x",
                  "domain": [
                    0,
                    1
                  ],
                  "title": {
                    "text": "TechSupport"
                  }
                }
              }
            }
          },
          "metadata": {},
          "output_type": "display_data"
        }
      ],
      "source": [
        "# Soporte técnico\n",
        "fnc.vovsstr(df, 'TechSupport', 'Count', 'Churn')"
      ]
    },
    {
      "cell_type": "markdown",
      "metadata": {},
      "source": [
        "- Tener soporte técnico parece estar asociado con una menor tasa de deserción.\n",
        "- Los clientes sin soporte técnico probablemente experimenten problemas no resueltos, lo que podría motivar su salida."
      ]
    },
    {
      "cell_type": "code",
      "execution_count": 19,
      "metadata": {},
      "outputs": [
        {
          "data": {
            "application/vnd.plotly.v1+json": {
              "config": {
                "plotlyServerURL": "https://plot.ly"
              },
              "data": [
                {
                  "hovertemplate": "Churn=Yes<br>Cantidad de Empleados=%{x}<br>PaymentMethod=%{y}<extra></extra>",
                  "legendgroup": "Yes",
                  "marker": {
                    "color": "#ab63fa",
                    "pattern": {
                      "shape": ""
                    }
                  },
                  "name": "Yes",
                  "orientation": "h",
                  "showlegend": true,
                  "textposition": "auto",
                  "type": "bar",
                  "x": {
                    "bdata": "6AACATQBLwQ=",
                    "dtype": "i2"
                  },
                  "xaxis": "x",
                  "y": [
                    "Credit card (automatic)",
                    "Bank transfer (automatic)",
                    "Mailed check",
                    "Electronic check"
                  ],
                  "yaxis": "y"
                },
                {
                  "hovertemplate": "Churn=No<br>Cantidad de Empleados=%{x}<br>PaymentMethod=%{y}<extra></extra>",
                  "legendgroup": "No",
                  "marker": {
                    "color": "#FFA15A",
                    "pattern": {
                      "shape": ""
                    }
                  },
                  "name": "No",
                  "orientation": "h",
                  "showlegend": true,
                  "textposition": "auto",
                  "type": "bar",
                  "x": {
                    "bdata": "BAUJBQ4FEAU=",
                    "dtype": "i2"
                  },
                  "xaxis": "x",
                  "y": [
                    "Bank transfer (automatic)",
                    "Credit card (automatic)",
                    "Electronic check",
                    "Mailed check"
                  ],
                  "yaxis": "y"
                }
              ],
              "layout": {
                "barmode": "relative",
                "legend": {
                  "title": {
                    "text": "Churn"
                  },
                  "tracegroupgap": 0
                },
                "template": {
                  "data": {
                    "bar": [
                      {
                        "error_x": {
                          "color": "#2a3f5f"
                        },
                        "error_y": {
                          "color": "#2a3f5f"
                        },
                        "marker": {
                          "line": {
                            "color": "#E5ECF6",
                            "width": 0.5
                          },
                          "pattern": {
                            "fillmode": "overlay",
                            "size": 10,
                            "solidity": 0.2
                          }
                        },
                        "type": "bar"
                      }
                    ],
                    "barpolar": [
                      {
                        "marker": {
                          "line": {
                            "color": "#E5ECF6",
                            "width": 0.5
                          },
                          "pattern": {
                            "fillmode": "overlay",
                            "size": 10,
                            "solidity": 0.2
                          }
                        },
                        "type": "barpolar"
                      }
                    ],
                    "carpet": [
                      {
                        "aaxis": {
                          "endlinecolor": "#2a3f5f",
                          "gridcolor": "white",
                          "linecolor": "white",
                          "minorgridcolor": "white",
                          "startlinecolor": "#2a3f5f"
                        },
                        "baxis": {
                          "endlinecolor": "#2a3f5f",
                          "gridcolor": "white",
                          "linecolor": "white",
                          "minorgridcolor": "white",
                          "startlinecolor": "#2a3f5f"
                        },
                        "type": "carpet"
                      }
                    ],
                    "choropleth": [
                      {
                        "colorbar": {
                          "outlinewidth": 0,
                          "ticks": ""
                        },
                        "type": "choropleth"
                      }
                    ],
                    "contour": [
                      {
                        "colorbar": {
                          "outlinewidth": 0,
                          "ticks": ""
                        },
                        "colorscale": [
                          [
                            0,
                            "#0d0887"
                          ],
                          [
                            0.1111111111111111,
                            "#46039f"
                          ],
                          [
                            0.2222222222222222,
                            "#7201a8"
                          ],
                          [
                            0.3333333333333333,
                            "#9c179e"
                          ],
                          [
                            0.4444444444444444,
                            "#bd3786"
                          ],
                          [
                            0.5555555555555556,
                            "#d8576b"
                          ],
                          [
                            0.6666666666666666,
                            "#ed7953"
                          ],
                          [
                            0.7777777777777778,
                            "#fb9f3a"
                          ],
                          [
                            0.8888888888888888,
                            "#fdca26"
                          ],
                          [
                            1,
                            "#f0f921"
                          ]
                        ],
                        "type": "contour"
                      }
                    ],
                    "contourcarpet": [
                      {
                        "colorbar": {
                          "outlinewidth": 0,
                          "ticks": ""
                        },
                        "type": "contourcarpet"
                      }
                    ],
                    "heatmap": [
                      {
                        "colorbar": {
                          "outlinewidth": 0,
                          "ticks": ""
                        },
                        "colorscale": [
                          [
                            0,
                            "#0d0887"
                          ],
                          [
                            0.1111111111111111,
                            "#46039f"
                          ],
                          [
                            0.2222222222222222,
                            "#7201a8"
                          ],
                          [
                            0.3333333333333333,
                            "#9c179e"
                          ],
                          [
                            0.4444444444444444,
                            "#bd3786"
                          ],
                          [
                            0.5555555555555556,
                            "#d8576b"
                          ],
                          [
                            0.6666666666666666,
                            "#ed7953"
                          ],
                          [
                            0.7777777777777778,
                            "#fb9f3a"
                          ],
                          [
                            0.8888888888888888,
                            "#fdca26"
                          ],
                          [
                            1,
                            "#f0f921"
                          ]
                        ],
                        "type": "heatmap"
                      }
                    ],
                    "histogram": [
                      {
                        "marker": {
                          "pattern": {
                            "fillmode": "overlay",
                            "size": 10,
                            "solidity": 0.2
                          }
                        },
                        "type": "histogram"
                      }
                    ],
                    "histogram2d": [
                      {
                        "colorbar": {
                          "outlinewidth": 0,
                          "ticks": ""
                        },
                        "colorscale": [
                          [
                            0,
                            "#0d0887"
                          ],
                          [
                            0.1111111111111111,
                            "#46039f"
                          ],
                          [
                            0.2222222222222222,
                            "#7201a8"
                          ],
                          [
                            0.3333333333333333,
                            "#9c179e"
                          ],
                          [
                            0.4444444444444444,
                            "#bd3786"
                          ],
                          [
                            0.5555555555555556,
                            "#d8576b"
                          ],
                          [
                            0.6666666666666666,
                            "#ed7953"
                          ],
                          [
                            0.7777777777777778,
                            "#fb9f3a"
                          ],
                          [
                            0.8888888888888888,
                            "#fdca26"
                          ],
                          [
                            1,
                            "#f0f921"
                          ]
                        ],
                        "type": "histogram2d"
                      }
                    ],
                    "histogram2dcontour": [
                      {
                        "colorbar": {
                          "outlinewidth": 0,
                          "ticks": ""
                        },
                        "colorscale": [
                          [
                            0,
                            "#0d0887"
                          ],
                          [
                            0.1111111111111111,
                            "#46039f"
                          ],
                          [
                            0.2222222222222222,
                            "#7201a8"
                          ],
                          [
                            0.3333333333333333,
                            "#9c179e"
                          ],
                          [
                            0.4444444444444444,
                            "#bd3786"
                          ],
                          [
                            0.5555555555555556,
                            "#d8576b"
                          ],
                          [
                            0.6666666666666666,
                            "#ed7953"
                          ],
                          [
                            0.7777777777777778,
                            "#fb9f3a"
                          ],
                          [
                            0.8888888888888888,
                            "#fdca26"
                          ],
                          [
                            1,
                            "#f0f921"
                          ]
                        ],
                        "type": "histogram2dcontour"
                      }
                    ],
                    "mesh3d": [
                      {
                        "colorbar": {
                          "outlinewidth": 0,
                          "ticks": ""
                        },
                        "type": "mesh3d"
                      }
                    ],
                    "parcoords": [
                      {
                        "line": {
                          "colorbar": {
                            "outlinewidth": 0,
                            "ticks": ""
                          }
                        },
                        "type": "parcoords"
                      }
                    ],
                    "pie": [
                      {
                        "automargin": true,
                        "type": "pie"
                      }
                    ],
                    "scatter": [
                      {
                        "fillpattern": {
                          "fillmode": "overlay",
                          "size": 10,
                          "solidity": 0.2
                        },
                        "type": "scatter"
                      }
                    ],
                    "scatter3d": [
                      {
                        "line": {
                          "colorbar": {
                            "outlinewidth": 0,
                            "ticks": ""
                          }
                        },
                        "marker": {
                          "colorbar": {
                            "outlinewidth": 0,
                            "ticks": ""
                          }
                        },
                        "type": "scatter3d"
                      }
                    ],
                    "scattercarpet": [
                      {
                        "marker": {
                          "colorbar": {
                            "outlinewidth": 0,
                            "ticks": ""
                          }
                        },
                        "type": "scattercarpet"
                      }
                    ],
                    "scattergeo": [
                      {
                        "marker": {
                          "colorbar": {
                            "outlinewidth": 0,
                            "ticks": ""
                          }
                        },
                        "type": "scattergeo"
                      }
                    ],
                    "scattergl": [
                      {
                        "marker": {
                          "colorbar": {
                            "outlinewidth": 0,
                            "ticks": ""
                          }
                        },
                        "type": "scattergl"
                      }
                    ],
                    "scattermap": [
                      {
                        "marker": {
                          "colorbar": {
                            "outlinewidth": 0,
                            "ticks": ""
                          }
                        },
                        "type": "scattermap"
                      }
                    ],
                    "scattermapbox": [
                      {
                        "marker": {
                          "colorbar": {
                            "outlinewidth": 0,
                            "ticks": ""
                          }
                        },
                        "type": "scattermapbox"
                      }
                    ],
                    "scatterpolar": [
                      {
                        "marker": {
                          "colorbar": {
                            "outlinewidth": 0,
                            "ticks": ""
                          }
                        },
                        "type": "scatterpolar"
                      }
                    ],
                    "scatterpolargl": [
                      {
                        "marker": {
                          "colorbar": {
                            "outlinewidth": 0,
                            "ticks": ""
                          }
                        },
                        "type": "scatterpolargl"
                      }
                    ],
                    "scatterternary": [
                      {
                        "marker": {
                          "colorbar": {
                            "outlinewidth": 0,
                            "ticks": ""
                          }
                        },
                        "type": "scatterternary"
                      }
                    ],
                    "surface": [
                      {
                        "colorbar": {
                          "outlinewidth": 0,
                          "ticks": ""
                        },
                        "colorscale": [
                          [
                            0,
                            "#0d0887"
                          ],
                          [
                            0.1111111111111111,
                            "#46039f"
                          ],
                          [
                            0.2222222222222222,
                            "#7201a8"
                          ],
                          [
                            0.3333333333333333,
                            "#9c179e"
                          ],
                          [
                            0.4444444444444444,
                            "#bd3786"
                          ],
                          [
                            0.5555555555555556,
                            "#d8576b"
                          ],
                          [
                            0.6666666666666666,
                            "#ed7953"
                          ],
                          [
                            0.7777777777777778,
                            "#fb9f3a"
                          ],
                          [
                            0.8888888888888888,
                            "#fdca26"
                          ],
                          [
                            1,
                            "#f0f921"
                          ]
                        ],
                        "type": "surface"
                      }
                    ],
                    "table": [
                      {
                        "cells": {
                          "fill": {
                            "color": "#EBF0F8"
                          },
                          "line": {
                            "color": "white"
                          }
                        },
                        "header": {
                          "fill": {
                            "color": "#C8D4E3"
                          },
                          "line": {
                            "color": "white"
                          }
                        },
                        "type": "table"
                      }
                    ]
                  },
                  "layout": {
                    "annotationdefaults": {
                      "arrowcolor": "#2a3f5f",
                      "arrowhead": 0,
                      "arrowwidth": 1
                    },
                    "autotypenumbers": "strict",
                    "coloraxis": {
                      "colorbar": {
                        "outlinewidth": 0,
                        "ticks": ""
                      }
                    },
                    "colorscale": {
                      "diverging": [
                        [
                          0,
                          "#8e0152"
                        ],
                        [
                          0.1,
                          "#c51b7d"
                        ],
                        [
                          0.2,
                          "#de77ae"
                        ],
                        [
                          0.3,
                          "#f1b6da"
                        ],
                        [
                          0.4,
                          "#fde0ef"
                        ],
                        [
                          0.5,
                          "#f7f7f7"
                        ],
                        [
                          0.6,
                          "#e6f5d0"
                        ],
                        [
                          0.7,
                          "#b8e186"
                        ],
                        [
                          0.8,
                          "#7fbc41"
                        ],
                        [
                          0.9,
                          "#4d9221"
                        ],
                        [
                          1,
                          "#276419"
                        ]
                      ],
                      "sequential": [
                        [
                          0,
                          "#0d0887"
                        ],
                        [
                          0.1111111111111111,
                          "#46039f"
                        ],
                        [
                          0.2222222222222222,
                          "#7201a8"
                        ],
                        [
                          0.3333333333333333,
                          "#9c179e"
                        ],
                        [
                          0.4444444444444444,
                          "#bd3786"
                        ],
                        [
                          0.5555555555555556,
                          "#d8576b"
                        ],
                        [
                          0.6666666666666666,
                          "#ed7953"
                        ],
                        [
                          0.7777777777777778,
                          "#fb9f3a"
                        ],
                        [
                          0.8888888888888888,
                          "#fdca26"
                        ],
                        [
                          1,
                          "#f0f921"
                        ]
                      ],
                      "sequentialminus": [
                        [
                          0,
                          "#0d0887"
                        ],
                        [
                          0.1111111111111111,
                          "#46039f"
                        ],
                        [
                          0.2222222222222222,
                          "#7201a8"
                        ],
                        [
                          0.3333333333333333,
                          "#9c179e"
                        ],
                        [
                          0.4444444444444444,
                          "#bd3786"
                        ],
                        [
                          0.5555555555555556,
                          "#d8576b"
                        ],
                        [
                          0.6666666666666666,
                          "#ed7953"
                        ],
                        [
                          0.7777777777777778,
                          "#fb9f3a"
                        ],
                        [
                          0.8888888888888888,
                          "#fdca26"
                        ],
                        [
                          1,
                          "#f0f921"
                        ]
                      ]
                    },
                    "colorway": [
                      "#636efa",
                      "#EF553B",
                      "#00cc96",
                      "#ab63fa",
                      "#FFA15A",
                      "#19d3f3",
                      "#FF6692",
                      "#B6E880",
                      "#FF97FF",
                      "#FECB52"
                    ],
                    "font": {
                      "color": "#2a3f5f"
                    },
                    "geo": {
                      "bgcolor": "white",
                      "lakecolor": "white",
                      "landcolor": "#E5ECF6",
                      "showlakes": true,
                      "showland": true,
                      "subunitcolor": "white"
                    },
                    "hoverlabel": {
                      "align": "left"
                    },
                    "hovermode": "closest",
                    "mapbox": {
                      "style": "light"
                    },
                    "paper_bgcolor": "white",
                    "plot_bgcolor": "#E5ECF6",
                    "polar": {
                      "angularaxis": {
                        "gridcolor": "white",
                        "linecolor": "white",
                        "ticks": ""
                      },
                      "bgcolor": "#E5ECF6",
                      "radialaxis": {
                        "gridcolor": "white",
                        "linecolor": "white",
                        "ticks": ""
                      }
                    },
                    "scene": {
                      "xaxis": {
                        "backgroundcolor": "#E5ECF6",
                        "gridcolor": "white",
                        "gridwidth": 2,
                        "linecolor": "white",
                        "showbackground": true,
                        "ticks": "",
                        "zerolinecolor": "white"
                      },
                      "yaxis": {
                        "backgroundcolor": "#E5ECF6",
                        "gridcolor": "white",
                        "gridwidth": 2,
                        "linecolor": "white",
                        "showbackground": true,
                        "ticks": "",
                        "zerolinecolor": "white"
                      },
                      "zaxis": {
                        "backgroundcolor": "#E5ECF6",
                        "gridcolor": "white",
                        "gridwidth": 2,
                        "linecolor": "white",
                        "showbackground": true,
                        "ticks": "",
                        "zerolinecolor": "white"
                      }
                    },
                    "shapedefaults": {
                      "line": {
                        "color": "#2a3f5f"
                      }
                    },
                    "ternary": {
                      "aaxis": {
                        "gridcolor": "white",
                        "linecolor": "white",
                        "ticks": ""
                      },
                      "baxis": {
                        "gridcolor": "white",
                        "linecolor": "white",
                        "ticks": ""
                      },
                      "bgcolor": "#E5ECF6",
                      "caxis": {
                        "gridcolor": "white",
                        "linecolor": "white",
                        "ticks": ""
                      }
                    },
                    "title": {
                      "x": 0.05
                    },
                    "xaxis": {
                      "automargin": true,
                      "gridcolor": "white",
                      "linecolor": "white",
                      "ticks": "",
                      "title": {
                        "standoff": 15
                      },
                      "zerolinecolor": "white",
                      "zerolinewidth": 2
                    },
                    "yaxis": {
                      "automargin": true,
                      "gridcolor": "white",
                      "linecolor": "white",
                      "ticks": "",
                      "title": {
                        "standoff": 15
                      },
                      "zerolinecolor": "white",
                      "zerolinewidth": 2
                    }
                  }
                },
                "title": {
                  "text": "Distribución de Churn por PaymentMethod"
                },
                "xaxis": {
                  "anchor": "y",
                  "domain": [
                    0,
                    1
                  ],
                  "title": {
                    "text": "Cantidad de Empleados"
                  }
                },
                "yaxis": {
                  "anchor": "x",
                  "domain": [
                    0,
                    1
                  ],
                  "title": {
                    "text": "PaymentMethod"
                  }
                }
              }
            }
          },
          "metadata": {},
          "output_type": "display_data"
        }
      ],
      "source": [
        "# Metodo de pago\n",
        "fnc.vovsstr(df, 'PaymentMethod', 'Count', 'Churn')"
      ]
    },
    {
      "cell_type": "markdown",
      "metadata": {},
      "source": [
        "- Los clientes que usan cheque electronico son más propensos a desertar que los otros metodos de pago."
      ]
    },
    {
      "cell_type": "markdown",
      "metadata": {},
      "source": [
        "## Análisis de Variables Numericas"
      ]
    },
    {
      "cell_type": "code",
      "execution_count": 20,
      "metadata": {},
      "outputs": [
        {
          "data": {
            "application/vnd.plotly.v1+json": {
              "config": {
                "plotlyServerURL": "https://plot.ly"
              },
              "data": [
                {
                  "alignmentgroup": "True",
                  "boxpoints": "outliers",
                  "hovertemplate": "Churn=%{x}<br>tenure=%{y}<extra></extra>",
                  "legendgroup": "",
                  "marker": {
                    "color": "#636efa"
                  },
                  "name": "",
                  "notched": false,
                  "offsetgroup": "",
                  "orientation": "v",
                  "showlegend": false,
                  "type": "box",
                  "x": [
                    "No",
                    "No",
                    "Yes",
                    "No",
                    "Yes",
                    "Yes",
                    "No",
                    "No",
                    "Yes",
                    "No",
                    "No",
                    "No",
                    "No",
                    "Yes",
                    "No",
                    "No",
                    "No",
                    "No",
                    "Yes",
                    "No",
                    "Yes",
                    "No",
                    "Yes",
                    "No",
                    "No",
                    "No",
                    "Yes",
                    "Yes",
                    "No",
                    "Yes",
                    "No",
                    "No",
                    "No",
                    "No",
                    "No",
                    "No",
                    "Yes",
                    "No",
                    "Yes",
                    "Yes",
                    "No",
                    "No",
                    "No",
                    "No",
                    "No",
                    "No",
                    "No",
                    "Yes",
                    "No",
                    "No",
                    "No",
                    "Yes",
                    "No",
                    "Yes",
                    "No",
                    "Yes",
                    "No",
                    "No",
                    "No",
                    "No",
                    "No",
                    "No",
                    "No",
                    "No",
                    "Yes",
                    "No",
                    "No",
                    "No",
                    "No",
                    "No",
                    "No",
                    "No",
                    "No",
                    "No",
                    "No",
                    "No",
                    "No",
                    "No",
                    "No",
                    "No",
                    "Yes",
                    "No",
                    "Yes",
                    "No",
                    "No",
                    "No",
                    "No",
                    "No",
                    "No",
                    "No",
                    "No",
                    "No",
                    "No",
                    "No",
                    "No",
                    "Yes",
                    "No",
                    "Yes",
                    "No",
                    "Yes",
                    "No",
                    "No",
                    "No",
                    "No",
                    "Yes",
                    "No",
                    "No",
                    "No",
                    "No",
                    "No",
                    "Yes",
                    "No",
                    "No",
                    "Yes",
                    "No",
                    "No",
                    "No",
                    "Yes",
                    "No",
                    "No",
                    "No",
                    "No",
                    "Yes",
                    "No",
                    "No",
                    "No",
                    "Yes",
                    "No",
                    "No",
                    "No",
                    "No",
                    "Yes",
                    "No",
                    "Yes",
                    "Yes",
                    "No",
                    "No",
                    "No",
                    "No",
                    "Yes",
                    "No",
                    "Yes",
                    "No",
                    "No",
                    "No",
                    "No",
                    "No",
                    "Yes",
                    "No",
                    "No",
                    "No",
                    "Yes",
                    "No",
                    "No",
                    "No",
                    "No",
                    "No",
                    "No",
                    "No",
                    "No",
                    "No",
                    "Yes",
                    "No",
                    "No",
                    "No",
                    "No",
                    "Yes",
                    "No",
                    "Yes",
                    "No",
                    "No",
                    "Yes",
                    "No",
                    "Yes",
                    "No",
                    "No",
                    "Yes",
                    "Yes",
                    "No",
                    "No",
                    "Yes",
                    "No",
                    "Yes",
                    "No",
                    "Yes",
                    "Yes",
                    "No",
                    "No",
                    "No",
                    "No",
                    "No",
                    "Yes",
                    "No",
                    "No",
                    "No",
                    "No",
                    "No",
                    "No",
                    "No",
                    "No",
                    "No",
                    "No",
                    "No",
                    "No",
                    "No",
                    "No",
                    "No",
                    "Yes",
                    "Yes",
                    "No",
                    "Yes",
                    "No",
                    "No",
                    "No",
                    "No",
                    "No",
                    "No",
                    "No",
                    "No",
                    "No",
                    "Yes",
                    "No",
                    "No",
                    "Yes",
                    "No",
                    "No",
                    "No",
                    "Yes",
                    "No",
                    "No",
                    "No",
                    "No",
                    "Yes",
                    "No",
                    "No",
                    "Yes",
                    "No",
                    "No",
                    "Yes",
                    "No",
                    "No",
                    "No",
                    "No",
                    "No",
                    "No",
                    "No",
                    "No",
                    "Yes",
                    "Yes",
                    "No",
                    "No",
                    "Yes",
                    "Yes",
                    "No",
                    "No",
                    "No",
                    "No",
                    "No",
                    "Yes",
                    "No",
                    "Yes",
                    "Yes",
                    "No",
                    "No",
                    "No",
                    "No",
                    "No",
                    "No",
                    "Yes",
                    "No",
                    "Yes",
                    "No",
                    "Yes",
                    "No",
                    "Yes",
                    "Yes",
                    "Yes",
                    "No",
                    "No",
                    "No",
                    "No",
                    "No",
                    "No",
                    "No",
                    "Yes",
                    "No",
                    "No",
                    "Yes",
                    "Yes",
                    "Yes",
                    "Yes",
                    "No",
                    "No",
                    "No",
                    "No",
                    "No",
                    "No",
                    "No",
                    "No",
                    "Yes",
                    "No",
                    "Yes",
                    "No",
                    "No",
                    "No",
                    "No",
                    "Yes",
                    "No",
                    "No",
                    "No",
                    "No",
                    "No",
                    "No",
                    "No",
                    "Yes",
                    "No",
                    "No",
                    "Yes",
                    "Yes",
                    "No",
                    "Yes",
                    "No",
                    "No",
                    "No",
                    "No",
                    "No",
                    "No",
                    "Yes",
                    "No",
                    "No",
                    "No",
                    "No",
                    "No",
                    "Yes",
                    "Yes",
                    "Yes",
                    "Yes",
                    "No",
                    "No",
                    "Yes",
                    "No",
                    "No",
                    "No",
                    "No",
                    "No",
                    "No",
                    "Yes",
                    "No",
                    "No",
                    "No",
                    "No",
                    "No",
                    "No",
                    "Yes",
                    "Yes",
                    "Yes",
                    "No",
                    "No",
                    "Yes",
                    "No",
                    "No",
                    "No",
                    "No",
                    "No",
                    "No",
                    "Yes",
                    "No",
                    "No",
                    "No",
                    "No",
                    "No",
                    "Yes",
                    "No",
                    "No",
                    "No",
                    "No",
                    "No",
                    "Yes",
                    "No",
                    "No",
                    "No",
                    "Yes",
                    "No",
                    "Yes",
                    "No",
                    "Yes",
                    "Yes",
                    "No",
                    "No",
                    "No",
                    "No",
                    "No",
                    "No",
                    "No",
                    "No",
                    "No",
                    "No",
                    "Yes",
                    "No",
                    "No",
                    "No",
                    "No",
                    "Yes",
                    "No",
                    "No",
                    "No",
                    "No",
                    "No",
                    "Yes",
                    "Yes",
                    "Yes",
                    "No",
                    "No",
                    "No",
                    "No",
                    "No",
                    "No",
                    "No",
                    "Yes",
                    "Yes",
                    "No",
                    "No",
                    "No",
                    "No",
                    "No",
                    "No",
                    "No",
                    "No",
                    "No",
                    "No",
                    "Yes",
                    "No",
                    "No",
                    "Yes",
                    "No",
                    "No",
                    "No",
                    "No",
                    "No",
                    "No",
                    "No",
                    "No",
                    "No",
                    "No",
                    "No",
                    "Yes",
                    "Yes",
                    "No",
                    "No",
                    "No",
                    "No",
                    "No",
                    "No",
                    "Yes",
                    "No",
                    "No",
                    "No",
                    "No",
                    "No",
                    "No",
                    "No",
                    "No",
                    "Yes",
                    "Yes",
                    "No",
                    "No",
                    "No",
                    "No",
                    "No",
                    "Yes",
                    "No",
                    "Yes",
                    "No",
                    "No",
                    "Yes",
                    "Yes",
                    "No",
                    "No",
                    "Yes",
                    "Yes",
                    "No",
                    "Yes",
                    "No",
                    "No",
                    "Yes",
                    "No",
                    "No",
                    "No",
                    "Yes",
                    "No",
                    "No",
                    "Yes",
                    "No",
                    "No",
                    "Yes",
                    "No",
                    "No",
                    "Yes",
                    "Yes",
                    "No",
                    "No",
                    "No",
                    "No",
                    "No",
                    "Yes",
                    "No",
                    "Yes",
                    "Yes",
                    "No",
                    "No",
                    "No",
                    "Yes",
                    "No",
                    "No",
                    "Yes",
                    "No",
                    "No",
                    "Yes",
                    "No",
                    "No",
                    "No",
                    "No",
                    "Yes",
                    "Yes",
                    "No",
                    "No",
                    "No",
                    "No",
                    "No",
                    "No",
                    "No",
                    "No",
                    "No",
                    "Yes",
                    "No",
                    "No",
                    "No",
                    "No",
                    "No",
                    "No",
                    "No",
                    "No",
                    "Yes",
                    "Yes",
                    "No",
                    "Yes",
                    "No",
                    "No",
                    "No",
                    "No",
                    "No",
                    "No",
                    "No",
                    "Yes",
                    "No",
                    "No",
                    "No",
                    "No",
                    "No",
                    "No",
                    "No",
                    "No",
                    "No",
                    "No",
                    "No",
                    "No",
                    "No",
                    "Yes",
                    "No",
                    "No",
                    "No",
                    "No",
                    "Yes",
                    "No",
                    "No",
                    "No",
                    "No",
                    "No",
                    "No",
                    "Yes",
                    "Yes",
                    "Yes",
                    "No",
                    "No",
                    "Yes",
                    "No",
                    "No",
                    "No",
                    "No",
                    "No",
                    "No",
                    "No",
                    "No",
                    "No",
                    "Yes",
                    "No",
                    "No",
                    "No",
                    "No",
                    "No",
                    "No",
                    "No",
                    "No",
                    "No",
                    "No",
                    "No",
                    "No",
                    "No",
                    "Yes",
                    "Yes",
                    "Yes",
                    "No",
                    "No",
                    "No",
                    "No",
                    "No",
                    "No",
                    "No",
                    "No",
                    "No",
                    "No",
                    "No",
                    "No",
                    "Yes",
                    "No",
                    "No",
                    "No",
                    "No",
                    "Yes",
                    "Yes",
                    "No",
                    "No",
                    "No",
                    "No",
                    "Yes",
                    "No",
                    "No",
                    "Yes",
                    "Yes",
                    "No",
                    "Yes",
                    "Yes",
                    "No",
                    "No",
                    "Yes",
                    "Yes",
                    "No",
                    "Yes",
                    "No",
                    "Yes",
                    "Yes",
                    "No",
                    "No",
                    "Yes",
                    "No",
                    "No",
                    "No",
                    "Yes",
                    "No",
                    "Yes",
                    "No",
                    "No",
                    "No",
                    "No",
                    "No",
                    "Yes",
                    "No",
                    "Yes",
                    "No",
                    "No",
                    "No",
                    "Yes",
                    "No",
                    "Yes",
                    "No",
                    "No",
                    "Yes",
                    "No",
                    "No",
                    "Yes",
                    "No",
                    "No",
                    "No",
                    "No",
                    "No",
                    "No",
                    "Yes",
                    "No",
                    "No",
                    "No",
                    "No",
                    "No",
                    "Yes",
                    "No",
                    "No",
                    "No",
                    "Yes",
                    "No",
                    "No",
                    "No",
                    "No",
                    "No",
                    "No",
                    "No",
                    "Yes",
                    "No",
                    "No",
                    "No",
                    "No",
                    "Yes",
                    "No",
                    "No",
                    "No",
                    "No",
                    "No",
                    "No",
                    "No",
                    "No",
                    "No",
                    "No",
                    "No",
                    "Yes",
                    "Yes",
                    "Yes",
                    "No",
                    "No",
                    "No",
                    "Yes",
                    "No",
                    "Yes",
                    "No",
                    "No",
                    "No",
                    "No",
                    "No",
                    "No",
                    "No",
                    "No",
                    "No",
                    "No",
                    "No",
                    "Yes",
                    "No",
                    "No",
                    "No",
                    "No",
                    "No",
                    "No",
                    "No",
                    "No",
                    "No",
                    "No",
                    "No",
                    "Yes",
                    "No",
                    "No",
                    "Yes",
                    "No",
                    "No",
                    "Yes",
                    "Yes",
                    "No",
                    "No",
                    "No",
                    "No",
                    "No",
                    "No",
                    "No",
                    "No",
                    "Yes",
                    "Yes",
                    "Yes",
                    "Yes",
                    "No",
                    "No",
                    "Yes",
                    "No",
                    "Yes",
                    "No",
                    "No",
                    "No",
                    "Yes",
                    "No",
                    "Yes",
                    "No",
                    "No",
                    "No",
                    "No",
                    "No",
                    "No",
                    "No",
                    "No",
                    "No",
                    "No",
                    "No",
                    "No",
                    "No",
                    "Yes",
                    "No",
                    "Yes",
                    "No",
                    "No",
                    "Yes",
                    "No",
                    "No",
                    "No",
                    "Yes",
                    "Yes",
                    "Yes",
                    "Yes",
                    "No",
                    "No",
                    "No",
                    "No",
                    "Yes",
                    "No",
                    "Yes",
                    "No",
                    "No",
                    "No",
                    "No",
                    "No",
                    "No",
                    "Yes",
                    "Yes",
                    "No",
                    "Yes",
                    "No",
                    "Yes",
                    "No",
                    "No",
                    "No",
                    "Yes",
                    "No",
                    "No",
                    "Yes",
                    "No",
                    "No",
                    "Yes",
                    "No",
                    "Yes",
                    "No",
                    "Yes",
                    "No",
                    "No",
                    "No",
                    "No",
                    "No",
                    "No",
                    "No",
                    "No",
                    "No",
                    "No",
                    "Yes",
                    "No",
                    "Yes",
                    "No",
                    "No",
                    "No",
                    "No",
                    "Yes",
                    "Yes",
                    "Yes",
                    "Yes",
                    "No",
                    "No",
                    "Yes",
                    "No",
                    "No",
                    "No",
                    "No",
                    "Yes",
                    "No",
                    "No",
                    "Yes",
                    "No",
                    "No",
                    "No",
                    "Yes",
                    "No",
                    "Yes",
                    "No",
                    "No",
                    "No",
                    "No",
                    "No",
                    "No",
                    "Yes",
                    "No",
                    "Yes",
                    "No",
                    "Yes",
                    "No",
                    "No",
                    "No",
                    "No",
                    "Yes",
                    "No",
                    "No",
                    "Yes",
                    "Yes",
                    "No",
                    "No",
                    "Yes",
                    "No",
                    "No",
                    "No",
                    "No",
                    "Yes",
                    "No",
                    "No",
                    "No",
                    "No",
                    "Yes",
                    "No",
                    "No",
                    "No",
                    "No",
                    "No",
                    "No",
                    "No",
                    "No",
                    "No",
                    "No",
                    "Yes",
                    "Yes",
                    "No",
                    "No",
                    "No",
                    "No",
                    "No",
                    "Yes",
                    "No",
                    "No",
                    "Yes",
                    "No",
                    "No",
                    "No",
                    "No",
                    "No",
                    "No",
                    "No",
                    "Yes",
                    "No",
                    "No",
                    "Yes",
                    "No",
                    "Yes",
                    "No",
                    "No",
                    "No",
                    "No",
                    "Yes",
                    "No",
                    "No",
                    "No",
                    "No",
                    "No",
                    "No",
                    "No",
                    "No",
                    "Yes",
                    "Yes",
                    "Yes",
                    "No",
                    "No",
                    "Yes",
                    "Yes",
                    "No",
                    "No",
                    "Yes",
                    "No",
                    "Yes",
                    "Yes",
                    "No",
                    "Yes",
                    "No",
                    "No",
                    "No",
                    "No",
                    "Yes",
                    "No",
                    "Yes",
                    "No",
                    "No",
                    "No",
                    "No",
                    "No",
                    "No",
                    "No",
                    "No",
                    "No",
                    "Yes",
                    "Yes",
                    "Yes",
                    "No",
                    "No",
                    "Yes",
                    "Yes",
                    "No",
                    "No",
                    "No",
                    "No",
                    "Yes",
                    "Yes",
                    "Yes",
                    "No",
                    "No",
                    "No",
                    "No",
                    "No",
                    "Yes",
                    "Yes",
                    "No",
                    "No",
                    "No",
                    "No",
                    "No",
                    "No",
                    "No",
                    "No",
                    "No",
                    "No",
                    "Yes",
                    "No",
                    "Yes",
                    "Yes",
                    "No",
                    "No",
                    "Yes",
                    "No",
                    "No",
                    "No",
                    "No",
                    "No",
                    "No",
                    "Yes",
                    "Yes",
                    "No",
                    "No",
                    "Yes",
                    "No",
                    "No",
                    "No",
                    "No",
                    "No",
                    "Yes",
                    "Yes",
                    "No",
                    "No",
                    "Yes",
                    "Yes",
                    "No",
                    "Yes",
                    "Yes",
                    "Yes",
                    "Yes",
                    "No",
                    "No",
                    "No",
                    "No",
                    "No",
                    "Yes",
                    "No",
                    "No",
                    "Yes",
                    "No",
                    "Yes",
                    "Yes",
                    "No",
                    "Yes",
                    "No",
                    "No",
                    "No",
                    "Yes",
                    "No",
                    "No",
                    "No",
                    "No",
                    "Yes",
                    "No",
                    "Yes",
                    "Yes",
                    "No",
                    "Yes",
                    "No",
                    "No",
                    "No",
                    "No",
                    "No",
                    "No",
                    "No",
                    "No",
                    "Yes",
                    "No",
                    "No",
                    "No",
                    "No",
                    "Yes",
                    "No",
                    "No",
                    "No",
                    "No",
                    "No",
                    "No",
                    "No",
                    "No",
                    "Yes",
                    "No",
                    "Yes",
                    "No",
                    "No",
                    "No",
                    "No",
                    "No",
                    "No",
                    "No",
                    "No",
                    "Yes",
                    "No",
                    "No",
                    "Yes",
                    "Yes",
                    "No",
                    "No",
                    "No",
                    "No",
                    "Yes",
                    "Yes",
                    "No",
                    "No",
                    "No",
                    "No",
                    "No",
                    "No",
                    "No",
                    "No",
                    "No",
                    "No",
                    "No",
                    "Yes",
                    "No",
                    "No",
                    "No",
                    "Yes",
                    "Yes",
                    "No",
                    "No",
                    "No",
                    "No",
                    "No",
                    "No",
                    "No",
                    "No",
                    "No",
                    "Yes",
                    "No",
                    "Yes",
                    "No",
                    "Yes",
                    "No",
                    "No",
                    "No",
                    "No",
                    "No",
                    "No",
                    "No",
                    "Yes",
                    "No",
                    "Yes",
                    "No",
                    "No",
                    "Yes",
                    "No",
                    "Yes",
                    "No",
                    "No",
                    "Yes",
                    "No",
                    "No",
                    "No",
                    "Yes",
                    "No",
                    "No",
                    "No",
                    "No",
                    "No",
                    "No",
                    "Yes",
                    "No",
                    "No",
                    "No",
                    "No",
                    "No",
                    "No",
                    "No",
                    "No",
                    "No",
                    "Yes",
                    "No",
                    "No",
                    "Yes",
                    "No",
                    "No",
                    "Yes",
                    "No",
                    "Yes",
                    "Yes",
                    "No",
                    "No",
                    "Yes",
                    "Yes",
                    "No",
                    "No",
                    "Yes",
                    "No",
                    "No",
                    "No",
                    "No",
                    "Yes",
                    "Yes",
                    "Yes",
                    "No",
                    "No",
                    "No",
                    "No",
                    "No",
                    "No",
                    "Yes",
                    "No",
                    "No",
                    "No",
                    "Yes",
                    "No",
                    "Yes",
                    "No",
                    "No",
                    "No",
                    "No",
                    "Yes",
                    "Yes",
                    "No",
                    "No",
                    "No",
                    "Yes",
                    "Yes",
                    "No",
                    "Yes",
                    "No",
                    "Yes",
                    "No",
                    "Yes",
                    "No",
                    "No",
                    "No",
                    "Yes",
                    "No",
                    "No",
                    "No",
                    "Yes",
                    "No",
                    "No",
                    "No",
                    "No",
                    "Yes",
                    "No",
                    "No",
                    "No",
                    "No",
                    "No",
                    "No",
                    "No",
                    "No",
                    "No",
                    "No",
                    "No",
                    "No",
                    "No",
                    "No",
                    "No",
                    "No",
                    "Yes",
                    "No",
                    "No",
                    "No",
                    "No",
                    "No",
                    "Yes",
                    "No",
                    "No",
                    "Yes",
                    "No",
                    "No",
                    "No",
                    "No",
                    "Yes",
                    "No",
                    "No",
                    "No",
                    "No",
                    "Yes",
                    "No",
                    "Yes",
                    "No",
                    "Yes",
                    "Yes",
                    "Yes",
                    "No",
                    "No",
                    "Yes",
                    "Yes",
                    "No",
                    "No",
                    "No",
                    "No",
                    "Yes",
                    "No",
                    "No",
                    "No",
                    "No",
                    "Yes",
                    "Yes",
                    "No",
                    "Yes",
                    "No",
                    "No",
                    "No",
                    "No",
                    "No",
                    "No",
                    "Yes",
                    "Yes",
                    "No",
                    "No",
                    "Yes",
                    "Yes",
                    "Yes",
                    "No",
                    "No",
                    "No",
                    "No",
                    "Yes",
                    "No",
                    "Yes",
                    "No",
                    "No",
                    "No",
                    "No",
                    "No",
                    "Yes",
                    "No",
                    "No",
                    "No",
                    "No",
                    "Yes",
                    "Yes",
                    "Yes",
                    "Yes",
                    "No",
                    "No",
                    "Yes",
                    "Yes",
                    "No",
                    "No",
                    "No",
                    "No",
                    "Yes",
                    "No",
                    "No",
                    "No",
                    "No",
                    "Yes",
                    "No",
                    "No",
                    "No",
                    "No",
                    "No",
                    "No",
                    "Yes",
                    "Yes",
                    "No",
                    "No",
                    "No",
                    "No",
                    "Yes",
                    "No",
                    "No",
                    "No",
                    "No",
                    "No",
                    "Yes",
                    "Yes",
                    "No",
                    "No",
                    "No",
                    "No",
                    "Yes",
                    "Yes",
                    "No",
                    "No",
                    "Yes",
                    "No",
                    "No",
                    "No",
                    "No",
                    "Yes",
                    "No",
                    "Yes",
                    "No",
                    "No",
                    "No",
                    "No",
                    "No",
                    "No",
                    "No",
                    "No",
                    "Yes",
                    "No",
                    "Yes",
                    "No",
                    "No",
                    "No",
                    "No",
                    "Yes",
                    "No",
                    "No",
                    "No",
                    "No",
                    "No",
                    "Yes",
                    "No",
                    "Yes",
                    "No",
                    "No",
                    "Yes",
                    "No",
                    "No",
                    "No",
                    "No",
                    "No",
                    "No",
                    "No",
                    "Yes",
                    "No",
                    "No",
                    "No",
                    "No",
                    "No",
                    "No",
                    "No",
                    "No",
                    "Yes",
                    "No",
                    "Yes",
                    "No",
                    "Yes",
                    "No",
                    "No",
                    "Yes",
                    "No",
                    "No",
                    "No",
                    "No",
                    "No",
                    "Yes",
                    "No",
                    "No",
                    "Yes",
                    "Yes",
                    "No",
                    "No",
                    "No",
                    "Yes",
                    "Yes",
                    "No",
                    "No",
                    "No",
                    "No",
                    "No",
                    "No",
                    "Yes",
                    "Yes",
                    "No",
                    "No",
                    "No",
                    "No",
                    "No",
                    "Yes",
                    "No",
                    "Yes",
                    "No",
                    "No",
                    "No",
                    "Yes",
                    "No",
                    "No",
                    "No",
                    "No",
                    "No",
                    "No",
                    "Yes",
                    "No",
                    "No",
                    "No",
                    "Yes",
                    "No",
                    "No",
                    "No",
                    "Yes",
                    "No",
                    "No",
                    "No",
                    "No",
                    "No",
                    "Yes",
                    "No",
                    "No",
                    "Yes",
                    "No",
                    "No",
                    "No",
                    "No",
                    "No",
                    "No",
                    "No",
                    "Yes",
                    "No",
                    "No",
                    "Yes",
                    "No",
                    "No",
                    "No",
                    "No",
                    "Yes",
                    "No",
                    "No",
                    "No",
                    "No",
                    "Yes",
                    "No",
                    "No",
                    "No",
                    "Yes",
                    "No",
                    "Yes",
                    "No",
                    "No",
                    "No",
                    "No",
                    "No",
                    "Yes",
                    "Yes",
                    "No",
                    "Yes",
                    "No",
                    "No",
                    "Yes",
                    "No",
                    "No",
                    "Yes",
                    "No",
                    "No",
                    "No",
                    "No",
                    "No",
                    "No",
                    "No",
                    "Yes",
                    "No",
                    "No",
                    "Yes",
                    "No",
                    "Yes",
                    "Yes",
                    "Yes",
                    "No",
                    "No",
                    "No",
                    "No",
                    "No",
                    "No",
                    "No",
                    "No",
                    "No",
                    "No",
                    "No",
                    "No",
                    "Yes",
                    "No",
                    "No",
                    "Yes",
                    "No",
                    "No",
                    "No",
                    "No",
                    "Yes",
                    "No",
                    "Yes",
                    "Yes",
                    "No",
                    "No",
                    "No",
                    "Yes",
                    "No",
                    "No",
                    "No",
                    "No",
                    "Yes",
                    "No",
                    "No",
                    "No",
                    "No",
                    "No",
                    "Yes",
                    "No",
                    "No",
                    "Yes",
                    "No",
                    "No",
                    "Yes",
                    "Yes",
                    "No",
                    "No",
                    "No",
                    "No",
                    "No",
                    "Yes",
                    "Yes",
                    "No",
                    "No",
                    "No",
                    "No",
                    "No",
                    "No",
                    "Yes",
                    "No",
                    "No",
                    "No",
                    "No",
                    "Yes",
                    "Yes",
                    "No",
                    "Yes",
                    "No",
                    "No",
                    "Yes",
                    "Yes",
                    "No",
                    "No",
                    "No",
                    "Yes",
                    "No",
                    "No",
                    "Yes",
                    "No",
                    "No",
                    "No",
                    "Yes",
                    "Yes",
                    "Yes",
                    "No",
                    "No",
                    "No",
                    "No",
                    "No",
                    "Yes",
                    "No",
                    "No",
                    "Yes",
                    "No",
                    "Yes",
                    "No",
                    "No",
                    "No",
                    "No",
                    "No",
                    "No",
                    "No",
                    "No",
                    "No",
                    "No",
                    "Yes",
                    "No",
                    "No",
                    "No",
                    "No",
                    "No",
                    "No",
                    "No",
                    "Yes",
                    "No",
                    "Yes",
                    "No",
                    "No",
                    "No",
                    "No",
                    "Yes",
                    "Yes",
                    "No",
                    "Yes",
                    "No",
                    "No",
                    "No",
                    "Yes",
                    "No",
                    "No",
                    "No",
                    "No",
                    "No",
                    "No",
                    "No",
                    "No",
                    "No",
                    "No",
                    "No",
                    "No",
                    "Yes",
                    "No",
                    "No",
                    "No",
                    "No",
                    "No",
                    "No",
                    "No",
                    "No",
                    "Yes",
                    "Yes",
                    "No",
                    "No",
                    "Yes",
                    "No",
                    "Yes",
                    "No",
                    "No",
                    "Yes",
                    "No",
                    "No",
                    "Yes",
                    "No",
                    "No",
                    "No",
                    "No",
                    "Yes",
                    "No",
                    "No",
                    "No",
                    "Yes",
                    "No",
                    "No",
                    "No",
                    "No",
                    "No",
                    "No",
                    "No",
                    "No",
                    "No",
                    "No",
                    "No",
                    "No",
                    "No",
                    "No",
                    "No",
                    "No",
                    "No",
                    "No",
                    "Yes",
                    "Yes",
                    "Yes",
                    "No",
                    "No",
                    "No",
                    "No",
                    "No",
                    "No",
                    "No",
                    "Yes",
                    "No",
                    "No",
                    "Yes",
                    "Yes",
                    "No",
                    "Yes",
                    "No",
                    "No",
                    "No",
                    "Yes",
                    "No",
                    "No",
                    "No",
                    "No",
                    "Yes",
                    "No",
                    "No",
                    "No",
                    "Yes",
                    "No",
                    "No",
                    "No",
                    "No",
                    "No",
                    "No",
                    "No",
                    "Yes",
                    "Yes",
                    "Yes",
                    "No",
                    "No",
                    "No",
                    "No",
                    "No",
                    "No",
                    "No",
                    "No",
                    "No",
                    "No",
                    "No",
                    "Yes",
                    "Yes",
                    "Yes",
                    "No",
                    "No",
                    "No",
                    "No",
                    "No",
                    "No",
                    "No",
                    "No",
                    "Yes",
                    "No",
                    "Yes",
                    "No",
                    "Yes",
                    "Yes",
                    "No",
                    "No",
                    "Yes",
                    "No",
                    "No",
                    "No",
                    "No",
                    "No",
                    "No",
                    "No",
                    "No",
                    "Yes",
                    "No",
                    "Yes",
                    "Yes",
                    "Yes",
                    "Yes",
                    "No",
                    "Yes",
                    "No",
                    "Yes",
                    "Yes",
                    "No",
                    "Yes",
                    "No",
                    "No",
                    "No",
                    "No",
                    "No",
                    "Yes",
                    "No",
                    "No",
                    "No",
                    "No",
                    "No",
                    "No",
                    "No",
                    "No",
                    "No",
                    "No",
                    "No",
                    "Yes",
                    "Yes",
                    "No",
                    "No",
                    "Yes",
                    "No",
                    "No",
                    "No",
                    "Yes",
                    "No",
                    "No",
                    "Yes",
                    "Yes",
                    "No",
                    "No",
                    "No",
                    "No",
                    "No",
                    "Yes",
                    "Yes",
                    "No",
                    "No",
                    "No",
                    "No",
                    "No",
                    "Yes",
                    "No",
                    "No",
                    "No",
                    "No",
                    "No",
                    "No",
                    "No",
                    "No",
                    "No",
                    "No",
                    "No",
                    "Yes",
                    "No",
                    "No",
                    "Yes",
                    "No",
                    "No",
                    "No",
                    "No",
                    "No",
                    "No",
                    "Yes",
                    "Yes",
                    "Yes",
                    "No",
                    "No",
                    "No",
                    "No",
                    "No",
                    "Yes",
                    "No",
                    "No",
                    "No",
                    "No",
                    "No",
                    "No",
                    "No",
                    "No",
                    "No",
                    "Yes",
                    "No",
                    "No",
                    "No",
                    "Yes",
                    "No",
                    "Yes",
                    "No",
                    "No",
                    "Yes",
                    "Yes",
                    "No",
                    "No",
                    "No",
                    "No",
                    "No",
                    "No",
                    "No",
                    "No",
                    "No",
                    "No",
                    "Yes",
                    "No",
                    "Yes",
                    "No",
                    "No",
                    "Yes",
                    "No",
                    "No",
                    "No",
                    "Yes",
                    "No",
                    "Yes",
                    "No",
                    "No",
                    "No",
                    "No",
                    "Yes",
                    "No",
                    "No",
                    "Yes",
                    "Yes",
                    "No",
                    "Yes",
                    "Yes",
                    "No",
                    "Yes",
                    "No",
                    "No",
                    "Yes",
                    "No",
                    "Yes",
                    "No",
                    "No",
                    "Yes",
                    "Yes",
                    "No",
                    "No",
                    "No",
                    "Yes",
                    "Yes",
                    "Yes",
                    "Yes",
                    "Yes",
                    "Yes",
                    "No",
                    "Yes",
                    "No",
                    "Yes",
                    "No",
                    "No",
                    "No",
                    "Yes",
                    "No",
                    "Yes",
                    "Yes",
                    "No",
                    "No",
                    "No",
                    "Yes",
                    "No",
                    "No",
                    "No",
                    "No",
                    "No",
                    "Yes",
                    "No",
                    "No",
                    "Yes",
                    "Yes",
                    "No",
                    "No",
                    "No",
                    "No",
                    "Yes",
                    "Yes",
                    "No",
                    "No",
                    "No",
                    "No",
                    "No",
                    "No",
                    "No",
                    "No",
                    "Yes",
                    "No",
                    "No",
                    "No",
                    "No",
                    "Yes",
                    "Yes",
                    "No",
                    "No",
                    "Yes",
                    "No",
                    "No",
                    "No",
                    "Yes",
                    "No",
                    "No",
                    "No",
                    "No",
                    "No",
                    "No",
                    "No",
                    "Yes",
                    "Yes",
                    "No",
                    "No",
                    "No",
                    "Yes",
                    "No",
                    "No",
                    "Yes",
                    "No",
                    "No",
                    "No",
                    "No",
                    "No",
                    "Yes",
                    "Yes",
                    "Yes",
                    "Yes",
                    "Yes",
                    "No",
                    "No",
                    "No",
                    "No",
                    "No",
                    "No",
                    "No",
                    "Yes",
                    "Yes",
                    "No",
                    "No",
                    "No",
                    "No",
                    "Yes",
                    "No",
                    "No",
                    "Yes",
                    "Yes",
                    "No",
                    "No",
                    "No",
                    "No",
                    "No",
                    "No",
                    "No",
                    "No",
                    "No",
                    "No",
                    "Yes",
                    "No",
                    "No",
                    "No",
                    "No",
                    "No",
                    "No",
                    "No",
                    "Yes",
                    "No",
                    "No",
                    "Yes",
                    "No",
                    "Yes",
                    "Yes",
                    "No",
                    "No",
                    "Yes",
                    "No",
                    "No",
                    "No",
                    "No",
                    "No",
                    "No",
                    "Yes",
                    "No",
                    "No",
                    "No",
                    "No",
                    "No",
                    "No",
                    "No",
                    "No",
                    "No",
                    "No",
                    "No",
                    "No",
                    "No",
                    "No",
                    "Yes",
                    "Yes",
                    "No",
                    "No",
                    "No",
                    "No",
                    "Yes",
                    "No",
                    "Yes",
                    "No",
                    "No",
                    "No",
                    "Yes",
                    "Yes",
                    "No",
                    "No",
                    "No",
                    "No",
                    "No",
                    "No",
                    "Yes",
                    "No",
                    "No",
                    "No",
                    "No",
                    "No",
                    "No",
                    "No",
                    "No",
                    "Yes",
                    "Yes",
                    "No",
                    "No",
                    "No",
                    "No",
                    "No",
                    "Yes",
                    "No",
                    "No",
                    "Yes",
                    "No",
                    "No",
                    "No",
                    "No",
                    "No",
                    "No",
                    "No",
                    "Yes",
                    "No",
                    "Yes",
                    "No",
                    "Yes",
                    "Yes",
                    "Yes",
                    "No",
                    "No",
                    "No",
                    "No",
                    "No",
                    "Yes",
                    "No",
                    "No",
                    "No",
                    "No",
                    "No",
                    "No",
                    "No",
                    "No",
                    "Yes",
                    "Yes",
                    "No",
                    "No",
                    "No",
                    "No",
                    "No",
                    "No",
                    "Yes",
                    "No",
                    "No",
                    "No",
                    "No",
                    "No",
                    "No",
                    "No",
                    "No",
                    "No",
                    "No",
                    "No",
                    "No",
                    "Yes",
                    "No",
                    "Yes",
                    "No",
                    "No",
                    "No",
                    "No",
                    "No",
                    "No",
                    "No",
                    "No",
                    "No",
                    "No",
                    "No",
                    "No",
                    "No",
                    "Yes",
                    "No",
                    "Yes",
                    "Yes",
                    "No",
                    "Yes",
                    "No",
                    "No",
                    "No",
                    "Yes",
                    "Yes",
                    "No",
                    "No",
                    "No",
                    "Yes",
                    "Yes",
                    "No",
                    "Yes",
                    "No",
                    "No",
                    "No",
                    "Yes",
                    "Yes",
                    "Yes",
                    "No",
                    "Yes",
                    "No",
                    "Yes",
                    "No",
                    "No",
                    "Yes",
                    "Yes",
                    "No",
                    "No",
                    "Yes",
                    "Yes",
                    "No",
                    "Yes",
                    "No",
                    "No",
                    "Yes",
                    "No",
                    "No",
                    "Yes",
                    "No",
                    "No",
                    "No",
                    "No",
                    "No",
                    "No",
                    "No",
                    "No",
                    "No",
                    "No",
                    "No",
                    "No",
                    "No",
                    "No",
                    "No",
                    "No",
                    "No",
                    "No",
                    "No",
                    "Yes",
                    "Yes",
                    "No",
                    "No",
                    "No",
                    "No",
                    "No",
                    "No",
                    "No",
                    "No",
                    "No",
                    "No",
                    "No",
                    "Yes",
                    "Yes",
                    "No",
                    "Yes",
                    "No",
                    "No",
                    "No",
                    "No",
                    "No",
                    "No",
                    "No",
                    "No",
                    "No",
                    "No",
                    "No",
                    "No",
                    "No",
                    "No",
                    "No",
                    "No",
                    "No",
                    "No",
                    "No",
                    "No",
                    "No",
                    "Yes",
                    "No",
                    "No",
                    "No",
                    "No",
                    "Yes",
                    "Yes",
                    "No",
                    "No",
                    "No",
                    "No",
                    "No",
                    "No",
                    "No",
                    "No",
                    "No",
                    "No",
                    "Yes",
                    "Yes",
                    "No",
                    "No",
                    "No",
                    "No",
                    "No",
                    "No",
                    "No",
                    "No",
                    "No",
                    "No",
                    "No",
                    "No",
                    "No",
                    "Yes",
                    "No",
                    "No",
                    "No",
                    "Yes",
                    "No",
                    "No",
                    "No",
                    "No",
                    "No",
                    "No",
                    "No",
                    "Yes",
                    "Yes",
                    "Yes",
                    "No",
                    "No",
                    "No",
                    "No",
                    "Yes",
                    "No",
                    "No",
                    "Yes",
                    "No",
                    "No",
                    "No",
                    "No",
                    "No",
                    "No",
                    "No",
                    "No",
                    "Yes",
                    "No",
                    "No",
                    "Yes",
                    "Yes",
                    "No",
                    "No",
                    "Yes",
                    "No",
                    "No",
                    "No",
                    "No",
                    "No",
                    "No",
                    "Yes",
                    "No",
                    "No",
                    "No",
                    "Yes",
                    "No",
                    "Yes",
                    "No",
                    "Yes",
                    "No",
                    "Yes",
                    "No",
                    "No",
                    "Yes",
                    "Yes",
                    "No",
                    "No",
                    "Yes",
                    "No",
                    "No",
                    "No",
                    "No",
                    "No",
                    "No",
                    "No",
                    "No",
                    "Yes",
                    "Yes",
                    "No",
                    "No",
                    "Yes",
                    "No",
                    "No",
                    "Yes",
                    "No",
                    "No",
                    "No",
                    "No",
                    "No",
                    "No",
                    "No",
                    "No",
                    "Yes",
                    "No",
                    "No",
                    "Yes",
                    "No",
                    "Yes",
                    "No",
                    "No",
                    "Yes",
                    "No",
                    "No",
                    "No",
                    "Yes",
                    "No",
                    "Yes",
                    "No",
                    "No",
                    "No",
                    "No",
                    "No",
                    "No",
                    "No",
                    "No",
                    "No",
                    "Yes",
                    "No",
                    "No",
                    "No",
                    "No",
                    "No",
                    "Yes",
                    "No",
                    "No",
                    "No",
                    "Yes",
                    "No",
                    "Yes",
                    "Yes",
                    "No",
                    "No",
                    "No",
                    "Yes",
                    "No",
                    "No",
                    "No",
                    "No",
                    "Yes",
                    "Yes",
                    "Yes",
                    "Yes",
                    "No",
                    "No",
                    "No",
                    "No",
                    "No",
                    "No",
                    "Yes",
                    "No",
                    "No",
                    "No",
                    "No",
                    "No",
                    "No",
                    "Yes",
                    "No",
                    "No",
                    "No",
                    "No",
                    "No",
                    "No",
                    "No",
                    "No",
                    "No",
                    "No",
                    "No",
                    "No",
                    "No",
                    "No",
                    "No",
                    "No",
                    "Yes",
                    "No",
                    "No",
                    "Yes",
                    "Yes",
                    "No",
                    "No",
                    "Yes",
                    "No",
                    "No",
                    "Yes",
                    "No",
                    "No",
                    "Yes",
                    "Yes",
                    "No",
                    "No",
                    "Yes",
                    "Yes",
                    "No",
                    "No",
                    "No",
                    "No",
                    "No",
                    "No",
                    "No",
                    "No",
                    "No",
                    "No",
                    "Yes",
                    "No",
                    "No",
                    "No",
                    "No",
                    "No",
                    "No",
                    "No",
                    "No",
                    "No",
                    "No",
                    "No",
                    "No",
                    "No",
                    "No",
                    "No",
                    "No",
                    "No",
                    "Yes",
                    "Yes",
                    "Yes",
                    "Yes",
                    "Yes",
                    "No",
                    "Yes",
                    "Yes",
                    "No",
                    "Yes",
                    "Yes",
                    "No",
                    "Yes",
                    "No",
                    "No",
                    "No",
                    "No",
                    "No",
                    "No",
                    "No",
                    "No",
                    "No",
                    "Yes",
                    "No",
                    "Yes",
                    "No",
                    "No",
                    "Yes",
                    "No",
                    "No",
                    "No",
                    "Yes",
                    "Yes",
                    "No",
                    "No",
                    "Yes",
                    "Yes",
                    "Yes",
                    "No",
                    "No",
                    "No",
                    "No",
                    "No",
                    "No",
                    "Yes",
                    "No",
                    "No",
                    "Yes",
                    "Yes",
                    "No",
                    "No",
                    "No",
                    "No",
                    "No",
                    "No",
                    "Yes",
                    "No",
                    "No",
                    "No",
                    "No",
                    "No",
                    "Yes",
                    "Yes",
                    "No",
                    "No",
                    "No",
                    "Yes",
                    "No",
                    "No",
                    "No",
                    "Yes",
                    "No",
                    "Yes",
                    "No",
                    "No",
                    "Yes",
                    "Yes",
                    "No",
                    "No",
                    "Yes",
                    "No",
                    "Yes",
                    "No",
                    "Yes",
                    "No",
                    "No",
                    "No",
                    "No",
                    "No",
                    "No",
                    "No",
                    "No",
                    "No",
                    "No",
                    "No",
                    "No",
                    "Yes",
                    "No",
                    "No",
                    "Yes",
                    "Yes",
                    "Yes",
                    "No",
                    "No",
                    "Yes",
                    "No",
                    "No",
                    "No",
                    "No",
                    "No",
                    "No",
                    "No",
                    "No",
                    "Yes",
                    "Yes",
                    "No",
                    "No",
                    "No",
                    "No",
                    "No",
                    "Yes",
                    "No",
                    "Yes",
                    "No",
                    "No",
                    "No",
                    "No",
                    "No",
                    "No",
                    "No",
                    "No",
                    "No",
                    "No",
                    "Yes",
                    "Yes",
                    "No",
                    "No",
                    "No",
                    "Yes",
                    "No",
                    "No",
                    "Yes",
                    "No",
                    "No",
                    "No",
                    "Yes",
                    "Yes",
                    "No",
                    "No",
                    "Yes",
                    "No",
                    "No",
                    "No",
                    "No",
                    "Yes",
                    "No",
                    "No",
                    "No",
                    "No",
                    "No",
                    "No",
                    "No",
                    "Yes",
                    "Yes",
                    "No",
                    "No",
                    "No",
                    "No",
                    "Yes",
                    "Yes",
                    "No",
                    "No",
                    "Yes",
                    "Yes",
                    "No",
                    "No",
                    "No",
                    "Yes",
                    "No",
                    "No",
                    "No",
                    "No",
                    "No",
                    "Yes",
                    "No",
                    "No",
                    "No",
                    "No",
                    "Yes",
                    "No",
                    "Yes",
                    "Yes",
                    "No",
                    "No",
                    "No",
                    "Yes",
                    "No",
                    "Yes",
                    "No",
                    "No",
                    "No",
                    "No",
                    "No",
                    "No",
                    "No",
                    "Yes",
                    "No",
                    "No",
                    "Yes",
                    "No",
                    "No",
                    "Yes",
                    "No",
                    "No",
                    "Yes",
                    "Yes",
                    "No",
                    "No",
                    "No",
                    "No",
                    "No",
                    "No",
                    "Yes",
                    "No",
                    "Yes",
                    "No",
                    "No",
                    "No",
                    "No",
                    "No",
                    "Yes",
                    "No",
                    "No",
                    "No",
                    "No",
                    "No",
                    "No",
                    "Yes",
                    "No",
                    "No",
                    "No",
                    "No",
                    "No",
                    "No",
                    "No",
                    "No",
                    "No",
                    "No",
                    "No",
                    "No",
                    "No",
                    "No",
                    "No",
                    "No",
                    "Yes",
                    "Yes",
                    "No",
                    "No",
                    "No",
                    "No",
                    "No",
                    "No",
                    "Yes",
                    "No",
                    "Yes",
                    "No",
                    "Yes",
                    "No",
                    "Yes",
                    "No",
                    "Yes",
                    "No",
                    "Yes",
                    "No",
                    "No",
                    "No",
                    "No",
                    "No",
                    "No",
                    "No",
                    "Yes",
                    "Yes",
                    "No",
                    "Yes",
                    "Yes",
                    "No",
                    "Yes",
                    "Yes",
                    "No",
                    "No",
                    "No",
                    "No",
                    "No",
                    "Yes",
                    "No",
                    "No",
                    "No",
                    "Yes",
                    "No",
                    "No",
                    "Yes",
                    "Yes",
                    "No",
                    "No",
                    "Yes",
                    "No",
                    "No",
                    "No",
                    "No",
                    "No",
                    "No",
                    "No",
                    "No",
                    "No",
                    "Yes",
                    "Yes",
                    "No",
                    "Yes",
                    "No",
                    "No",
                    "No",
                    "No",
                    "No",
                    "No",
                    "No",
                    "No",
                    "No",
                    "No",
                    "No",
                    "No",
                    "No",
                    "No",
                    "Yes",
                    "Yes",
                    "No",
                    "No",
                    "No",
                    "No",
                    "No",
                    "No",
                    "No",
                    "Yes",
                    "No",
                    "No",
                    "No",
                    "No",
                    "Yes",
                    "Yes",
                    "Yes",
                    "No",
                    "No",
                    "No",
                    "No",
                    "Yes",
                    "No",
                    "Yes",
                    "No",
                    "No",
                    "Yes",
                    "No",
                    "No",
                    "No",
                    "No",
                    "Yes",
                    "No",
                    "No",
                    "Yes",
                    "Yes",
                    "No",
                    "No",
                    "No",
                    "No",
                    "No",
                    "No",
                    "No",
                    "No",
                    "No",
                    "No",
                    "No",
                    "No",
                    "No",
                    "No",
                    "No",
                    "Yes",
                    "No",
                    "No",
                    "No",
                    "No",
                    "No",
                    "No",
                    "Yes",
                    "No",
                    "No",
                    "Yes",
                    "No",
                    "No",
                    "Yes",
                    "Yes",
                    "No",
                    "Yes",
                    "Yes",
                    "No",
                    "No",
                    "No",
                    "No",
                    "No",
                    "No",
                    "No",
                    "No",
                    "Yes",
                    "No",
                    "No",
                    "Yes",
                    "No",
                    "No",
                    "No",
                    "No",
                    "No",
                    "No",
                    "Yes",
                    "No",
                    "Yes",
                    "Yes",
                    "Yes",
                    "Yes",
                    "No",
                    "No",
                    "Yes",
                    "No",
                    "No",
                    "No",
                    "No",
                    "No",
                    "Yes",
                    "No",
                    "Yes",
                    "Yes",
                    "Yes",
                    "No",
                    "No",
                    "Yes",
                    "No",
                    "Yes",
                    "Yes",
                    "No",
                    "No",
                    "No",
                    "No",
                    "Yes",
                    "No",
                    "No",
                    "Yes",
                    "No",
                    "No",
                    "Yes",
                    "No",
                    "No",
                    "No",
                    "No",
                    "No",
                    "Yes",
                    "No",
                    "No",
                    "No",
                    "No",
                    "No",
                    "No",
                    "No",
                    "No",
                    "Yes",
                    "No",
                    "Yes",
                    "Yes",
                    "No",
                    "Yes",
                    "No",
                    "No",
                    "No",
                    "Yes",
                    "No",
                    "Yes",
                    "No",
                    "No",
                    "Yes",
                    "No",
                    "Yes",
                    "No",
                    "No",
                    "No",
                    "No",
                    "No",
                    "Yes",
                    "No",
                    "No",
                    "No",
                    "Yes",
                    "Yes",
                    "No",
                    "No",
                    "No",
                    "No",
                    "No",
                    "No",
                    "No",
                    "Yes",
                    "No",
                    "No",
                    "No",
                    "Yes",
                    "No",
                    "No",
                    "No",
                    "Yes",
                    "No",
                    "Yes",
                    "No",
                    "No",
                    "No",
                    "No",
                    "No",
                    "Yes",
                    "No",
                    "No",
                    "No",
                    "No",
                    "No",
                    "No",
                    "No",
                    "Yes",
                    "Yes",
                    "No",
                    "Yes",
                    "Yes",
                    "No",
                    "Yes",
                    "Yes",
                    "No",
                    "No",
                    "Yes",
                    "Yes",
                    "No",
                    "No",
                    "No",
                    "No",
                    "No",
                    "No",
                    "No",
                    "No",
                    "No",
                    "No",
                    "Yes",
                    "Yes",
                    "No",
                    "No",
                    "No",
                    "No",
                    "No",
                    "No",
                    "No",
                    "No",
                    "No",
                    "No",
                    "No",
                    "No",
                    "No",
                    "Yes",
                    "No",
                    "No",
                    "Yes",
                    "No",
                    "No",
                    "Yes",
                    "No",
                    "No",
                    "No",
                    "No",
                    "Yes",
                    "No",
                    "Yes",
                    "No",
                    "No",
                    "Yes",
                    "No",
                    "No",
                    "No",
                    "No",
                    "No",
                    "Yes",
                    "No",
                    "No",
                    "Yes",
                    "No",
                    "No",
                    "Yes",
                    "No",
                    "No",
                    "No",
                    "No",
                    "No",
                    "No",
                    "No",
                    "No",
                    "Yes",
                    "No",
                    "No",
                    "No",
                    "No",
                    "No",
                    "No",
                    "Yes",
                    "No",
                    "No",
                    "No",
                    "No",
                    "No",
                    "No",
                    "No",
                    "Yes",
                    "No",
                    "No",
                    "No",
                    "No",
                    "Yes",
                    "No",
                    "No",
                    "No",
                    "No",
                    "No",
                    "No",
                    "No",
                    "No",
                    "No",
                    "No",
                    "Yes",
                    "Yes",
                    "No",
                    "No",
                    "No",
                    "Yes",
                    "Yes",
                    "No",
                    "Yes",
                    "No",
                    "No",
                    "Yes",
                    "No",
                    "No",
                    "No",
                    "No",
                    "No",
                    "No",
                    "No",
                    "No",
                    "Yes",
                    "No",
                    "Yes",
                    "No",
                    "No",
                    "Yes",
                    "No",
                    "No",
                    "No",
                    "No",
                    "No",
                    "Yes",
                    "Yes",
                    "Yes",
                    "No",
                    "No",
                    "Yes",
                    "No",
                    "No",
                    "No",
                    "No",
                    "No",
                    "No",
                    "No",
                    "No",
                    "No",
                    "Yes",
                    "Yes",
                    "No",
                    "No",
                    "No",
                    "No",
                    "No",
                    "No",
                    "Yes",
                    "No",
                    "No",
                    "No",
                    "No",
                    "No",
                    "No",
                    "Yes",
                    "Yes",
                    "Yes",
                    "No",
                    "No",
                    "No",
                    "No",
                    "No",
                    "No",
                    "Yes",
                    "No",
                    "No",
                    "No",
                    "No",
                    "No",
                    "No",
                    "No",
                    "Yes",
                    "Yes",
                    "No",
                    "No",
                    "Yes",
                    "No",
                    "No",
                    "Yes",
                    "Yes",
                    "No",
                    "No",
                    "No",
                    "Yes",
                    "Yes",
                    "No",
                    "Yes",
                    "No",
                    "No",
                    "No",
                    "Yes",
                    "No",
                    "Yes",
                    "No",
                    "No",
                    "No",
                    "Yes",
                    "No",
                    "No",
                    "No",
                    "No",
                    "Yes",
                    "Yes",
                    "Yes",
                    "Yes",
                    "No",
                    "No",
                    "No",
                    "Yes",
                    "Yes",
                    "No",
                    "No",
                    "Yes",
                    "No",
                    "Yes",
                    "No",
                    "Yes",
                    "No",
                    "No",
                    "No",
                    "No",
                    "No",
                    "No",
                    "Yes",
                    "No",
                    "Yes",
                    "Yes",
                    "No",
                    "No",
                    "No",
                    "No",
                    "No",
                    "Yes",
                    "No",
                    "No",
                    "Yes",
                    "Yes",
                    "Yes",
                    "No",
                    "No",
                    "No",
                    "No",
                    "No",
                    "No",
                    "No",
                    "No",
                    "No",
                    "No",
                    "No",
                    "No",
                    "No",
                    "No",
                    "No",
                    "No",
                    "Yes",
                    "No",
                    "No",
                    "No",
                    "No",
                    "No",
                    "Yes",
                    "No",
                    "Yes",
                    "Yes",
                    "No",
                    "No",
                    "No",
                    "Yes",
                    "No",
                    "No",
                    "No",
                    "No",
                    "No",
                    "No",
                    "No",
                    "Yes",
                    "Yes",
                    "No",
                    "Yes",
                    "No",
                    "Yes",
                    "No",
                    "No",
                    "Yes",
                    "No",
                    "No",
                    "No",
                    "No",
                    "No",
                    "No",
                    "Yes",
                    "Yes",
                    "No",
                    "No",
                    "No",
                    "No",
                    "No",
                    "No",
                    "No",
                    "No",
                    "Yes",
                    "No",
                    "No",
                    "No",
                    "No",
                    "No",
                    "No",
                    "Yes",
                    "No",
                    "No",
                    "Yes",
                    "No",
                    "No",
                    "No",
                    "Yes",
                    "No",
                    "No",
                    "No",
                    "No",
                    "Yes",
                    "No",
                    "No",
                    "No",
                    "No",
                    "No",
                    "Yes",
                    "No",
                    "No",
                    "No",
                    "No",
                    "No",
                    "Yes",
                    "No",
                    "No",
                    "No",
                    "No",
                    "No",
                    "Yes",
                    "No",
                    "No",
                    "No",
                    "No",
                    "Yes",
                    "No",
                    "No",
                    "No",
                    "Yes",
                    "Yes",
                    "No",
                    "No",
                    "Yes",
                    "Yes",
                    "No",
                    "No",
                    "No",
                    "No",
                    "No",
                    "No",
                    "No",
                    "No",
                    "No",
                    "No",
                    "No",
                    "No",
                    "No",
                    "No",
                    "No",
                    "No",
                    "Yes",
                    "Yes",
                    "No",
                    "No",
                    "No",
                    "No",
                    "No",
                    "No",
                    "Yes",
                    "Yes",
                    "Yes",
                    "Yes",
                    "Yes",
                    "No",
                    "No",
                    "No",
                    "Yes",
                    "No",
                    "Yes",
                    "No",
                    "No",
                    "No",
                    "No",
                    "Yes",
                    "No",
                    "No",
                    "No",
                    "No",
                    "Yes",
                    "No",
                    "No",
                    "No",
                    "No",
                    "No",
                    "Yes",
                    "Yes",
                    "No",
                    "No",
                    "No",
                    "Yes",
                    "No",
                    "No",
                    "No",
                    "No",
                    "No",
                    "Yes",
                    "Yes",
                    "No",
                    "No",
                    "Yes",
                    "No",
                    "Yes",
                    "No",
                    "No",
                    "No",
                    "No",
                    "No",
                    "No",
                    "No",
                    "No",
                    "No",
                    "Yes",
                    "No",
                    "No",
                    "Yes",
                    "No",
                    "No",
                    "No",
                    "No",
                    "No",
                    "Yes",
                    "Yes",
                    "No",
                    "No",
                    "No",
                    "Yes",
                    "Yes",
                    "Yes",
                    "No",
                    "Yes",
                    "Yes",
                    "No",
                    "No",
                    "No",
                    "Yes",
                    "No",
                    "No",
                    "Yes",
                    "No",
                    "No",
                    "No",
                    "No",
                    "Yes",
                    "No",
                    "Yes",
                    "No",
                    "No",
                    "No",
                    "No",
                    "Yes",
                    "No",
                    "Yes",
                    "No",
                    "No",
                    "No",
                    "Yes",
                    "No",
                    "No",
                    "No",
                    "No",
                    "No",
                    "No",
                    "No",
                    "No",
                    "Yes",
                    "Yes",
                    "No",
                    "No",
                    "No",
                    "No",
                    "No",
                    "Yes",
                    "Yes",
                    "No",
                    "Yes",
                    "No",
                    "No",
                    "No",
                    "No",
                    "No",
                    "No",
                    "No",
                    "No",
                    "No",
                    "No",
                    "No",
                    "Yes",
                    "No",
                    "No",
                    "No",
                    "No",
                    "No",
                    "No",
                    "No",
                    "No",
                    "No",
                    "Yes",
                    "No",
                    "No",
                    "No",
                    "Yes",
                    "No",
                    "No",
                    "No",
                    "No",
                    "Yes",
                    "Yes",
                    "Yes",
                    "Yes",
                    "No",
                    "No",
                    "No",
                    "No",
                    "Yes",
                    "Yes",
                    "Yes",
                    "Yes",
                    "No",
                    "No",
                    "No",
                    "Yes",
                    "Yes",
                    "No",
                    "Yes",
                    "Yes",
                    "No",
                    "No",
                    "No",
                    "Yes",
                    "No",
                    "Yes",
                    "No",
                    "No",
                    "No",
                    "Yes",
                    "No",
                    "Yes",
                    "No",
                    "No",
                    "No",
                    "No",
                    "No",
                    "No",
                    "No",
                    "No",
                    "No",
                    "No",
                    "Yes",
                    "No",
                    "No",
                    "Yes",
                    "No",
                    "No",
                    "No",
                    "No",
                    "Yes",
                    "No",
                    "No",
                    "No",
                    "Yes",
                    "Yes",
                    "Yes",
                    "No",
                    "No",
                    "Yes",
                    "No",
                    "No",
                    "No",
                    "No",
                    "No",
                    "No",
                    "Yes",
                    "No",
                    "No",
                    "No",
                    "No",
                    "No",
                    "Yes",
                    "No",
                    "Yes",
                    "Yes",
                    "No",
                    "No",
                    "Yes",
                    "No",
                    "No",
                    "No",
                    "No",
                    "No",
                    "Yes",
                    "Yes",
                    "No",
                    "No",
                    "Yes",
                    "No",
                    "No",
                    "No",
                    "Yes",
                    "No",
                    "No",
                    "Yes",
                    "No",
                    "No",
                    "No",
                    "No",
                    "Yes",
                    "Yes",
                    "Yes",
                    "No",
                    "Yes",
                    "No",
                    "No",
                    "No",
                    "Yes",
                    "No",
                    "No",
                    "No",
                    "No",
                    "Yes",
                    "Yes",
                    "No",
                    "No",
                    "Yes",
                    "No",
                    "Yes",
                    "No",
                    "Yes",
                    "No",
                    "No",
                    "No",
                    "Yes",
                    "No",
                    "No",
                    "Yes",
                    "No",
                    "Yes",
                    "No",
                    "Yes",
                    "No",
                    "Yes",
                    "No",
                    "Yes",
                    "No",
                    "No",
                    "No",
                    "No",
                    "No",
                    "No",
                    "No",
                    "Yes",
                    "No",
                    "No",
                    "No",
                    "No",
                    "No",
                    "Yes",
                    "No",
                    "No",
                    "No",
                    "No",
                    "No",
                    "No",
                    "Yes",
                    "Yes",
                    "Yes",
                    "No",
                    "No",
                    "Yes",
                    "No",
                    "No",
                    "Yes",
                    "No",
                    "No",
                    "No",
                    "Yes",
                    "No",
                    "Yes",
                    "Yes",
                    "Yes",
                    "No",
                    "No",
                    "No",
                    "Yes",
                    "No",
                    "No",
                    "No",
                    "No",
                    "No",
                    "No",
                    "No",
                    "No",
                    "No",
                    "No",
                    "No",
                    "No",
                    "No",
                    "No",
                    "Yes",
                    "No",
                    "No",
                    "No",
                    "Yes",
                    "No",
                    "No",
                    "Yes",
                    "No",
                    "No",
                    "No",
                    "Yes",
                    "No",
                    "Yes",
                    "No",
                    "Yes",
                    "No",
                    "No",
                    "No",
                    "No",
                    "No",
                    "No",
                    "No",
                    "Yes",
                    "Yes",
                    "No",
                    "Yes",
                    "No",
                    "No",
                    "No",
                    "No",
                    "No",
                    "No",
                    "No",
                    "No",
                    "No",
                    "No",
                    "No",
                    "No",
                    "No",
                    "No",
                    "Yes",
                    "Yes",
                    "No",
                    "No",
                    "No",
                    "Yes",
                    "Yes",
                    "No",
                    "No",
                    "No",
                    "No",
                    "No",
                    "Yes",
                    "Yes",
                    "Yes",
                    "No",
                    "No",
                    "No",
                    "Yes",
                    "Yes",
                    "No",
                    "No",
                    "Yes",
                    "No",
                    "No",
                    "No",
                    "No",
                    "Yes",
                    "No",
                    "No",
                    "No",
                    "No",
                    "No",
                    "No",
                    "Yes",
                    "No",
                    "No",
                    "Yes",
                    "No",
                    "No",
                    "Yes",
                    "Yes",
                    "No",
                    "No",
                    "No",
                    "Yes",
                    "No",
                    "No",
                    "Yes",
                    "No",
                    "No",
                    "Yes",
                    "No",
                    "Yes",
                    "No",
                    "No",
                    "No",
                    "Yes",
                    "No",
                    "No",
                    "No",
                    "No",
                    "No",
                    "No",
                    "No",
                    "No",
                    "Yes",
                    "No",
                    "No",
                    "No",
                    "Yes",
                    "Yes",
                    "No",
                    "No",
                    "No",
                    "Yes",
                    "No",
                    "No",
                    "Yes",
                    "No",
                    "No",
                    "No",
                    "Yes",
                    "No",
                    "No",
                    "No",
                    "Yes",
                    "No",
                    "No",
                    "Yes",
                    "Yes",
                    "No",
                    "No",
                    "No",
                    "Yes",
                    "No",
                    "No",
                    "No",
                    "No",
                    "No",
                    "Yes",
                    "No",
                    "No",
                    "No",
                    "No",
                    "No",
                    "No",
                    "Yes",
                    "No",
                    "No",
                    "No",
                    "No",
                    "No",
                    "No",
                    "Yes",
                    "No",
                    "Yes",
                    "No",
                    "No",
                    "No",
                    "Yes",
                    "No",
                    "Yes",
                    "No",
                    "No",
                    "No",
                    "No",
                    "No",
                    "No",
                    "No",
                    "No",
                    "No",
                    "No",
                    "No",
                    "No",
                    "No",
                    "No",
                    "No",
                    "No",
                    "No",
                    "Yes",
                    "No",
                    "No",
                    "No",
                    "No",
                    "No",
                    "No",
                    "Yes",
                    "No",
                    "No",
                    "No",
                    "Yes",
                    "No",
                    "Yes",
                    "Yes",
                    "No",
                    "No",
                    "Yes",
                    "Yes",
                    "No",
                    "Yes",
                    "No",
                    "No",
                    "No",
                    "No",
                    "No",
                    "No",
                    "No",
                    "Yes",
                    "Yes",
                    "No",
                    "No",
                    "No",
                    "Yes",
                    "No",
                    "No",
                    "Yes",
                    "Yes",
                    "Yes",
                    "Yes",
                    "No",
                    "No",
                    "No",
                    "Yes",
                    "Yes",
                    "No",
                    "No",
                    "No",
                    "No",
                    "No",
                    "No",
                    "No",
                    "No",
                    "Yes",
                    "No",
                    "No",
                    "No",
                    "No",
                    "No",
                    "No",
                    "No",
                    "Yes",
                    "No",
                    "No",
                    "Yes",
                    "No",
                    "No",
                    "No",
                    "No",
                    "No",
                    "No",
                    "No",
                    "No",
                    "No",
                    "No",
                    "No",
                    "Yes",
                    "No",
                    "No",
                    "No",
                    "No",
                    "No",
                    "No",
                    "Yes",
                    "No",
                    "No",
                    "Yes",
                    "Yes",
                    "No",
                    "No",
                    "No",
                    "No",
                    "No",
                    "Yes",
                    "No",
                    "Yes",
                    "No",
                    "No",
                    "Yes",
                    "No",
                    "No",
                    "Yes",
                    "No",
                    "No",
                    "Yes",
                    "No",
                    "No",
                    "No",
                    "No",
                    "Yes",
                    "No",
                    "No",
                    "No",
                    "No",
                    "No",
                    "No",
                    "No",
                    "No",
                    "No",
                    "No",
                    "No",
                    "No",
                    "No",
                    "No",
                    "Yes",
                    "No",
                    "Yes",
                    "No",
                    "No",
                    "Yes",
                    "No",
                    "No",
                    "No",
                    "No",
                    "No",
                    "Yes",
                    "No",
                    "Yes",
                    "No",
                    "Yes",
                    "No",
                    "No",
                    "No",
                    "Yes",
                    "No",
                    "Yes",
                    "No",
                    "No",
                    "No",
                    "No",
                    "No",
                    "No",
                    "No",
                    "No",
                    "Yes",
                    "No",
                    "No",
                    "No",
                    "No",
                    "No",
                    "No",
                    "No",
                    "No",
                    "No",
                    "No",
                    "No",
                    "Yes",
                    "Yes",
                    "Yes",
                    "Yes",
                    "No",
                    "No",
                    "No",
                    "No",
                    "No",
                    "No",
                    "No",
                    "No",
                    "No",
                    "No",
                    "No",
                    "Yes",
                    "No",
                    "Yes",
                    "No",
                    "Yes",
                    "No",
                    "Yes",
                    "No",
                    "No",
                    "No",
                    "No",
                    "Yes",
                    "No",
                    "No",
                    "Yes",
                    "Yes",
                    "No",
                    "No",
                    "No",
                    "No",
                    "No",
                    "No",
                    "No",
                    "No",
                    "No",
                    "No",
                    "No",
                    "No",
                    "Yes",
                    "Yes",
                    "No",
                    "No",
                    "Yes",
                    "Yes",
                    "No",
                    "No",
                    "Yes",
                    "No",
                    "No",
                    "Yes",
                    "Yes",
                    "No",
                    "No",
                    "Yes",
                    "No",
                    "No",
                    "Yes",
                    "Yes",
                    "No",
                    "No",
                    "Yes",
                    "No",
                    "No",
                    "No",
                    "No",
                    "No",
                    "No",
                    "No",
                    "No",
                    "No",
                    "No",
                    "Yes",
                    "Yes",
                    "No",
                    "Yes",
                    "No",
                    "Yes",
                    "Yes",
                    "No",
                    "No",
                    "Yes",
                    "No",
                    "No",
                    "No",
                    "No",
                    "No",
                    "No",
                    "No",
                    "No",
                    "No",
                    "No",
                    "Yes",
                    "No",
                    "No",
                    "No",
                    "Yes",
                    "No",
                    "No",
                    "Yes",
                    "Yes",
                    "No",
                    "No",
                    "No",
                    "No",
                    "No",
                    "No",
                    "No",
                    "Yes",
                    "No",
                    "No",
                    "Yes",
                    "No",
                    "No",
                    "Yes",
                    "Yes",
                    "No",
                    "No",
                    "No",
                    "No",
                    "No",
                    "No",
                    "No",
                    "No",
                    "No",
                    "No",
                    "Yes",
                    "No",
                    "Yes",
                    "No",
                    "No",
                    "No",
                    "No",
                    "Yes",
                    "Yes",
                    "No",
                    "No",
                    "No",
                    "Yes",
                    "No",
                    "No",
                    "No",
                    "No",
                    "No",
                    "No",
                    "No",
                    "No",
                    "No",
                    "No",
                    "No",
                    "No",
                    "No",
                    "No",
                    "Yes",
                    "Yes",
                    "No",
                    "No",
                    "No",
                    "No",
                    "No",
                    "No",
                    "No",
                    "No",
                    "No",
                    "No",
                    "Yes",
                    "No",
                    "No",
                    "Yes",
                    "No",
                    "Yes",
                    "No",
                    "No",
                    "No",
                    "No",
                    "No",
                    "No",
                    "Yes",
                    "No",
                    "Yes",
                    "Yes",
                    "No",
                    "No",
                    "No",
                    "No",
                    "No",
                    "Yes",
                    "No",
                    "No",
                    "Yes",
                    "No",
                    "No",
                    "No",
                    "No",
                    "No",
                    "No",
                    "No",
                    "Yes",
                    "No",
                    "No",
                    "No",
                    "Yes",
                    "Yes",
                    "No",
                    "No",
                    "No",
                    "No",
                    "No",
                    "Yes",
                    "No",
                    "No",
                    "No",
                    "Yes",
                    "No",
                    "No",
                    "No",
                    "No",
                    "No",
                    "No",
                    "No",
                    "No",
                    "No",
                    "No",
                    "No",
                    "No",
                    "No",
                    "Yes",
                    "No",
                    "Yes",
                    "No",
                    "Yes",
                    "No",
                    "Yes",
                    "No",
                    "Yes",
                    "No",
                    "No",
                    "Yes",
                    "No",
                    "Yes",
                    "No",
                    "No",
                    "Yes",
                    "Yes",
                    "No",
                    "No",
                    "Yes",
                    "Yes",
                    "Yes",
                    "No",
                    "Yes",
                    "No",
                    "Yes",
                    "No",
                    "No",
                    "Yes",
                    "No",
                    "No",
                    "No",
                    "No",
                    "Yes",
                    "No",
                    "No",
                    "No",
                    "Yes",
                    "No",
                    "Yes",
                    "No",
                    "No",
                    "No",
                    "No",
                    "No",
                    "Yes",
                    "No",
                    "No",
                    "No",
                    "No",
                    "No",
                    "No",
                    "Yes",
                    "No",
                    "No",
                    "No",
                    "Yes",
                    "No",
                    "No",
                    "Yes",
                    "Yes",
                    "No",
                    "No",
                    "No",
                    "No",
                    "No",
                    "Yes",
                    "No",
                    "No",
                    "No",
                    "Yes",
                    "No",
                    "No",
                    "No",
                    "Yes",
                    "Yes",
                    "No",
                    "Yes",
                    "No",
                    "No",
                    "No",
                    "Yes",
                    "No",
                    "No",
                    "Yes",
                    "No",
                    "No",
                    "No",
                    "Yes",
                    "Yes",
                    "No",
                    "No",
                    "Yes",
                    "Yes",
                    "No",
                    "Yes",
                    "Yes",
                    "No",
                    "Yes",
                    "No",
                    "No",
                    "Yes",
                    "No",
                    "Yes",
                    "No",
                    "Yes",
                    "No",
                    "No",
                    "No",
                    "No",
                    "No",
                    "No",
                    "No",
                    "Yes",
                    "No",
                    "Yes",
                    "No",
                    "No",
                    "No",
                    "No",
                    "Yes",
                    "Yes",
                    "No",
                    "No",
                    "No",
                    "No",
                    "Yes",
                    "No",
                    "No",
                    "No",
                    "No",
                    "No",
                    "No",
                    "No",
                    "No",
                    "No",
                    "No",
                    "No",
                    "No",
                    "No",
                    "No",
                    "No",
                    "Yes",
                    "No",
                    "No",
                    "No",
                    "No",
                    "No",
                    "No",
                    "No",
                    "No",
                    "Yes",
                    "No",
                    "No",
                    "Yes",
                    "No",
                    "No",
                    "No",
                    "No",
                    "No",
                    "No",
                    "No",
                    "No",
                    "No",
                    "No",
                    "No",
                    "No",
                    "Yes",
                    "No",
                    "No",
                    "Yes",
                    "No",
                    "No",
                    "No",
                    "No",
                    "No",
                    "Yes",
                    "No",
                    "No",
                    "No",
                    "No",
                    "Yes",
                    "No",
                    "No",
                    "No",
                    "No",
                    "No",
                    "No",
                    "Yes",
                    "Yes",
                    "No",
                    "No",
                    "No",
                    "No",
                    "No",
                    "Yes",
                    "No",
                    "Yes",
                    "No",
                    "Yes",
                    "No",
                    "No",
                    "Yes",
                    "No",
                    "No",
                    "No",
                    "No",
                    "No",
                    "Yes",
                    "No",
                    "Yes",
                    "No",
                    "No",
                    "No",
                    "No",
                    "No",
                    "No",
                    "Yes",
                    "No",
                    "No",
                    "Yes",
                    "Yes",
                    "No",
                    "No",
                    "No",
                    "No",
                    "No",
                    "No",
                    "Yes",
                    "No",
                    "Yes",
                    "No",
                    "Yes",
                    "No",
                    "Yes",
                    "Yes",
                    "No",
                    "No",
                    "Yes",
                    "Yes",
                    "No",
                    "Yes",
                    "No",
                    "No",
                    "Yes",
                    "No",
                    "No",
                    "No",
                    "Yes",
                    "No",
                    "No",
                    "No",
                    "No",
                    "No",
                    "No",
                    "Yes",
                    "No",
                    "No",
                    "No",
                    "No",
                    "Yes",
                    "No",
                    "No",
                    "Yes",
                    "No",
                    "No",
                    "No",
                    "No",
                    "No",
                    "No",
                    "No",
                    "No",
                    "No",
                    "No",
                    "No",
                    "No",
                    "Yes",
                    "No",
                    "Yes",
                    "No",
                    "Yes",
                    "No",
                    "Yes",
                    "No",
                    "No",
                    "No",
                    "No",
                    "No",
                    "No",
                    "No",
                    "No",
                    "Yes",
                    "No",
                    "No",
                    "No",
                    "Yes",
                    "No",
                    "Yes",
                    "No",
                    "No",
                    "No",
                    "No",
                    "No",
                    "Yes",
                    "No",
                    "No",
                    "Yes",
                    "No",
                    "Yes",
                    "No",
                    "Yes",
                    "No",
                    "No",
                    "No",
                    "Yes",
                    "No",
                    "Yes",
                    "No",
                    "No",
                    "No",
                    "No",
                    "Yes",
                    "No",
                    "No",
                    "No",
                    "No",
                    "No",
                    "No",
                    "Yes",
                    "No",
                    "Yes",
                    "No",
                    "Yes",
                    "No",
                    "No",
                    "No",
                    "No",
                    "No",
                    "No",
                    "No",
                    "No",
                    "No",
                    "Yes",
                    "No",
                    "No",
                    "No",
                    "Yes",
                    "No",
                    "No",
                    "Yes",
                    "No",
                    "No",
                    "Yes",
                    "No",
                    "No",
                    "No",
                    "No",
                    "Yes",
                    "No",
                    "No",
                    "No",
                    "No",
                    "No",
                    "No",
                    "No",
                    "No",
                    "No",
                    "Yes",
                    "Yes",
                    "Yes",
                    "No",
                    "Yes",
                    "Yes",
                    "No",
                    "No",
                    "No",
                    "Yes",
                    "No",
                    "No",
                    "No",
                    "Yes",
                    "No",
                    "No",
                    "Yes",
                    "Yes",
                    "No",
                    "No",
                    "No",
                    "No",
                    "No",
                    "No",
                    "No",
                    "No",
                    "No",
                    "Yes",
                    "No",
                    "Yes",
                    "No",
                    "No",
                    "Yes",
                    "No",
                    "No",
                    "No",
                    "No",
                    "Yes",
                    "Yes",
                    "No",
                    "No",
                    "Yes",
                    "No",
                    "No",
                    "No",
                    "No",
                    "Yes",
                    "No",
                    "No",
                    "No",
                    "No",
                    "No",
                    "Yes",
                    "No",
                    "No",
                    "No",
                    "No",
                    "No",
                    "Yes",
                    "No",
                    "No",
                    "No",
                    "No",
                    "No",
                    "Yes",
                    "Yes",
                    "Yes",
                    "No",
                    "No",
                    "No",
                    "No",
                    "No",
                    "No",
                    "Yes",
                    "No",
                    "No",
                    "No",
                    "No",
                    "No",
                    "No",
                    "No",
                    "No",
                    "No",
                    "Yes",
                    "No",
                    "No",
                    "No",
                    "No",
                    "Yes",
                    "Yes",
                    "Yes",
                    "Yes",
                    "No",
                    "Yes",
                    "No",
                    "No",
                    "No",
                    "No",
                    "Yes",
                    "No",
                    "Yes",
                    "No",
                    "Yes",
                    "No",
                    "No",
                    "No",
                    "No",
                    "No",
                    "No",
                    "No",
                    "No",
                    "No",
                    "No",
                    "No",
                    "Yes",
                    "No",
                    "No",
                    "No",
                    "Yes",
                    "No",
                    "No",
                    "No",
                    "No",
                    "No",
                    "No",
                    "No",
                    "No",
                    "No",
                    "Yes",
                    "No",
                    "No",
                    "Yes",
                    "Yes",
                    "No",
                    "No",
                    "No",
                    "Yes",
                    "Yes",
                    "No",
                    "Yes",
                    "Yes",
                    "No",
                    "No",
                    "No",
                    "Yes",
                    "Yes",
                    "Yes",
                    "No",
                    "No",
                    "Yes",
                    "Yes",
                    "No",
                    "No",
                    "No",
                    "Yes",
                    "Yes",
                    "No",
                    "Yes",
                    "No",
                    "No",
                    "No",
                    "No",
                    "No",
                    "No",
                    "Yes",
                    "No",
                    "No",
                    "No",
                    "Yes",
                    "No",
                    "No",
                    "Yes",
                    "Yes",
                    "Yes",
                    "No",
                    "No",
                    "No",
                    "No",
                    "No",
                    "No",
                    "No",
                    "Yes",
                    "No",
                    "No",
                    "Yes",
                    "Yes",
                    "No",
                    "Yes",
                    "No",
                    "No",
                    "No",
                    "Yes",
                    "No",
                    "Yes",
                    "No",
                    "Yes",
                    "Yes",
                    "No",
                    "No",
                    "No",
                    "No",
                    "No",
                    "No",
                    "No",
                    "No",
                    "No",
                    "Yes",
                    "No",
                    "No",
                    "No",
                    "No",
                    "No",
                    "No",
                    "Yes",
                    "No",
                    "No",
                    "No",
                    "Yes",
                    "No",
                    "No",
                    "Yes",
                    "No",
                    "No",
                    "No",
                    "No",
                    "No",
                    "Yes",
                    "Yes",
                    "No",
                    "Yes",
                    "No",
                    "No",
                    "No",
                    "Yes",
                    "No",
                    "No",
                    "No",
                    "No",
                    "No",
                    "Yes",
                    "Yes",
                    "No",
                    "No",
                    "No",
                    "No",
                    "No",
                    "No",
                    "No",
                    "No",
                    "Yes",
                    "No",
                    "No",
                    "Yes",
                    "Yes",
                    "Yes",
                    "No",
                    "No",
                    "No",
                    "No",
                    "Yes",
                    "Yes",
                    "No",
                    "No",
                    "No",
                    "No",
                    "No",
                    "Yes",
                    "No",
                    "No",
                    "No",
                    "No",
                    "No",
                    "No",
                    "No",
                    "No",
                    "No",
                    "Yes",
                    "No",
                    "No",
                    "No",
                    "Yes",
                    "Yes",
                    "No",
                    "No",
                    "No",
                    "No",
                    "No",
                    "No",
                    "Yes",
                    "Yes",
                    "Yes",
                    "No",
                    "No",
                    "No",
                    "No",
                    "Yes",
                    "No",
                    "No",
                    "No",
                    "No",
                    "No",
                    "Yes",
                    "Yes",
                    "No",
                    "No",
                    "No",
                    "Yes",
                    "No",
                    "No",
                    "No",
                    "Yes",
                    "No",
                    "No",
                    "Yes",
                    "No",
                    "Yes",
                    "No",
                    "Yes",
                    "No",
                    "No",
                    "Yes",
                    "Yes",
                    "No",
                    "Yes",
                    "Yes",
                    "No",
                    "No",
                    "No",
                    "No",
                    "No",
                    "No",
                    "No",
                    "No",
                    "No",
                    "No",
                    "No",
                    "No",
                    "No",
                    "No",
                    "No",
                    "No",
                    "No",
                    "No",
                    "No",
                    "Yes",
                    "No",
                    "No",
                    "No",
                    "No",
                    "No",
                    "No",
                    "No",
                    "No",
                    "No",
                    "No",
                    "Yes",
                    "No",
                    "No",
                    "Yes",
                    "No",
                    "No",
                    "No",
                    "No",
                    "No",
                    "Yes",
                    "No",
                    "No",
                    "Yes",
                    "No",
                    "Yes",
                    "No",
                    "No",
                    "No",
                    "Yes",
                    "No",
                    "No",
                    "Yes",
                    "No",
                    "No",
                    "No",
                    "No",
                    "No",
                    "No",
                    "No",
                    "Yes",
                    "No",
                    "No",
                    "No",
                    "Yes",
                    "No",
                    "No",
                    "No",
                    "No",
                    "No",
                    "No",
                    "No",
                    "No",
                    "Yes",
                    "No",
                    "No",
                    "Yes",
                    "Yes",
                    "No",
                    "No",
                    "Yes",
                    "Yes",
                    "Yes",
                    "No",
                    "No",
                    "No",
                    "No",
                    "No",
                    "No",
                    "No",
                    "No",
                    "No",
                    "No",
                    "No",
                    "Yes",
                    "No",
                    "Yes",
                    "No",
                    "Yes",
                    "No",
                    "No",
                    "No",
                    "No",
                    "No",
                    "No",
                    "No",
                    "No",
                    "Yes",
                    "No",
                    "No",
                    "No",
                    "Yes",
                    "Yes",
                    "No",
                    "No",
                    "No",
                    "Yes",
                    "No",
                    "No",
                    "No",
                    "No",
                    "Yes",
                    "Yes",
                    "Yes",
                    "No",
                    "No",
                    "No",
                    "No",
                    "No",
                    "No",
                    "No",
                    "No",
                    "No",
                    "No",
                    "No",
                    "Yes",
                    "No",
                    "Yes",
                    "No",
                    "No",
                    "Yes",
                    "No",
                    "Yes",
                    "No",
                    "No",
                    "No",
                    "No",
                    "Yes",
                    "No",
                    "Yes",
                    "No",
                    "Yes",
                    "No",
                    "Yes",
                    "No",
                    "No",
                    "No",
                    "No",
                    "No",
                    "No",
                    "No",
                    "No",
                    "No",
                    "No",
                    "Yes",
                    "Yes",
                    "Yes",
                    "No",
                    "No",
                    "No",
                    "No",
                    "Yes",
                    "No",
                    "No",
                    "No",
                    "No",
                    "Yes",
                    "Yes",
                    "No",
                    "No",
                    "Yes",
                    "No",
                    "Yes",
                    "No",
                    "No",
                    "No",
                    "No",
                    "No",
                    "No",
                    "No",
                    "No",
                    "Yes",
                    "No",
                    "No",
                    "Yes",
                    "Yes",
                    "No",
                    "No",
                    "Yes",
                    "Yes",
                    "No",
                    "No",
                    "No",
                    "No",
                    "No",
                    "No",
                    "Yes",
                    "Yes",
                    "No",
                    "No",
                    "Yes",
                    "No",
                    "No",
                    "No",
                    "No",
                    "No",
                    "Yes",
                    "No",
                    "No",
                    "No",
                    "No",
                    "No",
                    "No",
                    "No",
                    "Yes",
                    "Yes",
                    "No",
                    "No",
                    "No",
                    "Yes",
                    "No",
                    "No",
                    "No",
                    "Yes",
                    "No",
                    "No",
                    "Yes",
                    "No",
                    "No",
                    "Yes",
                    "Yes",
                    "No",
                    "No",
                    "No",
                    "No",
                    "Yes",
                    "Yes",
                    "No",
                    "Yes",
                    "No",
                    "Yes",
                    "No",
                    "No",
                    "Yes",
                    "No",
                    "Yes",
                    "No",
                    "No",
                    "Yes",
                    "No",
                    "Yes",
                    "No",
                    "Yes",
                    "No",
                    "No",
                    "No",
                    "No",
                    "No",
                    "No",
                    "No",
                    "No",
                    "No",
                    "No",
                    "No",
                    "Yes",
                    "No",
                    "Yes",
                    "No",
                    "No",
                    "Yes",
                    "No",
                    "No",
                    "No",
                    "No",
                    "No",
                    "No",
                    "No",
                    "No",
                    "Yes",
                    "No",
                    "No",
                    "No",
                    "No",
                    "Yes",
                    "No",
                    "Yes",
                    "No",
                    "Yes",
                    "No",
                    "No",
                    "No",
                    "No",
                    "Yes",
                    "Yes",
                    "Yes",
                    "No",
                    "Yes",
                    "No",
                    "No",
                    "No",
                    "No",
                    "Yes",
                    "No",
                    "No",
                    "No",
                    "Yes",
                    "No",
                    "No",
                    "No",
                    "Yes",
                    "No",
                    "Yes",
                    "No",
                    "Yes",
                    "No",
                    "No",
                    "No",
                    "No",
                    "Yes",
                    "No",
                    "No",
                    "No",
                    "No",
                    "Yes",
                    "No",
                    "No",
                    "No",
                    "No",
                    "No",
                    "No",
                    "Yes",
                    "Yes",
                    "No",
                    "No",
                    "No",
                    "No",
                    "Yes",
                    "Yes",
                    "Yes",
                    "No",
                    "No",
                    "No",
                    "No",
                    "No",
                    "No",
                    "No",
                    "No",
                    "No",
                    "Yes",
                    "Yes",
                    "Yes",
                    "No",
                    "Yes",
                    "Yes",
                    "Yes",
                    "No",
                    "No",
                    "Yes",
                    "No",
                    "Yes",
                    "No",
                    "No",
                    "No",
                    "No",
                    "Yes",
                    "No",
                    "No",
                    "No",
                    "No",
                    "No",
                    "No",
                    "Yes",
                    "No",
                    "Yes",
                    "No",
                    "No",
                    "No",
                    "Yes",
                    "No",
                    "No",
                    "No",
                    "No",
                    "No",
                    "No",
                    "No",
                    "No",
                    "No",
                    "No",
                    "No",
                    "No",
                    "No",
                    "Yes",
                    "No",
                    "Yes",
                    "No",
                    "Yes",
                    "Yes",
                    "No",
                    "No",
                    "Yes",
                    "No",
                    "No",
                    "Yes",
                    "No",
                    "Yes",
                    "No",
                    "No",
                    "No",
                    "Yes",
                    "No",
                    "No",
                    "Yes",
                    "No",
                    "No",
                    "No",
                    "No",
                    "No",
                    "No",
                    "No",
                    "No",
                    "Yes",
                    "No",
                    "No",
                    "No",
                    "Yes",
                    "No",
                    "No",
                    "No",
                    "Yes",
                    "No",
                    "No",
                    "Yes",
                    "No",
                    "No",
                    "Yes",
                    "No",
                    "Yes",
                    "No",
                    "Yes",
                    "Yes",
                    "Yes",
                    "No",
                    "No",
                    "Yes",
                    "Yes",
                    "No",
                    "Yes",
                    "No",
                    "No",
                    "No",
                    "No",
                    "No",
                    "Yes",
                    "No",
                    "Yes",
                    "Yes",
                    "No",
                    "No",
                    "Yes",
                    "No",
                    "No",
                    "No",
                    "Yes",
                    "No",
                    "Yes",
                    "Yes",
                    "No",
                    "No",
                    "No",
                    "No",
                    "Yes",
                    "No",
                    "No",
                    "No",
                    "No",
                    "No",
                    "Yes",
                    "Yes",
                    "No",
                    "No",
                    "No",
                    "No",
                    "No",
                    "Yes",
                    "Yes",
                    "Yes",
                    "No",
                    "No",
                    "No",
                    "Yes",
                    "No",
                    "Yes",
                    "No",
                    "Yes",
                    "No",
                    "Yes",
                    "No",
                    "No",
                    "Yes",
                    "Yes",
                    "No",
                    "Yes",
                    "No",
                    "No",
                    "No",
                    "No",
                    "Yes",
                    "No",
                    "Yes",
                    "No",
                    "No",
                    "No",
                    "No",
                    "No",
                    "No",
                    "No",
                    "No",
                    "Yes",
                    "No",
                    "Yes",
                    "No",
                    "No",
                    "No",
                    "No",
                    "No",
                    "Yes",
                    "No",
                    "No",
                    "No",
                    "No",
                    "No",
                    "No",
                    "No",
                    "Yes",
                    "Yes",
                    "Yes",
                    "No",
                    "No",
                    "Yes",
                    "Yes",
                    "No",
                    "Yes",
                    "No",
                    "No",
                    "No",
                    "No",
                    "No",
                    "No",
                    "No",
                    "No",
                    "No",
                    "Yes",
                    "Yes",
                    "Yes",
                    "No",
                    "No",
                    "No",
                    "Yes",
                    "No",
                    "No",
                    "No",
                    "Yes",
                    "No",
                    "No",
                    "No",
                    "No",
                    "Yes",
                    "No",
                    "No",
                    "Yes",
                    "Yes",
                    "No",
                    "No",
                    "Yes",
                    "No",
                    "No",
                    "No",
                    "Yes",
                    "No",
                    "Yes",
                    "No",
                    "No",
                    "No",
                    "Yes",
                    "No",
                    "No",
                    "No",
                    "No",
                    "No",
                    "No",
                    "No",
                    "No",
                    "No",
                    "Yes",
                    "No",
                    "No",
                    "Yes",
                    "No",
                    "No",
                    "No",
                    "No",
                    "Yes",
                    "No",
                    "No",
                    "No",
                    "Yes",
                    "No",
                    "No",
                    "No",
                    "No",
                    "No",
                    "No",
                    "No",
                    "No",
                    "Yes",
                    "No",
                    "No",
                    "No",
                    "No",
                    "No",
                    "Yes",
                    "No",
                    "No",
                    "No",
                    "No",
                    "No",
                    "No",
                    "No",
                    "No",
                    "No",
                    "No",
                    "No",
                    "No",
                    "No",
                    "Yes",
                    "No",
                    "No",
                    "Yes",
                    "Yes",
                    "No",
                    "No",
                    "No",
                    "Yes",
                    "No",
                    "No",
                    "No",
                    "No",
                    "Yes",
                    "No",
                    "No",
                    "No",
                    "No",
                    "No",
                    "Yes",
                    "Yes",
                    "No",
                    "No",
                    "No",
                    "Yes",
                    "No",
                    "No",
                    "Yes",
                    "No",
                    "No",
                    "No",
                    "Yes",
                    "No",
                    "Yes",
                    "No",
                    "No",
                    "Yes",
                    "No",
                    "Yes",
                    "No",
                    "No",
                    "No",
                    "No",
                    "No",
                    "No",
                    "No",
                    "Yes",
                    "Yes",
                    "No",
                    "No",
                    "No",
                    "No",
                    "Yes",
                    "Yes",
                    "No",
                    "No",
                    "No",
                    "No",
                    "No",
                    "No",
                    "No",
                    "No",
                    "Yes",
                    "No",
                    "No",
                    "No",
                    "Yes",
                    "No",
                    "No",
                    "No",
                    "No",
                    "Yes",
                    "No",
                    "Yes",
                    "No",
                    "No",
                    "No",
                    "No",
                    "Yes",
                    "No",
                    "No",
                    "Yes",
                    "No",
                    "No",
                    "Yes",
                    "No",
                    "No",
                    "No",
                    "No",
                    "No",
                    "No",
                    "Yes",
                    "Yes",
                    "Yes",
                    "No",
                    "Yes",
                    "No",
                    "Yes",
                    "Yes",
                    "No",
                    "No",
                    "Yes",
                    "No",
                    "No",
                    "No",
                    "Yes",
                    "No",
                    "No",
                    "No",
                    "Yes",
                    "No",
                    "No",
                    "Yes",
                    "No",
                    "No",
                    "Yes",
                    "No",
                    "No",
                    "No",
                    "No",
                    "No",
                    "Yes",
                    "Yes",
                    "No",
                    "No",
                    "No",
                    "No",
                    "Yes",
                    "No",
                    "Yes",
                    "No",
                    "No",
                    "No",
                    "Yes",
                    "No",
                    "No",
                    "No",
                    "No",
                    "No",
                    "No",
                    "No",
                    "No",
                    "No",
                    "No",
                    "No",
                    "No",
                    "No",
                    "No",
                    "No",
                    "No",
                    "No",
                    "No",
                    "Yes",
                    "Yes",
                    "Yes",
                    "Yes",
                    "No",
                    "No",
                    "Yes",
                    "No",
                    "No",
                    "No",
                    "No",
                    "Yes",
                    "Yes",
                    "Yes",
                    "No",
                    "Yes",
                    "Yes",
                    "No",
                    "No",
                    "No",
                    "No",
                    "No",
                    "No",
                    "No",
                    "No",
                    "Yes",
                    "Yes",
                    "No",
                    "No",
                    "No",
                    "No",
                    "No",
                    "No",
                    "No",
                    "No",
                    "Yes",
                    "Yes",
                    "Yes",
                    "No",
                    "No",
                    "No",
                    "Yes",
                    "No",
                    "No",
                    "Yes",
                    "No",
                    "No",
                    "No",
                    "No",
                    "No",
                    "No",
                    "No",
                    "No",
                    "Yes",
                    "No",
                    "No",
                    "No",
                    "No",
                    "Yes",
                    "No",
                    "Yes",
                    "Yes",
                    "No",
                    "Yes",
                    "No",
                    "No",
                    "No",
                    "No",
                    "No",
                    "No",
                    "No",
                    "Yes",
                    "No",
                    "No",
                    "No",
                    "No",
                    "No",
                    "No",
                    "Yes",
                    "No",
                    "No",
                    "Yes",
                    "No",
                    "No",
                    "No",
                    "Yes",
                    "No",
                    "No",
                    "No",
                    "No",
                    "No",
                    "No",
                    "No",
                    "Yes",
                    "No",
                    "No",
                    "No",
                    "Yes",
                    "No",
                    "Yes",
                    "No",
                    "Yes",
                    "Yes",
                    "No",
                    "Yes",
                    "No",
                    "No",
                    "Yes",
                    "Yes",
                    "Yes",
                    "No",
                    "No",
                    "Yes",
                    "No",
                    "No",
                    "No",
                    "No",
                    "Yes",
                    "No",
                    "No",
                    "No",
                    "No",
                    "No",
                    "Yes",
                    "No",
                    "No",
                    "No",
                    "No",
                    "No",
                    "No",
                    "No",
                    "No",
                    "No",
                    "Yes",
                    "No",
                    "Yes",
                    "No",
                    "Yes",
                    "No",
                    "No",
                    "No",
                    "No",
                    "No",
                    "Yes",
                    "No",
                    "No",
                    "No",
                    "No",
                    "No",
                    "Yes",
                    "No",
                    "Yes",
                    "No",
                    "No",
                    "Yes",
                    "No",
                    "No",
                    "Yes",
                    "Yes",
                    "No",
                    "Yes",
                    "No",
                    "No",
                    "No",
                    "No",
                    "No",
                    "No",
                    "No",
                    "No",
                    "Yes",
                    "No",
                    "No",
                    "No",
                    "No",
                    "Yes",
                    "Yes",
                    "No",
                    "No",
                    "No",
                    "No",
                    "No",
                    "No",
                    "No",
                    "No",
                    "No",
                    "No",
                    "No",
                    "No",
                    "No",
                    "No",
                    "No",
                    "No",
                    "No",
                    "No",
                    "Yes",
                    "Yes",
                    "No",
                    "No",
                    "No",
                    "No",
                    "Yes",
                    "No",
                    "No",
                    "No",
                    "No",
                    "No",
                    "Yes",
                    "No",
                    "No",
                    "No",
                    "Yes",
                    "Yes",
                    "No",
                    "No",
                    "No",
                    "Yes",
                    "No",
                    "No",
                    "No",
                    "No",
                    "Yes",
                    "Yes",
                    "No",
                    "No",
                    "Yes",
                    "No",
                    "Yes",
                    "No",
                    "No",
                    "No",
                    "No",
                    "No",
                    "No",
                    "No",
                    "No",
                    "Yes",
                    "No",
                    "Yes",
                    "Yes",
                    "No",
                    "No",
                    "Yes",
                    "No",
                    "Yes",
                    "No",
                    "Yes",
                    "Yes",
                    "No",
                    "Yes",
                    "No",
                    "No",
                    "No",
                    "No",
                    "No",
                    "No",
                    "Yes",
                    "No",
                    "No",
                    "No",
                    "Yes",
                    "No",
                    "No",
                    "No",
                    "No",
                    "Yes",
                    "No",
                    "Yes",
                    "No",
                    "Yes",
                    "No",
                    "No",
                    "Yes",
                    "No",
                    "No",
                    "Yes",
                    "No",
                    "Yes",
                    "No",
                    "No",
                    "No",
                    "Yes",
                    "No",
                    "No",
                    "No",
                    "Yes",
                    "No",
                    "No",
                    "No",
                    "Yes",
                    "No",
                    "No",
                    "No",
                    "Yes",
                    "No",
                    "No",
                    "No",
                    "Yes",
                    "No",
                    "No",
                    "No",
                    "Yes",
                    "Yes",
                    "No",
                    "No",
                    "Yes",
                    "No",
                    "Yes",
                    "No",
                    "No",
                    "Yes",
                    "Yes",
                    "No",
                    "No",
                    "No",
                    "No",
                    "No",
                    "No",
                    "No",
                    "No",
                    "No",
                    "No",
                    "No",
                    "No",
                    "No",
                    "No",
                    "Yes",
                    "Yes",
                    "No",
                    "No",
                    "No",
                    "No",
                    "No",
                    "No",
                    "No",
                    "No",
                    "Yes",
                    "Yes",
                    "No",
                    "No",
                    "No",
                    "No",
                    "No",
                    "Yes",
                    "No",
                    "No",
                    "No",
                    "Yes",
                    "No",
                    "No",
                    "No",
                    "No",
                    "No",
                    "Yes",
                    "No",
                    "No",
                    "No",
                    "Yes",
                    "No",
                    "Yes",
                    "Yes",
                    "No",
                    "No",
                    "No",
                    "Yes",
                    "No",
                    "No",
                    "No",
                    "No",
                    "No",
                    "No",
                    "No",
                    "Yes",
                    "No",
                    "Yes",
                    "Yes",
                    "No",
                    "No",
                    "No",
                    "No",
                    "No",
                    "No",
                    "Yes",
                    "Yes",
                    "No",
                    "No",
                    "No",
                    "Yes",
                    "No",
                    "No",
                    "No",
                    "Yes",
                    "Yes",
                    "No",
                    "No",
                    "Yes",
                    "No",
                    "No",
                    "No",
                    "No",
                    "No",
                    "No",
                    "No",
                    "Yes",
                    "No",
                    "No",
                    "No",
                    "No",
                    "No",
                    "Yes",
                    "No",
                    "Yes",
                    "No",
                    "No",
                    "Yes",
                    "No",
                    "Yes",
                    "No",
                    "No",
                    "No",
                    "No",
                    "Yes",
                    "No",
                    "No",
                    "No",
                    "No",
                    "No",
                    "Yes",
                    "No",
                    "No",
                    "Yes",
                    "No",
                    "No",
                    "No",
                    "No",
                    "Yes",
                    "No",
                    "No",
                    "Yes",
                    "No",
                    "Yes",
                    "No",
                    "No",
                    "No",
                    "No",
                    "Yes",
                    "No",
                    "Yes",
                    "Yes",
                    "Yes",
                    "No",
                    "No",
                    "No",
                    "No",
                    "No",
                    "Yes",
                    "No",
                    "No",
                    "Yes",
                    "No",
                    "No",
                    "No",
                    "No",
                    "No",
                    "No",
                    "Yes",
                    "No",
                    "No",
                    "Yes",
                    "No",
                    "No",
                    "Yes",
                    "No",
                    "No",
                    "No",
                    "No",
                    "No",
                    "No",
                    "Yes",
                    "No",
                    "No",
                    "No",
                    "No",
                    "Yes",
                    "No",
                    "No",
                    "No",
                    "Yes",
                    "No",
                    "No",
                    "No",
                    "No",
                    "No",
                    "No",
                    "Yes",
                    "No",
                    "No",
                    "No",
                    "Yes",
                    "No",
                    "No",
                    "No",
                    "No",
                    "No",
                    "Yes",
                    "No",
                    "No",
                    "No",
                    "Yes",
                    "No",
                    "No",
                    "No",
                    "No",
                    "No",
                    "Yes",
                    "No",
                    "No",
                    "No",
                    "Yes",
                    "No",
                    "No",
                    "No",
                    "No",
                    "Yes",
                    "No",
                    "No",
                    "No",
                    "No",
                    "No",
                    "No",
                    "Yes",
                    "No",
                    "Yes",
                    "No",
                    "No",
                    "No",
                    "No",
                    "No",
                    "No",
                    "No",
                    "No",
                    "No",
                    "No",
                    "Yes",
                    "No",
                    "No",
                    "No",
                    "No",
                    "No",
                    "Yes",
                    "No",
                    "No",
                    "Yes",
                    "No",
                    "No",
                    "No",
                    "Yes",
                    "No",
                    "Yes",
                    "Yes",
                    "No",
                    "Yes",
                    "No",
                    "No",
                    "No",
                    "Yes",
                    "Yes",
                    "No",
                    "Yes",
                    "No",
                    "No",
                    "No",
                    "No",
                    "No",
                    "Yes",
                    "No",
                    "Yes",
                    "Yes",
                    "Yes",
                    "Yes",
                    "No",
                    "No",
                    "No",
                    "No",
                    "No",
                    "Yes",
                    "Yes",
                    "No",
                    "Yes",
                    "No",
                    "Yes",
                    "No",
                    "No",
                    "No",
                    "Yes",
                    "No",
                    "Yes",
                    "Yes",
                    "No",
                    "Yes",
                    "No",
                    "No",
                    "No",
                    "No",
                    "No",
                    "Yes",
                    "No",
                    "Yes",
                    "Yes",
                    "No",
                    "No",
                    "No",
                    "Yes",
                    "No",
                    "Yes",
                    "Yes",
                    "No",
                    "No",
                    "No",
                    "Yes",
                    "Yes",
                    "No",
                    "Yes",
                    "No",
                    "Yes",
                    "No",
                    "No",
                    "No",
                    "Yes",
                    "No",
                    "No",
                    "No",
                    "Yes",
                    "Yes",
                    "No",
                    "No",
                    "No",
                    "No",
                    "No",
                    "No",
                    "No",
                    "No",
                    "No",
                    "No",
                    "No",
                    "No",
                    "No",
                    "No",
                    "No",
                    "No",
                    "No",
                    "No",
                    "No",
                    "No",
                    "No",
                    "No",
                    "No",
                    "No",
                    "No",
                    "No",
                    "Yes",
                    "Yes",
                    "No",
                    "Yes",
                    "No",
                    "No",
                    "No",
                    "Yes",
                    "No",
                    "Yes",
                    "Yes",
                    "No",
                    "No",
                    "No",
                    "No",
                    "Yes",
                    "Yes",
                    "Yes",
                    "Yes",
                    "Yes",
                    "No",
                    "No",
                    "Yes",
                    "No",
                    "No",
                    "No",
                    "Yes",
                    "No",
                    "No",
                    "No",
                    "Yes",
                    "No",
                    "Yes",
                    "Yes",
                    "No",
                    "Yes",
                    "Yes",
                    "No",
                    "No",
                    "No",
                    "No",
                    "No",
                    "Yes",
                    "Yes",
                    "Yes",
                    "No",
                    "No",
                    "No",
                    "No",
                    "No",
                    "No",
                    "Yes",
                    "No",
                    "No",
                    "No",
                    "No",
                    "No",
                    "No",
                    "No",
                    "No",
                    "No",
                    "No",
                    "No",
                    "No",
                    "Yes",
                    "No",
                    "No",
                    "No",
                    "Yes",
                    "No",
                    "Yes",
                    "No",
                    "No",
                    "No",
                    "No",
                    "No",
                    "No",
                    "Yes",
                    "No",
                    "No",
                    "No",
                    "No",
                    "No",
                    "No",
                    "No",
                    "No",
                    "No",
                    "No",
                    "No",
                    "Yes",
                    "Yes",
                    "No",
                    "No",
                    "No",
                    "No",
                    "No",
                    "Yes",
                    "No",
                    "No",
                    "No",
                    "No",
                    "No",
                    "No",
                    "No",
                    "No",
                    "No",
                    "No",
                    "No",
                    "No",
                    "No",
                    "No",
                    "No",
                    "Yes",
                    "No",
                    "No",
                    "No",
                    "No",
                    "Yes",
                    "No",
                    "No",
                    "No",
                    "No",
                    "No",
                    "No",
                    "No",
                    "Yes",
                    "Yes",
                    "Yes",
                    "No",
                    "No",
                    "No",
                    "No",
                    "No",
                    "Yes",
                    "No",
                    "Yes",
                    "No",
                    "No",
                    "No",
                    "No",
                    "No",
                    "No",
                    "No",
                    "Yes",
                    "No",
                    "No",
                    "No",
                    "No",
                    "No",
                    "Yes",
                    "Yes",
                    "No",
                    "No",
                    "No",
                    "Yes",
                    "Yes",
                    "No",
                    "Yes",
                    "No",
                    "No",
                    "No",
                    "No",
                    "No",
                    "No",
                    "No",
                    "Yes",
                    "No",
                    "No",
                    "Yes",
                    "No",
                    "Yes",
                    "No",
                    "Yes",
                    "No",
                    "No",
                    "No",
                    "No",
                    "No",
                    "No",
                    "No",
                    "Yes",
                    "Yes",
                    "No",
                    "No",
                    "No",
                    "No",
                    "No",
                    "No",
                    "No",
                    "Yes",
                    "No",
                    "No",
                    "No",
                    "Yes",
                    "Yes",
                    "No",
                    "No",
                    "Yes",
                    "No",
                    "Yes",
                    "Yes",
                    "No",
                    "No",
                    "No",
                    "Yes",
                    "No",
                    "No",
                    "No",
                    "Yes",
                    "No",
                    "No",
                    "No",
                    "No",
                    "No",
                    "No",
                    "No",
                    "No",
                    "Yes",
                    "Yes",
                    "Yes",
                    "No",
                    "Yes",
                    "No",
                    "No",
                    "Yes",
                    "No",
                    "No",
                    "Yes",
                    "No",
                    "Yes",
                    "Yes",
                    "No",
                    "Yes",
                    "No",
                    "No",
                    "No",
                    "No",
                    "No",
                    "No",
                    "Yes",
                    "No",
                    "No",
                    "No",
                    "No",
                    "Yes",
                    "No",
                    "Yes",
                    "Yes",
                    "No",
                    "No",
                    "No",
                    "Yes",
                    "No",
                    "No",
                    "Yes",
                    "No",
                    "No",
                    "No",
                    "No",
                    "No",
                    "No",
                    "Yes",
                    "No",
                    "No",
                    "No",
                    "No",
                    "Yes",
                    "No",
                    "Yes",
                    "Yes",
                    "Yes",
                    "No",
                    "Yes",
                    "No",
                    "Yes",
                    "No",
                    "Yes",
                    "Yes",
                    "No",
                    "No",
                    "No",
                    "No",
                    "No",
                    "No",
                    "No",
                    "Yes",
                    "Yes",
                    "No",
                    "No",
                    "No",
                    "No",
                    "No",
                    "Yes",
                    "Yes",
                    "Yes",
                    "No",
                    "No",
                    "No",
                    "No",
                    "No",
                    "No",
                    "Yes",
                    "Yes",
                    "No",
                    "Yes",
                    "No",
                    "No",
                    "Yes",
                    "No",
                    "No",
                    "No",
                    "No",
                    "No",
                    "No",
                    "No",
                    "Yes",
                    "Yes",
                    "No",
                    "No",
                    "No",
                    "No",
                    "No",
                    "Yes",
                    "No",
                    "No",
                    "No",
                    "Yes",
                    "No",
                    "No",
                    "No",
                    "No",
                    "No",
                    "Yes",
                    "No",
                    "Yes",
                    "No",
                    "No",
                    "No",
                    "Yes",
                    "No",
                    "No",
                    "Yes",
                    "No",
                    "No",
                    "Yes",
                    "No",
                    "No",
                    "No",
                    "No",
                    "No",
                    "No",
                    "Yes",
                    "No",
                    "Yes",
                    "No",
                    "No",
                    "No",
                    "No",
                    "No",
                    "No",
                    "Yes",
                    "Yes",
                    "No",
                    "No",
                    "No",
                    "No",
                    "No",
                    "No",
                    "No",
                    "Yes",
                    "Yes",
                    "No",
                    "No",
                    "No",
                    "No",
                    "Yes",
                    "Yes",
                    "Yes",
                    "Yes",
                    "Yes",
                    "Yes",
                    "No",
                    "No",
                    "No",
                    "No",
                    "No",
                    "No",
                    "No",
                    "Yes",
                    "No",
                    "No",
                    "No",
                    "No",
                    "No",
                    "Yes",
                    "No",
                    "No",
                    "No",
                    "No",
                    "Yes",
                    "No",
                    "Yes",
                    "No",
                    "No",
                    "Yes",
                    "No",
                    "No",
                    "Yes",
                    "No",
                    "Yes",
                    "No",
                    "No",
                    "No",
                    "No",
                    "Yes",
                    "No",
                    "Yes",
                    "Yes",
                    "Yes",
                    "Yes",
                    "No",
                    "No",
                    "No",
                    "No",
                    "No",
                    "No",
                    "Yes",
                    "No",
                    "No",
                    "Yes",
                    "No",
                    "No",
                    "No",
                    "No",
                    "Yes",
                    "No",
                    "No",
                    "No",
                    "No",
                    "No",
                    "Yes",
                    "No",
                    "Yes",
                    "No",
                    "No",
                    "No",
                    "No",
                    "No",
                    "No",
                    "Yes",
                    "No"
                  ],
                  "x0": " ",
                  "xaxis": "x",
                  "y": {
                    "bdata": "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",
                    "dtype": "i1"
                  },
                  "y0": " ",
                  "yaxis": "y"
                }
              ],
              "layout": {
                "boxmode": "group",
                "legend": {
                  "tracegroupgap": 0
                },
                "template": {
                  "data": {
                    "bar": [
                      {
                        "error_x": {
                          "color": "#2a3f5f"
                        },
                        "error_y": {
                          "color": "#2a3f5f"
                        },
                        "marker": {
                          "line": {
                            "color": "#E5ECF6",
                            "width": 0.5
                          },
                          "pattern": {
                            "fillmode": "overlay",
                            "size": 10,
                            "solidity": 0.2
                          }
                        },
                        "type": "bar"
                      }
                    ],
                    "barpolar": [
                      {
                        "marker": {
                          "line": {
                            "color": "#E5ECF6",
                            "width": 0.5
                          },
                          "pattern": {
                            "fillmode": "overlay",
                            "size": 10,
                            "solidity": 0.2
                          }
                        },
                        "type": "barpolar"
                      }
                    ],
                    "carpet": [
                      {
                        "aaxis": {
                          "endlinecolor": "#2a3f5f",
                          "gridcolor": "white",
                          "linecolor": "white",
                          "minorgridcolor": "white",
                          "startlinecolor": "#2a3f5f"
                        },
                        "baxis": {
                          "endlinecolor": "#2a3f5f",
                          "gridcolor": "white",
                          "linecolor": "white",
                          "minorgridcolor": "white",
                          "startlinecolor": "#2a3f5f"
                        },
                        "type": "carpet"
                      }
                    ],
                    "choropleth": [
                      {
                        "colorbar": {
                          "outlinewidth": 0,
                          "ticks": ""
                        },
                        "type": "choropleth"
                      }
                    ],
                    "contour": [
                      {
                        "colorbar": {
                          "outlinewidth": 0,
                          "ticks": ""
                        },
                        "colorscale": [
                          [
                            0,
                            "#0d0887"
                          ],
                          [
                            0.1111111111111111,
                            "#46039f"
                          ],
                          [
                            0.2222222222222222,
                            "#7201a8"
                          ],
                          [
                            0.3333333333333333,
                            "#9c179e"
                          ],
                          [
                            0.4444444444444444,
                            "#bd3786"
                          ],
                          [
                            0.5555555555555556,
                            "#d8576b"
                          ],
                          [
                            0.6666666666666666,
                            "#ed7953"
                          ],
                          [
                            0.7777777777777778,
                            "#fb9f3a"
                          ],
                          [
                            0.8888888888888888,
                            "#fdca26"
                          ],
                          [
                            1,
                            "#f0f921"
                          ]
                        ],
                        "type": "contour"
                      }
                    ],
                    "contourcarpet": [
                      {
                        "colorbar": {
                          "outlinewidth": 0,
                          "ticks": ""
                        },
                        "type": "contourcarpet"
                      }
                    ],
                    "heatmap": [
                      {
                        "colorbar": {
                          "outlinewidth": 0,
                          "ticks": ""
                        },
                        "colorscale": [
                          [
                            0,
                            "#0d0887"
                          ],
                          [
                            0.1111111111111111,
                            "#46039f"
                          ],
                          [
                            0.2222222222222222,
                            "#7201a8"
                          ],
                          [
                            0.3333333333333333,
                            "#9c179e"
                          ],
                          [
                            0.4444444444444444,
                            "#bd3786"
                          ],
                          [
                            0.5555555555555556,
                            "#d8576b"
                          ],
                          [
                            0.6666666666666666,
                            "#ed7953"
                          ],
                          [
                            0.7777777777777778,
                            "#fb9f3a"
                          ],
                          [
                            0.8888888888888888,
                            "#fdca26"
                          ],
                          [
                            1,
                            "#f0f921"
                          ]
                        ],
                        "type": "heatmap"
                      }
                    ],
                    "histogram": [
                      {
                        "marker": {
                          "pattern": {
                            "fillmode": "overlay",
                            "size": 10,
                            "solidity": 0.2
                          }
                        },
                        "type": "histogram"
                      }
                    ],
                    "histogram2d": [
                      {
                        "colorbar": {
                          "outlinewidth": 0,
                          "ticks": ""
                        },
                        "colorscale": [
                          [
                            0,
                            "#0d0887"
                          ],
                          [
                            0.1111111111111111,
                            "#46039f"
                          ],
                          [
                            0.2222222222222222,
                            "#7201a8"
                          ],
                          [
                            0.3333333333333333,
                            "#9c179e"
                          ],
                          [
                            0.4444444444444444,
                            "#bd3786"
                          ],
                          [
                            0.5555555555555556,
                            "#d8576b"
                          ],
                          [
                            0.6666666666666666,
                            "#ed7953"
                          ],
                          [
                            0.7777777777777778,
                            "#fb9f3a"
                          ],
                          [
                            0.8888888888888888,
                            "#fdca26"
                          ],
                          [
                            1,
                            "#f0f921"
                          ]
                        ],
                        "type": "histogram2d"
                      }
                    ],
                    "histogram2dcontour": [
                      {
                        "colorbar": {
                          "outlinewidth": 0,
                          "ticks": ""
                        },
                        "colorscale": [
                          [
                            0,
                            "#0d0887"
                          ],
                          [
                            0.1111111111111111,
                            "#46039f"
                          ],
                          [
                            0.2222222222222222,
                            "#7201a8"
                          ],
                          [
                            0.3333333333333333,
                            "#9c179e"
                          ],
                          [
                            0.4444444444444444,
                            "#bd3786"
                          ],
                          [
                            0.5555555555555556,
                            "#d8576b"
                          ],
                          [
                            0.6666666666666666,
                            "#ed7953"
                          ],
                          [
                            0.7777777777777778,
                            "#fb9f3a"
                          ],
                          [
                            0.8888888888888888,
                            "#fdca26"
                          ],
                          [
                            1,
                            "#f0f921"
                          ]
                        ],
                        "type": "histogram2dcontour"
                      }
                    ],
                    "mesh3d": [
                      {
                        "colorbar": {
                          "outlinewidth": 0,
                          "ticks": ""
                        },
                        "type": "mesh3d"
                      }
                    ],
                    "parcoords": [
                      {
                        "line": {
                          "colorbar": {
                            "outlinewidth": 0,
                            "ticks": ""
                          }
                        },
                        "type": "parcoords"
                      }
                    ],
                    "pie": [
                      {
                        "automargin": true,
                        "type": "pie"
                      }
                    ],
                    "scatter": [
                      {
                        "fillpattern": {
                          "fillmode": "overlay",
                          "size": 10,
                          "solidity": 0.2
                        },
                        "type": "scatter"
                      }
                    ],
                    "scatter3d": [
                      {
                        "line": {
                          "colorbar": {
                            "outlinewidth": 0,
                            "ticks": ""
                          }
                        },
                        "marker": {
                          "colorbar": {
                            "outlinewidth": 0,
                            "ticks": ""
                          }
                        },
                        "type": "scatter3d"
                      }
                    ],
                    "scattercarpet": [
                      {
                        "marker": {
                          "colorbar": {
                            "outlinewidth": 0,
                            "ticks": ""
                          }
                        },
                        "type": "scattercarpet"
                      }
                    ],
                    "scattergeo": [
                      {
                        "marker": {
                          "colorbar": {
                            "outlinewidth": 0,
                            "ticks": ""
                          }
                        },
                        "type": "scattergeo"
                      }
                    ],
                    "scattergl": [
                      {
                        "marker": {
                          "colorbar": {
                            "outlinewidth": 0,
                            "ticks": ""
                          }
                        },
                        "type": "scattergl"
                      }
                    ],
                    "scattermap": [
                      {
                        "marker": {
                          "colorbar": {
                            "outlinewidth": 0,
                            "ticks": ""
                          }
                        },
                        "type": "scattermap"
                      }
                    ],
                    "scattermapbox": [
                      {
                        "marker": {
                          "colorbar": {
                            "outlinewidth": 0,
                            "ticks": ""
                          }
                        },
                        "type": "scattermapbox"
                      }
                    ],
                    "scatterpolar": [
                      {
                        "marker": {
                          "colorbar": {
                            "outlinewidth": 0,
                            "ticks": ""
                          }
                        },
                        "type": "scatterpolar"
                      }
                    ],
                    "scatterpolargl": [
                      {
                        "marker": {
                          "colorbar": {
                            "outlinewidth": 0,
                            "ticks": ""
                          }
                        },
                        "type": "scatterpolargl"
                      }
                    ],
                    "scatterternary": [
                      {
                        "marker": {
                          "colorbar": {
                            "outlinewidth": 0,
                            "ticks": ""
                          }
                        },
                        "type": "scatterternary"
                      }
                    ],
                    "surface": [
                      {
                        "colorbar": {
                          "outlinewidth": 0,
                          "ticks": ""
                        },
                        "colorscale": [
                          [
                            0,
                            "#0d0887"
                          ],
                          [
                            0.1111111111111111,
                            "#46039f"
                          ],
                          [
                            0.2222222222222222,
                            "#7201a8"
                          ],
                          [
                            0.3333333333333333,
                            "#9c179e"
                          ],
                          [
                            0.4444444444444444,
                            "#bd3786"
                          ],
                          [
                            0.5555555555555556,
                            "#d8576b"
                          ],
                          [
                            0.6666666666666666,
                            "#ed7953"
                          ],
                          [
                            0.7777777777777778,
                            "#fb9f3a"
                          ],
                          [
                            0.8888888888888888,
                            "#fdca26"
                          ],
                          [
                            1,
                            "#f0f921"
                          ]
                        ],
                        "type": "surface"
                      }
                    ],
                    "table": [
                      {
                        "cells": {
                          "fill": {
                            "color": "#EBF0F8"
                          },
                          "line": {
                            "color": "white"
                          }
                        },
                        "header": {
                          "fill": {
                            "color": "#C8D4E3"
                          },
                          "line": {
                            "color": "white"
                          }
                        },
                        "type": "table"
                      }
                    ]
                  },
                  "layout": {
                    "annotationdefaults": {
                      "arrowcolor": "#2a3f5f",
                      "arrowhead": 0,
                      "arrowwidth": 1
                    },
                    "autotypenumbers": "strict",
                    "coloraxis": {
                      "colorbar": {
                        "outlinewidth": 0,
                        "ticks": ""
                      }
                    },
                    "colorscale": {
                      "diverging": [
                        [
                          0,
                          "#8e0152"
                        ],
                        [
                          0.1,
                          "#c51b7d"
                        ],
                        [
                          0.2,
                          "#de77ae"
                        ],
                        [
                          0.3,
                          "#f1b6da"
                        ],
                        [
                          0.4,
                          "#fde0ef"
                        ],
                        [
                          0.5,
                          "#f7f7f7"
                        ],
                        [
                          0.6,
                          "#e6f5d0"
                        ],
                        [
                          0.7,
                          "#b8e186"
                        ],
                        [
                          0.8,
                          "#7fbc41"
                        ],
                        [
                          0.9,
                          "#4d9221"
                        ],
                        [
                          1,
                          "#276419"
                        ]
                      ],
                      "sequential": [
                        [
                          0,
                          "#0d0887"
                        ],
                        [
                          0.1111111111111111,
                          "#46039f"
                        ],
                        [
                          0.2222222222222222,
                          "#7201a8"
                        ],
                        [
                          0.3333333333333333,
                          "#9c179e"
                        ],
                        [
                          0.4444444444444444,
                          "#bd3786"
                        ],
                        [
                          0.5555555555555556,
                          "#d8576b"
                        ],
                        [
                          0.6666666666666666,
                          "#ed7953"
                        ],
                        [
                          0.7777777777777778,
                          "#fb9f3a"
                        ],
                        [
                          0.8888888888888888,
                          "#fdca26"
                        ],
                        [
                          1,
                          "#f0f921"
                        ]
                      ],
                      "sequentialminus": [
                        [
                          0,
                          "#0d0887"
                        ],
                        [
                          0.1111111111111111,
                          "#46039f"
                        ],
                        [
                          0.2222222222222222,
                          "#7201a8"
                        ],
                        [
                          0.3333333333333333,
                          "#9c179e"
                        ],
                        [
                          0.4444444444444444,
                          "#bd3786"
                        ],
                        [
                          0.5555555555555556,
                          "#d8576b"
                        ],
                        [
                          0.6666666666666666,
                          "#ed7953"
                        ],
                        [
                          0.7777777777777778,
                          "#fb9f3a"
                        ],
                        [
                          0.8888888888888888,
                          "#fdca26"
                        ],
                        [
                          1,
                          "#f0f921"
                        ]
                      ]
                    },
                    "colorway": [
                      "#636efa",
                      "#EF553B",
                      "#00cc96",
                      "#ab63fa",
                      "#FFA15A",
                      "#19d3f3",
                      "#FF6692",
                      "#B6E880",
                      "#FF97FF",
                      "#FECB52"
                    ],
                    "font": {
                      "color": "#2a3f5f"
                    },
                    "geo": {
                      "bgcolor": "white",
                      "lakecolor": "white",
                      "landcolor": "#E5ECF6",
                      "showlakes": true,
                      "showland": true,
                      "subunitcolor": "white"
                    },
                    "hoverlabel": {
                      "align": "left"
                    },
                    "hovermode": "closest",
                    "mapbox": {
                      "style": "light"
                    },
                    "paper_bgcolor": "white",
                    "plot_bgcolor": "#E5ECF6",
                    "polar": {
                      "angularaxis": {
                        "gridcolor": "white",
                        "linecolor": "white",
                        "ticks": ""
                      },
                      "bgcolor": "#E5ECF6",
                      "radialaxis": {
                        "gridcolor": "white",
                        "linecolor": "white",
                        "ticks": ""
                      }
                    },
                    "scene": {
                      "xaxis": {
                        "backgroundcolor": "#E5ECF6",
                        "gridcolor": "white",
                        "gridwidth": 2,
                        "linecolor": "white",
                        "showbackground": true,
                        "ticks": "",
                        "zerolinecolor": "white"
                      },
                      "yaxis": {
                        "backgroundcolor": "#E5ECF6",
                        "gridcolor": "white",
                        "gridwidth": 2,
                        "linecolor": "white",
                        "showbackground": true,
                        "ticks": "",
                        "zerolinecolor": "white"
                      },
                      "zaxis": {
                        "backgroundcolor": "#E5ECF6",
                        "gridcolor": "white",
                        "gridwidth": 2,
                        "linecolor": "white",
                        "showbackground": true,
                        "ticks": "",
                        "zerolinecolor": "white"
                      }
                    },
                    "shapedefaults": {
                      "line": {
                        "color": "#2a3f5f"
                      }
                    },
                    "ternary": {
                      "aaxis": {
                        "gridcolor": "white",
                        "linecolor": "white",
                        "ticks": ""
                      },
                      "baxis": {
                        "gridcolor": "white",
                        "linecolor": "white",
                        "ticks": ""
                      },
                      "bgcolor": "#E5ECF6",
                      "caxis": {
                        "gridcolor": "white",
                        "linecolor": "white",
                        "ticks": ""
                      }
                    },
                    "title": {
                      "x": 0.05
                    },
                    "xaxis": {
                      "automargin": true,
                      "gridcolor": "white",
                      "linecolor": "white",
                      "ticks": "",
                      "title": {
                        "standoff": 15
                      },
                      "zerolinecolor": "white",
                      "zerolinewidth": 2
                    },
                    "yaxis": {
                      "automargin": true,
                      "gridcolor": "white",
                      "linecolor": "white",
                      "ticks": "",
                      "title": {
                        "standoff": 15
                      },
                      "zerolinecolor": "white",
                      "zerolinewidth": 2
                    }
                  }
                },
                "title": {
                  "text": "Distribución de tenure por Churn"
                },
                "xaxis": {
                  "anchor": "y",
                  "domain": [
                    0,
                    1
                  ],
                  "title": {
                    "text": "Churn"
                  }
                },
                "yaxis": {
                  "anchor": "x",
                  "domain": [
                    0,
                    1
                  ],
                  "title": {
                    "text": "tenure"
                  }
                }
              }
            }
          },
          "metadata": {},
          "output_type": "display_data"
        }
      ],
      "source": [
        "# Permanencia\n",
        "fnc.vovsnum(df, 'Churn', 'tenure')"
      ]
    },
    {
      "cell_type": "markdown",
      "metadata": {},
      "source": []
    },
    {
      "cell_type": "code",
      "execution_count": 21,
      "metadata": {},
      "outputs": [
        {
          "data": {
            "application/vnd.plotly.v1+json": {
              "config": {
                "plotlyServerURL": "https://plot.ly"
              },
              "data": [
                {
                  "alignmentgroup": "True",
                  "boxpoints": "outliers",
                  "hovertemplate": "Churn=%{x}<br>MonthlyCharges=%{y}<extra></extra>",
                  "legendgroup": "",
                  "marker": {
                    "color": "#636efa"
                  },
                  "name": "",
                  "notched": false,
                  "offsetgroup": "",
                  "orientation": "v",
                  "showlegend": false,
                  "type": "box",
                  "x": [
                    "No",
                    "No",
                    "Yes",
                    "No",
                    "Yes",
                    "Yes",
                    "No",
                    "No",
                    "Yes",
                    "No",
                    "No",
                    "No",
                    "No",
                    "Yes",
                    "No",
                    "No",
                    "No",
                    "No",
                    "Yes",
                    "No",
                    "Yes",
                    "No",
                    "Yes",
                    "No",
                    "No",
                    "No",
                    "Yes",
                    "Yes",
                    "No",
                    "Yes",
                    "No",
                    "No",
                    "No",
                    "No",
                    "No",
                    "No",
                    "Yes",
                    "No",
                    "Yes",
                    "Yes",
                    "No",
                    "No",
                    "No",
                    "No",
                    "No",
                    "No",
                    "No",
                    "Yes",
                    "No",
                    "No",
                    "No",
                    "Yes",
                    "No",
                    "Yes",
                    "No",
                    "Yes",
                    "No",
                    "No",
                    "No",
                    "No",
                    "No",
                    "No",
                    "No",
                    "No",
                    "Yes",
                    "No",
                    "No",
                    "No",
                    "No",
                    "No",
                    "No",
                    "No",
                    "No",
                    "No",
                    "No",
                    "No",
                    "No",
                    "No",
                    "No",
                    "No",
                    "Yes",
                    "No",
                    "Yes",
                    "No",
                    "No",
                    "No",
                    "No",
                    "No",
                    "No",
                    "No",
                    "No",
                    "No",
                    "No",
                    "No",
                    "No",
                    "Yes",
                    "No",
                    "Yes",
                    "No",
                    "Yes",
                    "No",
                    "No",
                    "No",
                    "No",
                    "Yes",
                    "No",
                    "No",
                    "No",
                    "No",
                    "No",
                    "Yes",
                    "No",
                    "No",
                    "Yes",
                    "No",
                    "No",
                    "No",
                    "Yes",
                    "No",
                    "No",
                    "No",
                    "No",
                    "Yes",
                    "No",
                    "No",
                    "No",
                    "Yes",
                    "No",
                    "No",
                    "No",
                    "No",
                    "Yes",
                    "No",
                    "Yes",
                    "Yes",
                    "No",
                    "No",
                    "No",
                    "No",
                    "Yes",
                    "No",
                    "Yes",
                    "No",
                    "No",
                    "No",
                    "No",
                    "No",
                    "Yes",
                    "No",
                    "No",
                    "No",
                    "Yes",
                    "No",
                    "No",
                    "No",
                    "No",
                    "No",
                    "No",
                    "No",
                    "No",
                    "No",
                    "Yes",
                    "No",
                    "No",
                    "No",
                    "No",
                    "Yes",
                    "No",
                    "Yes",
                    "No",
                    "No",
                    "Yes",
                    "No",
                    "Yes",
                    "No",
                    "No",
                    "Yes",
                    "Yes",
                    "No",
                    "No",
                    "Yes",
                    "No",
                    "Yes",
                    "No",
                    "Yes",
                    "Yes",
                    "No",
                    "No",
                    "No",
                    "No",
                    "No",
                    "Yes",
                    "No",
                    "No",
                    "No",
                    "No",
                    "No",
                    "No",
                    "No",
                    "No",
                    "No",
                    "No",
                    "No",
                    "No",
                    "No",
                    "No",
                    "No",
                    "Yes",
                    "Yes",
                    "No",
                    "Yes",
                    "No",
                    "No",
                    "No",
                    "No",
                    "No",
                    "No",
                    "No",
                    "No",
                    "No",
                    "Yes",
                    "No",
                    "No",
                    "Yes",
                    "No",
                    "No",
                    "No",
                    "Yes",
                    "No",
                    "No",
                    "No",
                    "No",
                    "Yes",
                    "No",
                    "No",
                    "Yes",
                    "No",
                    "No",
                    "Yes",
                    "No",
                    "No",
                    "No",
                    "No",
                    "No",
                    "No",
                    "No",
                    "No",
                    "Yes",
                    "Yes",
                    "No",
                    "No",
                    "Yes",
                    "Yes",
                    "No",
                    "No",
                    "No",
                    "No",
                    "No",
                    "Yes",
                    "No",
                    "Yes",
                    "Yes",
                    "No",
                    "No",
                    "No",
                    "No",
                    "No",
                    "No",
                    "Yes",
                    "No",
                    "Yes",
                    "No",
                    "Yes",
                    "No",
                    "Yes",
                    "Yes",
                    "Yes",
                    "No",
                    "No",
                    "No",
                    "No",
                    "No",
                    "No",
                    "No",
                    "Yes",
                    "No",
                    "No",
                    "Yes",
                    "Yes",
                    "Yes",
                    "Yes",
                    "No",
                    "No",
                    "No",
                    "No",
                    "No",
                    "No",
                    "No",
                    "No",
                    "Yes",
                    "No",
                    "Yes",
                    "No",
                    "No",
                    "No",
                    "No",
                    "Yes",
                    "No",
                    "No",
                    "No",
                    "No",
                    "No",
                    "No",
                    "No",
                    "Yes",
                    "No",
                    "No",
                    "Yes",
                    "Yes",
                    "No",
                    "Yes",
                    "No",
                    "No",
                    "No",
                    "No",
                    "No",
                    "No",
                    "Yes",
                    "No",
                    "No",
                    "No",
                    "No",
                    "No",
                    "Yes",
                    "Yes",
                    "Yes",
                    "Yes",
                    "No",
                    "No",
                    "Yes",
                    "No",
                    "No",
                    "No",
                    "No",
                    "No",
                    "No",
                    "Yes",
                    "No",
                    "No",
                    "No",
                    "No",
                    "No",
                    "No",
                    "Yes",
                    "Yes",
                    "Yes",
                    "No",
                    "No",
                    "Yes",
                    "No",
                    "No",
                    "No",
                    "No",
                    "No",
                    "No",
                    "Yes",
                    "No",
                    "No",
                    "No",
                    "No",
                    "No",
                    "Yes",
                    "No",
                    "No",
                    "No",
                    "No",
                    "No",
                    "Yes",
                    "No",
                    "No",
                    "No",
                    "Yes",
                    "No",
                    "Yes",
                    "No",
                    "Yes",
                    "Yes",
                    "No",
                    "No",
                    "No",
                    "No",
                    "No",
                    "No",
                    "No",
                    "No",
                    "No",
                    "No",
                    "Yes",
                    "No",
                    "No",
                    "No",
                    "No",
                    "Yes",
                    "No",
                    "No",
                    "No",
                    "No",
                    "No",
                    "Yes",
                    "Yes",
                    "Yes",
                    "No",
                    "No",
                    "No",
                    "No",
                    "No",
                    "No",
                    "No",
                    "Yes",
                    "Yes",
                    "No",
                    "No",
                    "No",
                    "No",
                    "No",
                    "No",
                    "No",
                    "No",
                    "No",
                    "No",
                    "Yes",
                    "No",
                    "No",
                    "Yes",
                    "No",
                    "No",
                    "No",
                    "No",
                    "No",
                    "No",
                    "No",
                    "No",
                    "No",
                    "No",
                    "No",
                    "Yes",
                    "Yes",
                    "No",
                    "No",
                    "No",
                    "No",
                    "No",
                    "No",
                    "Yes",
                    "No",
                    "No",
                    "No",
                    "No",
                    "No",
                    "No",
                    "No",
                    "No",
                    "Yes",
                    "Yes",
                    "No",
                    "No",
                    "No",
                    "No",
                    "No",
                    "Yes",
                    "No",
                    "Yes",
                    "No",
                    "No",
                    "Yes",
                    "Yes",
                    "No",
                    "No",
                    "Yes",
                    "Yes",
                    "No",
                    "Yes",
                    "No",
                    "No",
                    "Yes",
                    "No",
                    "No",
                    "No",
                    "Yes",
                    "No",
                    "No",
                    "Yes",
                    "No",
                    "No",
                    "Yes",
                    "No",
                    "No",
                    "Yes",
                    "Yes",
                    "No",
                    "No",
                    "No",
                    "No",
                    "No",
                    "Yes",
                    "No",
                    "Yes",
                    "Yes",
                    "No",
                    "No",
                    "No",
                    "Yes",
                    "No",
                    "No",
                    "Yes",
                    "No",
                    "No",
                    "Yes",
                    "No",
                    "No",
                    "No",
                    "No",
                    "Yes",
                    "Yes",
                    "No",
                    "No",
                    "No",
                    "No",
                    "No",
                    "No",
                    "No",
                    "No",
                    "No",
                    "Yes",
                    "No",
                    "No",
                    "No",
                    "No",
                    "No",
                    "No",
                    "No",
                    "No",
                    "Yes",
                    "Yes",
                    "No",
                    "Yes",
                    "No",
                    "No",
                    "No",
                    "No",
                    "No",
                    "No",
                    "No",
                    "Yes",
                    "No",
                    "No",
                    "No",
                    "No",
                    "No",
                    "No",
                    "No",
                    "No",
                    "No",
                    "No",
                    "No",
                    "No",
                    "No",
                    "Yes",
                    "No",
                    "No",
                    "No",
                    "No",
                    "Yes",
                    "No",
                    "No",
                    "No",
                    "No",
                    "No",
                    "No",
                    "Yes",
                    "Yes",
                    "Yes",
                    "No",
                    "No",
                    "Yes",
                    "No",
                    "No",
                    "No",
                    "No",
                    "No",
                    "No",
                    "No",
                    "No",
                    "No",
                    "Yes",
                    "No",
                    "No",
                    "No",
                    "No",
                    "No",
                    "No",
                    "No",
                    "No",
                    "No",
                    "No",
                    "No",
                    "No",
                    "No",
                    "Yes",
                    "Yes",
                    "Yes",
                    "No",
                    "No",
                    "No",
                    "No",
                    "No",
                    "No",
                    "No",
                    "No",
                    "No",
                    "No",
                    "No",
                    "No",
                    "Yes",
                    "No",
                    "No",
                    "No",
                    "No",
                    "Yes",
                    "Yes",
                    "No",
                    "No",
                    "No",
                    "No",
                    "Yes",
                    "No",
                    "No",
                    "Yes",
                    "Yes",
                    "No",
                    "Yes",
                    "Yes",
                    "No",
                    "No",
                    "Yes",
                    "Yes",
                    "No",
                    "Yes",
                    "No",
                    "Yes",
                    "Yes",
                    "No",
                    "No",
                    "Yes",
                    "No",
                    "No",
                    "No",
                    "Yes",
                    "No",
                    "Yes",
                    "No",
                    "No",
                    "No",
                    "No",
                    "No",
                    "Yes",
                    "No",
                    "Yes",
                    "No",
                    "No",
                    "No",
                    "Yes",
                    "No",
                    "Yes",
                    "No",
                    "No",
                    "Yes",
                    "No",
                    "No",
                    "Yes",
                    "No",
                    "No",
                    "No",
                    "No",
                    "No",
                    "No",
                    "Yes",
                    "No",
                    "No",
                    "No",
                    "No",
                    "No",
                    "Yes",
                    "No",
                    "No",
                    "No",
                    "Yes",
                    "No",
                    "No",
                    "No",
                    "No",
                    "No",
                    "No",
                    "No",
                    "Yes",
                    "No",
                    "No",
                    "No",
                    "No",
                    "Yes",
                    "No",
                    "No",
                    "No",
                    "No",
                    "No",
                    "No",
                    "No",
                    "No",
                    "No",
                    "No",
                    "No",
                    "Yes",
                    "Yes",
                    "Yes",
                    "No",
                    "No",
                    "No",
                    "Yes",
                    "No",
                    "Yes",
                    "No",
                    "No",
                    "No",
                    "No",
                    "No",
                    "No",
                    "No",
                    "No",
                    "No",
                    "No",
                    "No",
                    "Yes",
                    "No",
                    "No",
                    "No",
                    "No",
                    "No",
                    "No",
                    "No",
                    "No",
                    "No",
                    "No",
                    "No",
                    "Yes",
                    "No",
                    "No",
                    "Yes",
                    "No",
                    "No",
                    "Yes",
                    "Yes",
                    "No",
                    "No",
                    "No",
                    "No",
                    "No",
                    "No",
                    "No",
                    "No",
                    "Yes",
                    "Yes",
                    "Yes",
                    "Yes",
                    "No",
                    "No",
                    "Yes",
                    "No",
                    "Yes",
                    "No",
                    "No",
                    "No",
                    "Yes",
                    "No",
                    "Yes",
                    "No",
                    "No",
                    "No",
                    "No",
                    "No",
                    "No",
                    "No",
                    "No",
                    "No",
                    "No",
                    "No",
                    "No",
                    "No",
                    "Yes",
                    "No",
                    "Yes",
                    "No",
                    "No",
                    "Yes",
                    "No",
                    "No",
                    "No",
                    "Yes",
                    "Yes",
                    "Yes",
                    "Yes",
                    "No",
                    "No",
                    "No",
                    "No",
                    "Yes",
                    "No",
                    "Yes",
                    "No",
                    "No",
                    "No",
                    "No",
                    "No",
                    "No",
                    "Yes",
                    "Yes",
                    "No",
                    "Yes",
                    "No",
                    "Yes",
                    "No",
                    "No",
                    "No",
                    "Yes",
                    "No",
                    "No",
                    "Yes",
                    "No",
                    "No",
                    "Yes",
                    "No",
                    "Yes",
                    "No",
                    "Yes",
                    "No",
                    "No",
                    "No",
                    "No",
                    "No",
                    "No",
                    "No",
                    "No",
                    "No",
                    "No",
                    "Yes",
                    "No",
                    "Yes",
                    "No",
                    "No",
                    "No",
                    "No",
                    "Yes",
                    "Yes",
                    "Yes",
                    "Yes",
                    "No",
                    "No",
                    "Yes",
                    "No",
                    "No",
                    "No",
                    "No",
                    "Yes",
                    "No",
                    "No",
                    "Yes",
                    "No",
                    "No",
                    "No",
                    "Yes",
                    "No",
                    "Yes",
                    "No",
                    "No",
                    "No",
                    "No",
                    "No",
                    "No",
                    "Yes",
                    "No",
                    "Yes",
                    "No",
                    "Yes",
                    "No",
                    "No",
                    "No",
                    "No",
                    "Yes",
                    "No",
                    "No",
                    "Yes",
                    "Yes",
                    "No",
                    "No",
                    "Yes",
                    "No",
                    "No",
                    "No",
                    "No",
                    "Yes",
                    "No",
                    "No",
                    "No",
                    "No",
                    "Yes",
                    "No",
                    "No",
                    "No",
                    "No",
                    "No",
                    "No",
                    "No",
                    "No",
                    "No",
                    "No",
                    "Yes",
                    "Yes",
                    "No",
                    "No",
                    "No",
                    "No",
                    "No",
                    "Yes",
                    "No",
                    "No",
                    "Yes",
                    "No",
                    "No",
                    "No",
                    "No",
                    "No",
                    "No",
                    "No",
                    "Yes",
                    "No",
                    "No",
                    "Yes",
                    "No",
                    "Yes",
                    "No",
                    "No",
                    "No",
                    "No",
                    "Yes",
                    "No",
                    "No",
                    "No",
                    "No",
                    "No",
                    "No",
                    "No",
                    "No",
                    "Yes",
                    "Yes",
                    "Yes",
                    "No",
                    "No",
                    "Yes",
                    "Yes",
                    "No",
                    "No",
                    "Yes",
                    "No",
                    "Yes",
                    "Yes",
                    "No",
                    "Yes",
                    "No",
                    "No",
                    "No",
                    "No",
                    "Yes",
                    "No",
                    "Yes",
                    "No",
                    "No",
                    "No",
                    "No",
                    "No",
                    "No",
                    "No",
                    "No",
                    "No",
                    "Yes",
                    "Yes",
                    "Yes",
                    "No",
                    "No",
                    "Yes",
                    "Yes",
                    "No",
                    "No",
                    "No",
                    "No",
                    "Yes",
                    "Yes",
                    "Yes",
                    "No",
                    "No",
                    "No",
                    "No",
                    "No",
                    "Yes",
                    "Yes",
                    "No",
                    "No",
                    "No",
                    "No",
                    "No",
                    "No",
                    "No",
                    "No",
                    "No",
                    "No",
                    "Yes",
                    "No",
                    "Yes",
                    "Yes",
                    "No",
                    "No",
                    "Yes",
                    "No",
                    "No",
                    "No",
                    "No",
                    "No",
                    "No",
                    "Yes",
                    "Yes",
                    "No",
                    "No",
                    "Yes",
                    "No",
                    "No",
                    "No",
                    "No",
                    "No",
                    "Yes",
                    "Yes",
                    "No",
                    "No",
                    "Yes",
                    "Yes",
                    "No",
                    "Yes",
                    "Yes",
                    "Yes",
                    "Yes",
                    "No",
                    "No",
                    "No",
                    "No",
                    "No",
                    "Yes",
                    "No",
                    "No",
                    "Yes",
                    "No",
                    "Yes",
                    "Yes",
                    "No",
                    "Yes",
                    "No",
                    "No",
                    "No",
                    "Yes",
                    "No",
                    "No",
                    "No",
                    "No",
                    "Yes",
                    "No",
                    "Yes",
                    "Yes",
                    "No",
                    "Yes",
                    "No",
                    "No",
                    "No",
                    "No",
                    "No",
                    "No",
                    "No",
                    "No",
                    "Yes",
                    "No",
                    "No",
                    "No",
                    "No",
                    "Yes",
                    "No",
                    "No",
                    "No",
                    "No",
                    "No",
                    "No",
                    "No",
                    "No",
                    "Yes",
                    "No",
                    "Yes",
                    "No",
                    "No",
                    "No",
                    "No",
                    "No",
                    "No",
                    "No",
                    "No",
                    "Yes",
                    "No",
                    "No",
                    "Yes",
                    "Yes",
                    "No",
                    "No",
                    "No",
                    "No",
                    "Yes",
                    "Yes",
                    "No",
                    "No",
                    "No",
                    "No",
                    "No",
                    "No",
                    "No",
                    "No",
                    "No",
                    "No",
                    "No",
                    "Yes",
                    "No",
                    "No",
                    "No",
                    "Yes",
                    "Yes",
                    "No",
                    "No",
                    "No",
                    "No",
                    "No",
                    "No",
                    "No",
                    "No",
                    "No",
                    "Yes",
                    "No",
                    "Yes",
                    "No",
                    "Yes",
                    "No",
                    "No",
                    "No",
                    "No",
                    "No",
                    "No",
                    "No",
                    "Yes",
                    "No",
                    "Yes",
                    "No",
                    "No",
                    "Yes",
                    "No",
                    "Yes",
                    "No",
                    "No",
                    "Yes",
                    "No",
                    "No",
                    "No",
                    "Yes",
                    "No",
                    "No",
                    "No",
                    "No",
                    "No",
                    "No",
                    "Yes",
                    "No",
                    "No",
                    "No",
                    "No",
                    "No",
                    "No",
                    "No",
                    "No",
                    "No",
                    "Yes",
                    "No",
                    "No",
                    "Yes",
                    "No",
                    "No",
                    "Yes",
                    "No",
                    "Yes",
                    "Yes",
                    "No",
                    "No",
                    "Yes",
                    "Yes",
                    "No",
                    "No",
                    "Yes",
                    "No",
                    "No",
                    "No",
                    "No",
                    "Yes",
                    "Yes",
                    "Yes",
                    "No",
                    "No",
                    "No",
                    "No",
                    "No",
                    "No",
                    "Yes",
                    "No",
                    "No",
                    "No",
                    "Yes",
                    "No",
                    "Yes",
                    "No",
                    "No",
                    "No",
                    "No",
                    "Yes",
                    "Yes",
                    "No",
                    "No",
                    "No",
                    "Yes",
                    "Yes",
                    "No",
                    "Yes",
                    "No",
                    "Yes",
                    "No",
                    "Yes",
                    "No",
                    "No",
                    "No",
                    "Yes",
                    "No",
                    "No",
                    "No",
                    "Yes",
                    "No",
                    "No",
                    "No",
                    "No",
                    "Yes",
                    "No",
                    "No",
                    "No",
                    "No",
                    "No",
                    "No",
                    "No",
                    "No",
                    "No",
                    "No",
                    "No",
                    "No",
                    "No",
                    "No",
                    "No",
                    "No",
                    "Yes",
                    "No",
                    "No",
                    "No",
                    "No",
                    "No",
                    "Yes",
                    "No",
                    "No",
                    "Yes",
                    "No",
                    "No",
                    "No",
                    "No",
                    "Yes",
                    "No",
                    "No",
                    "No",
                    "No",
                    "Yes",
                    "No",
                    "Yes",
                    "No",
                    "Yes",
                    "Yes",
                    "Yes",
                    "No",
                    "No",
                    "Yes",
                    "Yes",
                    "No",
                    "No",
                    "No",
                    "No",
                    "Yes",
                    "No",
                    "No",
                    "No",
                    "No",
                    "Yes",
                    "Yes",
                    "No",
                    "Yes",
                    "No",
                    "No",
                    "No",
                    "No",
                    "No",
                    "No",
                    "Yes",
                    "Yes",
                    "No",
                    "No",
                    "Yes",
                    "Yes",
                    "Yes",
                    "No",
                    "No",
                    "No",
                    "No",
                    "Yes",
                    "No",
                    "Yes",
                    "No",
                    "No",
                    "No",
                    "No",
                    "No",
                    "Yes",
                    "No",
                    "No",
                    "No",
                    "No",
                    "Yes",
                    "Yes",
                    "Yes",
                    "Yes",
                    "No",
                    "No",
                    "Yes",
                    "Yes",
                    "No",
                    "No",
                    "No",
                    "No",
                    "Yes",
                    "No",
                    "No",
                    "No",
                    "No",
                    "Yes",
                    "No",
                    "No",
                    "No",
                    "No",
                    "No",
                    "No",
                    "Yes",
                    "Yes",
                    "No",
                    "No",
                    "No",
                    "No",
                    "Yes",
                    "No",
                    "No",
                    "No",
                    "No",
                    "No",
                    "Yes",
                    "Yes",
                    "No",
                    "No",
                    "No",
                    "No",
                    "Yes",
                    "Yes",
                    "No",
                    "No",
                    "Yes",
                    "No",
                    "No",
                    "No",
                    "No",
                    "Yes",
                    "No",
                    "Yes",
                    "No",
                    "No",
                    "No",
                    "No",
                    "No",
                    "No",
                    "No",
                    "No",
                    "Yes",
                    "No",
                    "Yes",
                    "No",
                    "No",
                    "No",
                    "No",
                    "Yes",
                    "No",
                    "No",
                    "No",
                    "No",
                    "No",
                    "Yes",
                    "No",
                    "Yes",
                    "No",
                    "No",
                    "Yes",
                    "No",
                    "No",
                    "No",
                    "No",
                    "No",
                    "No",
                    "No",
                    "Yes",
                    "No",
                    "No",
                    "No",
                    "No",
                    "No",
                    "No",
                    "No",
                    "No",
                    "Yes",
                    "No",
                    "Yes",
                    "No",
                    "Yes",
                    "No",
                    "No",
                    "Yes",
                    "No",
                    "No",
                    "No",
                    "No",
                    "No",
                    "Yes",
                    "No",
                    "No",
                    "Yes",
                    "Yes",
                    "No",
                    "No",
                    "No",
                    "Yes",
                    "Yes",
                    "No",
                    "No",
                    "No",
                    "No",
                    "No",
                    "No",
                    "Yes",
                    "Yes",
                    "No",
                    "No",
                    "No",
                    "No",
                    "No",
                    "Yes",
                    "No",
                    "Yes",
                    "No",
                    "No",
                    "No",
                    "Yes",
                    "No",
                    "No",
                    "No",
                    "No",
                    "No",
                    "No",
                    "Yes",
                    "No",
                    "No",
                    "No",
                    "Yes",
                    "No",
                    "No",
                    "No",
                    "Yes",
                    "No",
                    "No",
                    "No",
                    "No",
                    "No",
                    "Yes",
                    "No",
                    "No",
                    "Yes",
                    "No",
                    "No",
                    "No",
                    "No",
                    "No",
                    "No",
                    "No",
                    "Yes",
                    "No",
                    "No",
                    "Yes",
                    "No",
                    "No",
                    "No",
                    "No",
                    "Yes",
                    "No",
                    "No",
                    "No",
                    "No",
                    "Yes",
                    "No",
                    "No",
                    "No",
                    "Yes",
                    "No",
                    "Yes",
                    "No",
                    "No",
                    "No",
                    "No",
                    "No",
                    "Yes",
                    "Yes",
                    "No",
                    "Yes",
                    "No",
                    "No",
                    "Yes",
                    "No",
                    "No",
                    "Yes",
                    "No",
                    "No",
                    "No",
                    "No",
                    "No",
                    "No",
                    "No",
                    "Yes",
                    "No",
                    "No",
                    "Yes",
                    "No",
                    "Yes",
                    "Yes",
                    "Yes",
                    "No",
                    "No",
                    "No",
                    "No",
                    "No",
                    "No",
                    "No",
                    "No",
                    "No",
                    "No",
                    "No",
                    "No",
                    "Yes",
                    "No",
                    "No",
                    "Yes",
                    "No",
                    "No",
                    "No",
                    "No",
                    "Yes",
                    "No",
                    "Yes",
                    "Yes",
                    "No",
                    "No",
                    "No",
                    "Yes",
                    "No",
                    "No",
                    "No",
                    "No",
                    "Yes",
                    "No",
                    "No",
                    "No",
                    "No",
                    "No",
                    "Yes",
                    "No",
                    "No",
                    "Yes",
                    "No",
                    "No",
                    "Yes",
                    "Yes",
                    "No",
                    "No",
                    "No",
                    "No",
                    "No",
                    "Yes",
                    "Yes",
                    "No",
                    "No",
                    "No",
                    "No",
                    "No",
                    "No",
                    "Yes",
                    "No",
                    "No",
                    "No",
                    "No",
                    "Yes",
                    "Yes",
                    "No",
                    "Yes",
                    "No",
                    "No",
                    "Yes",
                    "Yes",
                    "No",
                    "No",
                    "No",
                    "Yes",
                    "No",
                    "No",
                    "Yes",
                    "No",
                    "No",
                    "No",
                    "Yes",
                    "Yes",
                    "Yes",
                    "No",
                    "No",
                    "No",
                    "No",
                    "No",
                    "Yes",
                    "No",
                    "No",
                    "Yes",
                    "No",
                    "Yes",
                    "No",
                    "No",
                    "No",
                    "No",
                    "No",
                    "No",
                    "No",
                    "No",
                    "No",
                    "No",
                    "Yes",
                    "No",
                    "No",
                    "No",
                    "No",
                    "No",
                    "No",
                    "No",
                    "Yes",
                    "No",
                    "Yes",
                    "No",
                    "No",
                    "No",
                    "No",
                    "Yes",
                    "Yes",
                    "No",
                    "Yes",
                    "No",
                    "No",
                    "No",
                    "Yes",
                    "No",
                    "No",
                    "No",
                    "No",
                    "No",
                    "No",
                    "No",
                    "No",
                    "No",
                    "No",
                    "No",
                    "No",
                    "Yes",
                    "No",
                    "No",
                    "No",
                    "No",
                    "No",
                    "No",
                    "No",
                    "No",
                    "Yes",
                    "Yes",
                    "No",
                    "No",
                    "Yes",
                    "No",
                    "Yes",
                    "No",
                    "No",
                    "Yes",
                    "No",
                    "No",
                    "Yes",
                    "No",
                    "No",
                    "No",
                    "No",
                    "Yes",
                    "No",
                    "No",
                    "No",
                    "Yes",
                    "No",
                    "No",
                    "No",
                    "No",
                    "No",
                    "No",
                    "No",
                    "No",
                    "No",
                    "No",
                    "No",
                    "No",
                    "No",
                    "No",
                    "No",
                    "No",
                    "No",
                    "No",
                    "Yes",
                    "Yes",
                    "Yes",
                    "No",
                    "No",
                    "No",
                    "No",
                    "No",
                    "No",
                    "No",
                    "Yes",
                    "No",
                    "No",
                    "Yes",
                    "Yes",
                    "No",
                    "Yes",
                    "No",
                    "No",
                    "No",
                    "Yes",
                    "No",
                    "No",
                    "No",
                    "No",
                    "Yes",
                    "No",
                    "No",
                    "No",
                    "Yes",
                    "No",
                    "No",
                    "No",
                    "No",
                    "No",
                    "No",
                    "No",
                    "Yes",
                    "Yes",
                    "Yes",
                    "No",
                    "No",
                    "No",
                    "No",
                    "No",
                    "No",
                    "No",
                    "No",
                    "No",
                    "No",
                    "No",
                    "Yes",
                    "Yes",
                    "Yes",
                    "No",
                    "No",
                    "No",
                    "No",
                    "No",
                    "No",
                    "No",
                    "No",
                    "Yes",
                    "No",
                    "Yes",
                    "No",
                    "Yes",
                    "Yes",
                    "No",
                    "No",
                    "Yes",
                    "No",
                    "No",
                    "No",
                    "No",
                    "No",
                    "No",
                    "No",
                    "No",
                    "Yes",
                    "No",
                    "Yes",
                    "Yes",
                    "Yes",
                    "Yes",
                    "No",
                    "Yes",
                    "No",
                    "Yes",
                    "Yes",
                    "No",
                    "Yes",
                    "No",
                    "No",
                    "No",
                    "No",
                    "No",
                    "Yes",
                    "No",
                    "No",
                    "No",
                    "No",
                    "No",
                    "No",
                    "No",
                    "No",
                    "No",
                    "No",
                    "No",
                    "Yes",
                    "Yes",
                    "No",
                    "No",
                    "Yes",
                    "No",
                    "No",
                    "No",
                    "Yes",
                    "No",
                    "No",
                    "Yes",
                    "Yes",
                    "No",
                    "No",
                    "No",
                    "No",
                    "No",
                    "Yes",
                    "Yes",
                    "No",
                    "No",
                    "No",
                    "No",
                    "No",
                    "Yes",
                    "No",
                    "No",
                    "No",
                    "No",
                    "No",
                    "No",
                    "No",
                    "No",
                    "No",
                    "No",
                    "No",
                    "Yes",
                    "No",
                    "No",
                    "Yes",
                    "No",
                    "No",
                    "No",
                    "No",
                    "No",
                    "No",
                    "Yes",
                    "Yes",
                    "Yes",
                    "No",
                    "No",
                    "No",
                    "No",
                    "No",
                    "Yes",
                    "No",
                    "No",
                    "No",
                    "No",
                    "No",
                    "No",
                    "No",
                    "No",
                    "No",
                    "Yes",
                    "No",
                    "No",
                    "No",
                    "Yes",
                    "No",
                    "Yes",
                    "No",
                    "No",
                    "Yes",
                    "Yes",
                    "No",
                    "No",
                    "No",
                    "No",
                    "No",
                    "No",
                    "No",
                    "No",
                    "No",
                    "No",
                    "Yes",
                    "No",
                    "Yes",
                    "No",
                    "No",
                    "Yes",
                    "No",
                    "No",
                    "No",
                    "Yes",
                    "No",
                    "Yes",
                    "No",
                    "No",
                    "No",
                    "No",
                    "Yes",
                    "No",
                    "No",
                    "Yes",
                    "Yes",
                    "No",
                    "Yes",
                    "Yes",
                    "No",
                    "Yes",
                    "No",
                    "No",
                    "Yes",
                    "No",
                    "Yes",
                    "No",
                    "No",
                    "Yes",
                    "Yes",
                    "No",
                    "No",
                    "No",
                    "Yes",
                    "Yes",
                    "Yes",
                    "Yes",
                    "Yes",
                    "Yes",
                    "No",
                    "Yes",
                    "No",
                    "Yes",
                    "No",
                    "No",
                    "No",
                    "Yes",
                    "No",
                    "Yes",
                    "Yes",
                    "No",
                    "No",
                    "No",
                    "Yes",
                    "No",
                    "No",
                    "No",
                    "No",
                    "No",
                    "Yes",
                    "No",
                    "No",
                    "Yes",
                    "Yes",
                    "No",
                    "No",
                    "No",
                    "No",
                    "Yes",
                    "Yes",
                    "No",
                    "No",
                    "No",
                    "No",
                    "No",
                    "No",
                    "No",
                    "No",
                    "Yes",
                    "No",
                    "No",
                    "No",
                    "No",
                    "Yes",
                    "Yes",
                    "No",
                    "No",
                    "Yes",
                    "No",
                    "No",
                    "No",
                    "Yes",
                    "No",
                    "No",
                    "No",
                    "No",
                    "No",
                    "No",
                    "No",
                    "Yes",
                    "Yes",
                    "No",
                    "No",
                    "No",
                    "Yes",
                    "No",
                    "No",
                    "Yes",
                    "No",
                    "No",
                    "No",
                    "No",
                    "No",
                    "Yes",
                    "Yes",
                    "Yes",
                    "Yes",
                    "Yes",
                    "No",
                    "No",
                    "No",
                    "No",
                    "No",
                    "No",
                    "No",
                    "Yes",
                    "Yes",
                    "No",
                    "No",
                    "No",
                    "No",
                    "Yes",
                    "No",
                    "No",
                    "Yes",
                    "Yes",
                    "No",
                    "No",
                    "No",
                    "No",
                    "No",
                    "No",
                    "No",
                    "No",
                    "No",
                    "No",
                    "Yes",
                    "No",
                    "No",
                    "No",
                    "No",
                    "No",
                    "No",
                    "No",
                    "Yes",
                    "No",
                    "No",
                    "Yes",
                    "No",
                    "Yes",
                    "Yes",
                    "No",
                    "No",
                    "Yes",
                    "No",
                    "No",
                    "No",
                    "No",
                    "No",
                    "No",
                    "Yes",
                    "No",
                    "No",
                    "No",
                    "No",
                    "No",
                    "No",
                    "No",
                    "No",
                    "No",
                    "No",
                    "No",
                    "No",
                    "No",
                    "No",
                    "Yes",
                    "Yes",
                    "No",
                    "No",
                    "No",
                    "No",
                    "Yes",
                    "No",
                    "Yes",
                    "No",
                    "No",
                    "No",
                    "Yes",
                    "Yes",
                    "No",
                    "No",
                    "No",
                    "No",
                    "No",
                    "No",
                    "Yes",
                    "No",
                    "No",
                    "No",
                    "No",
                    "No",
                    "No",
                    "No",
                    "No",
                    "Yes",
                    "Yes",
                    "No",
                    "No",
                    "No",
                    "No",
                    "No",
                    "Yes",
                    "No",
                    "No",
                    "Yes",
                    "No",
                    "No",
                    "No",
                    "No",
                    "No",
                    "No",
                    "No",
                    "Yes",
                    "No",
                    "Yes",
                    "No",
                    "Yes",
                    "Yes",
                    "Yes",
                    "No",
                    "No",
                    "No",
                    "No",
                    "No",
                    "Yes",
                    "No",
                    "No",
                    "No",
                    "No",
                    "No",
                    "No",
                    "No",
                    "No",
                    "Yes",
                    "Yes",
                    "No",
                    "No",
                    "No",
                    "No",
                    "No",
                    "No",
                    "Yes",
                    "No",
                    "No",
                    "No",
                    "No",
                    "No",
                    "No",
                    "No",
                    "No",
                    "No",
                    "No",
                    "No",
                    "No",
                    "Yes",
                    "No",
                    "Yes",
                    "No",
                    "No",
                    "No",
                    "No",
                    "No",
                    "No",
                    "No",
                    "No",
                    "No",
                    "No",
                    "No",
                    "No",
                    "No",
                    "Yes",
                    "No",
                    "Yes",
                    "Yes",
                    "No",
                    "Yes",
                    "No",
                    "No",
                    "No",
                    "Yes",
                    "Yes",
                    "No",
                    "No",
                    "No",
                    "Yes",
                    "Yes",
                    "No",
                    "Yes",
                    "No",
                    "No",
                    "No",
                    "Yes",
                    "Yes",
                    "Yes",
                    "No",
                    "Yes",
                    "No",
                    "Yes",
                    "No",
                    "No",
                    "Yes",
                    "Yes",
                    "No",
                    "No",
                    "Yes",
                    "Yes",
                    "No",
                    "Yes",
                    "No",
                    "No",
                    "Yes",
                    "No",
                    "No",
                    "Yes",
                    "No",
                    "No",
                    "No",
                    "No",
                    "No",
                    "No",
                    "No",
                    "No",
                    "No",
                    "No",
                    "No",
                    "No",
                    "No",
                    "No",
                    "No",
                    "No",
                    "No",
                    "No",
                    "No",
                    "Yes",
                    "Yes",
                    "No",
                    "No",
                    "No",
                    "No",
                    "No",
                    "No",
                    "No",
                    "No",
                    "No",
                    "No",
                    "No",
                    "Yes",
                    "Yes",
                    "No",
                    "Yes",
                    "No",
                    "No",
                    "No",
                    "No",
                    "No",
                    "No",
                    "No",
                    "No",
                    "No",
                    "No",
                    "No",
                    "No",
                    "No",
                    "No",
                    "No",
                    "No",
                    "No",
                    "No",
                    "No",
                    "No",
                    "No",
                    "Yes",
                    "No",
                    "No",
                    "No",
                    "No",
                    "Yes",
                    "Yes",
                    "No",
                    "No",
                    "No",
                    "No",
                    "No",
                    "No",
                    "No",
                    "No",
                    "No",
                    "No",
                    "Yes",
                    "Yes",
                    "No",
                    "No",
                    "No",
                    "No",
                    "No",
                    "No",
                    "No",
                    "No",
                    "No",
                    "No",
                    "No",
                    "No",
                    "No",
                    "Yes",
                    "No",
                    "No",
                    "No",
                    "Yes",
                    "No",
                    "No",
                    "No",
                    "No",
                    "No",
                    "No",
                    "No",
                    "Yes",
                    "Yes",
                    "Yes",
                    "No",
                    "No",
                    "No",
                    "No",
                    "Yes",
                    "No",
                    "No",
                    "Yes",
                    "No",
                    "No",
                    "No",
                    "No",
                    "No",
                    "No",
                    "No",
                    "No",
                    "Yes",
                    "No",
                    "No",
                    "Yes",
                    "Yes",
                    "No",
                    "No",
                    "Yes",
                    "No",
                    "No",
                    "No",
                    "No",
                    "No",
                    "No",
                    "Yes",
                    "No",
                    "No",
                    "No",
                    "Yes",
                    "No",
                    "Yes",
                    "No",
                    "Yes",
                    "No",
                    "Yes",
                    "No",
                    "No",
                    "Yes",
                    "Yes",
                    "No",
                    "No",
                    "Yes",
                    "No",
                    "No",
                    "No",
                    "No",
                    "No",
                    "No",
                    "No",
                    "No",
                    "Yes",
                    "Yes",
                    "No",
                    "No",
                    "Yes",
                    "No",
                    "No",
                    "Yes",
                    "No",
                    "No",
                    "No",
                    "No",
                    "No",
                    "No",
                    "No",
                    "No",
                    "Yes",
                    "No",
                    "No",
                    "Yes",
                    "No",
                    "Yes",
                    "No",
                    "No",
                    "Yes",
                    "No",
                    "No",
                    "No",
                    "Yes",
                    "No",
                    "Yes",
                    "No",
                    "No",
                    "No",
                    "No",
                    "No",
                    "No",
                    "No",
                    "No",
                    "No",
                    "Yes",
                    "No",
                    "No",
                    "No",
                    "No",
                    "No",
                    "Yes",
                    "No",
                    "No",
                    "No",
                    "Yes",
                    "No",
                    "Yes",
                    "Yes",
                    "No",
                    "No",
                    "No",
                    "Yes",
                    "No",
                    "No",
                    "No",
                    "No",
                    "Yes",
                    "Yes",
                    "Yes",
                    "Yes",
                    "No",
                    "No",
                    "No",
                    "No",
                    "No",
                    "No",
                    "Yes",
                    "No",
                    "No",
                    "No",
                    "No",
                    "No",
                    "No",
                    "Yes",
                    "No",
                    "No",
                    "No",
                    "No",
                    "No",
                    "No",
                    "No",
                    "No",
                    "No",
                    "No",
                    "No",
                    "No",
                    "No",
                    "No",
                    "No",
                    "No",
                    "Yes",
                    "No",
                    "No",
                    "Yes",
                    "Yes",
                    "No",
                    "No",
                    "Yes",
                    "No",
                    "No",
                    "Yes",
                    "No",
                    "No",
                    "Yes",
                    "Yes",
                    "No",
                    "No",
                    "Yes",
                    "Yes",
                    "No",
                    "No",
                    "No",
                    "No",
                    "No",
                    "No",
                    "No",
                    "No",
                    "No",
                    "No",
                    "Yes",
                    "No",
                    "No",
                    "No",
                    "No",
                    "No",
                    "No",
                    "No",
                    "No",
                    "No",
                    "No",
                    "No",
                    "No",
                    "No",
                    "No",
                    "No",
                    "No",
                    "No",
                    "Yes",
                    "Yes",
                    "Yes",
                    "Yes",
                    "Yes",
                    "No",
                    "Yes",
                    "Yes",
                    "No",
                    "Yes",
                    "Yes",
                    "No",
                    "Yes",
                    "No",
                    "No",
                    "No",
                    "No",
                    "No",
                    "No",
                    "No",
                    "No",
                    "No",
                    "Yes",
                    "No",
                    "Yes",
                    "No",
                    "No",
                    "Yes",
                    "No",
                    "No",
                    "No",
                    "Yes",
                    "Yes",
                    "No",
                    "No",
                    "Yes",
                    "Yes",
                    "Yes",
                    "No",
                    "No",
                    "No",
                    "No",
                    "No",
                    "No",
                    "Yes",
                    "No",
                    "No",
                    "Yes",
                    "Yes",
                    "No",
                    "No",
                    "No",
                    "No",
                    "No",
                    "No",
                    "Yes",
                    "No",
                    "No",
                    "No",
                    "No",
                    "No",
                    "Yes",
                    "Yes",
                    "No",
                    "No",
                    "No",
                    "Yes",
                    "No",
                    "No",
                    "No",
                    "Yes",
                    "No",
                    "Yes",
                    "No",
                    "No",
                    "Yes",
                    "Yes",
                    "No",
                    "No",
                    "Yes",
                    "No",
                    "Yes",
                    "No",
                    "Yes",
                    "No",
                    "No",
                    "No",
                    "No",
                    "No",
                    "No",
                    "No",
                    "No",
                    "No",
                    "No",
                    "No",
                    "No",
                    "Yes",
                    "No",
                    "No",
                    "Yes",
                    "Yes",
                    "Yes",
                    "No",
                    "No",
                    "Yes",
                    "No",
                    "No",
                    "No",
                    "No",
                    "No",
                    "No",
                    "No",
                    "No",
                    "Yes",
                    "Yes",
                    "No",
                    "No",
                    "No",
                    "No",
                    "No",
                    "Yes",
                    "No",
                    "Yes",
                    "No",
                    "No",
                    "No",
                    "No",
                    "No",
                    "No",
                    "No",
                    "No",
                    "No",
                    "No",
                    "Yes",
                    "Yes",
                    "No",
                    "No",
                    "No",
                    "Yes",
                    "No",
                    "No",
                    "Yes",
                    "No",
                    "No",
                    "No",
                    "Yes",
                    "Yes",
                    "No",
                    "No",
                    "Yes",
                    "No",
                    "No",
                    "No",
                    "No",
                    "Yes",
                    "No",
                    "No",
                    "No",
                    "No",
                    "No",
                    "No",
                    "No",
                    "Yes",
                    "Yes",
                    "No",
                    "No",
                    "No",
                    "No",
                    "Yes",
                    "Yes",
                    "No",
                    "No",
                    "Yes",
                    "Yes",
                    "No",
                    "No",
                    "No",
                    "Yes",
                    "No",
                    "No",
                    "No",
                    "No",
                    "No",
                    "Yes",
                    "No",
                    "No",
                    "No",
                    "No",
                    "Yes",
                    "No",
                    "Yes",
                    "Yes",
                    "No",
                    "No",
                    "No",
                    "Yes",
                    "No",
                    "Yes",
                    "No",
                    "No",
                    "No",
                    "No",
                    "No",
                    "No",
                    "No",
                    "Yes",
                    "No",
                    "No",
                    "Yes",
                    "No",
                    "No",
                    "Yes",
                    "No",
                    "No",
                    "Yes",
                    "Yes",
                    "No",
                    "No",
                    "No",
                    "No",
                    "No",
                    "No",
                    "Yes",
                    "No",
                    "Yes",
                    "No",
                    "No",
                    "No",
                    "No",
                    "No",
                    "Yes",
                    "No",
                    "No",
                    "No",
                    "No",
                    "No",
                    "No",
                    "Yes",
                    "No",
                    "No",
                    "No",
                    "No",
                    "No",
                    "No",
                    "No",
                    "No",
                    "No",
                    "No",
                    "No",
                    "No",
                    "No",
                    "No",
                    "No",
                    "No",
                    "Yes",
                    "Yes",
                    "No",
                    "No",
                    "No",
                    "No",
                    "No",
                    "No",
                    "Yes",
                    "No",
                    "Yes",
                    "No",
                    "Yes",
                    "No",
                    "Yes",
                    "No",
                    "Yes",
                    "No",
                    "Yes",
                    "No",
                    "No",
                    "No",
                    "No",
                    "No",
                    "No",
                    "No",
                    "Yes",
                    "Yes",
                    "No",
                    "Yes",
                    "Yes",
                    "No",
                    "Yes",
                    "Yes",
                    "No",
                    "No",
                    "No",
                    "No",
                    "No",
                    "Yes",
                    "No",
                    "No",
                    "No",
                    "Yes",
                    "No",
                    "No",
                    "Yes",
                    "Yes",
                    "No",
                    "No",
                    "Yes",
                    "No",
                    "No",
                    "No",
                    "No",
                    "No",
                    "No",
                    "No",
                    "No",
                    "No",
                    "Yes",
                    "Yes",
                    "No",
                    "Yes",
                    "No",
                    "No",
                    "No",
                    "No",
                    "No",
                    "No",
                    "No",
                    "No",
                    "No",
                    "No",
                    "No",
                    "No",
                    "No",
                    "No",
                    "Yes",
                    "Yes",
                    "No",
                    "No",
                    "No",
                    "No",
                    "No",
                    "No",
                    "No",
                    "Yes",
                    "No",
                    "No",
                    "No",
                    "No",
                    "Yes",
                    "Yes",
                    "Yes",
                    "No",
                    "No",
                    "No",
                    "No",
                    "Yes",
                    "No",
                    "Yes",
                    "No",
                    "No",
                    "Yes",
                    "No",
                    "No",
                    "No",
                    "No",
                    "Yes",
                    "No",
                    "No",
                    "Yes",
                    "Yes",
                    "No",
                    "No",
                    "No",
                    "No",
                    "No",
                    "No",
                    "No",
                    "No",
                    "No",
                    "No",
                    "No",
                    "No",
                    "No",
                    "No",
                    "No",
                    "Yes",
                    "No",
                    "No",
                    "No",
                    "No",
                    "No",
                    "No",
                    "Yes",
                    "No",
                    "No",
                    "Yes",
                    "No",
                    "No",
                    "Yes",
                    "Yes",
                    "No",
                    "Yes",
                    "Yes",
                    "No",
                    "No",
                    "No",
                    "No",
                    "No",
                    "No",
                    "No",
                    "No",
                    "Yes",
                    "No",
                    "No",
                    "Yes",
                    "No",
                    "No",
                    "No",
                    "No",
                    "No",
                    "No",
                    "Yes",
                    "No",
                    "Yes",
                    "Yes",
                    "Yes",
                    "Yes",
                    "No",
                    "No",
                    "Yes",
                    "No",
                    "No",
                    "No",
                    "No",
                    "No",
                    "Yes",
                    "No",
                    "Yes",
                    "Yes",
                    "Yes",
                    "No",
                    "No",
                    "Yes",
                    "No",
                    "Yes",
                    "Yes",
                    "No",
                    "No",
                    "No",
                    "No",
                    "Yes",
                    "No",
                    "No",
                    "Yes",
                    "No",
                    "No",
                    "Yes",
                    "No",
                    "No",
                    "No",
                    "No",
                    "No",
                    "Yes",
                    "No",
                    "No",
                    "No",
                    "No",
                    "No",
                    "No",
                    "No",
                    "No",
                    "Yes",
                    "No",
                    "Yes",
                    "Yes",
                    "No",
                    "Yes",
                    "No",
                    "No",
                    "No",
                    "Yes",
                    "No",
                    "Yes",
                    "No",
                    "No",
                    "Yes",
                    "No",
                    "Yes",
                    "No",
                    "No",
                    "No",
                    "No",
                    "No",
                    "Yes",
                    "No",
                    "No",
                    "No",
                    "Yes",
                    "Yes",
                    "No",
                    "No",
                    "No",
                    "No",
                    "No",
                    "No",
                    "No",
                    "Yes",
                    "No",
                    "No",
                    "No",
                    "Yes",
                    "No",
                    "No",
                    "No",
                    "Yes",
                    "No",
                    "Yes",
                    "No",
                    "No",
                    "No",
                    "No",
                    "No",
                    "Yes",
                    "No",
                    "No",
                    "No",
                    "No",
                    "No",
                    "No",
                    "No",
                    "Yes",
                    "Yes",
                    "No",
                    "Yes",
                    "Yes",
                    "No",
                    "Yes",
                    "Yes",
                    "No",
                    "No",
                    "Yes",
                    "Yes",
                    "No",
                    "No",
                    "No",
                    "No",
                    "No",
                    "No",
                    "No",
                    "No",
                    "No",
                    "No",
                    "Yes",
                    "Yes",
                    "No",
                    "No",
                    "No",
                    "No",
                    "No",
                    "No",
                    "No",
                    "No",
                    "No",
                    "No",
                    "No",
                    "No",
                    "No",
                    "Yes",
                    "No",
                    "No",
                    "Yes",
                    "No",
                    "No",
                    "Yes",
                    "No",
                    "No",
                    "No",
                    "No",
                    "Yes",
                    "No",
                    "Yes",
                    "No",
                    "No",
                    "Yes",
                    "No",
                    "No",
                    "No",
                    "No",
                    "No",
                    "Yes",
                    "No",
                    "No",
                    "Yes",
                    "No",
                    "No",
                    "Yes",
                    "No",
                    "No",
                    "No",
                    "No",
                    "No",
                    "No",
                    "No",
                    "No",
                    "Yes",
                    "No",
                    "No",
                    "No",
                    "No",
                    "No",
                    "No",
                    "Yes",
                    "No",
                    "No",
                    "No",
                    "No",
                    "No",
                    "No",
                    "No",
                    "Yes",
                    "No",
                    "No",
                    "No",
                    "No",
                    "Yes",
                    "No",
                    "No",
                    "No",
                    "No",
                    "No",
                    "No",
                    "No",
                    "No",
                    "No",
                    "No",
                    "Yes",
                    "Yes",
                    "No",
                    "No",
                    "No",
                    "Yes",
                    "Yes",
                    "No",
                    "Yes",
                    "No",
                    "No",
                    "Yes",
                    "No",
                    "No",
                    "No",
                    "No",
                    "No",
                    "No",
                    "No",
                    "No",
                    "Yes",
                    "No",
                    "Yes",
                    "No",
                    "No",
                    "Yes",
                    "No",
                    "No",
                    "No",
                    "No",
                    "No",
                    "Yes",
                    "Yes",
                    "Yes",
                    "No",
                    "No",
                    "Yes",
                    "No",
                    "No",
                    "No",
                    "No",
                    "No",
                    "No",
                    "No",
                    "No",
                    "No",
                    "Yes",
                    "Yes",
                    "No",
                    "No",
                    "No",
                    "No",
                    "No",
                    "No",
                    "Yes",
                    "No",
                    "No",
                    "No",
                    "No",
                    "No",
                    "No",
                    "Yes",
                    "Yes",
                    "Yes",
                    "No",
                    "No",
                    "No",
                    "No",
                    "No",
                    "No",
                    "Yes",
                    "No",
                    "No",
                    "No",
                    "No",
                    "No",
                    "No",
                    "No",
                    "Yes",
                    "Yes",
                    "No",
                    "No",
                    "Yes",
                    "No",
                    "No",
                    "Yes",
                    "Yes",
                    "No",
                    "No",
                    "No",
                    "Yes",
                    "Yes",
                    "No",
                    "Yes",
                    "No",
                    "No",
                    "No",
                    "Yes",
                    "No",
                    "Yes",
                    "No",
                    "No",
                    "No",
                    "Yes",
                    "No",
                    "No",
                    "No",
                    "No",
                    "Yes",
                    "Yes",
                    "Yes",
                    "Yes",
                    "No",
                    "No",
                    "No",
                    "Yes",
                    "Yes",
                    "No",
                    "No",
                    "Yes",
                    "No",
                    "Yes",
                    "No",
                    "Yes",
                    "No",
                    "No",
                    "No",
                    "No",
                    "No",
                    "No",
                    "Yes",
                    "No",
                    "Yes",
                    "Yes",
                    "No",
                    "No",
                    "No",
                    "No",
                    "No",
                    "Yes",
                    "No",
                    "No",
                    "Yes",
                    "Yes",
                    "Yes",
                    "No",
                    "No",
                    "No",
                    "No",
                    "No",
                    "No",
                    "No",
                    "No",
                    "No",
                    "No",
                    "No",
                    "No",
                    "No",
                    "No",
                    "No",
                    "No",
                    "Yes",
                    "No",
                    "No",
                    "No",
                    "No",
                    "No",
                    "Yes",
                    "No",
                    "Yes",
                    "Yes",
                    "No",
                    "No",
                    "No",
                    "Yes",
                    "No",
                    "No",
                    "No",
                    "No",
                    "No",
                    "No",
                    "No",
                    "Yes",
                    "Yes",
                    "No",
                    "Yes",
                    "No",
                    "Yes",
                    "No",
                    "No",
                    "Yes",
                    "No",
                    "No",
                    "No",
                    "No",
                    "No",
                    "No",
                    "Yes",
                    "Yes",
                    "No",
                    "No",
                    "No",
                    "No",
                    "No",
                    "No",
                    "No",
                    "No",
                    "Yes",
                    "No",
                    "No",
                    "No",
                    "No",
                    "No",
                    "No",
                    "Yes",
                    "No",
                    "No",
                    "Yes",
                    "No",
                    "No",
                    "No",
                    "Yes",
                    "No",
                    "No",
                    "No",
                    "No",
                    "Yes",
                    "No",
                    "No",
                    "No",
                    "No",
                    "No",
                    "Yes",
                    "No",
                    "No",
                    "No",
                    "No",
                    "No",
                    "Yes",
                    "No",
                    "No",
                    "No",
                    "No",
                    "No",
                    "Yes",
                    "No",
                    "No",
                    "No",
                    "No",
                    "Yes",
                    "No",
                    "No",
                    "No",
                    "Yes",
                    "Yes",
                    "No",
                    "No",
                    "Yes",
                    "Yes",
                    "No",
                    "No",
                    "No",
                    "No",
                    "No",
                    "No",
                    "No",
                    "No",
                    "No",
                    "No",
                    "No",
                    "No",
                    "No",
                    "No",
                    "No",
                    "No",
                    "Yes",
                    "Yes",
                    "No",
                    "No",
                    "No",
                    "No",
                    "No",
                    "No",
                    "Yes",
                    "Yes",
                    "Yes",
                    "Yes",
                    "Yes",
                    "No",
                    "No",
                    "No",
                    "Yes",
                    "No",
                    "Yes",
                    "No",
                    "No",
                    "No",
                    "No",
                    "Yes",
                    "No",
                    "No",
                    "No",
                    "No",
                    "Yes",
                    "No",
                    "No",
                    "No",
                    "No",
                    "No",
                    "Yes",
                    "Yes",
                    "No",
                    "No",
                    "No",
                    "Yes",
                    "No",
                    "No",
                    "No",
                    "No",
                    "No",
                    "Yes",
                    "Yes",
                    "No",
                    "No",
                    "Yes",
                    "No",
                    "Yes",
                    "No",
                    "No",
                    "No",
                    "No",
                    "No",
                    "No",
                    "No",
                    "No",
                    "No",
                    "Yes",
                    "No",
                    "No",
                    "Yes",
                    "No",
                    "No",
                    "No",
                    "No",
                    "No",
                    "Yes",
                    "Yes",
                    "No",
                    "No",
                    "No",
                    "Yes",
                    "Yes",
                    "Yes",
                    "No",
                    "Yes",
                    "Yes",
                    "No",
                    "No",
                    "No",
                    "Yes",
                    "No",
                    "No",
                    "Yes",
                    "No",
                    "No",
                    "No",
                    "No",
                    "Yes",
                    "No",
                    "Yes",
                    "No",
                    "No",
                    "No",
                    "No",
                    "Yes",
                    "No",
                    "Yes",
                    "No",
                    "No",
                    "No",
                    "Yes",
                    "No",
                    "No",
                    "No",
                    "No",
                    "No",
                    "No",
                    "No",
                    "No",
                    "Yes",
                    "Yes",
                    "No",
                    "No",
                    "No",
                    "No",
                    "No",
                    "Yes",
                    "Yes",
                    "No",
                    "Yes",
                    "No",
                    "No",
                    "No",
                    "No",
                    "No",
                    "No",
                    "No",
                    "No",
                    "No",
                    "No",
                    "No",
                    "Yes",
                    "No",
                    "No",
                    "No",
                    "No",
                    "No",
                    "No",
                    "No",
                    "No",
                    "No",
                    "Yes",
                    "No",
                    "No",
                    "No",
                    "Yes",
                    "No",
                    "No",
                    "No",
                    "No",
                    "Yes",
                    "Yes",
                    "Yes",
                    "Yes",
                    "No",
                    "No",
                    "No",
                    "No",
                    "Yes",
                    "Yes",
                    "Yes",
                    "Yes",
                    "No",
                    "No",
                    "No",
                    "Yes",
                    "Yes",
                    "No",
                    "Yes",
                    "Yes",
                    "No",
                    "No",
                    "No",
                    "Yes",
                    "No",
                    "Yes",
                    "No",
                    "No",
                    "No",
                    "Yes",
                    "No",
                    "Yes",
                    "No",
                    "No",
                    "No",
                    "No",
                    "No",
                    "No",
                    "No",
                    "No",
                    "No",
                    "No",
                    "Yes",
                    "No",
                    "No",
                    "Yes",
                    "No",
                    "No",
                    "No",
                    "No",
                    "Yes",
                    "No",
                    "No",
                    "No",
                    "Yes",
                    "Yes",
                    "Yes",
                    "No",
                    "No",
                    "Yes",
                    "No",
                    "No",
                    "No",
                    "No",
                    "No",
                    "No",
                    "Yes",
                    "No",
                    "No",
                    "No",
                    "No",
                    "No",
                    "Yes",
                    "No",
                    "Yes",
                    "Yes",
                    "No",
                    "No",
                    "Yes",
                    "No",
                    "No",
                    "No",
                    "No",
                    "No",
                    "Yes",
                    "Yes",
                    "No",
                    "No",
                    "Yes",
                    "No",
                    "No",
                    "No",
                    "Yes",
                    "No",
                    "No",
                    "Yes",
                    "No",
                    "No",
                    "No",
                    "No",
                    "Yes",
                    "Yes",
                    "Yes",
                    "No",
                    "Yes",
                    "No",
                    "No",
                    "No",
                    "Yes",
                    "No",
                    "No",
                    "No",
                    "No",
                    "Yes",
                    "Yes",
                    "No",
                    "No",
                    "Yes",
                    "No",
                    "Yes",
                    "No",
                    "Yes",
                    "No",
                    "No",
                    "No",
                    "Yes",
                    "No",
                    "No",
                    "Yes",
                    "No",
                    "Yes",
                    "No",
                    "Yes",
                    "No",
                    "Yes",
                    "No",
                    "Yes",
                    "No",
                    "No",
                    "No",
                    "No",
                    "No",
                    "No",
                    "No",
                    "Yes",
                    "No",
                    "No",
                    "No",
                    "No",
                    "No",
                    "Yes",
                    "No",
                    "No",
                    "No",
                    "No",
                    "No",
                    "No",
                    "Yes",
                    "Yes",
                    "Yes",
                    "No",
                    "No",
                    "Yes",
                    "No",
                    "No",
                    "Yes",
                    "No",
                    "No",
                    "No",
                    "Yes",
                    "No",
                    "Yes",
                    "Yes",
                    "Yes",
                    "No",
                    "No",
                    "No",
                    "Yes",
                    "No",
                    "No",
                    "No",
                    "No",
                    "No",
                    "No",
                    "No",
                    "No",
                    "No",
                    "No",
                    "No",
                    "No",
                    "No",
                    "No",
                    "Yes",
                    "No",
                    "No",
                    "No",
                    "Yes",
                    "No",
                    "No",
                    "Yes",
                    "No",
                    "No",
                    "No",
                    "Yes",
                    "No",
                    "Yes",
                    "No",
                    "Yes",
                    "No",
                    "No",
                    "No",
                    "No",
                    "No",
                    "No",
                    "No",
                    "Yes",
                    "Yes",
                    "No",
                    "Yes",
                    "No",
                    "No",
                    "No",
                    "No",
                    "No",
                    "No",
                    "No",
                    "No",
                    "No",
                    "No",
                    "No",
                    "No",
                    "No",
                    "No",
                    "Yes",
                    "Yes",
                    "No",
                    "No",
                    "No",
                    "Yes",
                    "Yes",
                    "No",
                    "No",
                    "No",
                    "No",
                    "No",
                    "Yes",
                    "Yes",
                    "Yes",
                    "No",
                    "No",
                    "No",
                    "Yes",
                    "Yes",
                    "No",
                    "No",
                    "Yes",
                    "No",
                    "No",
                    "No",
                    "No",
                    "Yes",
                    "No",
                    "No",
                    "No",
                    "No",
                    "No",
                    "No",
                    "Yes",
                    "No",
                    "No",
                    "Yes",
                    "No",
                    "No",
                    "Yes",
                    "Yes",
                    "No",
                    "No",
                    "No",
                    "Yes",
                    "No",
                    "No",
                    "Yes",
                    "No",
                    "No",
                    "Yes",
                    "No",
                    "Yes",
                    "No",
                    "No",
                    "No",
                    "Yes",
                    "No",
                    "No",
                    "No",
                    "No",
                    "No",
                    "No",
                    "No",
                    "No",
                    "Yes",
                    "No",
                    "No",
                    "No",
                    "Yes",
                    "Yes",
                    "No",
                    "No",
                    "No",
                    "Yes",
                    "No",
                    "No",
                    "Yes",
                    "No",
                    "No",
                    "No",
                    "Yes",
                    "No",
                    "No",
                    "No",
                    "Yes",
                    "No",
                    "No",
                    "Yes",
                    "Yes",
                    "No",
                    "No",
                    "No",
                    "Yes",
                    "No",
                    "No",
                    "No",
                    "No",
                    "No",
                    "Yes",
                    "No",
                    "No",
                    "No",
                    "No",
                    "No",
                    "No",
                    "Yes",
                    "No",
                    "No",
                    "No",
                    "No",
                    "No",
                    "No",
                    "Yes",
                    "No",
                    "Yes",
                    "No",
                    "No",
                    "No",
                    "Yes",
                    "No",
                    "Yes",
                    "No",
                    "No",
                    "No",
                    "No",
                    "No",
                    "No",
                    "No",
                    "No",
                    "No",
                    "No",
                    "No",
                    "No",
                    "No",
                    "No",
                    "No",
                    "No",
                    "No",
                    "Yes",
                    "No",
                    "No",
                    "No",
                    "No",
                    "No",
                    "No",
                    "Yes",
                    "No",
                    "No",
                    "No",
                    "Yes",
                    "No",
                    "Yes",
                    "Yes",
                    "No",
                    "No",
                    "Yes",
                    "Yes",
                    "No",
                    "Yes",
                    "No",
                    "No",
                    "No",
                    "No",
                    "No",
                    "No",
                    "No",
                    "Yes",
                    "Yes",
                    "No",
                    "No",
                    "No",
                    "Yes",
                    "No",
                    "No",
                    "Yes",
                    "Yes",
                    "Yes",
                    "Yes",
                    "No",
                    "No",
                    "No",
                    "Yes",
                    "Yes",
                    "No",
                    "No",
                    "No",
                    "No",
                    "No",
                    "No",
                    "No",
                    "No",
                    "Yes",
                    "No",
                    "No",
                    "No",
                    "No",
                    "No",
                    "No",
                    "No",
                    "Yes",
                    "No",
                    "No",
                    "Yes",
                    "No",
                    "No",
                    "No",
                    "No",
                    "No",
                    "No",
                    "No",
                    "No",
                    "No",
                    "No",
                    "No",
                    "Yes",
                    "No",
                    "No",
                    "No",
                    "No",
                    "No",
                    "No",
                    "Yes",
                    "No",
                    "No",
                    "Yes",
                    "Yes",
                    "No",
                    "No",
                    "No",
                    "No",
                    "No",
                    "Yes",
                    "No",
                    "Yes",
                    "No",
                    "No",
                    "Yes",
                    "No",
                    "No",
                    "Yes",
                    "No",
                    "No",
                    "Yes",
                    "No",
                    "No",
                    "No",
                    "No",
                    "Yes",
                    "No",
                    "No",
                    "No",
                    "No",
                    "No",
                    "No",
                    "No",
                    "No",
                    "No",
                    "No",
                    "No",
                    "No",
                    "No",
                    "No",
                    "Yes",
                    "No",
                    "Yes",
                    "No",
                    "No",
                    "Yes",
                    "No",
                    "No",
                    "No",
                    "No",
                    "No",
                    "Yes",
                    "No",
                    "Yes",
                    "No",
                    "Yes",
                    "No",
                    "No",
                    "No",
                    "Yes",
                    "No",
                    "Yes",
                    "No",
                    "No",
                    "No",
                    "No",
                    "No",
                    "No",
                    "No",
                    "No",
                    "Yes",
                    "No",
                    "No",
                    "No",
                    "No",
                    "No",
                    "No",
                    "No",
                    "No",
                    "No",
                    "No",
                    "No",
                    "Yes",
                    "Yes",
                    "Yes",
                    "Yes",
                    "No",
                    "No",
                    "No",
                    "No",
                    "No",
                    "No",
                    "No",
                    "No",
                    "No",
                    "No",
                    "No",
                    "Yes",
                    "No",
                    "Yes",
                    "No",
                    "Yes",
                    "No",
                    "Yes",
                    "No",
                    "No",
                    "No",
                    "No",
                    "Yes",
                    "No",
                    "No",
                    "Yes",
                    "Yes",
                    "No",
                    "No",
                    "No",
                    "No",
                    "No",
                    "No",
                    "No",
                    "No",
                    "No",
                    "No",
                    "No",
                    "No",
                    "Yes",
                    "Yes",
                    "No",
                    "No",
                    "Yes",
                    "Yes",
                    "No",
                    "No",
                    "Yes",
                    "No",
                    "No",
                    "Yes",
                    "Yes",
                    "No",
                    "No",
                    "Yes",
                    "No",
                    "No",
                    "Yes",
                    "Yes",
                    "No",
                    "No",
                    "Yes",
                    "No",
                    "No",
                    "No",
                    "No",
                    "No",
                    "No",
                    "No",
                    "No",
                    "No",
                    "No",
                    "Yes",
                    "Yes",
                    "No",
                    "Yes",
                    "No",
                    "Yes",
                    "Yes",
                    "No",
                    "No",
                    "Yes",
                    "No",
                    "No",
                    "No",
                    "No",
                    "No",
                    "No",
                    "No",
                    "No",
                    "No",
                    "No",
                    "Yes",
                    "No",
                    "No",
                    "No",
                    "Yes",
                    "No",
                    "No",
                    "Yes",
                    "Yes",
                    "No",
                    "No",
                    "No",
                    "No",
                    "No",
                    "No",
                    "No",
                    "Yes",
                    "No",
                    "No",
                    "Yes",
                    "No",
                    "No",
                    "Yes",
                    "Yes",
                    "No",
                    "No",
                    "No",
                    "No",
                    "No",
                    "No",
                    "No",
                    "No",
                    "No",
                    "No",
                    "Yes",
                    "No",
                    "Yes",
                    "No",
                    "No",
                    "No",
                    "No",
                    "Yes",
                    "Yes",
                    "No",
                    "No",
                    "No",
                    "Yes",
                    "No",
                    "No",
                    "No",
                    "No",
                    "No",
                    "No",
                    "No",
                    "No",
                    "No",
                    "No",
                    "No",
                    "No",
                    "No",
                    "No",
                    "Yes",
                    "Yes",
                    "No",
                    "No",
                    "No",
                    "No",
                    "No",
                    "No",
                    "No",
                    "No",
                    "No",
                    "No",
                    "Yes",
                    "No",
                    "No",
                    "Yes",
                    "No",
                    "Yes",
                    "No",
                    "No",
                    "No",
                    "No",
                    "No",
                    "No",
                    "Yes",
                    "No",
                    "Yes",
                    "Yes",
                    "No",
                    "No",
                    "No",
                    "No",
                    "No",
                    "Yes",
                    "No",
                    "No",
                    "Yes",
                    "No",
                    "No",
                    "No",
                    "No",
                    "No",
                    "No",
                    "No",
                    "Yes",
                    "No",
                    "No",
                    "No",
                    "Yes",
                    "Yes",
                    "No",
                    "No",
                    "No",
                    "No",
                    "No",
                    "Yes",
                    "No",
                    "No",
                    "No",
                    "Yes",
                    "No",
                    "No",
                    "No",
                    "No",
                    "No",
                    "No",
                    "No",
                    "No",
                    "No",
                    "No",
                    "No",
                    "No",
                    "No",
                    "Yes",
                    "No",
                    "Yes",
                    "No",
                    "Yes",
                    "No",
                    "Yes",
                    "No",
                    "Yes",
                    "No",
                    "No",
                    "Yes",
                    "No",
                    "Yes",
                    "No",
                    "No",
                    "Yes",
                    "Yes",
                    "No",
                    "No",
                    "Yes",
                    "Yes",
                    "Yes",
                    "No",
                    "Yes",
                    "No",
                    "Yes",
                    "No",
                    "No",
                    "Yes",
                    "No",
                    "No",
                    "No",
                    "No",
                    "Yes",
                    "No",
                    "No",
                    "No",
                    "Yes",
                    "No",
                    "Yes",
                    "No",
                    "No",
                    "No",
                    "No",
                    "No",
                    "Yes",
                    "No",
                    "No",
                    "No",
                    "No",
                    "No",
                    "No",
                    "Yes",
                    "No",
                    "No",
                    "No",
                    "Yes",
                    "No",
                    "No",
                    "Yes",
                    "Yes",
                    "No",
                    "No",
                    "No",
                    "No",
                    "No",
                    "Yes",
                    "No",
                    "No",
                    "No",
                    "Yes",
                    "No",
                    "No",
                    "No",
                    "Yes",
                    "Yes",
                    "No",
                    "Yes",
                    "No",
                    "No",
                    "No",
                    "Yes",
                    "No",
                    "No",
                    "Yes",
                    "No",
                    "No",
                    "No",
                    "Yes",
                    "Yes",
                    "No",
                    "No",
                    "Yes",
                    "Yes",
                    "No",
                    "Yes",
                    "Yes",
                    "No",
                    "Yes",
                    "No",
                    "No",
                    "Yes",
                    "No",
                    "Yes",
                    "No",
                    "Yes",
                    "No",
                    "No",
                    "No",
                    "No",
                    "No",
                    "No",
                    "No",
                    "Yes",
                    "No",
                    "Yes",
                    "No",
                    "No",
                    "No",
                    "No",
                    "Yes",
                    "Yes",
                    "No",
                    "No",
                    "No",
                    "No",
                    "Yes",
                    "No",
                    "No",
                    "No",
                    "No",
                    "No",
                    "No",
                    "No",
                    "No",
                    "No",
                    "No",
                    "No",
                    "No",
                    "No",
                    "No",
                    "No",
                    "Yes",
                    "No",
                    "No",
                    "No",
                    "No",
                    "No",
                    "No",
                    "No",
                    "No",
                    "Yes",
                    "No",
                    "No",
                    "Yes",
                    "No",
                    "No",
                    "No",
                    "No",
                    "No",
                    "No",
                    "No",
                    "No",
                    "No",
                    "No",
                    "No",
                    "No",
                    "Yes",
                    "No",
                    "No",
                    "Yes",
                    "No",
                    "No",
                    "No",
                    "No",
                    "No",
                    "Yes",
                    "No",
                    "No",
                    "No",
                    "No",
                    "Yes",
                    "No",
                    "No",
                    "No",
                    "No",
                    "No",
                    "No",
                    "Yes",
                    "Yes",
                    "No",
                    "No",
                    "No",
                    "No",
                    "No",
                    "Yes",
                    "No",
                    "Yes",
                    "No",
                    "Yes",
                    "No",
                    "No",
                    "Yes",
                    "No",
                    "No",
                    "No",
                    "No",
                    "No",
                    "Yes",
                    "No",
                    "Yes",
                    "No",
                    "No",
                    "No",
                    "No",
                    "No",
                    "No",
                    "Yes",
                    "No",
                    "No",
                    "Yes",
                    "Yes",
                    "No",
                    "No",
                    "No",
                    "No",
                    "No",
                    "No",
                    "Yes",
                    "No",
                    "Yes",
                    "No",
                    "Yes",
                    "No",
                    "Yes",
                    "Yes",
                    "No",
                    "No",
                    "Yes",
                    "Yes",
                    "No",
                    "Yes",
                    "No",
                    "No",
                    "Yes",
                    "No",
                    "No",
                    "No",
                    "Yes",
                    "No",
                    "No",
                    "No",
                    "No",
                    "No",
                    "No",
                    "Yes",
                    "No",
                    "No",
                    "No",
                    "No",
                    "Yes",
                    "No",
                    "No",
                    "Yes",
                    "No",
                    "No",
                    "No",
                    "No",
                    "No",
                    "No",
                    "No",
                    "No",
                    "No",
                    "No",
                    "No",
                    "No",
                    "Yes",
                    "No",
                    "Yes",
                    "No",
                    "Yes",
                    "No",
                    "Yes",
                    "No",
                    "No",
                    "No",
                    "No",
                    "No",
                    "No",
                    "No",
                    "No",
                    "Yes",
                    "No",
                    "No",
                    "No",
                    "Yes",
                    "No",
                    "Yes",
                    "No",
                    "No",
                    "No",
                    "No",
                    "No",
                    "Yes",
                    "No",
                    "No",
                    "Yes",
                    "No",
                    "Yes",
                    "No",
                    "Yes",
                    "No",
                    "No",
                    "No",
                    "Yes",
                    "No",
                    "Yes",
                    "No",
                    "No",
                    "No",
                    "No",
                    "Yes",
                    "No",
                    "No",
                    "No",
                    "No",
                    "No",
                    "No",
                    "Yes",
                    "No",
                    "Yes",
                    "No",
                    "Yes",
                    "No",
                    "No",
                    "No",
                    "No",
                    "No",
                    "No",
                    "No",
                    "No",
                    "No",
                    "Yes",
                    "No",
                    "No",
                    "No",
                    "Yes",
                    "No",
                    "No",
                    "Yes",
                    "No",
                    "No",
                    "Yes",
                    "No",
                    "No",
                    "No",
                    "No",
                    "Yes",
                    "No",
                    "No",
                    "No",
                    "No",
                    "No",
                    "No",
                    "No",
                    "No",
                    "No",
                    "Yes",
                    "Yes",
                    "Yes",
                    "No",
                    "Yes",
                    "Yes",
                    "No",
                    "No",
                    "No",
                    "Yes",
                    "No",
                    "No",
                    "No",
                    "Yes",
                    "No",
                    "No",
                    "Yes",
                    "Yes",
                    "No",
                    "No",
                    "No",
                    "No",
                    "No",
                    "No",
                    "No",
                    "No",
                    "No",
                    "Yes",
                    "No",
                    "Yes",
                    "No",
                    "No",
                    "Yes",
                    "No",
                    "No",
                    "No",
                    "No",
                    "Yes",
                    "Yes",
                    "No",
                    "No",
                    "Yes",
                    "No",
                    "No",
                    "No",
                    "No",
                    "Yes",
                    "No",
                    "No",
                    "No",
                    "No",
                    "No",
                    "Yes",
                    "No",
                    "No",
                    "No",
                    "No",
                    "No",
                    "Yes",
                    "No",
                    "No",
                    "No",
                    "No",
                    "No",
                    "Yes",
                    "Yes",
                    "Yes",
                    "No",
                    "No",
                    "No",
                    "No",
                    "No",
                    "No",
                    "Yes",
                    "No",
                    "No",
                    "No",
                    "No",
                    "No",
                    "No",
                    "No",
                    "No",
                    "No",
                    "Yes",
                    "No",
                    "No",
                    "No",
                    "No",
                    "Yes",
                    "Yes",
                    "Yes",
                    "Yes",
                    "No",
                    "Yes",
                    "No",
                    "No",
                    "No",
                    "No",
                    "Yes",
                    "No",
                    "Yes",
                    "No",
                    "Yes",
                    "No",
                    "No",
                    "No",
                    "No",
                    "No",
                    "No",
                    "No",
                    "No",
                    "No",
                    "No",
                    "No",
                    "Yes",
                    "No",
                    "No",
                    "No",
                    "Yes",
                    "No",
                    "No",
                    "No",
                    "No",
                    "No",
                    "No",
                    "No",
                    "No",
                    "No",
                    "Yes",
                    "No",
                    "No",
                    "Yes",
                    "Yes",
                    "No",
                    "No",
                    "No",
                    "Yes",
                    "Yes",
                    "No",
                    "Yes",
                    "Yes",
                    "No",
                    "No",
                    "No",
                    "Yes",
                    "Yes",
                    "Yes",
                    "No",
                    "No",
                    "Yes",
                    "Yes",
                    "No",
                    "No",
                    "No",
                    "Yes",
                    "Yes",
                    "No",
                    "Yes",
                    "No",
                    "No",
                    "No",
                    "No",
                    "No",
                    "No",
                    "Yes",
                    "No",
                    "No",
                    "No",
                    "Yes",
                    "No",
                    "No",
                    "Yes",
                    "Yes",
                    "Yes",
                    "No",
                    "No",
                    "No",
                    "No",
                    "No",
                    "No",
                    "No",
                    "Yes",
                    "No",
                    "No",
                    "Yes",
                    "Yes",
                    "No",
                    "Yes",
                    "No",
                    "No",
                    "No",
                    "Yes",
                    "No",
                    "Yes",
                    "No",
                    "Yes",
                    "Yes",
                    "No",
                    "No",
                    "No",
                    "No",
                    "No",
                    "No",
                    "No",
                    "No",
                    "No",
                    "Yes",
                    "No",
                    "No",
                    "No",
                    "No",
                    "No",
                    "No",
                    "Yes",
                    "No",
                    "No",
                    "No",
                    "Yes",
                    "No",
                    "No",
                    "Yes",
                    "No",
                    "No",
                    "No",
                    "No",
                    "No",
                    "Yes",
                    "Yes",
                    "No",
                    "Yes",
                    "No",
                    "No",
                    "No",
                    "Yes",
                    "No",
                    "No",
                    "No",
                    "No",
                    "No",
                    "Yes",
                    "Yes",
                    "No",
                    "No",
                    "No",
                    "No",
                    "No",
                    "No",
                    "No",
                    "No",
                    "Yes",
                    "No",
                    "No",
                    "Yes",
                    "Yes",
                    "Yes",
                    "No",
                    "No",
                    "No",
                    "No",
                    "Yes",
                    "Yes",
                    "No",
                    "No",
                    "No",
                    "No",
                    "No",
                    "Yes",
                    "No",
                    "No",
                    "No",
                    "No",
                    "No",
                    "No",
                    "No",
                    "No",
                    "No",
                    "Yes",
                    "No",
                    "No",
                    "No",
                    "Yes",
                    "Yes",
                    "No",
                    "No",
                    "No",
                    "No",
                    "No",
                    "No",
                    "Yes",
                    "Yes",
                    "Yes",
                    "No",
                    "No",
                    "No",
                    "No",
                    "Yes",
                    "No",
                    "No",
                    "No",
                    "No",
                    "No",
                    "Yes",
                    "Yes",
                    "No",
                    "No",
                    "No",
                    "Yes",
                    "No",
                    "No",
                    "No",
                    "Yes",
                    "No",
                    "No",
                    "Yes",
                    "No",
                    "Yes",
                    "No",
                    "Yes",
                    "No",
                    "No",
                    "Yes",
                    "Yes",
                    "No",
                    "Yes",
                    "Yes",
                    "No",
                    "No",
                    "No",
                    "No",
                    "No",
                    "No",
                    "No",
                    "No",
                    "No",
                    "No",
                    "No",
                    "No",
                    "No",
                    "No",
                    "No",
                    "No",
                    "No",
                    "No",
                    "No",
                    "Yes",
                    "No",
                    "No",
                    "No",
                    "No",
                    "No",
                    "No",
                    "No",
                    "No",
                    "No",
                    "No",
                    "Yes",
                    "No",
                    "No",
                    "Yes",
                    "No",
                    "No",
                    "No",
                    "No",
                    "No",
                    "Yes",
                    "No",
                    "No",
                    "Yes",
                    "No",
                    "Yes",
                    "No",
                    "No",
                    "No",
                    "Yes",
                    "No",
                    "No",
                    "Yes",
                    "No",
                    "No",
                    "No",
                    "No",
                    "No",
                    "No",
                    "No",
                    "Yes",
                    "No",
                    "No",
                    "No",
                    "Yes",
                    "No",
                    "No",
                    "No",
                    "No",
                    "No",
                    "No",
                    "No",
                    "No",
                    "Yes",
                    "No",
                    "No",
                    "Yes",
                    "Yes",
                    "No",
                    "No",
                    "Yes",
                    "Yes",
                    "Yes",
                    "No",
                    "No",
                    "No",
                    "No",
                    "No",
                    "No",
                    "No",
                    "No",
                    "No",
                    "No",
                    "No",
                    "Yes",
                    "No",
                    "Yes",
                    "No",
                    "Yes",
                    "No",
                    "No",
                    "No",
                    "No",
                    "No",
                    "No",
                    "No",
                    "No",
                    "Yes",
                    "No",
                    "No",
                    "No",
                    "Yes",
                    "Yes",
                    "No",
                    "No",
                    "No",
                    "Yes",
                    "No",
                    "No",
                    "No",
                    "No",
                    "Yes",
                    "Yes",
                    "Yes",
                    "No",
                    "No",
                    "No",
                    "No",
                    "No",
                    "No",
                    "No",
                    "No",
                    "No",
                    "No",
                    "No",
                    "Yes",
                    "No",
                    "Yes",
                    "No",
                    "No",
                    "Yes",
                    "No",
                    "Yes",
                    "No",
                    "No",
                    "No",
                    "No",
                    "Yes",
                    "No",
                    "Yes",
                    "No",
                    "Yes",
                    "No",
                    "Yes",
                    "No",
                    "No",
                    "No",
                    "No",
                    "No",
                    "No",
                    "No",
                    "No",
                    "No",
                    "No",
                    "Yes",
                    "Yes",
                    "Yes",
                    "No",
                    "No",
                    "No",
                    "No",
                    "Yes",
                    "No",
                    "No",
                    "No",
                    "No",
                    "Yes",
                    "Yes",
                    "No",
                    "No",
                    "Yes",
                    "No",
                    "Yes",
                    "No",
                    "No",
                    "No",
                    "No",
                    "No",
                    "No",
                    "No",
                    "No",
                    "Yes",
                    "No",
                    "No",
                    "Yes",
                    "Yes",
                    "No",
                    "No",
                    "Yes",
                    "Yes",
                    "No",
                    "No",
                    "No",
                    "No",
                    "No",
                    "No",
                    "Yes",
                    "Yes",
                    "No",
                    "No",
                    "Yes",
                    "No",
                    "No",
                    "No",
                    "No",
                    "No",
                    "Yes",
                    "No",
                    "No",
                    "No",
                    "No",
                    "No",
                    "No",
                    "No",
                    "Yes",
                    "Yes",
                    "No",
                    "No",
                    "No",
                    "Yes",
                    "No",
                    "No",
                    "No",
                    "Yes",
                    "No",
                    "No",
                    "Yes",
                    "No",
                    "No",
                    "Yes",
                    "Yes",
                    "No",
                    "No",
                    "No",
                    "No",
                    "Yes",
                    "Yes",
                    "No",
                    "Yes",
                    "No",
                    "Yes",
                    "No",
                    "No",
                    "Yes",
                    "No",
                    "Yes",
                    "No",
                    "No",
                    "Yes",
                    "No",
                    "Yes",
                    "No",
                    "Yes",
                    "No",
                    "No",
                    "No",
                    "No",
                    "No",
                    "No",
                    "No",
                    "No",
                    "No",
                    "No",
                    "No",
                    "Yes",
                    "No",
                    "Yes",
                    "No",
                    "No",
                    "Yes",
                    "No",
                    "No",
                    "No",
                    "No",
                    "No",
                    "No",
                    "No",
                    "No",
                    "Yes",
                    "No",
                    "No",
                    "No",
                    "No",
                    "Yes",
                    "No",
                    "Yes",
                    "No",
                    "Yes",
                    "No",
                    "No",
                    "No",
                    "No",
                    "Yes",
                    "Yes",
                    "Yes",
                    "No",
                    "Yes",
                    "No",
                    "No",
                    "No",
                    "No",
                    "Yes",
                    "No",
                    "No",
                    "No",
                    "Yes",
                    "No",
                    "No",
                    "No",
                    "Yes",
                    "No",
                    "Yes",
                    "No",
                    "Yes",
                    "No",
                    "No",
                    "No",
                    "No",
                    "Yes",
                    "No",
                    "No",
                    "No",
                    "No",
                    "Yes",
                    "No",
                    "No",
                    "No",
                    "No",
                    "No",
                    "No",
                    "Yes",
                    "Yes",
                    "No",
                    "No",
                    "No",
                    "No",
                    "Yes",
                    "Yes",
                    "Yes",
                    "No",
                    "No",
                    "No",
                    "No",
                    "No",
                    "No",
                    "No",
                    "No",
                    "No",
                    "Yes",
                    "Yes",
                    "Yes",
                    "No",
                    "Yes",
                    "Yes",
                    "Yes",
                    "No",
                    "No",
                    "Yes",
                    "No",
                    "Yes",
                    "No",
                    "No",
                    "No",
                    "No",
                    "Yes",
                    "No",
                    "No",
                    "No",
                    "No",
                    "No",
                    "No",
                    "Yes",
                    "No",
                    "Yes",
                    "No",
                    "No",
                    "No",
                    "Yes",
                    "No",
                    "No",
                    "No",
                    "No",
                    "No",
                    "No",
                    "No",
                    "No",
                    "No",
                    "No",
                    "No",
                    "No",
                    "No",
                    "Yes",
                    "No",
                    "Yes",
                    "No",
                    "Yes",
                    "Yes",
                    "No",
                    "No",
                    "Yes",
                    "No",
                    "No",
                    "Yes",
                    "No",
                    "Yes",
                    "No",
                    "No",
                    "No",
                    "Yes",
                    "No",
                    "No",
                    "Yes",
                    "No",
                    "No",
                    "No",
                    "No",
                    "No",
                    "No",
                    "No",
                    "No",
                    "Yes",
                    "No",
                    "No",
                    "No",
                    "Yes",
                    "No",
                    "No",
                    "No",
                    "Yes",
                    "No",
                    "No",
                    "Yes",
                    "No",
                    "No",
                    "Yes",
                    "No",
                    "Yes",
                    "No",
                    "Yes",
                    "Yes",
                    "Yes",
                    "No",
                    "No",
                    "Yes",
                    "Yes",
                    "No",
                    "Yes",
                    "No",
                    "No",
                    "No",
                    "No",
                    "No",
                    "Yes",
                    "No",
                    "Yes",
                    "Yes",
                    "No",
                    "No",
                    "Yes",
                    "No",
                    "No",
                    "No",
                    "Yes",
                    "No",
                    "Yes",
                    "Yes",
                    "No",
                    "No",
                    "No",
                    "No",
                    "Yes",
                    "No",
                    "No",
                    "No",
                    "No",
                    "No",
                    "Yes",
                    "Yes",
                    "No",
                    "No",
                    "No",
                    "No",
                    "No",
                    "Yes",
                    "Yes",
                    "Yes",
                    "No",
                    "No",
                    "No",
                    "Yes",
                    "No",
                    "Yes",
                    "No",
                    "Yes",
                    "No",
                    "Yes",
                    "No",
                    "No",
                    "Yes",
                    "Yes",
                    "No",
                    "Yes",
                    "No",
                    "No",
                    "No",
                    "No",
                    "Yes",
                    "No",
                    "Yes",
                    "No",
                    "No",
                    "No",
                    "No",
                    "No",
                    "No",
                    "No",
                    "No",
                    "Yes",
                    "No",
                    "Yes",
                    "No",
                    "No",
                    "No",
                    "No",
                    "No",
                    "Yes",
                    "No",
                    "No",
                    "No",
                    "No",
                    "No",
                    "No",
                    "No",
                    "Yes",
                    "Yes",
                    "Yes",
                    "No",
                    "No",
                    "Yes",
                    "Yes",
                    "No",
                    "Yes",
                    "No",
                    "No",
                    "No",
                    "No",
                    "No",
                    "No",
                    "No",
                    "No",
                    "No",
                    "Yes",
                    "Yes",
                    "Yes",
                    "No",
                    "No",
                    "No",
                    "Yes",
                    "No",
                    "No",
                    "No",
                    "Yes",
                    "No",
                    "No",
                    "No",
                    "No",
                    "Yes",
                    "No",
                    "No",
                    "Yes",
                    "Yes",
                    "No",
                    "No",
                    "Yes",
                    "No",
                    "No",
                    "No",
                    "Yes",
                    "No",
                    "Yes",
                    "No",
                    "No",
                    "No",
                    "Yes",
                    "No",
                    "No",
                    "No",
                    "No",
                    "No",
                    "No",
                    "No",
                    "No",
                    "No",
                    "Yes",
                    "No",
                    "No",
                    "Yes",
                    "No",
                    "No",
                    "No",
                    "No",
                    "Yes",
                    "No",
                    "No",
                    "No",
                    "Yes",
                    "No",
                    "No",
                    "No",
                    "No",
                    "No",
                    "No",
                    "No",
                    "No",
                    "Yes",
                    "No",
                    "No",
                    "No",
                    "No",
                    "No",
                    "Yes",
                    "No",
                    "No",
                    "No",
                    "No",
                    "No",
                    "No",
                    "No",
                    "No",
                    "No",
                    "No",
                    "No",
                    "No",
                    "No",
                    "Yes",
                    "No",
                    "No",
                    "Yes",
                    "Yes",
                    "No",
                    "No",
                    "No",
                    "Yes",
                    "No",
                    "No",
                    "No",
                    "No",
                    "Yes",
                    "No",
                    "No",
                    "No",
                    "No",
                    "No",
                    "Yes",
                    "Yes",
                    "No",
                    "No",
                    "No",
                    "Yes",
                    "No",
                    "No",
                    "Yes",
                    "No",
                    "No",
                    "No",
                    "Yes",
                    "No",
                    "Yes",
                    "No",
                    "No",
                    "Yes",
                    "No",
                    "Yes",
                    "No",
                    "No",
                    "No",
                    "No",
                    "No",
                    "No",
                    "No",
                    "Yes",
                    "Yes",
                    "No",
                    "No",
                    "No",
                    "No",
                    "Yes",
                    "Yes",
                    "No",
                    "No",
                    "No",
                    "No",
                    "No",
                    "No",
                    "No",
                    "No",
                    "Yes",
                    "No",
                    "No",
                    "No",
                    "Yes",
                    "No",
                    "No",
                    "No",
                    "No",
                    "Yes",
                    "No",
                    "Yes",
                    "No",
                    "No",
                    "No",
                    "No",
                    "Yes",
                    "No",
                    "No",
                    "Yes",
                    "No",
                    "No",
                    "Yes",
                    "No",
                    "No",
                    "No",
                    "No",
                    "No",
                    "No",
                    "Yes",
                    "Yes",
                    "Yes",
                    "No",
                    "Yes",
                    "No",
                    "Yes",
                    "Yes",
                    "No",
                    "No",
                    "Yes",
                    "No",
                    "No",
                    "No",
                    "Yes",
                    "No",
                    "No",
                    "No",
                    "Yes",
                    "No",
                    "No",
                    "Yes",
                    "No",
                    "No",
                    "Yes",
                    "No",
                    "No",
                    "No",
                    "No",
                    "No",
                    "Yes",
                    "Yes",
                    "No",
                    "No",
                    "No",
                    "No",
                    "Yes",
                    "No",
                    "Yes",
                    "No",
                    "No",
                    "No",
                    "Yes",
                    "No",
                    "No",
                    "No",
                    "No",
                    "No",
                    "No",
                    "No",
                    "No",
                    "No",
                    "No",
                    "No",
                    "No",
                    "No",
                    "No",
                    "No",
                    "No",
                    "No",
                    "No",
                    "Yes",
                    "Yes",
                    "Yes",
                    "Yes",
                    "No",
                    "No",
                    "Yes",
                    "No",
                    "No",
                    "No",
                    "No",
                    "Yes",
                    "Yes",
                    "Yes",
                    "No",
                    "Yes",
                    "Yes",
                    "No",
                    "No",
                    "No",
                    "No",
                    "No",
                    "No",
                    "No",
                    "No",
                    "Yes",
                    "Yes",
                    "No",
                    "No",
                    "No",
                    "No",
                    "No",
                    "No",
                    "No",
                    "No",
                    "Yes",
                    "Yes",
                    "Yes",
                    "No",
                    "No",
                    "No",
                    "Yes",
                    "No",
                    "No",
                    "Yes",
                    "No",
                    "No",
                    "No",
                    "No",
                    "No",
                    "No",
                    "No",
                    "No",
                    "Yes",
                    "No",
                    "No",
                    "No",
                    "No",
                    "Yes",
                    "No",
                    "Yes",
                    "Yes",
                    "No",
                    "Yes",
                    "No",
                    "No",
                    "No",
                    "No",
                    "No",
                    "No",
                    "No",
                    "Yes",
                    "No",
                    "No",
                    "No",
                    "No",
                    "No",
                    "No",
                    "Yes",
                    "No",
                    "No",
                    "Yes",
                    "No",
                    "No",
                    "No",
                    "Yes",
                    "No",
                    "No",
                    "No",
                    "No",
                    "No",
                    "No",
                    "No",
                    "Yes",
                    "No",
                    "No",
                    "No",
                    "Yes",
                    "No",
                    "Yes",
                    "No",
                    "Yes",
                    "Yes",
                    "No",
                    "Yes",
                    "No",
                    "No",
                    "Yes",
                    "Yes",
                    "Yes",
                    "No",
                    "No",
                    "Yes",
                    "No",
                    "No",
                    "No",
                    "No",
                    "Yes",
                    "No",
                    "No",
                    "No",
                    "No",
                    "No",
                    "Yes",
                    "No",
                    "No",
                    "No",
                    "No",
                    "No",
                    "No",
                    "No",
                    "No",
                    "No",
                    "Yes",
                    "No",
                    "Yes",
                    "No",
                    "Yes",
                    "No",
                    "No",
                    "No",
                    "No",
                    "No",
                    "Yes",
                    "No",
                    "No",
                    "No",
                    "No",
                    "No",
                    "Yes",
                    "No",
                    "Yes",
                    "No",
                    "No",
                    "Yes",
                    "No",
                    "No",
                    "Yes",
                    "Yes",
                    "No",
                    "Yes",
                    "No",
                    "No",
                    "No",
                    "No",
                    "No",
                    "No",
                    "No",
                    "No",
                    "Yes",
                    "No",
                    "No",
                    "No",
                    "No",
                    "Yes",
                    "Yes",
                    "No",
                    "No",
                    "No",
                    "No",
                    "No",
                    "No",
                    "No",
                    "No",
                    "No",
                    "No",
                    "No",
                    "No",
                    "No",
                    "No",
                    "No",
                    "No",
                    "No",
                    "No",
                    "Yes",
                    "Yes",
                    "No",
                    "No",
                    "No",
                    "No",
                    "Yes",
                    "No",
                    "No",
                    "No",
                    "No",
                    "No",
                    "Yes",
                    "No",
                    "No",
                    "No",
                    "Yes",
                    "Yes",
                    "No",
                    "No",
                    "No",
                    "Yes",
                    "No",
                    "No",
                    "No",
                    "No",
                    "Yes",
                    "Yes",
                    "No",
                    "No",
                    "Yes",
                    "No",
                    "Yes",
                    "No",
                    "No",
                    "No",
                    "No",
                    "No",
                    "No",
                    "No",
                    "No",
                    "Yes",
                    "No",
                    "Yes",
                    "Yes",
                    "No",
                    "No",
                    "Yes",
                    "No",
                    "Yes",
                    "No",
                    "Yes",
                    "Yes",
                    "No",
                    "Yes",
                    "No",
                    "No",
                    "No",
                    "No",
                    "No",
                    "No",
                    "Yes",
                    "No",
                    "No",
                    "No",
                    "Yes",
                    "No",
                    "No",
                    "No",
                    "No",
                    "Yes",
                    "No",
                    "Yes",
                    "No",
                    "Yes",
                    "No",
                    "No",
                    "Yes",
                    "No",
                    "No",
                    "Yes",
                    "No",
                    "Yes",
                    "No",
                    "No",
                    "No",
                    "Yes",
                    "No",
                    "No",
                    "No",
                    "Yes",
                    "No",
                    "No",
                    "No",
                    "Yes",
                    "No",
                    "No",
                    "No",
                    "Yes",
                    "No",
                    "No",
                    "No",
                    "Yes",
                    "No",
                    "No",
                    "No",
                    "Yes",
                    "Yes",
                    "No",
                    "No",
                    "Yes",
                    "No",
                    "Yes",
                    "No",
                    "No",
                    "Yes",
                    "Yes",
                    "No",
                    "No",
                    "No",
                    "No",
                    "No",
                    "No",
                    "No",
                    "No",
                    "No",
                    "No",
                    "No",
                    "No",
                    "No",
                    "No",
                    "Yes",
                    "Yes",
                    "No",
                    "No",
                    "No",
                    "No",
                    "No",
                    "No",
                    "No",
                    "No",
                    "Yes",
                    "Yes",
                    "No",
                    "No",
                    "No",
                    "No",
                    "No",
                    "Yes",
                    "No",
                    "No",
                    "No",
                    "Yes",
                    "No",
                    "No",
                    "No",
                    "No",
                    "No",
                    "Yes",
                    "No",
                    "No",
                    "No",
                    "Yes",
                    "No",
                    "Yes",
                    "Yes",
                    "No",
                    "No",
                    "No",
                    "Yes",
                    "No",
                    "No",
                    "No",
                    "No",
                    "No",
                    "No",
                    "No",
                    "Yes",
                    "No",
                    "Yes",
                    "Yes",
                    "No",
                    "No",
                    "No",
                    "No",
                    "No",
                    "No",
                    "Yes",
                    "Yes",
                    "No",
                    "No",
                    "No",
                    "Yes",
                    "No",
                    "No",
                    "No",
                    "Yes",
                    "Yes",
                    "No",
                    "No",
                    "Yes",
                    "No",
                    "No",
                    "No",
                    "No",
                    "No",
                    "No",
                    "No",
                    "Yes",
                    "No",
                    "No",
                    "No",
                    "No",
                    "No",
                    "Yes",
                    "No",
                    "Yes",
                    "No",
                    "No",
                    "Yes",
                    "No",
                    "Yes",
                    "No",
                    "No",
                    "No",
                    "No",
                    "Yes",
                    "No",
                    "No",
                    "No",
                    "No",
                    "No",
                    "Yes",
                    "No",
                    "No",
                    "Yes",
                    "No",
                    "No",
                    "No",
                    "No",
                    "Yes",
                    "No",
                    "No",
                    "Yes",
                    "No",
                    "Yes",
                    "No",
                    "No",
                    "No",
                    "No",
                    "Yes",
                    "No",
                    "Yes",
                    "Yes",
                    "Yes",
                    "No",
                    "No",
                    "No",
                    "No",
                    "No",
                    "Yes",
                    "No",
                    "No",
                    "Yes",
                    "No",
                    "No",
                    "No",
                    "No",
                    "No",
                    "No",
                    "Yes",
                    "No",
                    "No",
                    "Yes",
                    "No",
                    "No",
                    "Yes",
                    "No",
                    "No",
                    "No",
                    "No",
                    "No",
                    "No",
                    "Yes",
                    "No",
                    "No",
                    "No",
                    "No",
                    "Yes",
                    "No",
                    "No",
                    "No",
                    "Yes",
                    "No",
                    "No",
                    "No",
                    "No",
                    "No",
                    "No",
                    "Yes",
                    "No",
                    "No",
                    "No",
                    "Yes",
                    "No",
                    "No",
                    "No",
                    "No",
                    "No",
                    "Yes",
                    "No",
                    "No",
                    "No",
                    "Yes",
                    "No",
                    "No",
                    "No",
                    "No",
                    "No",
                    "Yes",
                    "No",
                    "No",
                    "No",
                    "Yes",
                    "No",
                    "No",
                    "No",
                    "No",
                    "Yes",
                    "No",
                    "No",
                    "No",
                    "No",
                    "No",
                    "No",
                    "Yes",
                    "No",
                    "Yes",
                    "No",
                    "No",
                    "No",
                    "No",
                    "No",
                    "No",
                    "No",
                    "No",
                    "No",
                    "No",
                    "Yes",
                    "No",
                    "No",
                    "No",
                    "No",
                    "No",
                    "Yes",
                    "No",
                    "No",
                    "Yes",
                    "No",
                    "No",
                    "No",
                    "Yes",
                    "No",
                    "Yes",
                    "Yes",
                    "No",
                    "Yes",
                    "No",
                    "No",
                    "No",
                    "Yes",
                    "Yes",
                    "No",
                    "Yes",
                    "No",
                    "No",
                    "No",
                    "No",
                    "No",
                    "Yes",
                    "No",
                    "Yes",
                    "Yes",
                    "Yes",
                    "Yes",
                    "No",
                    "No",
                    "No",
                    "No",
                    "No",
                    "Yes",
                    "Yes",
                    "No",
                    "Yes",
                    "No",
                    "Yes",
                    "No",
                    "No",
                    "No",
                    "Yes",
                    "No",
                    "Yes",
                    "Yes",
                    "No",
                    "Yes",
                    "No",
                    "No",
                    "No",
                    "No",
                    "No",
                    "Yes",
                    "No",
                    "Yes",
                    "Yes",
                    "No",
                    "No",
                    "No",
                    "Yes",
                    "No",
                    "Yes",
                    "Yes",
                    "No",
                    "No",
                    "No",
                    "Yes",
                    "Yes",
                    "No",
                    "Yes",
                    "No",
                    "Yes",
                    "No",
                    "No",
                    "No",
                    "Yes",
                    "No",
                    "No",
                    "No",
                    "Yes",
                    "Yes",
                    "No",
                    "No",
                    "No",
                    "No",
                    "No",
                    "No",
                    "No",
                    "No",
                    "No",
                    "No",
                    "No",
                    "No",
                    "No",
                    "No",
                    "No",
                    "No",
                    "No",
                    "No",
                    "No",
                    "No",
                    "No",
                    "No",
                    "No",
                    "No",
                    "No",
                    "No",
                    "Yes",
                    "Yes",
                    "No",
                    "Yes",
                    "No",
                    "No",
                    "No",
                    "Yes",
                    "No",
                    "Yes",
                    "Yes",
                    "No",
                    "No",
                    "No",
                    "No",
                    "Yes",
                    "Yes",
                    "Yes",
                    "Yes",
                    "Yes",
                    "No",
                    "No",
                    "Yes",
                    "No",
                    "No",
                    "No",
                    "Yes",
                    "No",
                    "No",
                    "No",
                    "Yes",
                    "No",
                    "Yes",
                    "Yes",
                    "No",
                    "Yes",
                    "Yes",
                    "No",
                    "No",
                    "No",
                    "No",
                    "No",
                    "Yes",
                    "Yes",
                    "Yes",
                    "No",
                    "No",
                    "No",
                    "No",
                    "No",
                    "No",
                    "Yes",
                    "No",
                    "No",
                    "No",
                    "No",
                    "No",
                    "No",
                    "No",
                    "No",
                    "No",
                    "No",
                    "No",
                    "No",
                    "Yes",
                    "No",
                    "No",
                    "No",
                    "Yes",
                    "No",
                    "Yes",
                    "No",
                    "No",
                    "No",
                    "No",
                    "No",
                    "No",
                    "Yes",
                    "No",
                    "No",
                    "No",
                    "No",
                    "No",
                    "No",
                    "No",
                    "No",
                    "No",
                    "No",
                    "No",
                    "Yes",
                    "Yes",
                    "No",
                    "No",
                    "No",
                    "No",
                    "No",
                    "Yes",
                    "No",
                    "No",
                    "No",
                    "No",
                    "No",
                    "No",
                    "No",
                    "No",
                    "No",
                    "No",
                    "No",
                    "No",
                    "No",
                    "No",
                    "No",
                    "Yes",
                    "No",
                    "No",
                    "No",
                    "No",
                    "Yes",
                    "No",
                    "No",
                    "No",
                    "No",
                    "No",
                    "No",
                    "No",
                    "Yes",
                    "Yes",
                    "Yes",
                    "No",
                    "No",
                    "No",
                    "No",
                    "No",
                    "Yes",
                    "No",
                    "Yes",
                    "No",
                    "No",
                    "No",
                    "No",
                    "No",
                    "No",
                    "No",
                    "Yes",
                    "No",
                    "No",
                    "No",
                    "No",
                    "No",
                    "Yes",
                    "Yes",
                    "No",
                    "No",
                    "No",
                    "Yes",
                    "Yes",
                    "No",
                    "Yes",
                    "No",
                    "No",
                    "No",
                    "No",
                    "No",
                    "No",
                    "No",
                    "Yes",
                    "No",
                    "No",
                    "Yes",
                    "No",
                    "Yes",
                    "No",
                    "Yes",
                    "No",
                    "No",
                    "No",
                    "No",
                    "No",
                    "No",
                    "No",
                    "Yes",
                    "Yes",
                    "No",
                    "No",
                    "No",
                    "No",
                    "No",
                    "No",
                    "No",
                    "Yes",
                    "No",
                    "No",
                    "No",
                    "Yes",
                    "Yes",
                    "No",
                    "No",
                    "Yes",
                    "No",
                    "Yes",
                    "Yes",
                    "No",
                    "No",
                    "No",
                    "Yes",
                    "No",
                    "No",
                    "No",
                    "Yes",
                    "No",
                    "No",
                    "No",
                    "No",
                    "No",
                    "No",
                    "No",
                    "No",
                    "Yes",
                    "Yes",
                    "Yes",
                    "No",
                    "Yes",
                    "No",
                    "No",
                    "Yes",
                    "No",
                    "No",
                    "Yes",
                    "No",
                    "Yes",
                    "Yes",
                    "No",
                    "Yes",
                    "No",
                    "No",
                    "No",
                    "No",
                    "No",
                    "No",
                    "Yes",
                    "No",
                    "No",
                    "No",
                    "No",
                    "Yes",
                    "No",
                    "Yes",
                    "Yes",
                    "No",
                    "No",
                    "No",
                    "Yes",
                    "No",
                    "No",
                    "Yes",
                    "No",
                    "No",
                    "No",
                    "No",
                    "No",
                    "No",
                    "Yes",
                    "No",
                    "No",
                    "No",
                    "No",
                    "Yes",
                    "No",
                    "Yes",
                    "Yes",
                    "Yes",
                    "No",
                    "Yes",
                    "No",
                    "Yes",
                    "No",
                    "Yes",
                    "Yes",
                    "No",
                    "No",
                    "No",
                    "No",
                    "No",
                    "No",
                    "No",
                    "Yes",
                    "Yes",
                    "No",
                    "No",
                    "No",
                    "No",
                    "No",
                    "Yes",
                    "Yes",
                    "Yes",
                    "No",
                    "No",
                    "No",
                    "No",
                    "No",
                    "No",
                    "Yes",
                    "Yes",
                    "No",
                    "Yes",
                    "No",
                    "No",
                    "Yes",
                    "No",
                    "No",
                    "No",
                    "No",
                    "No",
                    "No",
                    "No",
                    "Yes",
                    "Yes",
                    "No",
                    "No",
                    "No",
                    "No",
                    "No",
                    "Yes",
                    "No",
                    "No",
                    "No",
                    "Yes",
                    "No",
                    "No",
                    "No",
                    "No",
                    "No",
                    "Yes",
                    "No",
                    "Yes",
                    "No",
                    "No",
                    "No",
                    "Yes",
                    "No",
                    "No",
                    "Yes",
                    "No",
                    "No",
                    "Yes",
                    "No",
                    "No",
                    "No",
                    "No",
                    "No",
                    "No",
                    "Yes",
                    "No",
                    "Yes",
                    "No",
                    "No",
                    "No",
                    "No",
                    "No",
                    "No",
                    "Yes",
                    "Yes",
                    "No",
                    "No",
                    "No",
                    "No",
                    "No",
                    "No",
                    "No",
                    "Yes",
                    "Yes",
                    "No",
                    "No",
                    "No",
                    "No",
                    "Yes",
                    "Yes",
                    "Yes",
                    "Yes",
                    "Yes",
                    "Yes",
                    "No",
                    "No",
                    "No",
                    "No",
                    "No",
                    "No",
                    "No",
                    "Yes",
                    "No",
                    "No",
                    "No",
                    "No",
                    "No",
                    "Yes",
                    "No",
                    "No",
                    "No",
                    "No",
                    "Yes",
                    "No",
                    "Yes",
                    "No",
                    "No",
                    "Yes",
                    "No",
                    "No",
                    "Yes",
                    "No",
                    "Yes",
                    "No",
                    "No",
                    "No",
                    "No",
                    "Yes",
                    "No",
                    "Yes",
                    "Yes",
                    "Yes",
                    "Yes",
                    "No",
                    "No",
                    "No",
                    "No",
                    "No",
                    "No",
                    "Yes",
                    "No",
                    "No",
                    "Yes",
                    "No",
                    "No",
                    "No",
                    "No",
                    "Yes",
                    "No",
                    "No",
                    "No",
                    "No",
                    "No",
                    "Yes",
                    "No",
                    "Yes",
                    "No",
                    "No",
                    "No",
                    "No",
                    "No",
                    "No",
                    "Yes",
                    "No"
                  ],
                  "x0": " ",
                  "xaxis": "x",
                  "y": {
                    "bdata": "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",
                    "dtype": "f8"
                  },
                  "y0": " ",
                  "yaxis": "y"
                }
              ],
              "layout": {
                "boxmode": "group",
                "legend": {
                  "tracegroupgap": 0
                },
                "template": {
                  "data": {
                    "bar": [
                      {
                        "error_x": {
                          "color": "#2a3f5f"
                        },
                        "error_y": {
                          "color": "#2a3f5f"
                        },
                        "marker": {
                          "line": {
                            "color": "#E5ECF6",
                            "width": 0.5
                          },
                          "pattern": {
                            "fillmode": "overlay",
                            "size": 10,
                            "solidity": 0.2
                          }
                        },
                        "type": "bar"
                      }
                    ],
                    "barpolar": [
                      {
                        "marker": {
                          "line": {
                            "color": "#E5ECF6",
                            "width": 0.5
                          },
                          "pattern": {
                            "fillmode": "overlay",
                            "size": 10,
                            "solidity": 0.2
                          }
                        },
                        "type": "barpolar"
                      }
                    ],
                    "carpet": [
                      {
                        "aaxis": {
                          "endlinecolor": "#2a3f5f",
                          "gridcolor": "white",
                          "linecolor": "white",
                          "minorgridcolor": "white",
                          "startlinecolor": "#2a3f5f"
                        },
                        "baxis": {
                          "endlinecolor": "#2a3f5f",
                          "gridcolor": "white",
                          "linecolor": "white",
                          "minorgridcolor": "white",
                          "startlinecolor": "#2a3f5f"
                        },
                        "type": "carpet"
                      }
                    ],
                    "choropleth": [
                      {
                        "colorbar": {
                          "outlinewidth": 0,
                          "ticks": ""
                        },
                        "type": "choropleth"
                      }
                    ],
                    "contour": [
                      {
                        "colorbar": {
                          "outlinewidth": 0,
                          "ticks": ""
                        },
                        "colorscale": [
                          [
                            0,
                            "#0d0887"
                          ],
                          [
                            0.1111111111111111,
                            "#46039f"
                          ],
                          [
                            0.2222222222222222,
                            "#7201a8"
                          ],
                          [
                            0.3333333333333333,
                            "#9c179e"
                          ],
                          [
                            0.4444444444444444,
                            "#bd3786"
                          ],
                          [
                            0.5555555555555556,
                            "#d8576b"
                          ],
                          [
                            0.6666666666666666,
                            "#ed7953"
                          ],
                          [
                            0.7777777777777778,
                            "#fb9f3a"
                          ],
                          [
                            0.8888888888888888,
                            "#fdca26"
                          ],
                          [
                            1,
                            "#f0f921"
                          ]
                        ],
                        "type": "contour"
                      }
                    ],
                    "contourcarpet": [
                      {
                        "colorbar": {
                          "outlinewidth": 0,
                          "ticks": ""
                        },
                        "type": "contourcarpet"
                      }
                    ],
                    "heatmap": [
                      {
                        "colorbar": {
                          "outlinewidth": 0,
                          "ticks": ""
                        },
                        "colorscale": [
                          [
                            0,
                            "#0d0887"
                          ],
                          [
                            0.1111111111111111,
                            "#46039f"
                          ],
                          [
                            0.2222222222222222,
                            "#7201a8"
                          ],
                          [
                            0.3333333333333333,
                            "#9c179e"
                          ],
                          [
                            0.4444444444444444,
                            "#bd3786"
                          ],
                          [
                            0.5555555555555556,
                            "#d8576b"
                          ],
                          [
                            0.6666666666666666,
                            "#ed7953"
                          ],
                          [
                            0.7777777777777778,
                            "#fb9f3a"
                          ],
                          [
                            0.8888888888888888,
                            "#fdca26"
                          ],
                          [
                            1,
                            "#f0f921"
                          ]
                        ],
                        "type": "heatmap"
                      }
                    ],
                    "histogram": [
                      {
                        "marker": {
                          "pattern": {
                            "fillmode": "overlay",
                            "size": 10,
                            "solidity": 0.2
                          }
                        },
                        "type": "histogram"
                      }
                    ],
                    "histogram2d": [
                      {
                        "colorbar": {
                          "outlinewidth": 0,
                          "ticks": ""
                        },
                        "colorscale": [
                          [
                            0,
                            "#0d0887"
                          ],
                          [
                            0.1111111111111111,
                            "#46039f"
                          ],
                          [
                            0.2222222222222222,
                            "#7201a8"
                          ],
                          [
                            0.3333333333333333,
                            "#9c179e"
                          ],
                          [
                            0.4444444444444444,
                            "#bd3786"
                          ],
                          [
                            0.5555555555555556,
                            "#d8576b"
                          ],
                          [
                            0.6666666666666666,
                            "#ed7953"
                          ],
                          [
                            0.7777777777777778,
                            "#fb9f3a"
                          ],
                          [
                            0.8888888888888888,
                            "#fdca26"
                          ],
                          [
                            1,
                            "#f0f921"
                          ]
                        ],
                        "type": "histogram2d"
                      }
                    ],
                    "histogram2dcontour": [
                      {
                        "colorbar": {
                          "outlinewidth": 0,
                          "ticks": ""
                        },
                        "colorscale": [
                          [
                            0,
                            "#0d0887"
                          ],
                          [
                            0.1111111111111111,
                            "#46039f"
                          ],
                          [
                            0.2222222222222222,
                            "#7201a8"
                          ],
                          [
                            0.3333333333333333,
                            "#9c179e"
                          ],
                          [
                            0.4444444444444444,
                            "#bd3786"
                          ],
                          [
                            0.5555555555555556,
                            "#d8576b"
                          ],
                          [
                            0.6666666666666666,
                            "#ed7953"
                          ],
                          [
                            0.7777777777777778,
                            "#fb9f3a"
                          ],
                          [
                            0.8888888888888888,
                            "#fdca26"
                          ],
                          [
                            1,
                            "#f0f921"
                          ]
                        ],
                        "type": "histogram2dcontour"
                      }
                    ],
                    "mesh3d": [
                      {
                        "colorbar": {
                          "outlinewidth": 0,
                          "ticks": ""
                        },
                        "type": "mesh3d"
                      }
                    ],
                    "parcoords": [
                      {
                        "line": {
                          "colorbar": {
                            "outlinewidth": 0,
                            "ticks": ""
                          }
                        },
                        "type": "parcoords"
                      }
                    ],
                    "pie": [
                      {
                        "automargin": true,
                        "type": "pie"
                      }
                    ],
                    "scatter": [
                      {
                        "fillpattern": {
                          "fillmode": "overlay",
                          "size": 10,
                          "solidity": 0.2
                        },
                        "type": "scatter"
                      }
                    ],
                    "scatter3d": [
                      {
                        "line": {
                          "colorbar": {
                            "outlinewidth": 0,
                            "ticks": ""
                          }
                        },
                        "marker": {
                          "colorbar": {
                            "outlinewidth": 0,
                            "ticks": ""
                          }
                        },
                        "type": "scatter3d"
                      }
                    ],
                    "scattercarpet": [
                      {
                        "marker": {
                          "colorbar": {
                            "outlinewidth": 0,
                            "ticks": ""
                          }
                        },
                        "type": "scattercarpet"
                      }
                    ],
                    "scattergeo": [
                      {
                        "marker": {
                          "colorbar": {
                            "outlinewidth": 0,
                            "ticks": ""
                          }
                        },
                        "type": "scattergeo"
                      }
                    ],
                    "scattergl": [
                      {
                        "marker": {
                          "colorbar": {
                            "outlinewidth": 0,
                            "ticks": ""
                          }
                        },
                        "type": "scattergl"
                      }
                    ],
                    "scattermap": [
                      {
                        "marker": {
                          "colorbar": {
                            "outlinewidth": 0,
                            "ticks": ""
                          }
                        },
                        "type": "scattermap"
                      }
                    ],
                    "scattermapbox": [
                      {
                        "marker": {
                          "colorbar": {
                            "outlinewidth": 0,
                            "ticks": ""
                          }
                        },
                        "type": "scattermapbox"
                      }
                    ],
                    "scatterpolar": [
                      {
                        "marker": {
                          "colorbar": {
                            "outlinewidth": 0,
                            "ticks": ""
                          }
                        },
                        "type": "scatterpolar"
                      }
                    ],
                    "scatterpolargl": [
                      {
                        "marker": {
                          "colorbar": {
                            "outlinewidth": 0,
                            "ticks": ""
                          }
                        },
                        "type": "scatterpolargl"
                      }
                    ],
                    "scatterternary": [
                      {
                        "marker": {
                          "colorbar": {
                            "outlinewidth": 0,
                            "ticks": ""
                          }
                        },
                        "type": "scatterternary"
                      }
                    ],
                    "surface": [
                      {
                        "colorbar": {
                          "outlinewidth": 0,
                          "ticks": ""
                        },
                        "colorscale": [
                          [
                            0,
                            "#0d0887"
                          ],
                          [
                            0.1111111111111111,
                            "#46039f"
                          ],
                          [
                            0.2222222222222222,
                            "#7201a8"
                          ],
                          [
                            0.3333333333333333,
                            "#9c179e"
                          ],
                          [
                            0.4444444444444444,
                            "#bd3786"
                          ],
                          [
                            0.5555555555555556,
                            "#d8576b"
                          ],
                          [
                            0.6666666666666666,
                            "#ed7953"
                          ],
                          [
                            0.7777777777777778,
                            "#fb9f3a"
                          ],
                          [
                            0.8888888888888888,
                            "#fdca26"
                          ],
                          [
                            1,
                            "#f0f921"
                          ]
                        ],
                        "type": "surface"
                      }
                    ],
                    "table": [
                      {
                        "cells": {
                          "fill": {
                            "color": "#EBF0F8"
                          },
                          "line": {
                            "color": "white"
                          }
                        },
                        "header": {
                          "fill": {
                            "color": "#C8D4E3"
                          },
                          "line": {
                            "color": "white"
                          }
                        },
                        "type": "table"
                      }
                    ]
                  },
                  "layout": {
                    "annotationdefaults": {
                      "arrowcolor": "#2a3f5f",
                      "arrowhead": 0,
                      "arrowwidth": 1
                    },
                    "autotypenumbers": "strict",
                    "coloraxis": {
                      "colorbar": {
                        "outlinewidth": 0,
                        "ticks": ""
                      }
                    },
                    "colorscale": {
                      "diverging": [
                        [
                          0,
                          "#8e0152"
                        ],
                        [
                          0.1,
                          "#c51b7d"
                        ],
                        [
                          0.2,
                          "#de77ae"
                        ],
                        [
                          0.3,
                          "#f1b6da"
                        ],
                        [
                          0.4,
                          "#fde0ef"
                        ],
                        [
                          0.5,
                          "#f7f7f7"
                        ],
                        [
                          0.6,
                          "#e6f5d0"
                        ],
                        [
                          0.7,
                          "#b8e186"
                        ],
                        [
                          0.8,
                          "#7fbc41"
                        ],
                        [
                          0.9,
                          "#4d9221"
                        ],
                        [
                          1,
                          "#276419"
                        ]
                      ],
                      "sequential": [
                        [
                          0,
                          "#0d0887"
                        ],
                        [
                          0.1111111111111111,
                          "#46039f"
                        ],
                        [
                          0.2222222222222222,
                          "#7201a8"
                        ],
                        [
                          0.3333333333333333,
                          "#9c179e"
                        ],
                        [
                          0.4444444444444444,
                          "#bd3786"
                        ],
                        [
                          0.5555555555555556,
                          "#d8576b"
                        ],
                        [
                          0.6666666666666666,
                          "#ed7953"
                        ],
                        [
                          0.7777777777777778,
                          "#fb9f3a"
                        ],
                        [
                          0.8888888888888888,
                          "#fdca26"
                        ],
                        [
                          1,
                          "#f0f921"
                        ]
                      ],
                      "sequentialminus": [
                        [
                          0,
                          "#0d0887"
                        ],
                        [
                          0.1111111111111111,
                          "#46039f"
                        ],
                        [
                          0.2222222222222222,
                          "#7201a8"
                        ],
                        [
                          0.3333333333333333,
                          "#9c179e"
                        ],
                        [
                          0.4444444444444444,
                          "#bd3786"
                        ],
                        [
                          0.5555555555555556,
                          "#d8576b"
                        ],
                        [
                          0.6666666666666666,
                          "#ed7953"
                        ],
                        [
                          0.7777777777777778,
                          "#fb9f3a"
                        ],
                        [
                          0.8888888888888888,
                          "#fdca26"
                        ],
                        [
                          1,
                          "#f0f921"
                        ]
                      ]
                    },
                    "colorway": [
                      "#636efa",
                      "#EF553B",
                      "#00cc96",
                      "#ab63fa",
                      "#FFA15A",
                      "#19d3f3",
                      "#FF6692",
                      "#B6E880",
                      "#FF97FF",
                      "#FECB52"
                    ],
                    "font": {
                      "color": "#2a3f5f"
                    },
                    "geo": {
                      "bgcolor": "white",
                      "lakecolor": "white",
                      "landcolor": "#E5ECF6",
                      "showlakes": true,
                      "showland": true,
                      "subunitcolor": "white"
                    },
                    "hoverlabel": {
                      "align": "left"
                    },
                    "hovermode": "closest",
                    "mapbox": {
                      "style": "light"
                    },
                    "paper_bgcolor": "white",
                    "plot_bgcolor": "#E5ECF6",
                    "polar": {
                      "angularaxis": {
                        "gridcolor": "white",
                        "linecolor": "white",
                        "ticks": ""
                      },
                      "bgcolor": "#E5ECF6",
                      "radialaxis": {
                        "gridcolor": "white",
                        "linecolor": "white",
                        "ticks": ""
                      }
                    },
                    "scene": {
                      "xaxis": {
                        "backgroundcolor": "#E5ECF6",
                        "gridcolor": "white",
                        "gridwidth": 2,
                        "linecolor": "white",
                        "showbackground": true,
                        "ticks": "",
                        "zerolinecolor": "white"
                      },
                      "yaxis": {
                        "backgroundcolor": "#E5ECF6",
                        "gridcolor": "white",
                        "gridwidth": 2,
                        "linecolor": "white",
                        "showbackground": true,
                        "ticks": "",
                        "zerolinecolor": "white"
                      },
                      "zaxis": {
                        "backgroundcolor": "#E5ECF6",
                        "gridcolor": "white",
                        "gridwidth": 2,
                        "linecolor": "white",
                        "showbackground": true,
                        "ticks": "",
                        "zerolinecolor": "white"
                      }
                    },
                    "shapedefaults": {
                      "line": {
                        "color": "#2a3f5f"
                      }
                    },
                    "ternary": {
                      "aaxis": {
                        "gridcolor": "white",
                        "linecolor": "white",
                        "ticks": ""
                      },
                      "baxis": {
                        "gridcolor": "white",
                        "linecolor": "white",
                        "ticks": ""
                      },
                      "bgcolor": "#E5ECF6",
                      "caxis": {
                        "gridcolor": "white",
                        "linecolor": "white",
                        "ticks": ""
                      }
                    },
                    "title": {
                      "x": 0.05
                    },
                    "xaxis": {
                      "automargin": true,
                      "gridcolor": "white",
                      "linecolor": "white",
                      "ticks": "",
                      "title": {
                        "standoff": 15
                      },
                      "zerolinecolor": "white",
                      "zerolinewidth": 2
                    },
                    "yaxis": {
                      "automargin": true,
                      "gridcolor": "white",
                      "linecolor": "white",
                      "ticks": "",
                      "title": {
                        "standoff": 15
                      },
                      "zerolinecolor": "white",
                      "zerolinewidth": 2
                    }
                  }
                },
                "title": {
                  "text": "Distribución de MonthlyCharges por Churn"
                },
                "xaxis": {
                  "anchor": "y",
                  "domain": [
                    0,
                    1
                  ],
                  "title": {
                    "text": "Churn"
                  }
                },
                "yaxis": {
                  "anchor": "x",
                  "domain": [
                    0,
                    1
                  ],
                  "title": {
                    "text": "MonthlyCharges"
                  }
                }
              }
            }
          },
          "metadata": {},
          "output_type": "display_data"
        }
      ],
      "source": [
        "fnc.vovsnum(df, 'Churn', 'MonthlyCharges')"
      ]
    },
    {
      "cell_type": "markdown",
      "metadata": {},
      "source": [
        "# Modelos"
      ]
    },
    {
      "cell_type": "markdown",
      "metadata": {},
      "source": [
        "## Terminar preprocesado"
      ]
    },
    {
      "cell_type": "code",
      "execution_count": 22,
      "metadata": {},
      "outputs": [],
      "source": [
        "# Reemplazar \"No internet service\" y \"No phone service\" por \"No\"\n",
        "df.replace(['No internet service', 'No phone service'], 'No', inplace=True)"
      ]
    },
    {
      "cell_type": "code",
      "execution_count": 23,
      "metadata": {},
      "outputs": [],
      "source": [
        "# Cambiar los valores \"Yes\" por 1 y \"No\" por 0\n",
        "df = df.replace({'Yes': 1, 'No': 0})"
      ]
    },
    {
      "cell_type": "code",
      "execution_count": 24,
      "metadata": {},
      "outputs": [],
      "source": [
        "# Eliminar variable \"customerID\"\n",
        "df.drop([\"customerID\"], axis=1, inplace=True)"
      ]
    },
    {
      "cell_type": "code",
      "execution_count": 25,
      "metadata": {},
      "outputs": [],
      "source": [
        "# Recategorización de la variable \"tenure\"\n",
        "condicion = [((df.tenure >= 0)&(df.tenure <= 12)), ((df.tenure > 12)&(df.tenure <= 24)), \n",
        "    ((df.tenure > 24)&(df.tenure <= 36)),((df.tenure > 36)&(df.tenure <= 48)),\n",
        "    ((df.tenure > 48)&(df.tenure <= 60)), (df.tenure > 60)]\n",
        "\n",
        "opcion = [0, 1, 2, 3, 4, 5] # [0-1año, 1-2años, 2-3años, 3-5años, 4-5años, 5 o más]\n",
        "\n",
        "df['tenure_ran'] = np.select(condicion, opcion)\n",
        "df.drop([\"tenure\"], axis=1, inplace=True)"
      ]
    },
    {
      "cell_type": "code",
      "execution_count": 54,
      "metadata": {},
      "outputs": [
        {
          "data": {
            "image/png": "[encoded data removed]",
            "text/plain": [
              "<Figure size 1200x600 with 2 Axes>"
            ]
          },
          "metadata": {},
          "output_type": "display_data"
        }
      ],
      "source": [
        "# Tratamiento de atípicos \n",
        "var = ['MonthlyCharges', 'TotalCharges'] \n",
        " \n",
        "fig, axes = plt.subplots(1, len(var), figsize=(12, 6))\n",
        "\n",
        "for i, v in enumerate(var):\n",
        "    axes[i].boxplot(df[v].dropna())\n",
        "    axes[i].set_title(f'Boxplot de {v}')\n",
        "    axes[i].set_xticks([])\n",
        "\n",
        "plt.tight_layout()\n",
        "plt.show()"
      ]
    },
    {
      "cell_type": "markdown",
      "metadata": {},
      "source": [
        "No hay presencia de atípicos, por lo que no fue necesario un tratamiento.  "
      ]
    },
    {
      "cell_type": "code",
      "execution_count": 27,
      "metadata": {},
      "outputs": [],
      "source": [
        "# Dummies \n",
        "cat = ['gender', 'InternetService', 'PaymentMethod', 'Contract']\n",
        "df = pd.get_dummies(df, columns=cat, dtype=int)"
      ]
    },
    {
      "cell_type": "code",
      "execution_count": 28,
      "metadata": {},
      "outputs": [
        {
          "name": "stdout",
          "output_type": "stream",
          "text": [
            "<class 'pandas.core.frame.DataFrame'>\n",
            "RangeIndex: 7032 entries, 0 to 7031\n",
            "Data columns (total 28 columns):\n",
            " #   Column                                   Non-Null Count  Dtype  \n",
            "---  ------                                   --------------  -----  \n",
            " 0   SeniorCitizen                            7032 non-null   int64  \n",
            " 1   Partner                                  7032 non-null   int64  \n",
            " 2   Dependents                               7032 non-null   int64  \n",
            " 3   PhoneService                             7032 non-null   int64  \n",
            " 4   MultipleLines                            7032 non-null   int64  \n",
            " 5   OnlineSecurity                           7032 non-null   int64  \n",
            " 6   OnlineBackup                             7032 non-null   int64  \n",
            " 7   DeviceProtection                         7032 non-null   int64  \n",
            " 8   TechSupport                              7032 non-null   int64  \n",
            " 9   StreamingTV                              7032 non-null   int64  \n",
            " 10  StreamingMovies                          7032 non-null   int64  \n",
            " 11  PaperlessBilling                         7032 non-null   int64  \n",
            " 12  MonthlyCharges                           7032 non-null   float64\n",
            " 13  TotalCharges                             7032 non-null   float64\n",
            " 14  Churn                                    7032 non-null   int64  \n",
            " 15  tenure_ran                               7032 non-null   int32  \n",
            " 16  gender_Female                            7032 non-null   int32  \n",
            " 17  gender_Male                              7032 non-null   int32  \n",
            " 18  InternetService_0                        7032 non-null   int32  \n",
            " 19  InternetService_DSL                      7032 non-null   int32  \n",
            " 20  InternetService_Fiber optic              7032 non-null   int32  \n",
            " 21  PaymentMethod_Bank transfer (automatic)  7032 non-null   int32  \n",
            " 22  PaymentMethod_Credit card (automatic)    7032 non-null   int32  \n",
            " 23  PaymentMethod_Electronic check           7032 non-null   int32  \n",
            " 24  PaymentMethod_Mailed check               7032 non-null   int32  \n",
            " 25  Contract_Month-to-month                  7032 non-null   int32  \n",
            " 26  Contract_One year                        7032 non-null   int32  \n",
            " 27  Contract_Two year                        7032 non-null   int32  \n",
            "dtypes: float64(2), int32(13), int64(13)\n",
            "memory usage: 1.2 MB\n"
          ]
        }
      ],
      "source": [
        "# Verificación\n",
        "df.head(5)\n",
        "df.info()"
      ]
    },
    {
      "cell_type": "markdown",
      "metadata": {},
      "source": [
        "## Selección de variables (Método Wrapper)"
      ]
    },
    {
      "cell_type": "code",
      "execution_count": 29,
      "metadata": {},
      "outputs": [],
      "source": [
        "# División de datos \n",
        "y = df.Churn             \n",
        "X1 = df.loc[:,~ df.columns.isin(['Churn'])]"
      ]
    },
    {
      "cell_type": "code",
      "execution_count": 30,
      "metadata": {},
      "outputs": [],
      "source": [
        "# Escalado de variables\n",
        "scaler=StandardScaler()\n",
        "scaler.fit(X1)\n",
        "X2=scaler.transform(X1)\n",
        "X=pd.DataFrame(X2,columns=X1.columns)"
      ]
    },
    {
      "cell_type": "code",
      "execution_count": 31,
      "metadata": {},
      "outputs": [],
      "source": [
        "# Modelos de clasificación binaria - Regresión logísitica, Random Forest y XGBoost\n",
        "m_lr = LogisticRegression()  \n",
        "m_rf = RandomForestClassifier()\n",
        "m_xgb = XGBClassifier()\n",
        "\n",
        "modelos = list([m_lr, m_rf, m_xgb])"
      ]
    },
    {
      "cell_type": "code",
      "execution_count": 36,
      "metadata": {},
      "outputs": [
        {
          "data": {
            "text/plain": [
              "(6,)"
            ]
          },
          "execution_count": 36,
          "metadata": {},
          "output_type": "execute_result"
        }
      ],
      "source": [
        "# Función de selección de variables por RFE\n",
        "var_names=fnc.sel_variables(modelos,X,y,threshold=\"2.5*mean\")\n",
        "var_names.shape"
      ]
    },
    {
      "cell_type": "code",
      "execution_count": 38,
      "metadata": {},
      "outputs": [
        {
          "name": "stdout",
          "output_type": "stream",
          "text": [
            "<class 'pandas.core.frame.DataFrame'>\n",
            "RangeIndex: 7032 entries, 0 to 7031\n",
            "Data columns (total 6 columns):\n",
            " #   Column                       Non-Null Count  Dtype  \n",
            "---  ------                       --------------  -----  \n",
            " 0   Contract_Month-to-month      7032 non-null   float64\n",
            " 1   InternetService_0            7032 non-null   float64\n",
            " 2   InternetService_Fiber optic  7032 non-null   float64\n",
            " 3   MonthlyCharges               7032 non-null   float64\n",
            " 4   TotalCharges                 7032 non-null   float64\n",
            " 5   tenure_ran                   7032 non-null   float64\n",
            "dtypes: float64(6)\n",
            "memory usage: 329.8 KB\n"
          ]
        }
      ],
      "source": [
        "# Resultados selección\n",
        "X2=X[var_names] \n",
        "X2.info()"
      ]
    },
    {
      "cell_type": "markdown",
      "metadata": {},
      "source": [
        "## Selección de modelo"
      ]
    },
    {
      "cell_type": "code",
      "execution_count": 42,
      "metadata": {},
      "outputs": [],
      "source": [
        "# Función pra evaluar los modelos\n",
        "def medir_modelos(modelos, scoring, X, y, cv):\n",
        "\n",
        "    metric_modelos = pd.DataFrame()\n",
        "    for modelo in modelos:\n",
        "        scores = cross_val_score(modelo, X, y, scoring = scoring, cv = cv )\n",
        "        pdscores = pd.DataFrame(scores)\n",
        "        metric_modelos = pd.concat([metric_modelos,pdscores], axis = 1)\n",
        "    \n",
        "    metric_modelos.columns = [\"logistic_r\",\"rf_classifier\",\"xgboost_classifier\"]\n",
        "    return metric_modelos"
      ]
    },
    {
      "cell_type": "code",
      "execution_count": 56,
      "metadata": {},
      "outputs": [
        {
          "data": {
            "text/html": [
              "<div>\n",
              "<style scoped>\n",
              "    .dataframe tbody tr th:only-of-type {\n",
              "        vertical-align: middle;\n",
              "    }\n",
              "\n",
              "    .dataframe tbody tr th {\n",
              "        vertical-align: top;\n",
              "    }\n",
              "\n",
              "    .dataframe thead th {\n",
              "        text-align: right;\n",
              "    }\n",
              "</style>\n",
              "<table border=\"1\" class=\"dataframe\">\n",
              "  <thead>\n",
              "    <tr style=\"text-align: right;\">\n",
              "      <th></th>\n",
              "      <th>logistic_r</th>\n",
              "      <th>rf_classifier</th>\n",
              "      <th>xgboost_classifier</th>\n",
              "    </tr>\n",
              "  </thead>\n",
              "  <tbody>\n",
              "    <tr>\n",
              "      <th>0</th>\n",
              "      <td>0.548180</td>\n",
              "      <td>0.471092</td>\n",
              "      <td>0.505353</td>\n",
              "    </tr>\n",
              "    <tr>\n",
              "      <th>1</th>\n",
              "      <td>0.526767</td>\n",
              "      <td>0.468951</td>\n",
              "      <td>0.511777</td>\n",
              "    </tr>\n",
              "    <tr>\n",
              "      <th>2</th>\n",
              "      <td>0.552463</td>\n",
              "      <td>0.496788</td>\n",
              "      <td>0.505353</td>\n",
              "    </tr>\n",
              "    <tr>\n",
              "      <th>3</th>\n",
              "      <td>0.521368</td>\n",
              "      <td>0.497863</td>\n",
              "      <td>0.493590</td>\n",
              "    </tr>\n",
              "  </tbody>\n",
              "</table>\n",
              "</div>"
            ],
            "text/plain": [
              "   logistic_r  rf_classifier  xgboost_classifier\n",
              "0    0.548180       0.471092            0.505353\n",
              "1    0.526767       0.468951            0.511777\n",
              "2    0.552463       0.496788            0.505353\n",
              "3    0.521368       0.497863            0.493590"
            ]
          },
          "execution_count": 56,
          "metadata": {},
          "output_type": "execute_result"
        }
      ],
      "source": [
        "# Desempeño con todas las variables\n",
        "rec_df = medir_modelos(modelos, 'recall', X, y, 4)\n",
        "rec_df"
      ]
    },
    {
      "cell_type": "code",
      "execution_count": 57,
      "metadata": {},
      "outputs": [
        {
          "data": {
            "text/html": [
              "<div>\n",
              "<style scoped>\n",
              "    .dataframe tbody tr th:only-of-type {\n",
              "        vertical-align: middle;\n",
              "    }\n",
              "\n",
              "    .dataframe tbody tr th {\n",
              "        vertical-align: top;\n",
              "    }\n",
              "\n",
              "    .dataframe thead th {\n",
              "        text-align: right;\n",
              "    }\n",
              "</style>\n",
              "<table border=\"1\" class=\"dataframe\">\n",
              "  <thead>\n",
              "    <tr style=\"text-align: right;\">\n",
              "      <th></th>\n",
              "      <th>logistic_r</th>\n",
              "      <th>rf_classifier</th>\n",
              "      <th>xgboost_classifier</th>\n",
              "    </tr>\n",
              "  </thead>\n",
              "  <tbody>\n",
              "    <tr>\n",
              "      <th>0</th>\n",
              "      <td>0.509636</td>\n",
              "      <td>0.511777</td>\n",
              "      <td>0.528908</td>\n",
              "    </tr>\n",
              "    <tr>\n",
              "      <th>1</th>\n",
              "      <td>0.451820</td>\n",
              "      <td>0.486081</td>\n",
              "      <td>0.496788</td>\n",
              "    </tr>\n",
              "    <tr>\n",
              "      <th>2</th>\n",
              "      <td>0.511777</td>\n",
              "      <td>0.477516</td>\n",
              "      <td>0.507495</td>\n",
              "    </tr>\n",
              "    <tr>\n",
              "      <th>3</th>\n",
              "      <td>0.444444</td>\n",
              "      <td>0.474359</td>\n",
              "      <td>0.470085</td>\n",
              "    </tr>\n",
              "  </tbody>\n",
              "</table>\n",
              "</div>"
            ],
            "text/plain": [
              "   logistic_r  rf_classifier  xgboost_classifier\n",
              "0    0.509636       0.511777            0.528908\n",
              "1    0.451820       0.486081            0.496788\n",
              "2    0.511777       0.477516            0.507495\n",
              "3    0.444444       0.474359            0.470085"
            ]
          },
          "execution_count": 57,
          "metadata": {},
          "output_type": "execute_result"
        }
      ],
      "source": [
        "# Desempeño con variables seleccionadas\n",
        "reca_df_sel = medir_modelos(modelos, 'recall', X2, y, 4)\n",
        "reca_df_sel"
      ]
    },
    {
      "cell_type": "code",
      "execution_count": 58,
      "metadata": {},
      "outputs": [
        {
          "data": {
            "text/plain": [
              "<Axes: title={'center': 'Desempeño con varibles seleccionadas'}>"
            ]
          },
          "execution_count": 58,
          "metadata": {},
          "output_type": "execute_result"
        },
        {
          "data": {
            "image/png": "[encoded data removed]",
            "text/plain": [
              "<Figure size 640x480 with 1 Axes>"
            ]
          },
          "metadata": {},
          "output_type": "display_data"
        },
        {
          "data": {
            "image/png": "[encoded data removed]",
            "text/plain": [
              "<Figure size 640x480 with 1 Axes>"
            ]
          },
          "metadata": {},
          "output_type": "display_data"
        }
      ],
      "source": [
        "# Distribución del desempeño\n",
        "rec_df.plot(kind = 'box', title= 'Desempeño con todas las variables')\n",
        "reca_df_sel.plot(kind = 'box', title= 'Desempeño con varibles seleccionadas')"
      ]
    },
    {
      "cell_type": "markdown",
      "metadata": {},
      "source": [
        "Conclusiones:\n",
        "- Se utiliza recall como métrica principal porque es clave identificar correctamente a los clientes positivos, minimizando el riesgo de pasarlos por alto, especialmente en contextos con clases desbalanceadas.\n",
        "- La selección de variables no tiene un impacto positivo; en ciertos escenarios, incluso empeora el rendimiento.\n",
        "- Los gráficos muestran que la regresión logística con todas las variables alcanza el mayor rendimiento y presenta mayor estabilidad frente a los demás modelos.\n",
        "- El modelo seleccionado es regresión logística con todas las variables. Este modelo no requiere ajuste de hiperparámetros, ya que su desempeño depende principalmente de los datos y no de configuraciones adicionales.\n"
      ]
    },
    {
      "cell_type": "markdown",
      "metadata": {},
      "source": [
        "# Modelo"
      ]
    },
    {
      "cell_type": "code",
      "execution_count": 60,
      "metadata": {},
      "outputs": [],
      "source": [
        "# Dividir los datos en conjuntos de entrenamiento y prueba. 80% y 20% \n",
        "X_train, X_test, y_train, y_test = train_test_split(X, y, test_size=0.2, random_state=42, stratify = y)"
      ]
    },
    {
      "cell_type": "code",
      "execution_count": 61,
      "metadata": {},
      "outputs": [
        {
          "data": {
            "text/html": [
              "<style>#sk-container-id-1 {color: black;background-color: white;}#sk-container-id-1 pre{padding: 0;}#sk-container-id-1 div.sk-toggleable {background-color: white;}#sk-container-id-1 label.sk-toggleable__label {cursor: pointer;display: block;width: 100%;margin-bottom: 0;padding: 0.3em;box-sizing: border-box;text-align: center;}#sk-container-id-1 label.sk-toggleable__label-arrow:before {content: \"▸\";float: left;margin-right: 0.25em;color: #696969;}#sk-container-id-1 label.sk-toggleable__label-arrow:hover:before {color: black;}#sk-container-id-1 div.sk-estimator:hover label.sk-toggleable__label-arrow:before {color: black;}#sk-container-id-1 div.sk-toggleable__content {max-height: 0;max-width: 0;overflow: hidden;text-align: left;background-color: #f0f8ff;}#sk-container-id-1 div.sk-toggleable__content pre {margin: 0.2em;color: black;border-radius: 0.25em;background-color: #f0f8ff;}#sk-container-id-1 input.sk-toggleable__control:checked~div.sk-toggleable__content {max-height: 200px;max-width: 100%;overflow: auto;}#sk-container-id-1 input.sk-toggleable__control:checked~label.sk-toggleable__label-arrow:before {content: \"▾\";}#sk-container-id-1 div.sk-estimator input.sk-toggleable__control:checked~label.sk-toggleable__label {background-color: #d4ebff;}#sk-container-id-1 div.sk-label input.sk-toggleable__control:checked~label.sk-toggleable__label {background-color: #d4ebff;}#sk-container-id-1 input.sk-hidden--visually {border: 0;clip: rect(1px 1px 1px 1px);clip: rect(1px, 1px, 1px, 1px);height: 1px;margin: -1px;overflow: hidden;padding: 0;position: absolute;width: 1px;}#sk-container-id-1 div.sk-estimator {font-family: monospace;background-color: #f0f8ff;border: 1px dotted black;border-radius: 0.25em;box-sizing: border-box;margin-bottom: 0.5em;}#sk-container-id-1 div.sk-estimator:hover {background-color: #d4ebff;}#sk-container-id-1 div.sk-parallel-item::after {content: \"\";width: 100%;border-bottom: 1px solid gray;flex-grow: 1;}#sk-container-id-1 div.sk-label:hover label.sk-toggleable__label {background-color: #d4ebff;}#sk-container-id-1 div.sk-serial::before {content: \"\";position: absolute;border-left: 1px solid gray;box-sizing: border-box;top: 0;bottom: 0;left: 50%;z-index: 0;}#sk-container-id-1 div.sk-serial {display: flex;flex-direction: column;align-items: center;background-color: white;padding-right: 0.2em;padding-left: 0.2em;position: relative;}#sk-container-id-1 div.sk-item {position: relative;z-index: 1;}#sk-container-id-1 div.sk-parallel {display: flex;align-items: stretch;justify-content: center;background-color: white;position: relative;}#sk-container-id-1 div.sk-item::before, #sk-container-id-1 div.sk-parallel-item::before {content: \"\";position: absolute;border-left: 1px solid gray;box-sizing: border-box;top: 0;bottom: 0;left: 50%;z-index: -1;}#sk-container-id-1 div.sk-parallel-item {display: flex;flex-direction: column;z-index: 1;position: relative;background-color: white;}#sk-container-id-1 div.sk-parallel-item:first-child::after {align-self: flex-end;width: 50%;}#sk-container-id-1 div.sk-parallel-item:last-child::after {align-self: flex-start;width: 50%;}#sk-container-id-1 div.sk-parallel-item:only-child::after {width: 0;}#sk-container-id-1 div.sk-dashed-wrapped {border: 1px dashed gray;margin: 0 0.4em 0.5em 0.4em;box-sizing: border-box;padding-bottom: 0.4em;background-color: white;}#sk-container-id-1 div.sk-label label {font-family: monospace;font-weight: bold;display: inline-block;line-height: 1.2em;}#sk-container-id-1 div.sk-label-container {text-align: center;}#sk-container-id-1 div.sk-container {/* jupyter's `normalize.less` sets `[hidden] { display: none; }` but bootstrap.min.css set `[hidden] { display: none !important; }` so we also need the `!important` here to be able to override the default hidden behavior on the sphinx rendered scikit-learn.org. See: https://github.com/scikit-learn/scikit-learn/issues/21755 */display: inline-block !important;position: relative;}#sk-container-id-1 div.sk-text-repr-fallback {display: none;}</style><div id=\"sk-container-id-1\" class=\"sk-top-container\"><div class=\"sk-text-repr-fallback\"><pre>LogisticRegression()</pre><b>In a Jupyter environment, please rerun this cell to show the HTML representation or trust the notebook. <br />On GitHub, the HTML representation is unable to render, please try loading this page with nbviewer.org.</b></div><div class=\"sk-container\" hidden><div class=\"sk-item\"><div class=\"sk-estimator sk-toggleable\"><input class=\"sk-toggleable__control sk-hidden--visually\" id=\"sk-estimator-id-1\" type=\"checkbox\" checked><label for=\"sk-estimator-id-1\" class=\"sk-toggleable__label sk-toggleable__label-arrow\">LogisticRegression</label><div class=\"sk-toggleable__content\"><pre>LogisticRegression()</pre></div></div></div></div></div>"
            ],
            "text/plain": [
              "LogisticRegression()"
            ]
          },
          "execution_count": 61,
          "metadata": {},
          "output_type": "execute_result"
        }
      ],
      "source": [
        "# Entrenar el modelo de Random Forest\n",
        "m_lr.fit(X_train, y_train)\n"
      ]
    },
    {
      "cell_type": "code",
      "execution_count": 62,
      "metadata": {},
      "outputs": [],
      "source": [
        "# Hacer predicciones en el conjunto de datos de prueba\n",
        "y_pred = m_rf.predict(X_test)"
      ]
    }
  ],
  "metadata": {
    "colab": {
      "provenance": []
    },
    "kernelspec": {
      "display_name": "base",
      "language": "python",
      "name": "python3"
    },
    "language_info": {
      "codemirror_mode": {
        "name": "ipython",
        "version": 3
      },
      "file_extension": ".py",
      "mimetype": "text/x-python",
      "name": "python",
      "nbconvert_exporter": "python",
      "pygments_lexer": "ipython3",
      "version": "3.11.7"
    }
  },
  "nbformat": 4,
  "nbformat_minor": 0
}
