{
  "cells": [
    {
      "cell_type": "markdown",
      "metadata": {
        "id": "CSQEU7DyTl8p"
      },
      "source": [
        "# 🧪 Prueba Técnica NLP - Análisis Exploratorio y Preprocesamiento"
      ]
    },
    {
      "cell_type": "markdown",
      "metadata": {
        "id": "fLEWS960SRZ_"
      },
      "source": [
        "👋 ¡Bienvenido(a) a esta prueba técnica!\n",
        "\n",
        "En este ejercicio abordaremos el análisis de un conjunto de datos ampliamente utilizado en el ámbito del procesamiento de lenguaje natural: el CNN/DailyMail News Dataset. Este dataset contiene miles de artículos de noticias reales junto con sus respectivos resúmenes editoriales. La tarea está orientada a demostrar habilidades en análisis exploratorio de datos (EDA), preprocesamiento de texto y comprensión de datos no estructurados.\n",
        "\n",
        "Esta prueba busca evaluar tanto la capacidad técnica como el pensamiento analítico aplicado al manejo de texto, una habilidad clave en proyectos de inteligencia artificial, sistemas de recomendación, motores de búsqueda, resúmenes automáticos y asistentes conversacionales."
      ]
    },
    {
      "cell_type": "markdown",
      "metadata": {
        "id": "p1BZOPajSXi2"
      },
      "source": [
        "#  🎯 Objetivo\n",
        "\n",
        "El objetivo principal de esta prueba es realizar un análisis exploratorio y preprocesamiento textual del dataset CNN/DailyMail, con el fin de:\n",
        "\n",
        "* Comprender la estructura, distribución y calidad de los textos disponibles.\n",
        "* Aplicar técnicas de limpieza, normalización y análisis estadístico del lenguaje.\n",
        "\n",
        "* Identificar patrones relevantes en los artículos y sus resúmenes, evaluando la viabilidad de aplicar modelos de NLP para tareas como resumen automático o clasificación temática.\n",
        "\n",
        "Este ejercicio busca simular un escenario real en el que es necesario preparar datos textuales para su posterior uso en modelos de lenguaje o sistemas inteligentes."
      ]
    },
    {
      "cell_type": "code",
      "execution_count": null,
      "metadata": {
        "collapsed": true,
        "id": "KnUFfrvLNf6Y"
      },
      "outputs": [
        {
          "name": "stdout",
          "output_type": "stream",
          "text": [
            "Requirement already satisfied: datasets in c:\\users\\gvand\\anaconda3\\lib\\site-packages (3.6.0)\n",
            "Requirement already satisfied: huggingface_hub in c:\\users\\gvand\\anaconda3\\lib\\site-packages (0.31.4)\n",
            "Requirement already satisfied: fsspec in c:\\users\\gvand\\anaconda3\\lib\\site-packages (2025.3.0)\n",
            "Collecting fsspec\n",
            "  Using cached fsspec-2025.3.2-py3-none-any.whl.metadata (11 kB)\n",
            "Requirement already satisfied: filelock in c:\\users\\gvand\\anaconda3\\lib\\site-packages (from datasets) (3.13.1)\n",
            "Requirement already satisfied: numpy>=1.17 in c:\\users\\gvand\\anaconda3\\lib\\site-packages (from datasets) (1.26.4)\n",
            "Requirement already satisfied: pyarrow>=15.0.0 in c:\\users\\gvand\\anaconda3\\lib\\site-packages (from datasets) (20.0.0)\n",
            "Requirement already satisfied: dill<0.3.9,>=0.3.0 in c:\\users\\gvand\\anaconda3\\lib\\site-packages (from datasets) (0.3.8)\n",
            "Requirement already satisfied: pandas in c:\\users\\gvand\\anaconda3\\lib\\site-packages (from datasets) (2.1.4)\n",
            "Requirement already satisfied: requests>=2.32.2 in c:\\users\\gvand\\anaconda3\\lib\\site-packages (from datasets) (2.32.3)\n",
            "Requirement already satisfied: tqdm>=4.66.3 in c:\\users\\gvand\\anaconda3\\lib\\site-packages (from datasets) (4.67.1)\n",
            "Requirement already satisfied: xxhash in c:\\users\\gvand\\anaconda3\\lib\\site-packages (from datasets) (3.5.0)\n",
            "Requirement already satisfied: multiprocess<0.70.17 in c:\\users\\gvand\\anaconda3\\lib\\site-packages (from datasets) (0.70.16)\n",
            "Requirement already satisfied: packaging in c:\\users\\gvand\\anaconda3\\lib\\site-packages (from datasets) (23.1)\n",
            "Requirement already satisfied: pyyaml>=5.1 in c:\\users\\gvand\\anaconda3\\lib\\site-packages (from datasets) (6.0.1)\n",
            "Requirement already satisfied: typing-extensions>=3.7.4.3 in c:\\users\\gvand\\anaconda3\\lib\\site-packages (from huggingface_hub) (4.9.0)\n",
            "Requirement already satisfied: aiohttp!=4.0.0a0,!=4.0.0a1 in c:\\users\\gvand\\anaconda3\\lib\\site-packages (from fsspec[http]<=2025.3.0,>=2023.1.0->datasets) (3.9.3)\n",
            "Requirement already satisfied: charset-normalizer<4,>=2 in c:\\users\\gvand\\anaconda3\\lib\\site-packages (from requests>=2.32.2->datasets) (2.0.4)\n",
            "Requirement already satisfied: idna<4,>=2.5 in c:\\users\\gvand\\anaconda3\\lib\\site-packages (from requests>=2.32.2->datasets) (3.4)\n",
            "Requirement already satisfied: urllib3<3,>=1.21.1 in c:\\users\\gvand\\anaconda3\\lib\\site-packages (from requests>=2.32.2->datasets) (2.0.7)\n",
            "Requirement already satisfied: certifi>=2017.4.17 in c:\\users\\gvand\\anaconda3\\lib\\site-packages (from requests>=2.32.2->datasets) (2024.2.2)\n",
            "Requirement already satisfied: colorama in c:\\users\\gvand\\anaconda3\\lib\\site-packages (from tqdm>=4.66.3->datasets) (0.4.6)\n",
            "Requirement already satisfied: python-dateutil>=2.8.2 in c:\\users\\gvand\\anaconda3\\lib\\site-packages (from pandas->datasets) (2.8.2)\n",
            "Requirement already satisfied: pytz>=2020.1 in c:\\users\\gvand\\anaconda3\\lib\\site-packages (from pandas->datasets) (2023.3.post1)\n",
            "Requirement already satisfied: tzdata>=2022.1 in c:\\users\\gvand\\anaconda3\\lib\\site-packages (from pandas->datasets) (2023.3)\n",
            "Requirement already satisfied: aiosignal>=1.1.2 in c:\\users\\gvand\\anaconda3\\lib\\site-packages (from aiohttp!=4.0.0a0,!=4.0.0a1->fsspec[http]<=2025.3.0,>=2023.1.0->datasets) (1.2.0)\n",
            "Requirement already satisfied: attrs>=17.3.0 in c:\\users\\gvand\\anaconda3\\lib\\site-packages (from aiohttp!=4.0.0a0,!=4.0.0a1->fsspec[http]<=2025.3.0,>=2023.1.0->datasets) (23.1.0)\n",
            "Requirement already satisfied: frozenlist>=1.1.1 in c:\\users\\gvand\\anaconda3\\lib\\site-packages (from aiohttp!=4.0.0a0,!=4.0.0a1->fsspec[http]<=2025.3.0,>=2023.1.0->datasets) (1.4.0)\n",
            "Requirement already satisfied: multidict<7.0,>=4.5 in c:\\users\\gvand\\anaconda3\\lib\\site-packages (from aiohttp!=4.0.0a0,!=4.0.0a1->fsspec[http]<=2025.3.0,>=2023.1.0->datasets) (6.0.4)\n",
            "Requirement already satisfied: yarl<2.0,>=1.0 in c:\\users\\gvand\\anaconda3\\lib\\site-packages (from aiohttp!=4.0.0a0,!=4.0.0a1->fsspec[http]<=2025.3.0,>=2023.1.0->datasets) (1.9.3)\n",
            "Requirement already satisfied: six>=1.5 in c:\\users\\gvand\\anaconda3\\lib\\site-packages (from python-dateutil>=2.8.2->pandas->datasets) (1.16.0)\n"
          ]
        },
        {
          "ename": "",
          "evalue": "",
          "output_type": "error",
          "traceback": [
            "\u001b[1;31mThe Kernel crashed while executing code in the current cell or a previous cell. \n",
            "\u001b[1;31mPlease review the code in the cell(s) to identify a possible cause of the failure. \n",
            "\u001b[1;31mClick <a href='https://aka.ms/vscodeJupyterKernelCrash'>here</a> for more info. \n",
            "\u001b[1;31mView Jupyter <a href='command:jupyter.viewOutput'>log</a> for further details."
          ]
        }
      ],
      "source": [
        "# Install the latest versions of datasets and huggingface_hub\n",
        "!pip install --upgrade datasets huggingface_hub fsspec"
      ]
    },
    {
      "cell_type": "code",
      "execution_count": null,
      "metadata": {
        "colab": {
          "base_uri": "https://localhost:8080/"
        },
        "collapsed": true,
        "id": "2R3pWGzCMsAI",
        "outputId": "fb73999c-abae-44e4-f848-e155d71908a7"
      },
      "outputs": [],
      "source": [
        "from datasets import load_dataset\n",
        "\n",
        "dataset = load_dataset(\"cnn_dailymail\", \"3.0.0\")\n",
        "df = dataset['train'].to_pandas()\n"
      ]
    },
    {
      "cell_type": "code",
      "execution_count": null,
      "metadata": {
        "colab": {
          "base_uri": "https://localhost:8080/",
          "height": 363
        },
        "id": "BBu6sB6EUwEn",
        "outputId": "c5c82689-54d4-4c0c-ba0e-e60fecc27d29"
      },
      "outputs": [],
      "source": [
        "#df.head(10)"
      ]
    },
    {
      "cell_type": "markdown",
      "metadata": {},
      "source": [
        "# Solución"
      ]
    },
    {
      "cell_type": "markdown",
      "metadata": {
        "id": "dcn7MwFjyDGa"
      },
      "source": [
        "## Comprensión de los datos"
      ]
    },
    {
      "cell_type": "code",
      "execution_count": null,
      "metadata": {
        "colab": {
          "base_uri": "https://localhost:8080/"
        },
        "id": "rjIHTvSuyKd6",
        "outputId": "321ac4c1-de0e-4992-f3d2-10083e6505e4"
      },
      "outputs": [
        {
          "name": "stdout",
          "output_type": "stream",
          "text": [
            "<class 'pandas.core.frame.DataFrame'>\n",
            "RangeIndex: 287113 entries, 0 to 287112\n",
            "Data columns (total 3 columns):\n",
            " #   Column      Non-Null Count   Dtype \n",
            "---  ------      --------------   ----- \n",
            " 0   article     287113 non-null  object\n",
            " 1   highlights  287113 non-null  object\n",
            " 2   id          287113 non-null  object\n",
            "dtypes: object(3)\n",
            "memory usage: 6.6+ MB\n"
          ]
        }
      ],
      "source": [
        "df.info()"
      ]
    },
    {
      "cell_type": "code",
      "execution_count": null,
      "metadata": {
        "colab": {
          "base_uri": "https://localhost:8080/"
        },
        "id": "fA5cTjTeyODR",
        "outputId": "a324331f-6719-48bd-9e2b-f24ac0b91826"
      },
      "outputs": [
        {
          "data": {
            "text/plain": [
              "False"
            ]
          },
          "execution_count": 35,
          "metadata": {},
          "output_type": "execute_result"
        }
      ],
      "source": [
        "df['id'].duplicated().any()"
      ]
    },
    {
      "cell_type": "code",
      "execution_count": null,
      "metadata": {
        "colab": {
          "base_uri": "https://localhost:8080/",
          "height": 1000
        },
        "id": "cwKzhgc0zGZH",
        "outputId": "0d376dbd-c5e3-4ba6-eb20-4fa427e0e9a7"
      },
      "outputs": [],
      "source": [
        "import pandas as pd\n",
        "\n",
        "# Mostrar el contenido completo de cada columna\n",
        "pd.set_option('display.max_colwidth', None)\n",
        "\n",
        "#df.head(10)"
      ]
    },
    {
      "cell_type": "code",
      "execution_count": null,
      "metadata": {
        "colab": {
          "base_uri": "https://localhost:8080/"
        },
        "id": "rI7QTAfkJaM2",
        "outputId": "abf2d19a-b969-4230-b376-60cad3ea834a"
      },
      "outputs": [
        {
          "name": "stdout",
          "output_type": "stream",
          "text": [
            "Longitud máxima: 15925\n",
            "Longitud mínima: 48\n"
          ]
        }
      ],
      "source": [
        "# Longitud de cada texto en la columna \"article\"\n",
        "longitudes = df[\"article\"].str.len()\n",
        "\n",
        "# Máx\n",
        "longitud_maxima = longitudes.max()\n",
        "# mín\n",
        "longitud_minima = longitudes.min()\n",
        "\n",
        "print(f\"Longitud máxima: {longitud_maxima}\")\n",
        "print(f\"Longitud mínima: {longitud_minima}\")"
      ]
    },
    {
      "cell_type": "markdown",
      "metadata": {
        "id": "3Yv4rjHWEA7Y"
      },
      "source": [
        "Conclusiones:\n",
        "El DataFrame analizado contiene tres variables de tipo string, cada una con 287,113 filas. No se identificaron datos duplicados ni faltantes. La clave primaria no presenta anomalías y se encuentra en buen estado. No obstante, las otras dos variables sí presentan inconsistencias. La columna \"highlights\" contiene el carácter \"\\n\" en todas las filas, lo cual no es adecuado y debería corregirse. Por otro lado, la columna de artículos incluye símbolos como \"--\", que también deberían ser eliminados para garantizar la calidad de los datos. Otro aspecto relevante es la presencia recurrente de la frase \"E-mail to a friend\" casi al final o al final de los artículos; esta frase, junto con el contenido que le sigue, no aporta valor y resulta redundante\n",
        "\n",
        " La extensión de los artículos varía considerablemente, con longitudes que oscilan entre 15,925 caracteres en el caso más extenso y 48 caracteres en el más corto. Esta amplia dispersión sugiere que la columna \"highlights\", que corresponde al resumen de los artículos, también presenta una variabilidad significativa en su longitud."
      ]
    },
    {
      "cell_type": "markdown",
      "metadata": {
        "id": "UKqE3e6EO9pa"
      },
      "source": [
        "## Limpieza y Transformación"
      ]
    },
    {
      "cell_type": "markdown",
      "metadata": {},
      "source": [
        "### Variable \"highlights\""
      ]
    },
    {
      "cell_type": "code",
      "execution_count": null,
      "metadata": {
        "colab": {
          "base_uri": "https://localhost:8080/",
          "height": 1000
        },
        "id": "xgZMzCqKPVtL",
        "outputId": "c4ea7e62-0187-4183-fa8e-0ea2cd32c984"
      },
      "outputs": [],
      "source": [
        "# Variable \"highlights\"\n",
        "df['highlights'] = df['highlights'].str.replace('\\n', ' ', regex=True) #Elimina \"\\n\"\n",
        "df['highlights'] = df['highlights'].str.replace(r'\\s+\\.', '.', regex=True) #Elimina espacios innecesarios\n",
        "df['highlights'] = df['highlights'].str.replace('NEW:', '', regex=False) #Elimina \"NEW:\"\n",
        "\n",
        "#df.head(10)\n"
      ]
    },
    {
      "cell_type": "markdown",
      "metadata": {},
      "source": [
        "### Variable \"article\""
      ]
    },
    {
      "cell_type": "code",
      "execution_count": null,
      "metadata": {
        "id": "8yoacFl8aDKi"
      },
      "outputs": [],
      "source": [
        "df['article'] = df['article'].str.replace(r'E-mail to a friend*', '', regex=True) #Elimina \"E-mail to a friend*\" y su continuación\n",
        "#df.head(15)"
      ]
    },
    {
      "cell_type": "code",
      "execution_count": null,
      "metadata": {},
      "outputs": [],
      "source": [
        "df[['new', 'article2']] = df['article'].str.split(r'--', n=1, expand=True) #Separa la columna \"article\" por el delimitador \"--\"\n",
        "#df.head(10)"
      ]
    },
    {
      "cell_type": "code",
      "execution_count": null,
      "metadata": {},
      "outputs": [],
      "source": [
        "df.drop([\"article\"], axis=1, inplace=True) #Elimina la variable \"Article\"\n",
        "#df.head(10)"
      ]
    },
    {
      "cell_type": "markdown",
      "metadata": {},
      "source": [
        "### Variable article2"
      ]
    },
    {
      "cell_type": "code",
      "execution_count": null,
      "metadata": {},
      "outputs": [
        {
          "data": {
            "text/html": [
              "<div>\n",
              "<style scoped>\n",
              "    .dataframe tbody tr th:only-of-type {\n",
              "        vertical-align: middle;\n",
              "    }\n",
              "\n",
              "    .dataframe tbody tr th {\n",
              "        vertical-align: top;\n",
              "    }\n",
              "\n",
              "    .dataframe thead th {\n",
              "        text-align: right;\n",
              "    }\n",
              "</style>\n",
              "<table border=\"1\" class=\"dataframe\">\n",
              "  <thead>\n",
              "    <tr style=\"text-align: right;\">\n",
              "      <th></th>\n",
              "      <th>highlights</th>\n",
              "      <th>id</th>\n",
              "      <th>new</th>\n",
              "      <th>article2</th>\n",
              "    </tr>\n",
              "  </thead>\n",
              "  <tbody>\n",
              "    <tr>\n",
              "      <th>0</th>\n",
              "      <td>Harry Potter star Daniel Radcliffe gets £20M fortune as he turns 18 Monday. Young actor says he has no plans to fritter his cash away. Radcliffe's earnings from first five Potter films have been held in trust fund.</td>\n",
              "      <td>42c027e4ff9730fbb3de84c1af0d2c506e41c3e4</td>\n",
              "      <td>LONDON, England (Reuters)</td>\n",
              "      <td>Harr.otte.ta.anie.adcliff.ain.cces.. reporte.2.illio.$41..illion.ortun...urn...onday.u..nsist.h.one.on'.as. spel..im.anie.adcliff..arr.otte..Harr.otte.n.h.rde..h.hoenix..h.isappointmen..ossi.olumnist.roun.h.orld.h.oun.cto.ay..a..lan..ritte.i.as.wa..as.ars.rin.n.elebrit.arties..on'.la...n..hos.eopl.ho..oo..he.ur.8.uddenl.u.hemselve. massiv.port.a.ollectio..omethin.imilar,..ol..ustralia.nterviewe.arlie.hi.onth..on'.hin.'l..articularl.xtravagant.Th.hing. lik.uyin.r.hing.ha.os.bou..ound.book.n.D.n.VDs...8.adcliff.il..bl..ambl.. casino.u. drin.. pu..e.h.orro.il.Hostel.ar.I,.urrentl.i.lace.elo.i.umbe.n.ovi..h..o.ffic.hart.etail..o.e'l.ar.i.andmar.irthda.r.nde.raps.i.gen.n.ublicis.a..ommen..i.lans.I'l.efinitel.av.om.or..arty,..ai...nterview.Hopefull.on..o.il..eadin.bou.t..adcliffe'.arning.ro.h.irs.iv.otte.ilm.av.ee.el.. trus.un.hic..a.o.ee.bl..ouch.espit.i.rowin.am.n.iches.h.cto.ay...eepin.i.ee.irml..h.round.Peopl.r.lway.ookin..a.ki.ta.oe.f.h.ails,'..ol.eporter.as.onth.Bu. tr.er.ar.o...ha.a.ecaus..oul..o.as.o.hem..i.ates.utin..h.o.izar..Harr.otte.n.h.rde..h.hoenix..reakin.ecord..ot.ide..h.tlanti.n..il.epris.h.ol..h.as.w.ilms.Watc.-Reporte.iv.e.evie..otter'.ates. .her..if.eyon.otter.owever.h.ondone.a.ilme. T.ovi.alle.M.o.ack,.bou.utho.udyar.iplin.n.i.on.u.o.eleas.ate.hi.ear..il.ls.ppea..Decembe.oys,..ustralia.il.bou.ou.oy.h.scap..rphanage.arlie.hi.ear..ad.i.tag.ebu.layin. torture.eenage..ete.haffer'.Equus..eanwhile...race.o.ve.lose.edi.crutin.o.ha.e'.egall..dult..us.hin.'.oin...or.or..ai.ame,..ol.euters..opyrigh.00.euters.l.ight.eserved.Thi.ateria.a.o..ublished.roadcast.ewritten..edistributed.</td>\n",
              "    </tr>\n",
              "    <tr>\n",
              "      <th>1</th>\n",
              "      <td>Mentally ill inmates in Miami are housed on the \"forgotten floor\" Judge Steven Leifman says most are there as a result of \"avoidable felonies\" While CNN tours facility, patient shouts: \"I am the son of the president\" Leifman says the system is unjust and he's fighting for change.</td>\n",
              "      <td>ee8871b15c50d0db17b0179a6d2beab35065f1e9</td>\n",
              "      <td>Editor's note: In our Behind the Scenes series, CNN correspondents share their experiences in covering news and analyze the stories behind the events. Here, Soledad O'Brien takes users inside a jail where many of the inmates are mentally ill. An inmate housed on the \"forgotten floor,\" where many mentally ill inmates are housed in Miami before trial. MIAMI, Florida (CNN)</td>\n",
              "      <td>Th.int.loo..h.iami-Dad.retria.etentio.acilit..ubbe.h.forgotte.loor..ere.nmate.it.h.os.ever.enta.llnesse.r.ncarcerate.nti.hey'r.ead..ppea..ourt.os.ften.he.ac.ru.harge..harge..ssaultin..ffice.harge.ha.udg.teve.eifma.ay.r.suall.avoidabl.elonies...ay.h.rrest.fte.esul.ro.onfrontation.it.olice.entall.l.eopl.fte.on'..ha.hey'r.ol.he.olic.rriv..h.cen.confrontatio.eem..xacerbat.hei.llnes.n.he.ecom.or.aranoid.elusional.n.es.ikel..ollo.irections.ccordin..eifman.o.he.n...h.int.loo.everel.entall.isturbed.u.o.ettin.n.ea.el.ecaus.hey'r..ail..oure.h.ai.it.eifman...el.now..iam...dvocat.o.ustic.n.h.entall.ll.ve.houg..er.o.xactl.elcome.it.pe.rm..h.uards..er.ive.ermissio..hoo.ideotap.n.ou.h.loor.G.nsid.h.forgotte.loor. ..irst.t'.ar..etermin.her.h.eopl.re.h.risoner.r.earin.leeveles.obes.magin.uttin.ole.o.rm.n.ee.. heav.oo.leepin.a.that'.in..ha.he.oo.ike.hey'r.esigne..ee.h.entall.l.atient.ro.njurin.hemselves.hat'.ls.h.he.av..hoes.ace..attresses.eifma.ay.bou.ne-thir..l.eopl..iami-Dad.ount.ail.r.entall.ll.o..ays.h.hee.olum..verwhelmin.h.ystem.n.h.esul..ha..e..h.int.loor..ourse... jail..t'.o.uppose...ar.n.omforting.u.h.ight.lare.h.ell.r.in.n.t'.oud..e.wo.ometime.hre.e.sometime..h.obes.ometime.aked.yin..ittin..hei.ells...h.o..h.resident.o.ee..e..u..ere!.n.a.hout..e...bsolutel.erious.onvince.ha.el...h.a.i.nl..oul.eac.h.hit.ouse.eifma.ell..ha.hes.risoner-patient.il.fte.irculat.hroug.h.ystem.ccasionall.tabilizin.. menta.ospital.nl..etur..ai..ac.hei.harges.t'.rutall.njust..i.ind.n..a.ecom. stron.dvocat.o.hangin.hing..iami.ve. mea.ater..al.bou.o.hing.o.hi.a.o.enta.atients.eifma.ay.0.ear.g.eopl.er.onsidere.lunatics.n.he.er.ocke...ail.ve..he.a..harge.gains.hem.he.er.us.onsidere.nfi....ociety.ve.h.ears..ays.her.a.om.ubli.utcry.n.h.entall.l.er.ove.u..ail.n.nt.ospitals.u.eifma.ay.an..hes.enta.ospital.er..orribl.he.er.hu.own.her.i.h.atient.o.owhere.h.treets.he.ecame..an.ases.h.omeless..ays.he.eve.o.reatment.eifma.ay..95.her.er.or.ha.al. millio.eopl..tat.enta.ospitals.n.oda.ha.umbe.a.ee.educe..ercent.n.0,00..0,00.eopl.r..enta.ospitals.h.udg.ay.e'.orkin..hang.his.tartin..008.an.nmate.h.oul.therwis.av.ee.rough..h.forgotte.loor.wil.nstea..en.. ne.enta.ealt.acilit.th.irs.te.. journe.owar.ong-ter.reatment.o.us.unishment.eifma.ay.t'.o.h.omplet.nswer.u.t'. start.eifma.ay.h.es.ar..ha.t'. win-wi.olution.h.atient.in.h.amilie.r.elieved.n.h.tat.ave.one..impl.o.yclin.hes.risoner.hroug.gai.n.gain.nd.o.eifman.ustic..erved..</td>\n",
              "    </tr>\n",
              "    <tr>\n",
              "      <th>2</th>\n",
              "      <td>\"I thought I was going to die,\" driver says. Man says pickup truck was folded in half; he just has cut on face. Driver: \"I probably had a 30-, 35-foot free fall\" Minnesota bridge collapsed during rush hour Wednesday.</td>\n",
              "      <td>06352019a19ae31e527f37f7571c6dd7f0c5da37</td>\n",
              "      <td>MINNEAPOLIS, Minnesota (CNN)</td>\n",
              "      <td>Driver.h.er..h.inneapoli.ridg.he..ollapse.ol.arrowin.ale..urvival.Th.hol.ridg.ro.n.id..h.ississipp..h.the.us.ompletel.av.ay.el.l.h.a.own,.urvivo.ar.abinea.ol.NN..robabl.a. 30-.5-foo.re.all.n.here'.ar..h.ater.here'.ar..ire.h.hol.ridg..own...ai.i.ac.a.njure.u..etermine..oul.ov.round..ealize.her.a. schoo.u.igh.ex..e.n..n. coupl..the.uy.en.ve.n.tarte.iftin.h.id.f.h.ridge.he.er.elling.creaming.leeding. thin.her.er.om.roke.ones..Watc. drive.escrib.i.arro.scap. ..om.he..ear.bou.h.isaster.r.oh.ink..mergenc.oo.hysician.umpe.nt.i.a.n.ushe..h.cen...inutes..rrive..h.out.id..h.ridge.too..h.iverban.n.a.ozen..eopl.yin.aze...xpansiv.eck.he.er..h.iddl..h.ississipp.iver.hic.a.hurnin.ast.n..a..a..ettin..hem..en..h.ort.ide.her.her.a.asie.cces..eople.mbulance.er.ls.avin. har.im.rivin.ow..h.ive..e.lose..h.cene.orkin.everishly.olunteers.MT.n.the.fficial.anage..e..eopl.nt.mbulance..es.ha.w.ours.ccasionally. picku.ruc.it. medi.nsid.oul.riv..e..njure.erso.n.rin.i.ac..ve.round.in.ol.NN.h.escu.ffor.a.ontrolle.n.rganized..aid.h.pposit..h.ightning-quic.ollapse..oul.e.h.hol.ridg...a.oin.own...a.alling,.abinea.aid.I.us.av. rumbl.ea.uick.n..l.us.av.ay.n..us.el.ompletely.l.h.a..h.round.n.her.a.us.verywher.n..a.us.ik.veryon.a.ee.aying..a.us.ik.u..h.ovies..abinea.ai.h.ea..i.icku.ruc.a.anglin.ve.h.dg.. broken-of.ectio..h.ridge..ai.evera.ehicle.li.as.i.nt.h.ater..taye...a.o.n..w.econds. sa. coupl.ar.all,..aid.S. staye...a.nti.h.ar.ui.allin.o. second.he. go.u.ea.uick.a..ron...ruc.becaus.ehin..ruc.a.us. hol.an. helpe. woma.f..h.ridg.it.e..us.ante.f.h.ridge.n.he. ra.ve..h.choo.us. starte.rabbin.id.n.andin.he.own..a.us.omplet.haos...ai.os..h.hildre.er.ryin..creaming..n.the.escuer.e.he..h.roun.n.ol.he..u..h.ive.ank.u. fe.eede...arrie.ecaus..hei.njuries.Se.escuer.lambe.ve.ubbl. .abinea.ai..a..escu.raining..us.ne.ha. ha....h.oment..eliss.ughes.2..inneapolis.ol.h.ssociate.res.ha.h.a.rivin.om.he.h.ester.dg..h.ridg.ollapse.nde.er.Yo.no.ha.ree-fal.eeling. fel.ha.wice,.ughe.aid. picku.ande..o..e.ar.u.h.a.o.urt..a..de.her.a. vehicl...ar,.h.ol.P.It'.eall.er.urreal..abinea.ol.h.inneapoli.tar-Tribune.O.h.a.own. though. wa.ead. literall.hough. wa.ead.M.ruc.a.ompletel.ac.own.ointe.owar.h.round.n..ruc.o.ippe..alf..a.olde..alf.n. can'.eliev.'.live..Se.n.ea.yewitnes.ccount. .erni.oivone.ol.NN'.America.orning.ha.i.ehicl.a.. par..h.ridg.ha.nde..ilte.. 45-degre.ngle..ne.h.ec.a.oin.own.her.a..uestio.bou.t.n. though. wa.oin..ie,..aid.fte.h.ridg.ettle.n.i.a.emaine.pright..us.u..ark.urne.h.e.f.n.aid.Oh.'.live,. h.aid..</td>\n",
              "    </tr>\n",
              "    <tr>\n",
              "      <th>3</th>\n",
              "      <td>Five small polyps found during procedure; \"none worrisome,\" spokesman says. President reclaims powers transferred to vice president. Bush undergoes routine colonoscopy at Camp David.</td>\n",
              "      <td>24521a2abb2e1f5e34e6824e0f9e56904a2b0e88</td>\n",
              "      <td>WASHINGTON (CNN)</td>\n",
              "      <td>Doctor.emove.iv.mal.olyp.ro.residen.ush'.olo..aturday.n.non.ppeare.orrisome,. Whit.ous.pokesma.aid.h.olyp.er.emove.n.en..h.ationa.ava.edica.ente..ethesda.aryland.o.outin.icroscopi.xamination.pokesma.cot.tanze.aid.esult.r.xpecte..w..hre.ays.l.er.mall.es.ha. centimete.hal..nch..iameter..aid.us...oo.umor.tanze.aid.n.il.esum.i.ctivitie..am.avid.urin.h.rocedur.ic.residen.ic.hene.ssume.residentia.ower.us.eclaime.residentia.owe..:2..m.fte.bou.w.ours.octor.se.monitore.nesthesi.are,.tanze.aid..h.residen.a.sleep.u.o..eepl.nconsciou..it. tru.enera.nesthetic..pok..irs.ad.aur.us.wh...idland.exas.elebratin.e.other'.irthda.befor.n.fte.h.rocedure.tanze.aid.fterward.h.residen.laye.it.i.cottis.erriers.arne.n.is.eazley.tanze.aid..lanne..av.unc..am.avi.n.av.riefing.it.ationa.ecurit.dvise.tephe.adle.n.hit.ous.hie..taf.os.olten.n.lanne..ak. bicycl.id.aturda.fternoon.heney.eanwhile.pen.h.ornin..i.om..aryland'.aster.hore.eadin.n.layin.it.i.ogs.tanze.aid.othin.ccurre.ha.equire.i..ak.fficia.ctio..residen.efor.us.eclaime.residentia.ower.h.rocedur.a.upervise..r.ichar.ubb.ush'.hysician.n.onducte.. multidisciplinar.ea.ro.h.ationa.ava.edica.ente..ethesda.aryland.h.hit.ous.aid.ush'.as.olonoscop.a..un.002.n..bnormalitie.er.ound.hit.ous.pokesma.on.no.aid.h.resident'.octo.a.ecommende. repea.rocedur..bou.iv.ears. colonoscop..h.os.ensitiv.es.o.olo.ancer.ecta.ance.n.olyps.mal.lump..ell.ha.a.ecom.ancerous.ccordin..h.ay.linic.mal.olyp.a..emove.urin.h.rocedure.no.ai..rida.ha.us.a.olyp.emove.urin.olonoscopie.efor.ecomin.resident.no.imsel..ndergoin.hemotherap.o.ance.ha.ega..i.olo.n.prea..i.iver.Watc.no.al.bou.ush'.rocedur.n.i.w.olo.ance. .Th.residen.ant..ncourag.verybod..s.urveillance,.no.aid.h.merica.ance.ociet.ecommend.ha.eopl.ithou.ig.is.actor..ymptom.egi.ettin.creene.o.ign..olorecta.ance..g.0..</td>\n",
              "    </tr>\n",
              "    <tr>\n",
              "      <th>4</th>\n",
              "      <td>NFL chief, Atlanta Falcons owner critical of Michael Vick's conduct. NFL suspends Falcons quarterback indefinitely without pay. Vick admits funding dogfighting operation but says he did not gamble. Vick due in federal court Monday; future in NFL remains uncertain.</td>\n",
              "      <td>7fe70cc8b12fab2d0a258fababf7d9c6b5e1262a</td>\n",
              "      <td>(CNN)</td>\n",
              "      <td>Th.ationa.ootbal.eagu.a.ndefinitel.uspende.tlant.alcon.uarterbac.ichae.ic.ithou.ay.fficial.it.h.eagu.ai.riday.F.ta.ichae.ic..e..ppea..our.onday. judg.il.av.h.ina.a.. ple.eal.arlier.ic.dmitte..articipatin.. dogfightin.in..ar.. ple.greemen.it.edera.rosecutor..irginia.You.dmitte.onduc.a.o.nl.llegal.u.ls.rue.n.eprehensible.ou.eam.h.FL.n.F.an.av.l.ee.ur..ou.ctions,.F.ommissione.oge.oodel.ai.. lette..ick.oodel.ai..oul.evie.h.tatu..h.uspensio.fte.h.ega.roceeding.r.ver..aper.ile.rida.it. federa.our..irginia.ic.ls.dmitte.ha..n.w.o-conspirator.ille.og.ha.i.o.igh.ell.alcon.wne.rthu.lan.ai.ick'.dmission.escrib.ction.ha.r.incomprehensibl.n.nacceptable..h.uspensio.ake..tron.tatemen.ha.onduc.hic.arnishe.h.oo.eputatio..h.F.il.o..olerated,..ai.. statement.Watc.ha.e..ick'.uspensio. .oodel.ai.h.alcon.oul.asser.n.laim..emedies..ecove.2.illio..ick'.ignin.onu.ro.h.0-year.13.illio.ontrac..igne..004.ccordin..h.ssociate.ress.ic.ai..oul.lea.uilt..n.oun..Conspirac..rave..nterstat.ommerc..i..nlawfu.ctivitie.n..ponso. Do...nima.ightin.enture.. ple.greemen.ile...S.istric.our..ichmond.irginia.h.harg..unishabl....iv.ear..rison. $250,00.ine.ful.estitution. specia.ssessmen.n. year..upervise.elease,.h.le.ea.aid.edera.rosecutor.gree..s.o.h.o.n..h.entencin.uidelines.Th.efendan.il.lea.uilt.ecaus.h.efendan...ac.uilt..h.harge.ffense,.h.le.greemen.aid...dditiona.ummar..acts.igne..ic.n.ile.it.h.greement.ic.dmitte.uyin.i.ull.n.h.ropert.se.o.rainin.n.ightin.h.ogs.u.h.tatemen.ai..i.o.e..h.ight..eceiv.n..h.one.on.Mos..h.Ba.ew.ennels.peration.n.amblin.onie.er.rovide..ick,.h.fficia.ummar..act.aid.amblin.in.er.enerall.pli.mon.o-conspirator.on.aylor.uani.hillip.n.ometime.urnel.eace..ontinued.Vic.i.o.ambl..lacin.id.et..n..h.ights.ic.i.o.eceiv.n..h.roceed.ro.h.urse.ha.er.o..Ba.ew.ennels.. Vic.ls.gree.ha.collectiv.fforts..i.n.w.ther.ause.h.eath...eas.i.ogs.roun.pril.ick.eac.n.hillip.este.om.og..ightin.ession..ick'.ropert..irginia.h.tatemen.aid.Peace.hillip.n.ic.gree..h.illin..pproximatel.-.og.ha.i.o.erfor.el..testing.ession..91.oonligh.oa.n.l..hos.og.er.ille..ariou.ethods.ncludin.angin.n.rowning.Vic.gree.n.tipulate.ha.hes.og.l.ie.. resul..h.ollectiv.ffort..eace.hillip.n.ick,.h.ummar.aid.eace.5..irgini.each.irginia.hillips.8..tlanta.eorgia.n.aylor.4..ampton.irginia.lread.av.ccepte.greement..lea.uilt..xchang.o.educe.entences.ick.7..chedule..ppea.onda..ourt.her...xpecte..lea.uilt.efor. judge.Se. timelin..h.as.gains.ic. .h.udg..h.as.il.av.h.ina.a.ve.h.le.greement.h.edera.as.gains.ic.ocuse..h.nterstat.onspiracy.u.ick'.dmissio.ha..a.nvolve..h.illin..og.oul.ea..oca.harges.ccordin..N.ega.nalys.effre.oobin.I.ometime.appen.no.fte.tha.h.tat.il.ollo. federa.rosecutio..hargin.t.w.rime.o.xactl.h.am.ehavior,.oobi.ai.riday.Th.is.o.ic.s...ake.dmission..i.edera.uilt.lea.h.tat..irgini.oul.ay.Hey.ook.o.dmitte.iolatin.irgini.tat.a..ell.e'r.oin..ntroduc.ha.gains.o.n.harg.o..u.ourt.. I.h.le.eal.ic.gree..ooperat.it.nvestigator.n.rovid.l.nformatio..a.av..n.rimina.ctivit.n..estif..ecessary.ic.ls.gree..ur.ve.n.ocument..a.n..ubmi..olygrap.ests.ic.gree..mak.estitutio.o.h.ul.moun..h.ost.ssociated.it.h.og.ha.r.ein.el..h.overnment.Suc.ost.a.nclude.u.r.o.imite.o.l.ost.ssociate.it.h.ar..h.og.nvolve..ha.ase.ncludin..ecessary.h.ong-ter.ar.nd/o.h.uman.uthanasi..om..l..hos.nimals..rosecutors.it.h.uppor..nima.ight.ctivists.av.ske.o.ermissio..uthaniz.h.ogs.u.h.og.oul.erv..mportan.videnc..h.ase.gains.ic.n.i.dmitte.o-conspirators.udg.enr..udso.ssue..rde.hursda.ellin.h..S.arshal.ervic..arres.n.eiz.h.efendan.roperty.n.s.iscretio.n.hateve.ean.ppropriat..rotec.n.aintai.ai.efendan.roperty..ot.h.udge'.rde.n.ick'.ilin.efe..approximately..i.ul.ogs.fte.ick'.ndictmen.as.onth.oodel.rdere.h.uarterbac.o..epor..h.alcon.rainin.amp.n.h.eagu..eviewin.h.ase.lan.ol.h.F.etwor..onda..oul.o.peculat..ick'.utur.. Falcon..eas.o.nti..a.ee..tatemen..acts..h.ase. .NN'.ik.hela.ontribute..hi.eport.</td>\n",
              "    </tr>\n",
              "    <tr>\n",
              "      <th>5</th>\n",
              "      <td>Parents beam with pride, can't stop from smiling from outpouring of support. Mom: \"I was so happy I didn't know what to do\" Burn center in U.S. has offered to provide treatment for reconstructive surgeries. Dad says, \"Anything for Youssif\"</td>\n",
              "      <td>a1ebb8bb4d370a1fdf28769206d572be60642d70</td>\n",
              "      <td>BAGHDAD, Iraq (CNN)</td>\n",
              "      <td>Dresse.. Superma.hirt.-year-ol.oussi.el.i.ister'.an.riday.eemingl.nawar.ha.illion..eopl.cros.h.orl.av.ee.ouche..i.tory.earby.i.arent.alke.bou.h.e.utur.n.op.he.av.o.hei.o.an.h.otentia.o.ecover.ro.i.ever.urns.oussi.old.i.ister'.an.riday.e'.earin. facia.as.fte.se..el.ur.ictims.t'.h.es.irthda.resen.h.raq.amil.oul.ve.av.magine.o.hei.oy.oussi.urn. nex.riday..a..app. didn'.no.ha...it.yself,.i.other.ainab.ol.NN. broa.mil.cros.e.ace..idn'.hin.h.eactio.oul..hi.ig..i.athe.ai..a..h.oo..i.ous.he.N.alle.i.it.h.ew.bou.h.utpourin..uppor.o.i.on.W.us.an..han.veryon.h.a.om.orward,..aid.W.ne.her.a.indnes.u.here..ik.i.ife..ouldn'.to.miling..alke.bou.o..rie..ai..e.el.o.i.o..aghdad.eavin.n.ton.nturned.. missio..el.i.oy.her.er.an.rip..h.inistr..ealth..ay..ve.u.. reques..raq'.arliamen.o.elp.h.amil.ventuall.ol.N.hei.tor.tha.oussi.a.rabbe..aske.e.utsid.hei.om..anuar.5.ouse..asolin.n.e..ire.impl..omin.orward.i.arent.u.hemselve..ncredibl.anger..n.a.ee.rreste..el.ccountabl..oussif'.ase.Watc.NN'.rw.amo.escrib.trul.henomenal.utpourin. .hortl.fte.oussif'.tor.ire.ednesday.h.hildren'.ur.oundatio..onprofi.rganizatio.ase..herma.aks.alifornia.ha.rovide.uppor.o.ur.ictim.ocally.ationall.n.nternationall.agree..a.o.h.ransportatio.o.oussi.n.i.amil..om..h.nite.tate.n..e.. fun.o.onations.o.a.ak. donatio..h.oundation'.it..lickin.ere.here'. drop-dow.en.nde.h.genera.onation.re.ha..arke.Youssif'.und..h.oundatio.ay..il.ove.l.edica.ost.fro.urgerie.o.oussi..ousin.ost..n.ocia.ehabilitatio.ha.igh..eede.o.im.urgerie.il..erforme..r.ete.rossman. plasti.urgeo.it.h.ffiliate.rossma.ur.ente.h..onatin.i.ervice.o.oussif'.ause.fficial.r.til.ryin..e.h.ppropriat.isa.o.h.amily'.ravels.W.r.repare..av.he.om.ere.e.he... housin.ituation.rovid.uppor.o.he.n.egi.reatment,.ai.arbar.riedman.xecutiv.irecto..h.hildren'.ur.oundation.W.xpec.ha.h.reatmen.il..ro.etwee.i.onth.. yea.it.an.urgeries..h.dded.H.il..ettin.h.bsolut.es.ar.hat'.vailable..oussif'.arent.ai.he.no.t'.oin... length.n.ifficul.roces.n.ha.djustin..hei.ta..meric.a.o..asy.u.on..ha.atter.gettin.el.o.hei.o..irs.n.oremost..il..nythin.o.oussif,.i.athe.aid.ullin.i.o.lose..im.Ou.hil..verything..i.othe.rie..oa.oussi..al....hi.ay.u..idn'.an.o.i.othe.ay.e'.h.utsid..hei.ome.h.igges.bstacl.o..ettin.h.isa..eave.n.h.eriou.ecurit.isk.he.ac.ver.a.n.ou.he.emai..raq.u.hi.amil.whic.a.h.er.ors..umanit..ha.anuar.a.ha.e.op..h.orld.ha..artl.u..h.en..housand..NN.co.ser.h.er..ove..h.tor.n.ante..ct.N.raq.taf.entra..ringin.hi.tor.ogethe.er.ls.verwhelme.it.h.enerosit.omin.ro.eopl.utsid..hei.order.. natio.ha.argel.eel.bandone..h.es..h.orld..a. refreshin.ealization..NN.co.enio.roduce.ayn.ras.ontribute..hi.epor..tlanta.</td>\n",
              "    </tr>\n",
              "    <tr>\n",
              "      <th>6</th>\n",
              "      <td>Aid workers: Violence, increased cost of living drive women to prostitution. Group is working to raise awareness of the problem with Iraq's political leaders. Two Iraqi mothers tell CNN they turned to prostitution to help feed their children. \"Everything is for the children,\" one woman says.</td>\n",
              "      <td>7c0e61ac829a3b3b653e2e3e7536cc4881d1f264</td>\n",
              "      <td>BAGHDAD, Iraq (CNN)</td>\n",
              "      <td>Th.ome.r.o.frai.n.shame..ho.hei.ace..av.hei.ea.ame.sed.he.av.ee.rive..el.hei.odie..u.oo..h.abl.o.hei.hildre.fo..ittl... day.uha.7.. mothe..hree.h.ay.e.usban.hink.h..leanin.ouse.he.h.eave.ome.Peopl.houldn'.riticiz.omen..al.adl.bou.hem,.ay.7-year-ol.uh..h.djust.h.igh.olore.car.h.ear.hes.ay..voi.xtremist.h.nsis.ome.ove.hemselves.The.l.a..av.os.u.ay.u.he.eve.s.h..a..ak.hi.ath.. mothe..hree.h.ear.igh.akeup. gol.endan..ra.roun.e.eck.n..nexpecte.i..leganc.bou.er..on'.av.one..ak..i..h.octor. hav...nythin.ha. ca..reserv..hild.ecaus. a. mother,.h.ays.xplainin.h.h.rostitute.erself.nge.n.rustratio.is..e.oic..h.peaks.N.atte.ha.ls. ma.e..atte.o.f.h.at. ma.e. a. mother!.Watc. woma.escrib.urnin..rostitutio..sav..hild. .e.laspe.and.lenc.n.nclenc.ervously.uha'.usban.hink.ha.h..leanin.ouse.he.h.oe.way..oe.arima'.amily.A.h.tar. wa.leanin.omes.u. wasn'.akin.uch..atte.o.ar. worke..us.asn'.nough,.h.ays.arima.la..l.lack.dds.M.usban.ie..un.ance.in.onth.g.n.ef..it.othing..h.a.iv.hildren.ge. t.7.e.ldes.o.oul.ork.u.he'.o.frai.o.i.if..e.i..nt.h.treets.referrin..acrific.ersel.ha.is.e.hild.h.a.olicite.h.irs.im.he.h.a.leanin..ffice.The.oo.dvantag..e,.h.ay.oftly.A.irs. rejecte.t.u.he. realize. hav...t..ot.uh.n.arim.av.lient.ha.al.he. coupl.ime. week.the.ome.esor..rip..h.arke..in.otentia.lients..he.la.ow.ehicles.rostitutio.. choic.or.n.or.raq.ome.r.akin.us..urvive.It'.ncreasing,.uh.ays..oun.hi.thing.hroug..riend.n. hav.nothe.rien..h.am.redicamen..ine.ecaus..h.ircumstance.h..orce...uc.hings..iolence.ncrease.os..iving.n.ac..n.or..overnmen.i.eav.ome.ik.hes.it.e.the.ptions.ccordin..umanitaria.orkers.A.hi.oin.her.. populatio..ome.h.av..el.hei.odie..rde..ee.hei.hildre.live,.ay.ana.ohammed.ea.n.ounde..h.rganizatio.o.omen'.reedo..raq.It'. tabo.ha..n..peakin.bout..h.dds.Ther.. hug.opulatio..ome.h.er.h.ictim..a.h.a..el.hei.odies.hei.oul.n.he.os..ll..rushe...e.hem.u..av..or...n.hat'.h..tarte.u.ea..ome.ctivists..e.ea.ound.h.treet..aghda.ookin.o.hes.ictim.fte.o.umiliate..om.orward.Mos..h.ome.ha..in..ospital.who.av.rie..ommi.uicide.av.ee.nvolve..rostitution.ai.asm.ahim. membe..ohammed'.eam.h.eam'.i...ompil.nformatio..pecifi.ase.n.resen...raq'.olitica.artie.t.av.hem..ohamme.ut.t.com.el..ha.they.r...oin...bou.his..ahi.ell.h.eartbreakin.tor..n.oma.he.oun.h.ive.. roo.it.hre..e.hildren.Sh.a.e.hil.e.hre.hildre.r..h.oom.u.h.ake.he.tan..eparat.orners..ccordin..ahi.n.ohammed.os..h.ome.he.ncounte.a.he.r.rive..rostitutio.. desperat.esir.o.urviva..h.angerousl.iolen.n.nforgivin.ircumstance..raq.The.oo.hi.at.u.he.r.o.leased,.ahi.ays.arim.ay.he.h.ee.e.hildre.it.oo..h.able.h..bl..onvinc.ersel.ha.t'.ort.t.Everythin..o.h.hildren.he.r.h.eaut..if.nd.ithou.hem..anno.ive..u.h.ays..oul.eve.llo..aughte...his. woul.athe.arr.e.f...ha.av.e..hroug.his..arima'.as.app.emor...e.at.usband.he.he.er. famil.n.bl..houlde.h.ardship..if..oday'.ra.ogether.uh.ay.. youn.ir.h.reame..ein. doctor.it.e.o.oastin.bou.e.otentia..ha.areer.if.ouldn'.av.ake.e.urthe.ro.ha.ream.It'.o.ik..er.or.nt.his.o.a..ve...lood,.h.ays.ha.h.oe.o.e.amil..urviv.o.at.wa..er..a...illo.n..rai..pinning.n..l.ome.ac..... a.atchin. movie...</td>\n",
              "    </tr>\n",
              "    <tr>\n",
              "      <th>7</th>\n",
              "      <td>Tomas Medina Caracas was a fugitive from a U.S. drug trafficking indictment. \"El Negro Acacio\" allegedly helped manage extensive cocaine network. U.S. Justice Department indicted him in 2002. Colombian military: He was killed in an attack on a guerrilla encampment.</td>\n",
              "      <td>f0d73bdab711763e745cdc75850861c9018f235d</td>\n",
              "      <td>BOGOTA, Colombia (CNN)</td>\n",
              "      <td>.e.ebe.ommande.n.ugitiv.ro. U.S.ru.raffickin.ndictmen.a.ille.ve.h.eeken...i.ttac.. guerrill.ncampment.h.olombia.ilitar.ai.onday.llege.ocain.rafficke.n.AR.ebe.oma.edin.araca...nterpo.hoto.oma.edin.aracas.now.opularl..E.egr.cacio,.a. membe..h.ig.omman..h.uerza.rmada.evolucionaria..olombi.nd.ccordin..olombia.n..S.fficials.elpe.anag.h.roup'.xtensiv.ocain.raffickin.etwork..a.ee..h.ross-hair..h..S.ustic.epartmen.inc.002..a.harge.it.onspirac..mpor.ocain.nt.h.nite.tate.n.anufacturin.n.istributin.ocain.ithi.olombi..un.h.ARC'.2-yea.nsurgenc.gains.h.overnment..S.fficial.llege.edin.araca.anage.h.ebe.roup'.ale..ocain..nternationa.ru.raffickers.h..ur.muggle..nt.h.nite.tates..a.ls.ndicte..h.nite.tate.lon.it.w.the.AR.ommander..ovembe.00..harge..onspirin..idna.w..S.i.orker.ro.eighborin.enezuel..99.n.oldin.n..he.o.in.onth.nti. $.illio.anso.a.aid.fficial.ai.h.rmy'.api.espons.orce.acke..lement..h.olombia.i.orce.racke.edin.araca.ow.. FAR.am..h.ungl..h.out..h.ountry.Afte. bombardment.h.roop.ccupie.h.amp.n.hey'v.oun..ea.ebel..ar.lon.it.ifles.istols.ommunication.quipmen.n...ou.P.ystems,.efens.iniste.ua.anue.anto.ai.. new.onference.Th.eat..E.egr.cacio.a.onfirme..ariou.ources.ncludin.ember..AR.tself..edin.araca.ommande.ARC'.6t.ron..h.outher.epartment..ichad.n.uainia.stablishe..96..h.ilitar.in..h.olombia.ommunis.arty.AR..olombia'.ldest.argest.os.apabl.n.est-equippe.arxis.ebe.roup.ccordin..h..S.epartmen..tate..ournalis.ernand.amo.ontribute..hi.eport.</td>\n",
              "    </tr>\n",
              "    <tr>\n",
              "      <th>8</th>\n",
              "      <td>President Bush says Tony Snow \"will battle cancer and win\"  Job of press secretary \"has been a dream for me,\" Snow says  Snow leaving on September 14, will be succeeded by Dana Perino.</td>\n",
              "      <td>5e22bbfc7232418b8d2dd646b952e404df5bd048</td>\n",
              "      <td>WASHINGTON (CNN)</td>\n",
              "      <td>Whit.ous.res.ecretar.on.now.h..ndergoin.reatmen.o.ancer.il.te.ow.ro.i.os.eptembe..n..eplace..eput.res.ecretar.an.erino.h.hit.ous.nnounce.riday.hit.ous.res.ecretar.on.no.il.te.ow.ro.i.os..eptembe.4.residen.us.ol.eporter.rida.ha..il.sadl.ccept.now'.esignation.lanke..no.n.erin..h.hit.ous.res.oom.h.residen.pok.arml..i.epartin.res.ecretary.It'.ee. jo..atc.i.pa.it.ou,.us.ol.eporters.Watc.h.nnouncemen.bou.no.eavin. .us.ai..a.ertai..w.hing..egar..now.He'l.attl.ance.n.in,.us.aid.an.e'l.. soli.ontributo..ociety..urnin..now.h.residen.he.aid..ov.ou.n. wis.o.l.h.est..now.peakin.fte.us..h.tar..h.ail.hit.ous.ew.onference.ai..a.eavin..ar.or.oney..oo. bi.a.ut..aid.he..ef.i.reviou.ob..ncho.n.olitica.nalys.o.o.ews.ccordin..h.ashingto.ost.no.ake.168,00..h.hit.ous.pokesman.i.amil.oo.u. loa.he..tarte.h.ob.an.ha.oa..o.one..Thi.o.a.eall.ee. drea.o.e. blast.'v.a..normou.moun..u.n.atisfaction,.no.aid..ai..oul.ontinu..pea.u..ssues.n.oul..som.adio.om.V.u. don'.nticipat.ull-tim.ncho.uties..no.ai.e'.eceive.rea.atisfactio.ro.alkin..eopl.bou.i.llness.now'.ance.a.iagnose.o.h.irs.im..ebruar.005.i.olo.a.emoved.n.fte.i.onth..reatment.octor.ai.h.ance.a..emission.erin.nnounce.arc..ha.now'.ance.a.ecurred.n.ha.octor.a.emove. growt.ro.i.bdome.h.a.efore.ource.ol.N.w.eek.g.ha.no.a.lannin..eav.i.ob.ossibl..arl..eptember.us.appe.no..eplac.cot.cClella..pri.006.no.a.ee..ncho.o.Fo.ew.unday.n. politica.nalys.o.h.o.ew.hannel.hic..oine..996..ls.oste.Th.on.no.how..o.ew.adio..hursday.no.ol.N.i.ealt..mproving.itin.w.edica.est.hi.ont.ha.oun.h.ance.a.o.pread.Th.umor.r.tabl.the.r.o.rowing,.no.ai..h.esult.ro..R.n. CA.can.An.her.r..e.rowths.h.ealt..ood..h.res.ecretary.hos.ai.a.urne.ra.urin.hemotherap.reatment.ai.i.lac.ai..xpecte..ro.ac..bou. month.I'.ls.uttin..eigh.gain,..ai.fte.eturnin.ro. 10-da.acation..ctuall.ee.er.oo.bout.h.ealt.ituation.no.ai..rida..a..e.i.ncologist.n.he.il.ecid..om.ino.orm..hemotherap..tar..aintenanc.reatment..</td>\n",
              "    </tr>\n",
              "    <tr>\n",
              "      <th>9</th>\n",
              "      <td>Empty anti-tank weapon turns up in front of New Jersey home. Device handed over to Army ordnance disposal unit. Weapon not capable of being reloaded, experts say.</td>\n",
              "      <td>613d6311ec2c1985bd44707d1796d275452fe156</td>\n",
              "      <td>(CNN)</td>\n",
              "      <td>Polic.n.B.gent.r.nvestigatin.h.iscover...mpt.ocke.aunche.ub..h.ron.aw.. Jerse.ity.e.ersey.ome.B.pokesma.ea.uin.aid.iranja.esa.iscovere.h.0-year-ol.T.nti-tan.ocke.aunche.ube. one-time-us.evice.yin..e.aw.rida.orning.olic.aid.h.aunche.a.ee.urne.ve...S.rm.fficial..h.54t.rdnanc.ompany..xplosiv.rdnanc.isposa.nit..or.onmouth.e.ersey.rm.fficial.aid.h.aunche.i..onge.perabl.n.o.onsidere... hazar..ubli.afety,.olic.aid.ddin.her.a..ndicatio.h.aunche.a.ee.ire.ecently.rm.fficial.ai.he.oul.o.etermin..h.aunche.a.ee.ired.u.ndicate.he.houl.no.nc.he.in.u.her..am.rom.h.eares.ilitar.ase.or.ix..or.ha..ile.ro.erse.ity.h.oin.erroris.as.orc.ivisio..h.B.n.erse.it.olic.r.nvestigatin.h.rigi..h.ocke.aunche.n.h.ircumstanc.ha.e..t.ppearanc..esidentia.roperty.A.aed.oesn'.eav. rocke.aunche..h.aw..iddle-age.adies,.ai.au.ruickshan..e.or.niversit.a.chool'.ente..a.n.ecurity. neighbor.o.uinn.ai.h.bjec.yin..esai'.aw.ooke.ilitary.a.rown.a. handl.n.trap.n.bot.nd.er.pen.ik.o.oul.hoo.omethin.it.t..uin.ls.ai.h.evic.a. pictur.. soldie...n.a. t. fee.ong..rm.fficia.ai.h.evic..asicall. shoulder-fired.irect-fir.eapo.se.gains.roun.arget..odern-da.azook.an...o.ire-guided.ccordin..h.e.it.lobalsecurity.org. loade.13.T.nti-tan.eapo.a. 40-inch-lon.iberglass-wrappe.ub.n.eigh.us. pounds.t..illimete.haped-charg.issil.a.enetrat..nche..rmo.ro. maximu..8.eet...se.nc.n.iscarded..NN'.aro.ratty.ugal.cConnell.n.ik.oun.ontribute..hi.eport.</td>\n",
              "    </tr>\n",
              "  </tbody>\n",
              "</table>\n",
              "</div>"
            ],
            "text/plain": [
              "                                                                                                                                                                                                                                                                                             highlights  \\\n",
              "0                                                                                Harry Potter star Daniel Radcliffe gets £20M fortune as he turns 18 Monday. Young actor says he has no plans to fritter his cash away. Radcliffe's earnings from first five Potter films have been held in trust fund.   \n",
              "1              Mentally ill inmates in Miami are housed on the \"forgotten floor\" Judge Steven Leifman says most are there as a result of \"avoidable felonies\" While CNN tours facility, patient shouts: \"I am the son of the president\" Leifman says the system is unjust and he's fighting for change.   \n",
              "2                                                                              \"I thought I was going to die,\" driver says. Man says pickup truck was folded in half; he just has cut on face. Driver: \"I probably had a 30-, 35-foot free fall\" Minnesota bridge collapsed during rush hour Wednesday.   \n",
              "3                                                                                                                Five small polyps found during procedure; \"none worrisome,\" spokesman says. President reclaims powers transferred to vice president. Bush undergoes routine colonoscopy at Camp David.   \n",
              "4                              NFL chief, Atlanta Falcons owner critical of Michael Vick's conduct. NFL suspends Falcons quarterback indefinitely without pay. Vick admits funding dogfighting operation but says he did not gamble. Vick due in federal court Monday; future in NFL remains uncertain.   \n",
              "5                                                       Parents beam with pride, can't stop from smiling from outpouring of support. Mom: \"I was so happy I didn't know what to do\" Burn center in U.S. has offered to provide treatment for reconstructive surgeries. Dad says, \"Anything for Youssif\"   \n",
              "6  Aid workers: Violence, increased cost of living drive women to prostitution. Group is working to raise awareness of the problem with Iraq's political leaders. Two Iraqi mothers tell CNN they turned to prostitution to help feed their children. \"Everything is for the children,\" one woman says.   \n",
              "7                             Tomas Medina Caracas was a fugitive from a U.S. drug trafficking indictment. \"El Negro Acacio\" allegedly helped manage extensive cocaine network. U.S. Justice Department indicted him in 2002. Colombian military: He was killed in an attack on a guerrilla encampment.   \n",
              "8                                                                                                              President Bush says Tony Snow \"will battle cancer and win\"  Job of press secretary \"has been a dream for me,\" Snow says  Snow leaving on September 14, will be succeeded by Dana Perino.   \n",
              "9                                                                                                                                    Empty anti-tank weapon turns up in front of New Jersey home. Device handed over to Army ordnance disposal unit. Weapon not capable of being reloaded, experts say.   \n",
              "\n",
              "                                         id  \\\n",
              "0  42c027e4ff9730fbb3de84c1af0d2c506e41c3e4   \n",
              "1  ee8871b15c50d0db17b0179a6d2beab35065f1e9   \n",
              "2  06352019a19ae31e527f37f7571c6dd7f0c5da37   \n",
              "3  24521a2abb2e1f5e34e6824e0f9e56904a2b0e88   \n",
              "4  7fe70cc8b12fab2d0a258fababf7d9c6b5e1262a   \n",
              "5  a1ebb8bb4d370a1fdf28769206d572be60642d70   \n",
              "6  7c0e61ac829a3b3b653e2e3e7536cc4881d1f264   \n",
              "7  f0d73bdab711763e745cdc75850861c9018f235d   \n",
              "8  5e22bbfc7232418b8d2dd646b952e404df5bd048   \n",
              "9  613d6311ec2c1985bd44707d1796d275452fe156   \n",
              "\n",
              "                                                                                                                                                                                                                                                                                                                                                                                     new  \\\n",
              "0                                                                                                                                                                                                                                                                                                                                                             LONDON, England (Reuters)    \n",
              "1  Editor's note: In our Behind the Scenes series, CNN correspondents share their experiences in covering news and analyze the stories behind the events. Here, Soledad O'Brien takes users inside a jail where many of the inmates are mentally ill. An inmate housed on the \"forgotten floor,\" where many mentally ill inmates are housed in Miami before trial. MIAMI, Florida (CNN)    \n",
              "2                                                                                                                                                                                                                                                                                                                                                          MINNEAPOLIS, Minnesota (CNN)    \n",
              "3                                                                                                                                                                                                                                                                                                                                                                      WASHINGTON (CNN)    \n",
              "4                                                                                                                                                                                                                                                                                                                                                                                (CNN)     \n",
              "5                                                                                                                                                                                                                                                                                                                                                                   BAGHDAD, Iraq (CNN)    \n",
              "6                                                                                                                                                                                                                                                                                                                                                                   BAGHDAD, Iraq (CNN)    \n",
              "7                                                                                                                                                                                                                                                                                                                                                                BOGOTA, Colombia (CNN)    \n",
              "8                                                                                                                                                                                                                                                                                                                                                                      WASHINGTON (CNN)    \n",
              "9                                                                                                                                                                                                                                                                                                                                                                                 (CNN)    \n",
              "\n",
              "                                                                                                                                                                                                                                                                                                                                                                                                                                                                                                                                                                                                                                                                                                                                                                                                                                                                                                                                                                                                                                                                                                                                                                                                                                                                                                                                                                                                                                                                                                                                                                                                                                                                                                                                                                                                                                                                                                                                                                                                                                                                                                                                                                                                                                                                                                                                                                                                                                                                                                                                                                                                                                                                                                                                                                                                                                                                                                                                                                                                                                                                                                                                                                                                                                                                                                                                                                                                                                                                                                                                                                                                                                                                                                                                                                                                                                                                                                                                                                                                  article2  \n",
              "0                                                                                                                                                                                                                                                                                                                                                                                                                                                                                                                                                                                                                                                                                                                                                                                                                                                                                                                                                                                                                                                                                                                                                                                                                                                                                                                                                                                                                                                                                                                                                                                                                                                                                                                                                                                                                                                                                                                                                                                                                                                                                                                                                                                                                                                                                                                             Harr.otte.ta.anie.adcliff.ain.cces.. reporte.2.illio.$41..illion.ortun...urn...onday.u..nsist.h.one.on'.as. spel..im.anie.adcliff..arr.otte..Harr.otte.n.h.rde..h.hoenix..h.isappointmen..ossi.olumnist.roun.h.orld.h.oun.cto.ay..a..lan..ritte.i.as.wa..as.ars.rin.n.elebrit.arties..on'.la...n..hos.eopl.ho..oo..he.ur.8.uddenl.u.hemselve. massiv.port.a.ollectio..omethin.imilar,..ol..ustralia.nterviewe.arlie.hi.onth..on'.hin.'l..articularl.xtravagant.Th.hing. lik.uyin.r.hing.ha.os.bou..ound.book.n.D.n.VDs...8.adcliff.il..bl..ambl.. casino.u. drin.. pu..e.h.orro.il.Hostel.ar.I,.urrentl.i.lace.elo.i.umbe.n.ovi..h..o.ffic.hart.etail..o.e'l.ar.i.andmar.irthda.r.nde.raps.i.gen.n.ublicis.a..ommen..i.lans.I'l.efinitel.av.om.or..arty,..ai...nterview.Hopefull.on..o.il..eadin.bou.t..adcliffe'.arning.ro.h.irs.iv.otte.ilm.av.ee.el.. trus.un.hic..a.o.ee.bl..ouch.espit.i.rowin.am.n.iches.h.cto.ay...eepin.i.ee.irml..h.round.Peopl.r.lway.ookin..a.ki.ta.oe.f.h.ails,'..ol.eporter.as.onth.Bu. tr.er.ar.o...ha.a.ecaus..oul..o.as.o.hem..i.ates.utin..h.o.izar..Harr.otte.n.h.rde..h.hoenix..reakin.ecord..ot.ide..h.tlanti.n..il.epris.h.ol..h.as.w.ilms.Watc.-Reporte.iv.e.evie..otter'.ates. .her..if.eyon.otter.owever.h.ondone.a.ilme. T.ovi.alle.M.o.ack,.bou.utho.udyar.iplin.n.i.on.u.o.eleas.ate.hi.ear..il.ls.ppea..Decembe.oys,..ustralia.il.bou.ou.oy.h.scap..rphanage.arlie.hi.ear..ad.i.tag.ebu.layin. torture.eenage..ete.haffer'.Equus..eanwhile...race.o.ve.lose.edi.crutin.o.ha.e'.egall..dult..us.hin.'.oin...or.or..ai.ame,..ol.euters..opyrigh.00.euters.l.ight.eserved.Thi.ateria.a.o..ublished.roadcast.ewritten..edistributed.  \n",
              "1                                                                                                                                                                                                                                                                                                                                                                                                                                                                                                                                                                                                                                                                                                                                                                                                                                                                                                                                                                                                                                                                                                                                                                                                                                                                                                                                                                                                                                                                                            Th.int.loo..h.iami-Dad.retria.etentio.acilit..ubbe.h.forgotte.loor..ere.nmate.it.h.os.ever.enta.llnesse.r.ncarcerate.nti.hey'r.ead..ppea..ourt.os.ften.he.ac.ru.harge..harge..ssaultin..ffice.harge.ha.udg.teve.eifma.ay.r.suall.avoidabl.elonies...ay.h.rrest.fte.esul.ro.onfrontation.it.olice.entall.l.eopl.fte.on'..ha.hey'r.ol.he.olic.rriv..h.cen.confrontatio.eem..xacerbat.hei.llnes.n.he.ecom.or.aranoid.elusional.n.es.ikel..ollo.irections.ccordin..eifman.o.he.n...h.int.loo.everel.entall.isturbed.u.o.ettin.n.ea.el.ecaus.hey'r..ail..oure.h.ai.it.eifman...el.now..iam...dvocat.o.ustic.n.h.entall.ll.ve.houg..er.o.xactl.elcome.it.pe.rm..h.uards..er.ive.ermissio..hoo.ideotap.n.ou.h.loor.G.nsid.h.forgotte.loor. ..irst.t'.ar..etermin.her.h.eopl.re.h.risoner.r.earin.leeveles.obes.magin.uttin.ole.o.rm.n.ee.. heav.oo.leepin.a.that'.in..ha.he.oo.ike.hey'r.esigne..ee.h.entall.l.atient.ro.njurin.hemselves.hat'.ls.h.he.av..hoes.ace..attresses.eifma.ay.bou.ne-thir..l.eopl..iami-Dad.ount.ail.r.entall.ll.o..ays.h.hee.olum..verwhelmin.h.ystem.n.h.esul..ha..e..h.int.loor..ourse... jail..t'.o.uppose...ar.n.omforting.u.h.ight.lare.h.ell.r.in.n.t'.oud..e.wo.ometime.hre.e.sometime..h.obes.ometime.aked.yin..ittin..hei.ells...h.o..h.resident.o.ee..e..u..ere!.n.a.hout..e...bsolutel.erious.onvince.ha.el...h.a.i.nl..oul.eac.h.hit.ouse.eifma.ell..ha.hes.risoner-patient.il.fte.irculat.hroug.h.ystem.ccasionall.tabilizin.. menta.ospital.nl..etur..ai..ac.hei.harges.t'.rutall.njust..i.ind.n..a.ecom. stron.dvocat.o.hangin.hing..iami.ve. mea.ater..al.bou.o.hing.o.hi.a.o.enta.atients.eifma.ay.0.ear.g.eopl.er.onsidere.lunatics.n.he.er.ocke...ail.ve..he.a..harge.gains.hem.he.er.us.onsidere.nfi....ociety.ve.h.ears..ays.her.a.om.ubli.utcry.n.h.entall.l.er.ove.u..ail.n.nt.ospitals.u.eifma.ay.an..hes.enta.ospital.er..orribl.he.er.hu.own.her.i.h.atient.o.owhere.h.treets.he.ecame..an.ases.h.omeless..ays.he.eve.o.reatment.eifma.ay..95.her.er.or.ha.al. millio.eopl..tat.enta.ospitals.n.oda.ha.umbe.a.ee.educe..ercent.n.0,00..0,00.eopl.r..enta.ospitals.h.udg.ay.e'.orkin..hang.his.tartin..008.an.nmate.h.oul.therwis.av.ee.rough..h.forgotte.loor.wil.nstea..en.. ne.enta.ealt.acilit.th.irs.te.. journe.owar.ong-ter.reatment.o.us.unishment.eifma.ay.t'.o.h.omplet.nswer.u.t'. start.eifma.ay.h.es.ar..ha.t'. win-wi.olution.h.atient.in.h.amilie.r.elieved.n.h.tat.ave.one..impl.o.yclin.hes.risoner.hroug.gai.n.gain.nd.o.eifman.ustic..erved..  \n",
              "2                                                                                                                                                                                                                                                                                                                                                                                                                                                                                                                                                                                                                                                                                                                                                                                                                                                                                                                                                                                                                                                                                                                                                                                                                                                                                                                                                                                                       Driver.h.er..h.inneapoli.ridg.he..ollapse.ol.arrowin.ale..urvival.Th.hol.ridg.ro.n.id..h.ississipp..h.the.us.ompletel.av.ay.el.l.h.a.own,.urvivo.ar.abinea.ol.NN..robabl.a. 30-.5-foo.re.all.n.here'.ar..h.ater.here'.ar..ire.h.hol.ridg..own...ai.i.ac.a.njure.u..etermine..oul.ov.round..ealize.her.a. schoo.u.igh.ex..e.n..n. coupl..the.uy.en.ve.n.tarte.iftin.h.id.f.h.ridge.he.er.elling.creaming.leeding. thin.her.er.om.roke.ones..Watc. drive.escrib.i.arro.scap. ..om.he..ear.bou.h.isaster.r.oh.ink..mergenc.oo.hysician.umpe.nt.i.a.n.ushe..h.cen...inutes..rrive..h.out.id..h.ridge.too..h.iverban.n.a.ozen..eopl.yin.aze...xpansiv.eck.he.er..h.iddl..h.ississipp.iver.hic.a.hurnin.ast.n..a..a..ettin..hem..en..h.ort.ide.her.her.a.asie.cces..eople.mbulance.er.ls.avin. har.im.rivin.ow..h.ive..e.lose..h.cene.orkin.everishly.olunteers.MT.n.the.fficial.anage..e..eopl.nt.mbulance..es.ha.w.ours.ccasionally. picku.ruc.it. medi.nsid.oul.riv..e..njure.erso.n.rin.i.ac..ve.round.in.ol.NN.h.escu.ffor.a.ontrolle.n.rganized..aid.h.pposit..h.ightning-quic.ollapse..oul.e.h.hol.ridg...a.oin.own...a.alling,.abinea.aid.I.us.av. rumbl.ea.uick.n..l.us.av.ay.n..us.el.ompletely.l.h.a..h.round.n.her.a.us.verywher.n..a.us.ik.veryon.a.ee.aying..a.us.ik.u..h.ovies..abinea.ai.h.ea..i.icku.ruc.a.anglin.ve.h.dg.. broken-of.ectio..h.ridge..ai.evera.ehicle.li.as.i.nt.h.ater..taye...a.o.n..w.econds. sa. coupl.ar.all,..aid.S. staye...a.nti.h.ar.ui.allin.o. second.he. go.u.ea.uick.a..ron...ruc.becaus.ehin..ruc.a.us. hol.an. helpe. woma.f..h.ridg.it.e..us.ante.f.h.ridge.n.he. ra.ve..h.choo.us. starte.rabbin.id.n.andin.he.own..a.us.omplet.haos...ai.os..h.hildre.er.ryin..creaming..n.the.escuer.e.he..h.roun.n.ol.he..u..h.ive.ank.u. fe.eede...arrie.ecaus..hei.njuries.Se.escuer.lambe.ve.ubbl. .abinea.ai..a..escu.raining..us.ne.ha. ha....h.oment..eliss.ughes.2..inneapolis.ol.h.ssociate.res.ha.h.a.rivin.om.he.h.ester.dg..h.ridg.ollapse.nde.er.Yo.no.ha.ree-fal.eeling. fel.ha.wice,.ughe.aid. picku.ande..o..e.ar.u.h.a.o.urt..a..de.her.a. vehicl...ar,.h.ol.P.It'.eall.er.urreal..abinea.ol.h.inneapoli.tar-Tribune.O.h.a.own. though. wa.ead. literall.hough. wa.ead.M.ruc.a.ompletel.ac.own.ointe.owar.h.round.n..ruc.o.ippe..alf..a.olde..alf.n. can'.eliev.'.live..Se.n.ea.yewitnes.ccount. .erni.oivone.ol.NN'.America.orning.ha.i.ehicl.a.. par..h.ridg.ha.nde..ilte.. 45-degre.ngle..ne.h.ec.a.oin.own.her.a..uestio.bou.t.n. though. wa.oin..ie,..aid.fte.h.ridg.ettle.n.i.a.emaine.pright..us.u..ark.urne.h.e.f.n.aid.Oh.'.live,. h.aid..  \n",
              "3                                                                                                                                                                                                                                                                                                                                                                                                                                                                                                                                                                                                                                                                                                                                                                                                                                                                                                                                                                                                                                                                                                                                                                                                                                                                                                                                                                                                                                                                                                                                                                                                                                                                                                                                                                                                                                                                                                                                                                                                                                                                                                                                               Doctor.emove.iv.mal.olyp.ro.residen.ush'.olo..aturday.n.non.ppeare.orrisome,. Whit.ous.pokesma.aid.h.olyp.er.emove.n.en..h.ationa.ava.edica.ente..ethesda.aryland.o.outin.icroscopi.xamination.pokesma.cot.tanze.aid.esult.r.xpecte..w..hre.ays.l.er.mall.es.ha. centimete.hal..nch..iameter..aid.us...oo.umor.tanze.aid.n.il.esum.i.ctivitie..am.avid.urin.h.rocedur.ic.residen.ic.hene.ssume.residentia.ower.us.eclaime.residentia.owe..:2..m.fte.bou.w.ours.octor.se.monitore.nesthesi.are,.tanze.aid..h.residen.a.sleep.u.o..eepl.nconsciou..it. tru.enera.nesthetic..pok..irs.ad.aur.us.wh...idland.exas.elebratin.e.other'.irthda.befor.n.fte.h.rocedure.tanze.aid.fterward.h.residen.laye.it.i.cottis.erriers.arne.n.is.eazley.tanze.aid..lanne..av.unc..am.avi.n.av.riefing.it.ationa.ecurit.dvise.tephe.adle.n.hit.ous.hie..taf.os.olten.n.lanne..ak. bicycl.id.aturda.fternoon.heney.eanwhile.pen.h.ornin..i.om..aryland'.aster.hore.eadin.n.layin.it.i.ogs.tanze.aid.othin.ccurre.ha.equire.i..ak.fficia.ctio..residen.efor.us.eclaime.residentia.ower.h.rocedur.a.upervise..r.ichar.ubb.ush'.hysician.n.onducte.. multidisciplinar.ea.ro.h.ationa.ava.edica.ente..ethesda.aryland.h.hit.ous.aid.ush'.as.olonoscop.a..un.002.n..bnormalitie.er.ound.hit.ous.pokesma.on.no.aid.h.resident'.octo.a.ecommende. repea.rocedur..bou.iv.ears. colonoscop..h.os.ensitiv.es.o.olo.ancer.ecta.ance.n.olyps.mal.lump..ell.ha.a.ecom.ancerous.ccordin..h.ay.linic.mal.olyp.a..emove.urin.h.rocedure.no.ai..rida.ha.us.a.olyp.emove.urin.olonoscopie.efor.ecomin.resident.no.imsel..ndergoin.hemotherap.o.ance.ha.ega..i.olo.n.prea..i.iver.Watc.no.al.bou.ush'.rocedur.n.i.w.olo.ance. .Th.residen.ant..ncourag.verybod..s.urveillance,.no.aid.h.merica.ance.ociet.ecommend.ha.eopl.ithou.ig.is.actor..ymptom.egi.ettin.creene.o.ign..olorecta.ance..g.0..  \n",
              "4   Th.ationa.ootbal.eagu.a.ndefinitel.uspende.tlant.alcon.uarterbac.ichae.ic.ithou.ay.fficial.it.h.eagu.ai.riday.F.ta.ichae.ic..e..ppea..our.onday. judg.il.av.h.ina.a.. ple.eal.arlier.ic.dmitte..articipatin.. dogfightin.in..ar.. ple.greemen.it.edera.rosecutor..irginia.You.dmitte.onduc.a.o.nl.llegal.u.ls.rue.n.eprehensible.ou.eam.h.FL.n.F.an.av.l.ee.ur..ou.ctions,.F.ommissione.oge.oodel.ai.. lette..ick.oodel.ai..oul.evie.h.tatu..h.uspensio.fte.h.ega.roceeding.r.ver..aper.ile.rida.it. federa.our..irginia.ic.ls.dmitte.ha..n.w.o-conspirator.ille.og.ha.i.o.igh.ell.alcon.wne.rthu.lan.ai.ick'.dmission.escrib.ction.ha.r.incomprehensibl.n.nacceptable..h.uspensio.ake..tron.tatemen.ha.onduc.hic.arnishe.h.oo.eputatio..h.F.il.o..olerated,..ai.. statement.Watc.ha.e..ick'.uspensio. .oodel.ai.h.alcon.oul.asser.n.laim..emedies..ecove.2.illio..ick'.ignin.onu.ro.h.0-year.13.illio.ontrac..igne..004.ccordin..h.ssociate.ress.ic.ai..oul.lea.uilt..n.oun..Conspirac..rave..nterstat.ommerc..i..nlawfu.ctivitie.n..ponso. Do...nima.ightin.enture.. ple.greemen.ile...S.istric.our..ichmond.irginia.h.harg..unishabl....iv.ear..rison. $250,00.ine.ful.estitution. specia.ssessmen.n. year..upervise.elease,.h.le.ea.aid.edera.rosecutor.gree..s.o.h.o.n..h.entencin.uidelines.Th.efendan.il.lea.uilt.ecaus.h.efendan...ac.uilt..h.harge.ffense,.h.le.greemen.aid...dditiona.ummar..acts.igne..ic.n.ile.it.h.greement.ic.dmitte.uyin.i.ull.n.h.ropert.se.o.rainin.n.ightin.h.ogs.u.h.tatemen.ai..i.o.e..h.ight..eceiv.n..h.one.on.Mos..h.Ba.ew.ennels.peration.n.amblin.onie.er.rovide..ick,.h.fficia.ummar..act.aid.amblin.in.er.enerall.pli.mon.o-conspirator.on.aylor.uani.hillip.n.ometime.urnel.eace..ontinued.Vic.i.o.ambl..lacin.id.et..n..h.ights.ic.i.o.eceiv.n..h.roceed.ro.h.urse.ha.er.o..Ba.ew.ennels.. Vic.ls.gree.ha.collectiv.fforts..i.n.w.ther.ause.h.eath...eas.i.ogs.roun.pril.ick.eac.n.hillip.este.om.og..ightin.ession..ick'.ropert..irginia.h.tatemen.aid.Peace.hillip.n.ic.gree..h.illin..pproximatel.-.og.ha.i.o.erfor.el..testing.ession..91.oonligh.oa.n.l..hos.og.er.ille..ariou.ethods.ncludin.angin.n.rowning.Vic.gree.n.tipulate.ha.hes.og.l.ie.. resul..h.ollectiv.ffort..eace.hillip.n.ick,.h.ummar.aid.eace.5..irgini.each.irginia.hillips.8..tlanta.eorgia.n.aylor.4..ampton.irginia.lread.av.ccepte.greement..lea.uilt..xchang.o.educe.entences.ick.7..chedule..ppea.onda..ourt.her...xpecte..lea.uilt.efor. judge.Se. timelin..h.as.gains.ic. .h.udg..h.as.il.av.h.ina.a.ve.h.le.greement.h.edera.as.gains.ic.ocuse..h.nterstat.onspiracy.u.ick'.dmissio.ha..a.nvolve..h.illin..og.oul.ea..oca.harges.ccordin..N.ega.nalys.effre.oobin.I.ometime.appen.no.fte.tha.h.tat.il.ollo. federa.rosecutio..hargin.t.w.rime.o.xactl.h.am.ehavior,.oobi.ai.riday.Th.is.o.ic.s...ake.dmission..i.edera.uilt.lea.h.tat..irgini.oul.ay.Hey.ook.o.dmitte.iolatin.irgini.tat.a..ell.e'r.oin..ntroduc.ha.gains.o.n.harg.o..u.ourt.. I.h.le.eal.ic.gree..ooperat.it.nvestigator.n.rovid.l.nformatio..a.av..n.rimina.ctivit.n..estif..ecessary.ic.ls.gree..ur.ve.n.ocument..a.n..ubmi..olygrap.ests.ic.gree..mak.estitutio.o.h.ul.moun..h.ost.ssociated.it.h.og.ha.r.ein.el..h.overnment.Suc.ost.a.nclude.u.r.o.imite.o.l.ost.ssociate.it.h.ar..h.og.nvolve..ha.ase.ncludin..ecessary.h.ong-ter.ar.nd/o.h.uman.uthanasi..om..l..hos.nimals..rosecutors.it.h.uppor..nima.ight.ctivists.av.ske.o.ermissio..uthaniz.h.ogs.u.h.og.oul.erv..mportan.videnc..h.ase.gains.ic.n.i.dmitte.o-conspirators.udg.enr..udso.ssue..rde.hursda.ellin.h..S.arshal.ervic..arres.n.eiz.h.efendan.roperty.n.s.iscretio.n.hateve.ean.ppropriat..rotec.n.aintai.ai.efendan.roperty..ot.h.udge'.rde.n.ick'.ilin.efe..approximately..i.ul.ogs.fte.ick'.ndictmen.as.onth.oodel.rdere.h.uarterbac.o..epor..h.alcon.rainin.amp.n.h.eagu..eviewin.h.ase.lan.ol.h.F.etwor..onda..oul.o.peculat..ick'.utur.. Falcon..eas.o.nti..a.ee..tatemen..acts..h.ase. .NN'.ik.hela.ontribute..hi.eport.  \n",
              "5                                                                                                                                                                                                                                                                                                                                                                                                                                                                                                                                                                                                                                                                                                                                                                                                                                                                                                                                                                                                                                                                                                                                                                                                                                                                             Dresse.. Superma.hirt.-year-ol.oussi.el.i.ister'.an.riday.eemingl.nawar.ha.illion..eopl.cros.h.orl.av.ee.ouche..i.tory.earby.i.arent.alke.bou.h.e.utur.n.op.he.av.o.hei.o.an.h.otentia.o.ecover.ro.i.ever.urns.oussi.old.i.ister'.an.riday.e'.earin. facia.as.fte.se..el.ur.ictims.t'.h.es.irthda.resen.h.raq.amil.oul.ve.av.magine.o.hei.oy.oussi.urn. nex.riday..a..app. didn'.no.ha...it.yself,.i.other.ainab.ol.NN. broa.mil.cros.e.ace..idn'.hin.h.eactio.oul..hi.ig..i.athe.ai..a..h.oo..i.ous.he.N.alle.i.it.h.ew.bou.h.utpourin..uppor.o.i.on.W.us.an..han.veryon.h.a.om.orward,..aid.W.ne.her.a.indnes.u.here..ik.i.ife..ouldn'.to.miling..alke.bou.o..rie..ai..e.el.o.i.o..aghdad.eavin.n.ton.nturned.. missio..el.i.oy.her.er.an.rip..h.inistr..ealth..ay..ve.u.. reques..raq'.arliamen.o.elp.h.amil.ventuall.ol.N.hei.tor.tha.oussi.a.rabbe..aske.e.utsid.hei.om..anuar.5.ouse..asolin.n.e..ire.impl..omin.orward.i.arent.u.hemselve..ncredibl.anger..n.a.ee.rreste..el.ccountabl..oussif'.ase.Watc.NN'.rw.amo.escrib.trul.henomenal.utpourin. .hortl.fte.oussif'.tor.ire.ednesday.h.hildren'.ur.oundatio..onprofi.rganizatio.ase..herma.aks.alifornia.ha.rovide.uppor.o.ur.ictim.ocally.ationall.n.nternationall.agree..a.o.h.ransportatio.o.oussi.n.i.amil..om..h.nite.tate.n..e.. fun.o.onations.o.a.ak. donatio..h.oundation'.it..lickin.ere.here'. drop-dow.en.nde.h.genera.onation.re.ha..arke.Youssif'.und..h.oundatio.ay..il.ove.l.edica.ost.fro.urgerie.o.oussi..ousin.ost..n.ocia.ehabilitatio.ha.igh..eede.o.im.urgerie.il..erforme..r.ete.rossman. plasti.urgeo.it.h.ffiliate.rossma.ur.ente.h..onatin.i.ervice.o.oussif'.ause.fficial.r.til.ryin..e.h.ppropriat.isa.o.h.amily'.ravels.W.r.repare..av.he.om.ere.e.he... housin.ituation.rovid.uppor.o.he.n.egi.reatment,.ai.arbar.riedman.xecutiv.irecto..h.hildren'.ur.oundation.W.xpec.ha.h.reatmen.il..ro.etwee.i.onth.. yea.it.an.urgeries..h.dded.H.il..ettin.h.bsolut.es.ar.hat'.vailable..oussif'.arent.ai.he.no.t'.oin... length.n.ifficul.roces.n.ha.djustin..hei.ta..meric.a.o..asy.u.on..ha.atter.gettin.el.o.hei.o..irs.n.oremost..il..nythin.o.oussif,.i.athe.aid.ullin.i.o.lose..im.Ou.hil..verything..i.othe.rie..oa.oussi..al....hi.ay.u..idn'.an.o.i.othe.ay.e'.h.utsid..hei.ome.h.igges.bstacl.o..ettin.h.isa..eave.n.h.eriou.ecurit.isk.he.ac.ver.a.n.ou.he.emai..raq.u.hi.amil.whic.a.h.er.ors..umanit..ha.anuar.a.ha.e.op..h.orld.ha..artl.u..h.en..housand..NN.co.ser.h.er..ove..h.tor.n.ante..ct.N.raq.taf.entra..ringin.hi.tor.ogethe.er.ls.verwhelme.it.h.enerosit.omin.ro.eopl.utsid..hei.order.. natio.ha.argel.eel.bandone..h.es..h.orld..a. refreshin.ealization..NN.co.enio.roduce.ayn.ras.ontribute..hi.epor..tlanta.  \n",
              "6                                                                                                                                                                                                                                                                                                                                                                                                                                                                                                                                                                                                                                                                                                                                                                                                       Th.ome.r.o.frai.n.shame..ho.hei.ace..av.hei.ea.ame.sed.he.av.ee.rive..el.hei.odie..u.oo..h.abl.o.hei.hildre.fo..ittl... day.uha.7.. mothe..hree.h.ay.e.usban.hink.h..leanin.ouse.he.h.eave.ome.Peopl.houldn'.riticiz.omen..al.adl.bou.hem,.ay.7-year-ol.uh..h.djust.h.igh.olore.car.h.ear.hes.ay..voi.xtremist.h.nsis.ome.ove.hemselves.The.l.a..av.os.u.ay.u.he.eve.s.h..a..ak.hi.ath.. mothe..hree.h.ear.igh.akeup. gol.endan..ra.roun.e.eck.n..nexpecte.i..leganc.bou.er..on'.av.one..ak..i..h.octor. hav...nythin.ha. ca..reserv..hild.ecaus. a. mother,.h.ays.xplainin.h.h.rostitute.erself.nge.n.rustratio.is..e.oic..h.peaks.N.atte.ha.ls. ma.e..atte.o.f.h.at. ma.e. a. mother!.Watc. woma.escrib.urnin..rostitutio..sav..hild. .e.laspe.and.lenc.n.nclenc.ervously.uha'.usban.hink.ha.h..leanin.ouse.he.h.oe.way..oe.arima'.amily.A.h.tar. wa.leanin.omes.u. wasn'.akin.uch..atte.o.ar. worke..us.asn'.nough,.h.ays.arima.la..l.lack.dds.M.usban.ie..un.ance.in.onth.g.n.ef..it.othing..h.a.iv.hildren.ge. t.7.e.ldes.o.oul.ork.u.he'.o.frai.o.i.if..e.i..nt.h.treets.referrin..acrific.ersel.ha.is.e.hild.h.a.olicite.h.irs.im.he.h.a.leanin..ffice.The.oo.dvantag..e,.h.ay.oftly.A.irs. rejecte.t.u.he. realize. hav...t..ot.uh.n.arim.av.lient.ha.al.he. coupl.ime. week.the.ome.esor..rip..h.arke..in.otentia.lients..he.la.ow.ehicles.rostitutio.. choic.or.n.or.raq.ome.r.akin.us..urvive.It'.ncreasing,.uh.ays..oun.hi.thing.hroug..riend.n. hav.nothe.rien..h.am.redicamen..ine.ecaus..h.ircumstance.h..orce...uc.hings..iolence.ncrease.os..iving.n.ac..n.or..overnmen.i.eav.ome.ik.hes.it.e.the.ptions.ccordin..umanitaria.orkers.A.hi.oin.her.. populatio..ome.h.av..el.hei.odie..rde..ee.hei.hildre.live,.ay.ana.ohammed.ea.n.ounde..h.rganizatio.o.omen'.reedo..raq.It'. tabo.ha..n..peakin.bout..h.dds.Ther.. hug.opulatio..ome.h.er.h.ictim..a.h.a..el.hei.odies.hei.oul.n.he.os..ll..rushe...e.hem.u..av..or...n.hat'.h..tarte.u.ea..ome.ctivists..e.ea.ound.h.treet..aghda.ookin.o.hes.ictim.fte.o.umiliate..om.orward.Mos..h.ome.ha..in..ospital.who.av.rie..ommi.uicide.av.ee.nvolve..rostitution.ai.asm.ahim. membe..ohammed'.eam.h.eam'.i...ompil.nformatio..pecifi.ase.n.resen...raq'.olitica.artie.t.av.hem..ohamme.ut.t.com.el..ha.they.r...oin...bou.his..ahi.ell.h.eartbreakin.tor..n.oma.he.oun.h.ive.. roo.it.hre..e.hildren.Sh.a.e.hil.e.hre.hildre.r..h.oom.u.h.ake.he.tan..eparat.orners..ccordin..ahi.n.ohammed.os..h.ome.he.ncounte.a.he.r.rive..rostitutio.. desperat.esir.o.urviva..h.angerousl.iolen.n.nforgivin.ircumstance..raq.The.oo.hi.at.u.he.r.o.leased,.ahi.ays.arim.ay.he.h.ee.e.hildre.it.oo..h.able.h..bl..onvinc.ersel.ha.t'.ort.t.Everythin..o.h.hildren.he.r.h.eaut..if.nd.ithou.hem..anno.ive..u.h.ays..oul.eve.llo..aughte...his. woul.athe.arr.e.f...ha.av.e..hroug.his..arima'.as.app.emor...e.at.usband.he.he.er. famil.n.bl..houlde.h.ardship..if..oday'.ra.ogether.uh.ay.. youn.ir.h.reame..ein. doctor.it.e.o.oastin.bou.e.otentia..ha.areer.if.ouldn'.av.ake.e.urthe.ro.ha.ream.It'.o.ik..er.or.nt.his.o.a..ve...lood,.h.ays.ha.h.oe.o.e.amil..urviv.o.at.wa..er..a...illo.n..rai..pinning.n..l.ome.ac..... a.atchin. movie...  \n",
              "7                                                                                                                                                                                                                                                                                                                                                                                                                                                                                                                                                                                                                                                                                                                                                                                                                                                                                                                                                                                                                                                                                                                                                                                                                                                                                                                                                                                                                                                                                                                                                                                                                                                                                                                                                                                                                                                                                                                                                                                                                                                                                                                                                                                                                                                                                                                                                                                                                                                                                                   .e.ebe.ommande.n.ugitiv.ro. U.S.ru.raffickin.ndictmen.a.ille.ve.h.eeken...i.ttac.. guerrill.ncampment.h.olombia.ilitar.ai.onday.llege.ocain.rafficke.n.AR.ebe.oma.edin.araca...nterpo.hoto.oma.edin.aracas.now.opularl..E.egr.cacio,.a. membe..h.ig.omman..h.uerza.rmada.evolucionaria..olombi.nd.ccordin..olombia.n..S.fficials.elpe.anag.h.roup'.xtensiv.ocain.raffickin.etwork..a.ee..h.ross-hair..h..S.ustic.epartmen.inc.002..a.harge.it.onspirac..mpor.ocain.nt.h.nite.tate.n.anufacturin.n.istributin.ocain.ithi.olombi..un.h.ARC'.2-yea.nsurgenc.gains.h.overnment..S.fficial.llege.edin.araca.anage.h.ebe.roup'.ale..ocain..nternationa.ru.raffickers.h..ur.muggle..nt.h.nite.tates..a.ls.ndicte..h.nite.tate.lon.it.w.the.AR.ommander..ovembe.00..harge..onspirin..idna.w..S.i.orker.ro.eighborin.enezuel..99.n.oldin.n..he.o.in.onth.nti. $.illio.anso.a.aid.fficial.ai.h.rmy'.api.espons.orce.acke..lement..h.olombia.i.orce.racke.edin.araca.ow.. FAR.am..h.ungl..h.out..h.ountry.Afte. bombardment.h.roop.ccupie.h.amp.n.hey'v.oun..ea.ebel..ar.lon.it.ifles.istols.ommunication.quipmen.n...ou.P.ystems,.efens.iniste.ua.anue.anto.ai.. new.onference.Th.eat..E.egr.cacio.a.onfirme..ariou.ources.ncludin.ember..AR.tself..edin.araca.ommande.ARC'.6t.ron..h.outher.epartment..ichad.n.uainia.stablishe..96..h.ilitar.in..h.olombia.ommunis.arty.AR..olombia'.ldest.argest.os.apabl.n.est-equippe.arxis.ebe.roup.ccordin..h..S.epartmen..tate..ournalis.ernand.amo.ontribute..hi.eport.  \n",
              "8                                                                                                                                                                                                                                                                                                                                                                                                                                                                                                                                                                                                                                                                                                                                                                                                                                                                                                                                                                                                                                                                                                                                                                                                                                                                                                                                                                                                                                                                                                                                                                                                                                                                                                                                                                                                                                                                                                                                                                                                                     Whit.ous.res.ecretar.on.now.h..ndergoin.reatmen.o.ancer.il.te.ow.ro.i.os.eptembe..n..eplace..eput.res.ecretar.an.erino.h.hit.ous.nnounce.riday.hit.ous.res.ecretar.on.no.il.te.ow.ro.i.os..eptembe.4.residen.us.ol.eporter.rida.ha..il.sadl.ccept.now'.esignation.lanke..no.n.erin..h.hit.ous.res.oom.h.residen.pok.arml..i.epartin.res.ecretary.It'.ee. jo..atc.i.pa.it.ou,.us.ol.eporters.Watc.h.nnouncemen.bou.no.eavin. .us.ai..a.ertai..w.hing..egar..now.He'l.attl.ance.n.in,.us.aid.an.e'l.. soli.ontributo..ociety..urnin..now.h.residen.he.aid..ov.ou.n. wis.o.l.h.est..now.peakin.fte.us..h.tar..h.ail.hit.ous.ew.onference.ai..a.eavin..ar.or.oney..oo. bi.a.ut..aid.he..ef.i.reviou.ob..ncho.n.olitica.nalys.o.o.ews.ccordin..h.ashingto.ost.no.ake.168,00..h.hit.ous.pokesman.i.amil.oo.u. loa.he..tarte.h.ob.an.ha.oa..o.one..Thi.o.a.eall.ee. drea.o.e. blast.'v.a..normou.moun..u.n.atisfaction,.no.aid..ai..oul.ontinu..pea.u..ssues.n.oul..som.adio.om.V.u. don'.nticipat.ull-tim.ncho.uties..no.ai.e'.eceive.rea.atisfactio.ro.alkin..eopl.bou.i.llness.now'.ance.a.iagnose.o.h.irs.im..ebruar.005.i.olo.a.emoved.n.fte.i.onth..reatment.octor.ai.h.ance.a..emission.erin.nnounce.arc..ha.now'.ance.a.ecurred.n.ha.octor.a.emove. growt.ro.i.bdome.h.a.efore.ource.ol.N.w.eek.g.ha.no.a.lannin..eav.i.ob.ossibl..arl..eptember.us.appe.no..eplac.cot.cClella..pri.006.no.a.ee..ncho.o.Fo.ew.unday.n. politica.nalys.o.h.o.ew.hannel.hic..oine..996..ls.oste.Th.on.no.how..o.ew.adio..hursday.no.ol.N.i.ealt..mproving.itin.w.edica.est.hi.ont.ha.oun.h.ance.a.o.pread.Th.umor.r.tabl.the.r.o.rowing,.no.ai..h.esult.ro..R.n. CA.can.An.her.r..e.rowths.h.ealt..ood..h.res.ecretary.hos.ai.a.urne.ra.urin.hemotherap.reatment.ai.i.lac.ai..xpecte..ro.ac..bou. month.I'.ls.uttin..eigh.gain,..ai.fte.eturnin.ro. 10-da.acation..ctuall.ee.er.oo.bout.h.ealt.ituation.no.ai..rida..a..e.i.ncologist.n.he.il.ecid..om.ino.orm..hemotherap..tar..aintenanc.reatment..  \n",
              "9                                                                                                                                                                                                                                                                                                                                                                                                                                                                                                                                                                                                                                                                                                                                                                                                                                                                                                                                                                                                                                                                                                                                                                                                                                                                                                                                                                                                                                                                                                                                                                                                                                                                                                                                                                                                                                                                                                                                                                                                                                                                                                                                                                                                                                                                                                                                                                                                                                                                                                                                                     Polic.n.B.gent.r.nvestigatin.h.iscover...mpt.ocke.aunche.ub..h.ron.aw.. Jerse.ity.e.ersey.ome.B.pokesma.ea.uin.aid.iranja.esa.iscovere.h.0-year-ol.T.nti-tan.ocke.aunche.ube. one-time-us.evice.yin..e.aw.rida.orning.olic.aid.h.aunche.a.ee.urne.ve...S.rm.fficial..h.54t.rdnanc.ompany..xplosiv.rdnanc.isposa.nit..or.onmouth.e.ersey.rm.fficial.aid.h.aunche.i..onge.perabl.n.o.onsidere... hazar..ubli.afety,.olic.aid.ddin.her.a..ndicatio.h.aunche.a.ee.ire.ecently.rm.fficial.ai.he.oul.o.etermin..h.aunche.a.ee.ired.u.ndicate.he.houl.no.nc.he.in.u.her..am.rom.h.eares.ilitar.ase.or.ix..or.ha..ile.ro.erse.ity.h.oin.erroris.as.orc.ivisio..h.B.n.erse.it.olic.r.nvestigatin.h.rigi..h.ocke.aunche.n.h.ircumstanc.ha.e..t.ppearanc..esidentia.roperty.A.aed.oesn'.eav. rocke.aunche..h.aw..iddle-age.adies,.ai.au.ruickshan..e.or.niversit.a.chool'.ente..a.n.ecurity. neighbor.o.uinn.ai.h.bjec.yin..esai'.aw.ooke.ilitary.a.rown.a. handl.n.trap.n.bot.nd.er.pen.ik.o.oul.hoo.omethin.it.t..uin.ls.ai.h.evic.a. pictur.. soldie...n.a. t. fee.ong..rm.fficia.ai.h.evic..asicall. shoulder-fired.irect-fir.eapo.se.gains.roun.arget..odern-da.azook.an...o.ire-guided.ccordin..h.e.it.lobalsecurity.org. loade.13.T.nti-tan.eapo.a. 40-inch-lon.iberglass-wrappe.ub.n.eigh.us. pounds.t..illimete.haped-charg.issil.a.enetrat..nche..rmo.ro. maximu..8.eet...se.nc.n.iscarded..NN'.aro.ratty.ugal.cConnell.n.ik.oun.ontribute..hi.eport.  "
            ]
          },
          "execution_count": 43,
          "metadata": {},
          "output_type": "execute_result"
        }
      ],
      "source": [
        "df['article2'] = df['article2'].str.replace('--', '', regex=True) #Elimina \"--\" de la columna 'article2'\n",
        "df['article2'] = df['article2'].str.replace(r'\\.\\s\\.', '.', regex=True) #Elimina un \".\" innecesario\n",
        "df.head(10)"
      ]
    }
  ],
  "metadata": {
    "colab": {
      "provenance": []
    },
    "kernelspec": {
      "display_name": "base",
      "language": "python",
      "name": "python3"
    },
    "language_info": {
      "codemirror_mode": {
        "name": "ipython",
        "version": 3
      },
      "file_extension": ".py",
      "mimetype": "text/x-python",
      "name": "python",
      "nbconvert_exporter": "python",
      "pygments_lexer": "ipython3",
      "version": "3.11.7"
    }
  },
  "nbformat": 4,
  "nbformat_minor": 0
}
